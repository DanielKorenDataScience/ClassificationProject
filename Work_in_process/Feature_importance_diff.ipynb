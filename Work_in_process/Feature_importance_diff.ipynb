{
  "nbformat": 4,
  "nbformat_minor": 0,
  "metadata": {
    "colab": {
      "name": "Untitled0.ipynb",
      "provenance": [],
      "authorship_tag": "ABX9TyPyXxsbdhyu1R3d6qDtsQZc",
      "include_colab_link": true
    },
    "kernelspec": {
      "name": "python3",
      "display_name": "Python 3"
    },
    "language_info": {
      "name": "python"
    }
  },
  "cells": [
    {
      "cell_type": "markdown",
      "metadata": {
        "id": "view-in-github",
        "colab_type": "text"
      },
      "source": [
        "<a href=\"https://colab.research.google.com/github/DanielKorenDataScience/ClassificationProject/blob/main/Work_in_process/Feature_importance_diff.ipynb\" target=\"_parent\"><img src=\"https://colab.research.google.com/assets/colab-badge.svg\" alt=\"Open In Colab\"/></a>"
      ]
    },
    {
      "cell_type": "code",
      "metadata": {
        "id": "r_9rgso8O1GK"
      },
      "source": [
        ""
      ],
      "execution_count": null,
      "outputs": []
    },
    {
      "cell_type": "code",
      "metadata": {
        "id": "7n6vHsoaau-z",
        "colab": {
          "base_uri": "https://localhost:8080/",
          "height": 941
        },
        "outputId": "f7ebe16d-3306-47c6-cb4b-9b414fa3b553"
      },
      "source": [
        "ONLY_RF = True\n",
        "df_result = pd.DataFrame()\n",
        "\n",
        "if not ONLY_RF:\n",
        "  process_model(LogisticRegression(max_iter=1000), X_train, y_train, X_test, y_test, note='max_iter=1000', threshold=0.0000005)  # did not fit, return accuracy=0, so we increased max_iter from default 100\n",
        "  process_model(LogisticRegression(C=100, max_iter=1000, fit_intercept=False, warm_start=True), X_train, y_train, X_test, y_test, note='max_iter=1000, C=100, fit_intercept=False, warm_start=True', threshold=0.0000005, plot=False)\n",
        "\n",
        "  clf_GB = GradientBoostingClassifier(n_estimators=100)\n",
        "  process_model(clf_GB, X_train, y_train, X_test, y_test, plot=False, threshold=0.015, note='n_estimators=100')\n",
        "  clf_GB = GradientBoostingClassifier(ccp_alpha=0.0001, n_estimators=200, random_state=1234)\n",
        "  process_model(clf_GB, X_train, y_train, X_test, y_test, plot=False, threshold=0.015, note='ccp_alpha=0.0001, n_estimators=200, random_state=1234')\n",
        "\n",
        "  clf_AB = AdaBoostClassifier(base_estimator=DecisionTreeClassifier(max_depth=5), n_estimators=100, learning_rate=0.01)\n",
        "  process_model(clf_AB, X_train, y_train, X_test, y_test)\n",
        "\n",
        "  process_model(KNeighborsClassifier(n_neighbors=39), X_train, y_train, X_test, y_test)\n",
        "\n",
        "  if not REL: #ERROR: Classification metrics can't handle a mix of binary and continuous targets\n",
        "    process_model(VotingClassifier(estimators=[('RF', clf_RF), ('GB', clf_GB), ('AB', clf_AB)], voting='soft'), X_train, y_train, X_test, y_test, note=\"('RF', clf_RF), ('GB', clf_GB), ('AB', clf_AB')\")\n",
        "\n",
        "clf_RF = RandomForestClassifier(n_estimators=200, criterion='entropy', max_depth=None, min_samples_split=20, random_state=73)#, ccp_alpha=0.0003\n",
        "process_model(clf_RF, X_train, y_train, X_test, y_test, plot=True, threshold=0.015, note=\"n_estimators=200, criterion='entropy', max_depth=None, min_samples_split=20, random_state=73\"), ccp_alpha=0.0003\n",
        "\n",
        "d(df_result)\n",
        "\n",
        "fname = prefix + f'_result_{id}.csv'\n",
        "df_result.to_csv(fname, index = True)\n",
        "p(id)"
      ],
      "execution_count": null,
      "outputs": [
        {
          "output_type": "stream",
          "text": [
            "running:  RandomForestClassifier (38122, 87)\n",
            "\n",
            "No Skill: ROC AUC=0.500\n",
            "model: ROC AUC=0.920\n"
          ],
          "name": "stdout"
        },
        {
          "output_type": "display_data",
          "data": {
            "image/png": "[encoded data removed]",
            "text/plain": [
              "<Figure size 360x360 with 1 Axes>"
            ]
          },
          "metadata": {
            "tags": [],
            "needs_background": "light"
          }
        },
        {
          "output_type": "display_data",
          "data": {
            "image/png": "[encoded data removed]",
            "text/plain": [
              "<Figure size 360x360 with 1 Axes>"
            ]
          },
          "metadata": {
            "tags": [],
            "needs_background": "light"
          }
        },
        {
          "output_type": "display_data",
          "data": {
            "text/html": [
              "<div>\n",
              "<style scoped>\n",
              "    .dataframe tbody tr th:only-of-type {\n",
              "        vertical-align: middle;\n",
              "    }\n",
              "\n",
              "    .dataframe tbody tr th {\n",
              "        vertical-align: top;\n",
              "    }\n",
              "\n",
              "    .dataframe thead th {\n",
              "        text-align: right;\n",
              "    }\n",
              "</style>\n",
              "<table border=\"1\" class=\"dataframe\">\n",
              "  <thead>\n",
              "    <tr style=\"text-align: right;\">\n",
              "      <th></th>\n",
              "      <th></th>\n",
              "      <th>0</th>\n",
              "      <th>1</th>\n",
              "      <th>precision</th>\n",
              "      <th>recall</th>\n",
              "      <th>f1-score</th>\n",
              "      <th>accuracy</th>\n",
              "      <th>support</th>\n",
              "      <th>precision_avg</th>\n",
              "      <th>recall_avg</th>\n",
              "      <th>f1-score_avg</th>\n",
              "      <th>note</th>\n",
              "    </tr>\n",
              "    <tr>\n",
              "      <th>name</th>\n",
              "      <th>index</th>\n",
              "      <th></th>\n",
              "      <th></th>\n",
              "      <th></th>\n",
              "      <th></th>\n",
              "      <th></th>\n",
              "      <th></th>\n",
              "      <th></th>\n",
              "      <th></th>\n",
              "      <th></th>\n",
              "      <th></th>\n",
              "      <th></th>\n",
              "    </tr>\n",
              "  </thead>\n",
              "  <tbody>\n",
              "    <tr>\n",
              "      <th rowspan=\"2\" valign=\"top\">RandomForestClassifier: Train</th>\n",
              "      <th>0</th>\n",
              "      <td>9241.0</td>\n",
              "      <td>3408.0</td>\n",
              "      <td>0.86</td>\n",
              "      <td>0.73</td>\n",
              "      <td>0.79</td>\n",
              "      <td>0.87</td>\n",
              "      <td>12649.0</td>\n",
              "      <td>0.87</td>\n",
              "      <td>0.83</td>\n",
              "      <td>0.85</td>\n",
              "      <td>n_estimators=200, criterion='entropy', max_dep...</td>\n",
              "    </tr>\n",
              "    <tr>\n",
              "      <th>1</th>\n",
              "      <td>1546.0</td>\n",
              "      <td>23927.0</td>\n",
              "      <td>0.88</td>\n",
              "      <td>0.94</td>\n",
              "      <td>0.91</td>\n",
              "      <td>0.87</td>\n",
              "      <td>25473.0</td>\n",
              "      <td>0.87</td>\n",
              "      <td>0.83</td>\n",
              "      <td>0.85</td>\n",
              "      <td></td>\n",
              "    </tr>\n",
              "    <tr>\n",
              "      <th rowspan=\"2\" valign=\"top\">RandomForestClassifier: Test</th>\n",
              "      <th>0</th>\n",
              "      <td>3799.0</td>\n",
              "      <td>1620.0</td>\n",
              "      <td>0.81</td>\n",
              "      <td>0.70</td>\n",
              "      <td>0.75</td>\n",
              "      <td>0.85</td>\n",
              "      <td>5419.0</td>\n",
              "      <td>0.84</td>\n",
              "      <td>0.81</td>\n",
              "      <td>0.82</td>\n",
              "      <td>n_estimators=200, criterion='entropy', max_dep...</td>\n",
              "    </tr>\n",
              "    <tr>\n",
              "      <th>1</th>\n",
              "      <td>877.0</td>\n",
              "      <td>10042.0</td>\n",
              "      <td>0.86</td>\n",
              "      <td>0.92</td>\n",
              "      <td>0.89</td>\n",
              "      <td>0.85</td>\n",
              "      <td>10919.0</td>\n",
              "      <td>0.84</td>\n",
              "      <td>0.81</td>\n",
              "      <td>0.82</td>\n",
              "      <td></td>\n",
              "    </tr>\n",
              "  </tbody>\n",
              "</table>\n",
              "</div>"
            ],
            "text/plain": [
              "                                          0  ...                                               note\n",
              "name                          index          ...                                                   \n",
              "RandomForestClassifier: Train 0      9241.0  ...  n_estimators=200, criterion='entropy', max_dep...\n",
              "                              1      1546.0  ...                                                   \n",
              "RandomForestClassifier: Test  0      3799.0  ...  n_estimators=200, criterion='entropy', max_dep...\n",
              "                              1       877.0  ...                                                   \n",
              "\n",
              "[4 rows x 11 columns]"
            ]
          },
          "metadata": {
            "tags": []
          }
        },
        {
          "output_type": "stream",
          "text": [
            "no_diff\n"
          ],
          "name": "stdout"
        }
      ]
    }
  ]
}