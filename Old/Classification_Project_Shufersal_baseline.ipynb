{
  "nbformat": 4,
  "nbformat_minor": 0,
  "metadata": {
    "colab": {
      "name": "Classification Project - Shufersal.ipynb",
      "provenance": [],
      "toc_visible": true,
      "include_colab_link": true
    },
    "kernelspec": {
      "name": "python3",
      "display_name": "Python 3"
    },
    "language_info": {
      "name": "python"
    }
  },
  "cells": [
    {
      "cell_type": "markdown",
      "metadata": {
        "id": "view-in-github",
        "colab_type": "text"
      },
      "source": [
        "<a href=\"https://colab.research.google.com/github/DanielKorenDataScience/ClassificationProject/blob/main/Classification_Project_Shufersal_baseline.ipynb\" target=\"_parent\"><img src=\"https://colab.research.google.com/assets/colab-badge.svg\" alt=\"Open In Colab\"/></a>"
      ]
    },
    {
      "cell_type": "markdown",
      "metadata": {
        "id": "AsgFwVtRbySD"
      },
      "source": [
        "Classification Project\n",
        "\n",
        "for Shufersal on-line orders, for replacing of missing products, will predict the replacement success!"
      ]
    },
    {
      "cell_type": "code",
      "metadata": {
        "id": "yGba9FH7bxTM"
      },
      "source": [
        "import requests\n",
        "import pandas as pd\n",
        "import matplotlib.pyplot as plt\n",
        "import numpy as np\n",
        "\n",
        "from IPython.display import display\n",
        "p = print\n",
        "d = display"
      ],
      "execution_count": 1,
      "outputs": []
    },
    {
      "cell_type": "markdown",
      "metadata": {
        "id": "K5fip8cGHkql"
      },
      "source": [
        "# Get Data"
      ]
    },
    {
      "cell_type": "markdown",
      "metadata": {
        "id": "KWnIiiXgmFyP"
      },
      "source": [
        "## Raw Data"
      ]
    },
    {
      "cell_type": "markdown",
      "metadata": {
        "id": "GZFzr7XVD0DP"
      },
      "source": [
        "To run the raw section, one must load Sweets_ver2.csv to local google drive and change the next line to True"
      ]
    },
    {
      "cell_type": "code",
      "metadata": {
        "id": "UvzC3e_IDvSd"
      },
      "source": [
        "RAW = False"
      ],
      "execution_count": 2,
      "outputs": []
    },
    {
      "cell_type": "code",
      "metadata": {
        "id": "Sp4iGxceSita"
      },
      "source": [
        "def get_raw(fname):\n",
        "  data_url = 'https://github.com/DanielKorenDataScience/ClassificationProject/blob/main/' + fname + '.csv?raw=true'\n",
        "  resp = requests.get(data_url)\n",
        "  text = resp.text\n",
        "  \n",
        "  with open(fname + '.csv', 'w') as fh:\n",
        "    fh.write(text)"
      ],
      "execution_count": 3,
      "outputs": []
    },
    {
      "cell_type": "code",
      "metadata": {
        "id": "a4g1hSQGEQcR"
      },
      "source": [
        "def diff_list(li1, li2):\n",
        "  return [i for i in li1 + li2 if i not in li1 or i not in li2]"
      ],
      "execution_count": 4,
      "outputs": []
    },
    {
      "cell_type": "code",
      "metadata": {
        "id": "VoP0C8qFhCkD"
      },
      "source": [
        "if RAW:    \n",
        "  df1 = pd.read_csv('/content/drive/MyDrive/Sweets_ver2.csv', encoding='ISO-8859-8', nrows=1)\n",
        "  df2 = pd.read_csv('/content/drive/MyDrive/Sweets_ver2.csv', encoding='ISO-8859-8', usecols=[i for i in range(82) if not i in[0,8,10,12,14,16,18,20,24,26,27,48,50,52,54,56,58,62,64,65]])"
      ],
      "execution_count": 5,
      "outputs": []
    },
    {
      "cell_type": "code",
      "metadata": {
        "colab": {
          "base_uri": "https://localhost:8080/"
        },
        "id": "OoLJ64bX96dr",
        "outputId": "3a81b37d-14cb-4f56-8675-d02231f6c3f7"
      },
      "source": [
        "from google.colab import drive\n",
        "drive.mount('/content/drive')"
      ],
      "execution_count": 6,
      "outputs": [
        {
          "output_type": "stream",
          "text": [
            "Mounted at /content/drive\n"
          ],
          "name": "stdout"
        }
      ]
    },
    {
      "cell_type": "code",
      "metadata": {
        "id": "RH3d6JNO-dlJ"
      },
      "source": [
        "if RAW:\n",
        "  df1.info()"
      ],
      "execution_count": 7,
      "outputs": []
    },
    {
      "cell_type": "markdown",
      "metadata": {
        "id": "YnYOkLt5oySI"
      },
      "source": [
        "Eliminating unwanted columns - mostly descriptive columns"
      ]
    },
    {
      "cell_type": "code",
      "metadata": {
        "id": "zAv5e7lRBzpu"
      },
      "source": [
        "if RAW:\n",
        "  d(diff_list(list(df1.columns), list(df2.columns)))"
      ],
      "execution_count": 8,
      "outputs": []
    },
    {
      "cell_type": "code",
      "metadata": {
        "id": "DNsn5qrnsvYo"
      },
      "source": [
        "if RAW:\n",
        "  d(df2.info())"
      ],
      "execution_count": 9,
      "outputs": []
    },
    {
      "cell_type": "code",
      "metadata": {
        "id": "g8MX6rBCuirA"
      },
      "source": [
        "# Fix Typo mistake\n",
        "if RAW: \n",
        "  df2.rename(columns={'OrderNumbert': 'OrderNumber','BrandIndDescSuss': 'BrandIndDescSubs', 'ProductNumberSubs': 'ParentProductNumberSubs', \n",
        "                    'NetSaleNoVatPrdSubs': 'NetSaleNoVatPrdLast3MonthsSubs', 'CafiotSucarSusb': 'CafiotSucarSubs'}, inplace=True)"
      ],
      "execution_count": 10,
      "outputs": []
    },
    {
      "cell_type": "markdown",
      "metadata": {
        "id": "HmIVwYFDCAX8"
      },
      "source": [
        "Eliminating nulls"
      ]
    },
    {
      "cell_type": "code",
      "metadata": {
        "id": "UQCtiUn0u2i0"
      },
      "source": [
        "# Fill na\n",
        "if RAW:\n",
        "  df2.fillna({'QuantSale': 1, 'QuantSaleSubs': 1}, inplace=True)\n",
        "  df2.fillna(0, inplace=True)\n",
        "  d(df2.info())"
      ],
      "execution_count": 11,
      "outputs": []
    },
    {
      "cell_type": "code",
      "metadata": {
        "id": "HABZ4mSww0qk"
      },
      "source": [
        "if RAW:\n",
        "  df2.to_csv(\"Shufersal.csv\", index = False)\n",
        "  p(df2.shape)"
      ],
      "execution_count": 12,
      "outputs": []
    },
    {
      "cell_type": "code",
      "metadata": {
        "id": "lqhgbV2PGVDC"
      },
      "source": [
        "if RAW:\n",
        "  df = pd.read_csv('Shufersal.csv', index_col=False)\n",
        "  p(df.shape)"
      ],
      "execution_count": 13,
      "outputs": []
    },
    {
      "cell_type": "markdown",
      "metadata": {
        "id": "renJj2--1PoG"
      },
      "source": [
        "## Encoding categories"
      ]
    },
    {
      "cell_type": "code",
      "metadata": {
        "id": "Z0frP-SsM4Gq"
      },
      "source": [
        "from sklearn.preprocessing import LabelEncoder\n",
        "enc = LabelEncoder()\n",
        "\n",
        "if RAW:\n",
        "  enc.fit(['noPromo', 'PromoSusbSamePromo', 'PromoSusbDiffPromo'])\n",
        "  p(df.isPromo.value_counts())\n",
        "  p()\n",
        "  df.isPromo = enc.transform(df.isPromo)\n",
        "  p(df.isPromo.value_counts())"
      ],
      "execution_count": 14,
      "outputs": []
    },
    {
      "cell_type": "code",
      "metadata": {
        "id": "CXZ6Hs2L1ONt"
      },
      "source": [
        "if RAW:\n",
        "  for col in ['LocationCityName', 'PeriodHoliday', 'BrandIndDesc', 'BrandName', 'BrandIndDescSubs', 'BrandNameSubs']:\n",
        "    p(col)\n",
        "    p(pd.DataFrame(df[col].value_counts()).index)\n",
        "    df[col] = enc.fit_transform(df[col])\n",
        "    p(pd.DataFrame(df[col].value_counts()).index)"
      ],
      "execution_count": 15,
      "outputs": []
    },
    {
      "cell_type": "markdown",
      "metadata": {
        "id": "bNnieSsiHr4A"
      },
      "source": [
        "## Calc diff vector"
      ]
    },
    {
      "cell_type": "code",
      "metadata": {
        "id": "2h_nBoBY_5o5"
      },
      "source": [
        "if RAW:\n",
        "  df.columns"
      ],
      "execution_count": 16,
      "outputs": []
    },
    {
      "cell_type": "code",
      "metadata": {
        "id": "dVnvNLbJEFao"
      },
      "source": [
        "if RAW:\n",
        "  for col in ['DepartmentCode', 'CategoryCode', 'GroupCode', 'SubGroupCode',\n",
        "       'CompoundID', 'ParentProductNumber', 'BrandIndDesc',\n",
        "       'VendorNumber', 'UnitOfMeasure', 'Price', 'NetSaleNoVatPrdLast3Months', 'Energy', 'Pachmema',\n",
        "       'Natran', 'Helbon', 'Shuman', 'ShumanRavuy', 'ShumanTrans', 'Colastrol',\n",
        "       'SivimTzunatim', 'CafiotSucar', 'QuantSale', 'cntMonths', 'DiscountPerUnit']:\n",
        "    df[col + 'Diff'] = df[col] - df[col + 'Subs']"
      ],
      "execution_count": 17,
      "outputs": []
    },
    {
      "cell_type": "code",
      "metadata": {
        "id": "R1pvSAXODmsI"
      },
      "source": [
        "if RAW:\n",
        "  for col in ['DepartmentCode', 'CategoryCode', 'GroupCode', 'SubGroupCode',\n",
        "       'CompoundID', 'ParentProductNumber', 'VendorNumber', 'BrandIndDesc']:\n",
        "    df[col + 'Diff'] = (df[col + 'Diff'] != 0)\n",
        "    df[col + 'Diff'] = enc.fit_transform(df[col + 'Diff'])"
      ],
      "execution_count": 18,
      "outputs": []
    },
    {
      "cell_type": "markdown",
      "metadata": {
        "id": "pRT1z8asSKa0"
      },
      "source": [
        "## Use Dummies"
      ]
    },
    {
      "cell_type": "markdown",
      "metadata": {
        "id": "Q4sf5rfwdnqs"
      },
      "source": [
        "Minimal improvement - FalseNegative (0,0) improved from 1338 to 1328"
      ]
    },
    {
      "cell_type": "code",
      "metadata": {
        "id": "enpCWADOSFsg"
      },
      "source": [
        "## Converting the categories column (isPromo) to dummies column \n",
        "if RAW:\n",
        "  p(df.shape)\n",
        "  df = pd.get_dummies(df, columns=['isPromo', 'PeriodHoliday'])\n",
        "  p(df.shape)"
      ],
      "execution_count": 19,
      "outputs": []
    },
    {
      "cell_type": "code",
      "metadata": {
        "id": "y8AeEktZ8SJB"
      },
      "source": [
        "if RAW:\n",
        "  df.to_csv(\"Shufersal_with_diff.csv\", index = False)"
      ],
      "execution_count": 20,
      "outputs": []
    },
    {
      "cell_type": "code",
      "metadata": {
        "id": "lDvfuMAa8ze9"
      },
      "source": [
        "if RAW:\n",
        "  df = pd.read_csv('Shufersal_with_diff.csv', index_col=False)\n",
        "  p(df.shape)"
      ],
      "execution_count": 21,
      "outputs": []
    },
    {
      "cell_type": "code",
      "metadata": {
        "id": "BnIZZagWMJLi"
      },
      "source": [
        "if RAW:\n",
        "  d(df.head())"
      ],
      "execution_count": 22,
      "outputs": []
    },
    {
      "cell_type": "markdown",
      "metadata": {
        "id": "bWMLTqJmOsbW"
      },
      "source": [
        "# Get ready Data"
      ]
    },
    {
      "cell_type": "code",
      "metadata": {
        "id": "1OCp8pIhBFE_"
      },
      "source": [
        "if not RAW:\n",
        "  get_raw('Shufersal_with_diff')"
      ],
      "execution_count": 23,
      "outputs": []
    },
    {
      "cell_type": "code",
      "metadata": {
        "colab": {
          "base_uri": "https://localhost:8080/"
        },
        "id": "eRMl2lJ0BiXV",
        "outputId": "08f045a6-c60c-4ac0-acd4-2593ce8d898e"
      },
      "source": [
        "if not RAW:\n",
        "  df = pd.read_csv('Shufersal_with_diff.csv', encoding='ISO-8859-8')\n",
        "  p(df.shape)\n",
        "  df.head()"
      ],
      "execution_count": 24,
      "outputs": [
        {
          "output_type": "stream",
          "text": [
            "(54460, 89)\n"
          ],
          "name": "stdout"
        }
      ]
    },
    {
      "cell_type": "markdown",
      "metadata": {
        "id": "N27b5TlMH14F"
      },
      "source": [
        "# Models"
      ]
    },
    {
      "cell_type": "code",
      "metadata": {
        "id": "6rVRpGZCICWb"
      },
      "source": [
        "from sklearn.model_selection import train_test_split, GridSearchCV, cross_val_score\n",
        "\n",
        "X = df.drop('CorrelateItemStatusCode', axis=1)\n",
        "y = df.CorrelateItemStatusCode.astype(int)\n",
        "\n",
        "X_train, X_test, y_train, y_test = train_test_split(X, y, train_size=0.7, random_state=0)"
      ],
      "execution_count": 25,
      "outputs": []
    },
    {
      "cell_type": "code",
      "metadata": {
        "id": "pMu7UaSHZ2BX"
      },
      "source": [
        "from sklearn.metrics import confusion_matrix, classification_report, accuracy_score\n",
        "import math\n",
        "\n",
        "pd.set_option(\"precision\", 2)\n",
        "df_result = pd.DataFrame()"
      ],
      "execution_count": 26,
      "outputs": []
    },
    {
      "cell_type": "code",
      "metadata": {
        "id": "6dIvX5yRHzRu"
      },
      "source": [
        "def report_old(clf, X, y, data_type='Test'):\n",
        "  p()\n",
        "  p(type(clf).__name__ + ': ' + data_type)\n",
        "  p('_____________________________________________________')\n",
        "  acc = accuracy_score(y_true=y, y_pred=clf.predict(X))\n",
        "  cm = pd.DataFrame(confusion_matrix(y_true=y, y_pred=clf.predict(X)),\n",
        "                    index=clf.classes_,\n",
        "                    columns=clf.classes_)\n",
        "  d(cm)\n",
        "  rep = classification_report(y_true=y, y_pred=clf.predict(X), zero_division=1, output_dict=True)\n",
        "  rep =  pd.DataFrame(rep)\n",
        "  rep.drop(['accuracy', 'macro avg', 'weighted avg'], axis=1, inplace=True)\n",
        "  rep = rep.T\n",
        "  rep['accuracy'] = acc\n",
        "  rep.support = rep.support.astype(int)\n",
        "  cols = list(rep.columns[:3]) + ['accuracy', 'support']\n",
        "  rep = rep[cols]\n",
        "  d(rep)\n",
        "  return"
      ],
      "execution_count": 27,
      "outputs": []
    },
    {
      "cell_type": "code",
      "metadata": {
        "id": "SD0WOCyeZqSg"
      },
      "source": [
        "def report(clf, X, y, data_type='Test'):\n",
        "  global df_result\n",
        "  name = type(clf).__name__ + ': ' + data_type\n",
        "  acc = accuracy_score(y_true=y, y_pred=clf.predict(X))\n",
        "  index = [(name, clf.classes_[0]), (name, clf.classes_[1])]\n",
        "  cm = pd.DataFrame(confusion_matrix(y_true=y, y_pred=clf.predict(X)),\n",
        "                    index=clf.classes_,\n",
        "                    columns=clf.classes_)\n",
        "  cm.reset_index(drop=True, inplace=True)\n",
        "  rep = classification_report(y_true=y, y_pred=clf.predict(X), zero_division=1, output_dict=True)\n",
        "  rep =  pd.DataFrame(rep)\n",
        "  rep.drop(['accuracy', 'macro avg', 'weighted avg'], axis=1, inplace=True)\n",
        "  rep = rep.T\n",
        "  rep['accuracy'] = acc\n",
        "  rep.support = rep.support.astype(int)\n",
        "  cols = list(rep.columns[:3]) + ['accuracy', 'support']\n",
        "  rep = rep[cols]\n",
        "  rep['precision_avg'] = rep.precision.mean()\n",
        "  rep['recall_avg'] = rep.recall.mean()\n",
        "  rep['f1-score_avg'] = rep['f1-score'].mean()\n",
        "  rep.reset_index(drop=True, inplace=True)\n",
        "  df = cm.join(rep)\n",
        "  df['name'] = name\n",
        "  df.reset_index(inplace=True)\n",
        "  #df.set_index(['name', 'index'], inplace=True)\n",
        "  df_result.reset_index(inplace=True)\n",
        "  df_result = df_result.append(df, ignore_index=True)\n",
        "  df_result.set_index(['name', 'index'], inplace=True)\n",
        "  #d(df_result)\n",
        "  return"
      ],
      "execution_count": 28,
      "outputs": []
    },
    {
      "cell_type": "code",
      "metadata": {
        "id": "Ci9f_i4dMAXy"
      },
      "source": [
        "def showFeatureImportance(model, X_train=X_train, threshold=0):\n",
        "  if type(model).__name__ == 'LogisticRegression':  # no features importance data\n",
        "    w0 = model.intercept_[0]\n",
        "    w = model.coef_[0]\n",
        "    fx_imp = pd.Series(w, index=X_train.columns)\n",
        "  else:\n",
        "    fx_imp = pd.Series(model.feature_importances_, index=X_train.columns)\n",
        "  fx_imp /= fx_imp.sum()\n",
        "  fx_imp = fx_imp.sort_values()\n",
        "  fx_imp = fx_imp[fx_imp > threshold]\n",
        "  fig = plt.figure(figsize=(5,5))\n",
        "  plt.xlim(0, 1)\n",
        "  fx_imp.plot(kind='barh', title=type(model).__name__ )"
      ],
      "execution_count": 29,
      "outputs": []
    },
    {
      "cell_type": "code",
      "metadata": {
        "id": "mjA3XyhXOKcF"
      },
      "source": [
        "def process_model(model, X_train=X_train, y_train=y_train, X_test=X_test, y_test=y_test, plot=False, threshold=0):\n",
        "  p('running: ', type(model).__name__)\n",
        "  model.fit(X_train, y_train)\n",
        "  report(model, X_train, y_train, 'Train')\n",
        "  report(model, X_test, y_test)\n",
        "  if plot:\n",
        "    showFeatureImportance(model, X_train, threshold) "
      ],
      "execution_count": 30,
      "outputs": []
    },
    {
      "cell_type": "code",
      "metadata": {
        "id": "ijx9CUGjIGCo"
      },
      "source": [
        "from sklearn.linear_model import LogisticRegression, BayesianRidge, Lasso, Ridge\n",
        "from sklearn.ensemble import GradientBoostingClassifier, RandomForestClassifier, AdaBoostClassifier, GradientBoostingRegressor, BaggingClassifier\n",
        "from sklearn.tree import DecisionTreeClassifier\n",
        "from sklearn.neighbors import KNeighborsClassifier\n",
        "from sklearn.svm import LinearSVC"
      ],
      "execution_count": 31,
      "outputs": []
    },
    {
      "cell_type": "code",
      "metadata": {
        "id": "7wRSiqhmkSEo"
      },
      "source": [
        ""
      ],
      "execution_count": null,
      "outputs": []
    },
    {
      "cell_type": "markdown",
      "metadata": {
        "id": "gVL3LIG1kTjY"
      },
      "source": [
        "#Baseline Model"
      ]
    },
    {
      "cell_type": "code",
      "metadata": {
        "id": "j7plSJ5BkcGp"
      },
      "source": [
        "def returnPrec(model,products):\n",
        "            productCols=['ParentProductNumber','ParentProductNumberSubs']\n",
        "            val=model[(model[productCols[0]]==products[0]) & (model[productCols[1]]==products[1])]['avgApproval']\n",
        "            if val.empty ==False:\n",
        "                #display(val)\n",
        "                return val.iloc[0]\n",
        "            #print(val)\n",
        "            return -1"
      ],
      "execution_count": 33,
      "outputs": []
    },
    {
      "cell_type": "code",
      "metadata": {
        "id": "qIk9QpU0lJ0K"
      },
      "source": [
        "class BaselineModel:\n",
        "    def __init__(self, classes_):\n",
        "        self.classes_ = classes_\n",
        "    def fit(self,X_, y_):\n",
        "        #catalogCols=['ParentProductNumber','CompoundID','SubGroupCodeNew','GroupCode']\n",
        "        cols=['ParentProductNumber','ParentProductNumberSubs']\n",
        "        group=pd.concat([X_[cols],y_],axis=1).apply(lambda x:x.astype(np.int64))\\\n",
        "            .groupby(cols)\\\n",
        "            .agg({'CorrelateItemStatusCode':[('avgApproval','mean'),('countRows','count')]}).reset_index()\n",
        "        group.columns=group.columns.droplevel(0)\n",
        "        group.columns.values[0]=cols[0]\n",
        "        group.columns.values[1]=cols[1]\n",
        "        group=group[group['countRows']>=5]\n",
        "        display(group.head())\n",
        "        display(len(group))\n",
        "        self.model=group \n",
        "        return self\n",
        "    \n",
        "    def predict(self,X_): \n",
        "        #print(type(X_))\n",
        "        y_predPrec = X_.apply(lambda x: returnPrec( model=self.model,products=[x['ParentProductNumber'],\n",
        "                                                                                 x['ParentProductNumberSubs']]),axis=1)\n",
        "        #display(y_predPrec)\n",
        "        y_pred=np.where(y_predPrec>0.5,1,0)\n",
        "        return y_pred\n",
        "    def predict_proba(self,X_):\n",
        "        y_predPrec = X_.apply(lambda x: returnPrec(model=self.model, products=[x['ParentProductNumber'],\n",
        "                                                                                 x['ParentProductNumberSubs']]),axis=1)\n",
        "        return y_predPrec"
      ],
      "execution_count": 34,
      "outputs": []
    },
    {
      "cell_type": "code",
      "metadata": {
        "id": "gNyGxU3Mlkv0"
      },
      "source": [
        "baseline=BaselineModel(df.CorrelateItemStatusCode.unique())"
      ],
      "execution_count": 35,
      "outputs": []
    },
    {
      "cell_type": "code",
      "metadata": {
        "id": "C0F2Tbiml7Gk",
        "outputId": "77aa1385-57a2-4ba2-faa8-14344aaf869c",
        "colab": {
          "base_uri": "https://localhost:8080/",
          "height": 238
        }
      },
      "source": [
        "baseline.fit(X_train,y_train)"
      ],
      "execution_count": 36,
      "outputs": [
        {
          "output_type": "display_data",
          "data": {
            "text/html": [
              "<div>\n",
              "<style scoped>\n",
              "    .dataframe tbody tr th:only-of-type {\n",
              "        vertical-align: middle;\n",
              "    }\n",
              "\n",
              "    .dataframe tbody tr th {\n",
              "        vertical-align: top;\n",
              "    }\n",
              "\n",
              "    .dataframe thead th {\n",
              "        text-align: right;\n",
              "    }\n",
              "</style>\n",
              "<table border=\"1\" class=\"dataframe\">\n",
              "  <thead>\n",
              "    <tr style=\"text-align: right;\">\n",
              "      <th></th>\n",
              "      <th>ParentProductNumber</th>\n",
              "      <th>ParentProductNumberSubs</th>\n",
              "      <th>avgApproval</th>\n",
              "      <th>countRows</th>\n",
              "    </tr>\n",
              "  </thead>\n",
              "  <tbody>\n",
              "    <tr>\n",
              "      <th>0</th>\n",
              "      <td>161631</td>\n",
              "      <td>161648</td>\n",
              "      <td>0.88</td>\n",
              "      <td>34</td>\n",
              "    </tr>\n",
              "    <tr>\n",
              "      <th>1</th>\n",
              "      <td>161631</td>\n",
              "      <td>72909799</td>\n",
              "      <td>0.92</td>\n",
              "      <td>64</td>\n",
              "    </tr>\n",
              "    <tr>\n",
              "      <th>8</th>\n",
              "      <td>161631</td>\n",
              "      <td>7290112497918</td>\n",
              "      <td>0.93</td>\n",
              "      <td>14</td>\n",
              "    </tr>\n",
              "    <tr>\n",
              "      <th>9</th>\n",
              "      <td>161648</td>\n",
              "      <td>161631</td>\n",
              "      <td>0.92</td>\n",
              "      <td>53</td>\n",
              "    </tr>\n",
              "    <tr>\n",
              "      <th>10</th>\n",
              "      <td>161648</td>\n",
              "      <td>72909799</td>\n",
              "      <td>0.96</td>\n",
              "      <td>48</td>\n",
              "    </tr>\n",
              "  </tbody>\n",
              "</table>\n",
              "</div>"
            ],
            "text/plain": [
              "    ParentProductNumber  ParentProductNumberSubs  avgApproval  countRows\n",
              "0                161631                   161648         0.88         34\n",
              "1                161631                 72909799         0.92         64\n",
              "8                161631            7290112497918         0.93         14\n",
              "9                161648                   161631         0.92         53\n",
              "10               161648                 72909799         0.96         48"
            ]
          },
          "metadata": {
            "tags": []
          }
        },
        {
          "output_type": "display_data",
          "data": {
            "text/plain": [
              "1289"
            ]
          },
          "metadata": {
            "tags": []
          }
        },
        {
          "output_type": "execute_result",
          "data": {
            "text/plain": [
              "<__main__.BaselineModel at 0x7f8975c6c250>"
            ]
          },
          "metadata": {
            "tags": []
          },
          "execution_count": 36
        }
      ]
    },
    {
      "cell_type": "code",
      "metadata": {
        "id": "QybG91jSmDuO"
      },
      "source": [
        "y_pred=baseline.predict(X_test)"
      ],
      "execution_count": 37,
      "outputs": []
    },
    {
      "cell_type": "markdown",
      "metadata": {
        "id": "7Cm7ERewmWDN"
      },
      "source": [
        "##Example baseline model"
      ]
    },
    {
      "cell_type": "code",
      "metadata": {
        "id": "LS3jnP5nmKDR",
        "outputId": "23ec3011-96e0-4a63-c295-983fcc76dda1",
        "colab": {
          "base_uri": "https://localhost:8080/"
        }
      },
      "source": [
        "y_train[(X_train['ParentProductNumber']==161631) & (X_train['ParentProductNumberSubs']==72909799)].sum()\\\n",
        "/len(y_train[(X_train['ParentProductNumber']==161631) & (X_train['ParentProductNumberSubs']==72909799)])"
      ],
      "execution_count": 40,
      "outputs": [
        {
          "output_type": "execute_result",
          "data": {
            "text/plain": [
              "0.921875"
            ]
          },
          "metadata": {
            "tags": []
          },
          "execution_count": 40
        }
      ]
    },
    {
      "cell_type": "code",
      "metadata": {
        "id": "746ryWpmmYyf",
        "outputId": "0524aa5b-9dbc-4e2c-d111-4b179d7d23e1",
        "colab": {
          "base_uri": "https://localhost:8080/"
        }
      },
      "source": [
        "baseline.predict_proba(X_test[(X_test['ParentProductNumber']==161631) & (X_test['ParentProductNumberSubs']==72909799)])"
      ],
      "execution_count": 41,
      "outputs": [
        {
          "output_type": "execute_result",
          "data": {
            "text/plain": [
              "345      0.92\n",
              "4927     0.92\n",
              "16358    0.92\n",
              "41198    0.92\n",
              "25464    0.92\n",
              "52381    0.92\n",
              "12346    0.92\n",
              "34919    0.92\n",
              "4408     0.92\n",
              "46446    0.92\n",
              "7792     0.92\n",
              "6269     0.92\n",
              "30101    0.92\n",
              "3085     0.92\n",
              "21205    0.92\n",
              "20330    0.92\n",
              "16116    0.92\n",
              "16446    0.92\n",
              "26106    0.92\n",
              "42864    0.92\n",
              "18457    0.92\n",
              "47503    0.92\n",
              "dtype: float64"
            ]
          },
          "metadata": {
            "tags": []
          },
          "execution_count": 41
        }
      ]
    },
    {
      "cell_type": "code",
      "metadata": {
        "id": "qh_lCTrmmopU",
        "outputId": "4a1de178-1550-4586-991e-692d5688a7d1",
        "colab": {
          "base_uri": "https://localhost:8080/"
        }
      },
      "source": [
        "print(len(y_pred[y_pred==0]))\n",
        "print(len(y_pred[y_pred==1]))\n",
        "print(len(y_pred[y_pred==-1]))"
      ],
      "execution_count": 42,
      "outputs": [
        {
          "output_type": "stream",
          "text": [
            "4908\n",
            "11430\n",
            "0\n"
          ],
          "name": "stdout"
        }
      ]
    },
    {
      "cell_type": "code",
      "metadata": {
        "id": "8lfQ0GOFmxe6",
        "outputId": "f1e012a9-9820-4e1e-f003-6eff9b035805",
        "colab": {
          "base_uri": "https://localhost:8080/"
        }
      },
      "source": [
        "print(classification_report(y_test,y_pred))"
      ],
      "execution_count": 43,
      "outputs": [
        {
          "output_type": "stream",
          "text": [
            "              precision    recall  f1-score   support\n",
            "\n",
            "           0       0.52      0.47      0.50      5419\n",
            "           1       0.75      0.79      0.77     10919\n",
            "\n",
            "    accuracy                           0.68     16338\n",
            "   macro avg       0.64      0.63      0.63     16338\n",
            "weighted avg       0.68      0.68      0.68     16338\n",
            "\n"
          ],
          "name": "stdout"
        }
      ]
    },
    {
      "cell_type": "code",
      "metadata": {
        "id": "cJzRcIGmm225"
      },
      "source": [
        "process_model(BaselineModel(df.CorrelateItemStatusCode.unique()))"
      ],
      "execution_count": null,
      "outputs": []
    },
    {
      "cell_type": "markdown",
      "metadata": {
        "id": "PXl-iax5lrFl"
      },
      "source": [
        "# SKLearn models"
      ]
    },
    {
      "cell_type": "code",
      "metadata": {
        "id": "7n6vHsoaau-z",
        "colab": {
          "base_uri": "https://localhost:8080/",
          "height": 744
        },
        "outputId": "5ebf04b7-6f3e-47a5-d13d-3a123b23b8f6"
      },
      "source": [
        "df_result = pd.DataFrame()\n",
        "\n",
        "process_model(LogisticRegression(max_iter=1000), threshold=0.0000005)  # did not fit, return accuracy=0, so we increased max_iter from default 100\n",
        "process_model(LogisticRegression(C=100, max_iter=1000, fit_intercept=False, warm_start=True), threshold=0.0000005, plot=True)\n",
        "process_model(GradientBoostingClassifier(n_estimators=100), plot=True, threshold=0.015)\n",
        "process_model(AdaBoostClassifier(n_estimators=100))  # base estimator is DecisionTreeClassifier initialized with max_depth=1\n",
        "process_model(AdaBoostClassifier(base_estimator=DecisionTreeClassifier(max_depth=5), n_estimators=100, learning_rate=0.01))\n",
        "process_model(RandomForestClassifier(n_estimators=64), plot=True, threshold=0.015)\n",
        "clf_RF = RandomForestClassifier(n_estimators=500, min_samples_split=6, criterion='entropy')\n",
        "process_model(clf_RF, plot=True, threshold=0.015)\n",
        "process_model(KNeighborsClassifier(n_neighbors=39))\n",
        "\n",
        "if False: # ERROR: Classification metrics can't handle a mix of binary and continuous targets\n",
        "  process_model(GradientBoostingRegressor(n_estimators=100, max_depth=5))\n",
        "  process_model(BayesianRidge())\n",
        "  process_model(Lasso())\n",
        "  process_model(Ridge(alpha = 0.5))\n",
        "if False: ## too long > 4 minutes\n",
        "  process_model(LinearSVC(penalty='l2', loss='squared_hinge', dual=True, tol=0.0001, C=0.1, max_iter=20000)) # max_iter increaed from default 1000 to 3000, 6000, 20000 because did not coverged warning\n",
        "  from sklearn import svm\n",
        "  process_model(svm.SVC())\n",
        "  process_model(svm.SVR())\n",
        "\n",
        "d(df_result)"
      ],
      "execution_count": 32,
      "outputs": [
        {
          "output_type": "stream",
          "text": [
            "running:  LogisticRegression\n",
            "running:  LogisticRegression\n",
            "running:  GradientBoostingClassifier\n"
          ],
          "name": "stdout"
        },
        {
          "output_type": "error",
          "ename": "KeyboardInterrupt",
          "evalue": "ignored",
          "traceback": [
            "\u001b[0;31m---------------------------------------------------------------------------\u001b[0m",
            "\u001b[0;31mKeyboardInterrupt\u001b[0m                         Traceback (most recent call last)",
            "\u001b[0;32m<ipython-input-32-39893f2c098b>\u001b[0m in \u001b[0;36m<module>\u001b[0;34m()\u001b[0m\n\u001b[1;32m      3\u001b[0m \u001b[0mprocess_model\u001b[0m\u001b[0;34m(\u001b[0m\u001b[0mLogisticRegression\u001b[0m\u001b[0;34m(\u001b[0m\u001b[0mmax_iter\u001b[0m\u001b[0;34m=\u001b[0m\u001b[0;36m1000\u001b[0m\u001b[0;34m)\u001b[0m\u001b[0;34m,\u001b[0m \u001b[0mthreshold\u001b[0m\u001b[0;34m=\u001b[0m\u001b[0;36m0.0000005\u001b[0m\u001b[0;34m)\u001b[0m  \u001b[0;31m# did not fit, return accuracy=0, so we increased max_iter from default 100\u001b[0m\u001b[0;34m\u001b[0m\u001b[0;34m\u001b[0m\u001b[0m\n\u001b[1;32m      4\u001b[0m \u001b[0mprocess_model\u001b[0m\u001b[0;34m(\u001b[0m\u001b[0mLogisticRegression\u001b[0m\u001b[0;34m(\u001b[0m\u001b[0mC\u001b[0m\u001b[0;34m=\u001b[0m\u001b[0;36m100\u001b[0m\u001b[0;34m,\u001b[0m \u001b[0mmax_iter\u001b[0m\u001b[0;34m=\u001b[0m\u001b[0;36m1000\u001b[0m\u001b[0;34m,\u001b[0m \u001b[0mfit_intercept\u001b[0m\u001b[0;34m=\u001b[0m\u001b[0;32mFalse\u001b[0m\u001b[0;34m,\u001b[0m \u001b[0mwarm_start\u001b[0m\u001b[0;34m=\u001b[0m\u001b[0;32mTrue\u001b[0m\u001b[0;34m)\u001b[0m\u001b[0;34m,\u001b[0m \u001b[0mthreshold\u001b[0m\u001b[0;34m=\u001b[0m\u001b[0;36m0.0000005\u001b[0m\u001b[0;34m,\u001b[0m \u001b[0mplot\u001b[0m\u001b[0;34m=\u001b[0m\u001b[0;32mTrue\u001b[0m\u001b[0;34m)\u001b[0m\u001b[0;34m\u001b[0m\u001b[0;34m\u001b[0m\u001b[0m\n\u001b[0;32m----> 5\u001b[0;31m \u001b[0mprocess_model\u001b[0m\u001b[0;34m(\u001b[0m\u001b[0mGradientBoostingClassifier\u001b[0m\u001b[0;34m(\u001b[0m\u001b[0mn_estimators\u001b[0m\u001b[0;34m=\u001b[0m\u001b[0;36m100\u001b[0m\u001b[0;34m)\u001b[0m\u001b[0;34m,\u001b[0m \u001b[0mplot\u001b[0m\u001b[0;34m=\u001b[0m\u001b[0;32mTrue\u001b[0m\u001b[0;34m,\u001b[0m \u001b[0mthreshold\u001b[0m\u001b[0;34m=\u001b[0m\u001b[0;36m0.015\u001b[0m\u001b[0;34m)\u001b[0m\u001b[0;34m\u001b[0m\u001b[0;34m\u001b[0m\u001b[0m\n\u001b[0m\u001b[1;32m      6\u001b[0m \u001b[0mprocess_model\u001b[0m\u001b[0;34m(\u001b[0m\u001b[0mAdaBoostClassifier\u001b[0m\u001b[0;34m(\u001b[0m\u001b[0mn_estimators\u001b[0m\u001b[0;34m=\u001b[0m\u001b[0;36m100\u001b[0m\u001b[0;34m)\u001b[0m\u001b[0;34m)\u001b[0m  \u001b[0;31m# base estimator is DecisionTreeClassifier initialized with max_depth=1\u001b[0m\u001b[0;34m\u001b[0m\u001b[0;34m\u001b[0m\u001b[0m\n\u001b[1;32m      7\u001b[0m \u001b[0mprocess_model\u001b[0m\u001b[0;34m(\u001b[0m\u001b[0mAdaBoostClassifier\u001b[0m\u001b[0;34m(\u001b[0m\u001b[0mbase_estimator\u001b[0m\u001b[0;34m=\u001b[0m\u001b[0mDecisionTreeClassifier\u001b[0m\u001b[0;34m(\u001b[0m\u001b[0mmax_depth\u001b[0m\u001b[0;34m=\u001b[0m\u001b[0;36m5\u001b[0m\u001b[0;34m)\u001b[0m\u001b[0;34m,\u001b[0m \u001b[0mn_estimators\u001b[0m\u001b[0;34m=\u001b[0m\u001b[0;36m100\u001b[0m\u001b[0;34m,\u001b[0m \u001b[0mlearning_rate\u001b[0m\u001b[0;34m=\u001b[0m\u001b[0;36m0.01\u001b[0m\u001b[0;34m)\u001b[0m\u001b[0;34m)\u001b[0m\u001b[0;34m\u001b[0m\u001b[0;34m\u001b[0m\u001b[0m\n",
            "\u001b[0;32m<ipython-input-30-29a6e1f3c42a>\u001b[0m in \u001b[0;36mprocess_model\u001b[0;34m(model, X_train, y_train, X_test, y_test, plot, threshold)\u001b[0m\n\u001b[1;32m      1\u001b[0m \u001b[0;32mdef\u001b[0m \u001b[0mprocess_model\u001b[0m\u001b[0;34m(\u001b[0m\u001b[0mmodel\u001b[0m\u001b[0;34m,\u001b[0m \u001b[0mX_train\u001b[0m\u001b[0;34m=\u001b[0m\u001b[0mX_train\u001b[0m\u001b[0;34m,\u001b[0m \u001b[0my_train\u001b[0m\u001b[0;34m=\u001b[0m\u001b[0my_train\u001b[0m\u001b[0;34m,\u001b[0m \u001b[0mX_test\u001b[0m\u001b[0;34m=\u001b[0m\u001b[0mX_test\u001b[0m\u001b[0;34m,\u001b[0m \u001b[0my_test\u001b[0m\u001b[0;34m=\u001b[0m\u001b[0my_test\u001b[0m\u001b[0;34m,\u001b[0m \u001b[0mplot\u001b[0m\u001b[0;34m=\u001b[0m\u001b[0;32mFalse\u001b[0m\u001b[0;34m,\u001b[0m \u001b[0mthreshold\u001b[0m\u001b[0;34m=\u001b[0m\u001b[0;36m0\u001b[0m\u001b[0;34m)\u001b[0m\u001b[0;34m:\u001b[0m\u001b[0;34m\u001b[0m\u001b[0;34m\u001b[0m\u001b[0m\n\u001b[1;32m      2\u001b[0m   \u001b[0mp\u001b[0m\u001b[0;34m(\u001b[0m\u001b[0;34m'running: '\u001b[0m\u001b[0;34m,\u001b[0m \u001b[0mtype\u001b[0m\u001b[0;34m(\u001b[0m\u001b[0mmodel\u001b[0m\u001b[0;34m)\u001b[0m\u001b[0;34m.\u001b[0m\u001b[0m__name__\u001b[0m\u001b[0;34m)\u001b[0m\u001b[0;34m\u001b[0m\u001b[0;34m\u001b[0m\u001b[0m\n\u001b[0;32m----> 3\u001b[0;31m   \u001b[0mmodel\u001b[0m\u001b[0;34m.\u001b[0m\u001b[0mfit\u001b[0m\u001b[0;34m(\u001b[0m\u001b[0mX_train\u001b[0m\u001b[0;34m,\u001b[0m \u001b[0my_train\u001b[0m\u001b[0;34m)\u001b[0m\u001b[0;34m\u001b[0m\u001b[0;34m\u001b[0m\u001b[0m\n\u001b[0m\u001b[1;32m      4\u001b[0m   \u001b[0mreport\u001b[0m\u001b[0;34m(\u001b[0m\u001b[0mmodel\u001b[0m\u001b[0;34m,\u001b[0m \u001b[0mX_train\u001b[0m\u001b[0;34m,\u001b[0m \u001b[0my_train\u001b[0m\u001b[0;34m,\u001b[0m \u001b[0;34m'Train'\u001b[0m\u001b[0;34m)\u001b[0m\u001b[0;34m\u001b[0m\u001b[0;34m\u001b[0m\u001b[0m\n\u001b[1;32m      5\u001b[0m   \u001b[0mreport\u001b[0m\u001b[0;34m(\u001b[0m\u001b[0mmodel\u001b[0m\u001b[0;34m,\u001b[0m \u001b[0mX_test\u001b[0m\u001b[0;34m,\u001b[0m \u001b[0my_test\u001b[0m\u001b[0;34m)\u001b[0m\u001b[0;34m\u001b[0m\u001b[0;34m\u001b[0m\u001b[0m\n",
            "\u001b[0;32m/usr/local/lib/python3.7/dist-packages/sklearn/ensemble/_gb.py\u001b[0m in \u001b[0;36mfit\u001b[0;34m(self, X, y, sample_weight, monitor)\u001b[0m\n\u001b[1;32m   1535\u001b[0m         n_stages = self._fit_stages(\n\u001b[1;32m   1536\u001b[0m             \u001b[0mX\u001b[0m\u001b[0;34m,\u001b[0m \u001b[0my\u001b[0m\u001b[0;34m,\u001b[0m \u001b[0mraw_predictions\u001b[0m\u001b[0;34m,\u001b[0m \u001b[0msample_weight\u001b[0m\u001b[0;34m,\u001b[0m \u001b[0mself\u001b[0m\u001b[0;34m.\u001b[0m\u001b[0m_rng\u001b[0m\u001b[0;34m,\u001b[0m \u001b[0mX_val\u001b[0m\u001b[0;34m,\u001b[0m \u001b[0my_val\u001b[0m\u001b[0;34m,\u001b[0m\u001b[0;34m\u001b[0m\u001b[0;34m\u001b[0m\u001b[0m\n\u001b[0;32m-> 1537\u001b[0;31m             sample_weight_val, begin_at_stage, monitor, X_idx_sorted)\n\u001b[0m\u001b[1;32m   1538\u001b[0m \u001b[0;34m\u001b[0m\u001b[0m\n\u001b[1;32m   1539\u001b[0m         \u001b[0;31m# change shape of arrays after fit (early-stopping or additional ests)\u001b[0m\u001b[0;34m\u001b[0m\u001b[0;34m\u001b[0m\u001b[0;34m\u001b[0m\u001b[0m\n",
            "\u001b[0;32m/usr/local/lib/python3.7/dist-packages/sklearn/ensemble/_gb.py\u001b[0m in \u001b[0;36m_fit_stages\u001b[0;34m(self, X, y, raw_predictions, sample_weight, random_state, X_val, y_val, sample_weight_val, begin_at_stage, monitor, X_idx_sorted)\u001b[0m\n\u001b[1;32m   1592\u001b[0m             raw_predictions = self._fit_stage(\n\u001b[1;32m   1593\u001b[0m                 \u001b[0mi\u001b[0m\u001b[0;34m,\u001b[0m \u001b[0mX\u001b[0m\u001b[0;34m,\u001b[0m \u001b[0my\u001b[0m\u001b[0;34m,\u001b[0m \u001b[0mraw_predictions\u001b[0m\u001b[0;34m,\u001b[0m \u001b[0msample_weight\u001b[0m\u001b[0;34m,\u001b[0m \u001b[0msample_mask\u001b[0m\u001b[0;34m,\u001b[0m\u001b[0;34m\u001b[0m\u001b[0;34m\u001b[0m\u001b[0m\n\u001b[0;32m-> 1594\u001b[0;31m                 random_state, X_idx_sorted, X_csc, X_csr)\n\u001b[0m\u001b[1;32m   1595\u001b[0m \u001b[0;34m\u001b[0m\u001b[0m\n\u001b[1;32m   1596\u001b[0m             \u001b[0;31m# track deviance (= loss)\u001b[0m\u001b[0;34m\u001b[0m\u001b[0;34m\u001b[0m\u001b[0;34m\u001b[0m\u001b[0m\n",
            "\u001b[0;32m/usr/local/lib/python3.7/dist-packages/sklearn/ensemble/_gb.py\u001b[0m in \u001b[0;36m_fit_stage\u001b[0;34m(self, i, X, y, raw_predictions, sample_weight, sample_mask, random_state, X_idx_sorted, X_csc, X_csr)\u001b[0m\n\u001b[1;32m   1243\u001b[0m             \u001b[0mX\u001b[0m \u001b[0;34m=\u001b[0m \u001b[0mX_csr\u001b[0m \u001b[0;32mif\u001b[0m \u001b[0mX_csr\u001b[0m \u001b[0;32mis\u001b[0m \u001b[0;32mnot\u001b[0m \u001b[0;32mNone\u001b[0m \u001b[0;32melse\u001b[0m \u001b[0mX\u001b[0m\u001b[0;34m\u001b[0m\u001b[0;34m\u001b[0m\u001b[0m\n\u001b[1;32m   1244\u001b[0m             tree.fit(X, residual, sample_weight=sample_weight,\n\u001b[0;32m-> 1245\u001b[0;31m                      check_input=False, X_idx_sorted=X_idx_sorted)\n\u001b[0m\u001b[1;32m   1246\u001b[0m \u001b[0;34m\u001b[0m\u001b[0m\n\u001b[1;32m   1247\u001b[0m             \u001b[0;31m# update tree leaves\u001b[0m\u001b[0;34m\u001b[0m\u001b[0;34m\u001b[0m\u001b[0;34m\u001b[0m\u001b[0m\n",
            "\u001b[0;32m/usr/local/lib/python3.7/dist-packages/sklearn/tree/_classes.py\u001b[0m in \u001b[0;36mfit\u001b[0;34m(self, X, y, sample_weight, check_input, X_idx_sorted)\u001b[0m\n\u001b[1;32m   1223\u001b[0m             \u001b[0msample_weight\u001b[0m\u001b[0;34m=\u001b[0m\u001b[0msample_weight\u001b[0m\u001b[0;34m,\u001b[0m\u001b[0;34m\u001b[0m\u001b[0;34m\u001b[0m\u001b[0m\n\u001b[1;32m   1224\u001b[0m             \u001b[0mcheck_input\u001b[0m\u001b[0;34m=\u001b[0m\u001b[0mcheck_input\u001b[0m\u001b[0;34m,\u001b[0m\u001b[0;34m\u001b[0m\u001b[0;34m\u001b[0m\u001b[0m\n\u001b[0;32m-> 1225\u001b[0;31m             X_idx_sorted=X_idx_sorted)\n\u001b[0m\u001b[1;32m   1226\u001b[0m         \u001b[0;32mreturn\u001b[0m \u001b[0mself\u001b[0m\u001b[0;34m\u001b[0m\u001b[0;34m\u001b[0m\u001b[0m\n\u001b[1;32m   1227\u001b[0m \u001b[0;34m\u001b[0m\u001b[0m\n",
            "\u001b[0;32m/usr/local/lib/python3.7/dist-packages/sklearn/tree/_classes.py\u001b[0m in \u001b[0;36mfit\u001b[0;34m(self, X, y, sample_weight, check_input, X_idx_sorted)\u001b[0m\n\u001b[1;32m    365\u001b[0m                                            min_impurity_split)\n\u001b[1;32m    366\u001b[0m \u001b[0;34m\u001b[0m\u001b[0m\n\u001b[0;32m--> 367\u001b[0;31m         \u001b[0mbuilder\u001b[0m\u001b[0;34m.\u001b[0m\u001b[0mbuild\u001b[0m\u001b[0;34m(\u001b[0m\u001b[0mself\u001b[0m\u001b[0;34m.\u001b[0m\u001b[0mtree_\u001b[0m\u001b[0;34m,\u001b[0m \u001b[0mX\u001b[0m\u001b[0;34m,\u001b[0m \u001b[0my\u001b[0m\u001b[0;34m,\u001b[0m \u001b[0msample_weight\u001b[0m\u001b[0;34m,\u001b[0m \u001b[0mX_idx_sorted\u001b[0m\u001b[0;34m)\u001b[0m\u001b[0;34m\u001b[0m\u001b[0;34m\u001b[0m\u001b[0m\n\u001b[0m\u001b[1;32m    368\u001b[0m \u001b[0;34m\u001b[0m\u001b[0m\n\u001b[1;32m    369\u001b[0m         \u001b[0;32mif\u001b[0m \u001b[0mself\u001b[0m\u001b[0;34m.\u001b[0m\u001b[0mn_outputs_\u001b[0m \u001b[0;34m==\u001b[0m \u001b[0;36m1\u001b[0m \u001b[0;32mand\u001b[0m \u001b[0mis_classifier\u001b[0m\u001b[0;34m(\u001b[0m\u001b[0mself\u001b[0m\u001b[0;34m)\u001b[0m\u001b[0;34m:\u001b[0m\u001b[0;34m\u001b[0m\u001b[0;34m\u001b[0m\u001b[0m\n",
            "\u001b[0;31mKeyboardInterrupt\u001b[0m: "
          ]
        },
        {
          "output_type": "display_data",
          "data": {
            "image/png": "[encoded data removed]",
            "text/plain": [
              "<Figure size 360x360 with 1 Axes>"
            ]
          },
          "metadata": {
            "tags": [],
            "needs_background": "light"
          }
        }
      ]
    },
    {
      "cell_type": "markdown",
      "metadata": {
        "id": "RBQIPpoUev6b"
      },
      "source": [
        "## Grid Search for hyperparameters - on best model RandonForest"
      ]
    },
    {
      "cell_type": "markdown",
      "metadata": {
        "id": "4om1mBJnz3FZ"
      },
      "source": [
        "It run for few hours and then colab disconnected - it was to preform 5880 checks. From the partial results (because Verbose=4) I saw that n_estimators=500, min_samples_split=6, criterion='entropy' gives better results so we implemented them and we can see that indeed precision was improved from 84% to 85% "
      ]
    },
    {
      "cell_type": "code",
      "metadata": {
        "id": "oXdxQNNqgeKT"
      },
      "source": [
        "GS = False\n",
        "if GS:\n",
        "  clf_RF = RandomForestClassifier(n_estimators=64)\n",
        "  clf_RF.fit(X_train, y_train)\n",
        "  p(clf_RF.score(X_train, y_train))\n",
        "  p(clf_RF.score(X_test, y_test))"
      ],
      "execution_count": null,
      "outputs": []
    },
    {
      "cell_type": "code",
      "metadata": {
        "id": "l0bYwKFvemoO"
      },
      "source": [
        "if GS:\n",
        "  param_grid = { \n",
        "  #    'max_depth' : [None, 4,5,6,7,8],\n",
        "      'n_estimators': [64, 200, 500],\n",
        "      'max_features': ['auto', 'sqrt', 'log2', 1.0, 0.75, 0.5, 0.25],\n",
        "      'criterion' :['gini', 'entropy'], \n",
        "      'max_leaf_nodes': [None, 4, 10, 20],\n",
        "      'min_samples_split': [2, 4, 6, 8, 10, 12, 14]\n",
        "  }\n",
        "  param_grid0 = { \n",
        "    'max_depth' : [None, 4,5,6,7,8],   # done seperately - result is None\n",
        "  }\n",
        "\n",
        "  clf_RF = RandomForestClassifier()\n",
        "  clf_gs = GridSearchCV(clf_RF, param_grid, cv=5, verbose=4)\n",
        "  clf_gs.fit(X_train, y_train)\n",
        "\n",
        "  p('Results')\n",
        "  clf_gs.estimator\n",
        "  p(clf_gs.best_params_)\n",
        "  p(clf_gs.best_estimator_)"
      ],
      "execution_count": null,
      "outputs": []
    },
    {
      "cell_type": "code",
      "metadata": {
        "id": "r3sRrt4ohGgK"
      },
      "source": [
        "if GS:\n",
        "  p(clf_gs.score(X_train, y_train))\n",
        "  p(clf_gs.score(X_test, y_test))"
      ],
      "execution_count": null,
      "outputs": []
    },
    {
      "cell_type": "markdown",
      "metadata": {
        "id": "W6tvvVZVRJz4"
      },
      "source": [
        "## cross validation"
      ]
    },
    {
      "cell_type": "code",
      "metadata": {
        "id": "0Z2obmckEf3k",
        "colab": {
          "base_uri": "https://localhost:8080/"
        },
        "outputId": "7eadff26-6167-4b6e-94b1-60ec3db95049"
      },
      "source": [
        "k = 7\n",
        "scores = cross_val_score(clf_RF, X_train, y_train, cv=k)\n",
        "p(\"\\nscores : \" + (k * \"{:.3f} \").format(*scores))"
      ],
      "execution_count": null,
      "outputs": [
        {
          "output_type": "stream",
          "text": [
            "\n",
            "scores : 0.844 0.856 0.856 0.854 0.850 0.851 0.853 \n"
          ],
          "name": "stdout"
        }
      ]
    },
    {
      "cell_type": "markdown",
      "metadata": {
        "id": "Y6u7kMudO1IA"
      },
      "source": [
        "# TODO:"
      ]
    },
    {
      "cell_type": "code",
      "metadata": {
        "id": "KVpG8EqBEc4y"
      },
      "source": [
        "if False:\n",
        "  \n",
        "  from sklearn.ensemble import VotingClassifier\n",
        "\n",
        "  process_model(VotingClassifier(estimators=[('GBR', model1), ('BR', model2), ('KNN', model3)], voting='soft'))"
      ],
      "execution_count": null,
      "outputs": []
    },
    {
      "cell_type": "markdown",
      "metadata": {
        "id": "aAGxvaPEO3jo"
      },
      "source": [
        "## run a model with the important feature alone to show is it a must or just necessary (if the drop in precision is large it is not a must)?"
      ]
    },
    {
      "cell_type": "markdown",
      "metadata": {
        "id": "Uos9bzosB7dU"
      },
      "source": [
        "## Bagging (Bootstrap Aggregation)\n",
        "\n",
        "> One classifier (\"base model\") and try to fit many different subsamples of the data\n",
        "\n",
        "> The hyper-parameters \"max_samples\" and \"max_features\" control the size of the subsets\n",
        "\n",
        "> The hyper-parameters \"bootstrap\" and \"bootstrap_features\" control wether the samples and the features are drawn with (or without) replacement"
      ]
    },
    {
      "cell_type": "code",
      "metadata": {
        "id": "w2w3COM6AL52"
      },
      "source": [
        "clf_base = DecisionTreeClassifier(max_depth=5)"
      ],
      "execution_count": null,
      "outputs": []
    },
    {
      "cell_type": "code",
      "metadata": {
        "id": "nSPZOa5kCW62"
      },
      "source": [
        "clf_bagging = BaggingClassifier(base_estimator=clf_base, n_estimators=50)\n",
        "clf_bagging.fit(X_train, y_train)\n",
        "\n",
        "clf_bagging.score(X_train, y_train)\n",
        "clf_bagging.score(X_test, y_test)"
      ],
      "execution_count": null,
      "outputs": []
    },
    {
      "cell_type": "markdown",
      "metadata": {
        "id": "_e8SpyWLhzKl"
      },
      "source": [
        "## Correlation"
      ]
    }
  ]
}
