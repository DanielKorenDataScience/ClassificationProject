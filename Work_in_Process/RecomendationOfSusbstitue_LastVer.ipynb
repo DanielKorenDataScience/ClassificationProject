{
 "cells": [
  {
   "cell_type": "markdown",
   "metadata": {
    "toc": true
   },
   "source": [
    "<h1>Table of Contents<span class=\"tocSkip\"></span></h1>\n",
    "<div class=\"toc\"><ul class=\"toc-item\"><li><span><a href=\"#Get-Top-Predict-Substitute\" data-toc-modified-id=\"Get-Top-Predict-Substitute-1\"><span class=\"toc-item-num\">1&nbsp;&nbsp;</span>Get Top Predict Substitute</a></span></li><li><span><a href=\"#get-Top--Actual\" data-toc-modified-id=\"get-Top--Actual-2\"><span class=\"toc-item-num\">2&nbsp;&nbsp;</span>get Top  Actual</a></span></li><li><span><a href=\"#compare--Top-Predict-In-Top-Actual\" data-toc-modified-id=\"compare--Top-Predict-In-Top-Actual-3\"><span class=\"toc-item-num\">3&nbsp;&nbsp;</span>compare  Top Predict In Top Actual</a></span><ul class=\"toc-item\"><li><span><a href=\"#Zvi-recomandation\" data-toc-modified-id=\"Zvi-recomandation-3.1\"><span class=\"toc-item-num\">3.1&nbsp;&nbsp;</span>Zvi recomandation</a></span><ul class=\"toc-item\"><li><span><a href=\"#is-best-of-recomeneation-in-top-2-actual\" data-toc-modified-id=\"is-best-of-recomeneation-in-top-2-actual-3.1.1\"><span class=\"toc-item-num\">3.1.1&nbsp;&nbsp;</span>is best of recomeneation in top 2 actual</a></span></li><li><span><a href=\"#is-2-best-of-recomeneation-in-top-3-actual\" data-toc-modified-id=\"is-2-best-of-recomeneation-in-top-3-actual-3.1.2\"><span class=\"toc-item-num\">3.1.2&nbsp;&nbsp;</span>is 2 best of recomeneation in top 3 actual</a></span></li></ul></li></ul></li></ul></div>"
   ]
  },
  {
   "cell_type": "markdown",
   "metadata": {},
   "source": [
    "# Get Top Predict Substitute"
   ]
  },
  {
   "cell_type": "code",
   "execution_count": 118,
   "metadata": {},
   "outputs": [],
   "source": [
    "clf_RF = RandomForestClassifier(n_estimators=200, criterion='entropy', max_depth=None, min_samples_split=20, ccp_alpha=0.0003, random_state=1234)"
   ]
  },
  {
   "cell_type": "code",
   "execution_count": 121,
   "metadata": {},
   "outputs": [
    {
     "data": {
      "text/plain": [
       "RandomForestClassifier(ccp_alpha=0.0003, criterion='entropy',\n",
       "                       min_samples_split=20, n_estimators=200,\n",
       "                       random_state=1234)"
      ]
     },
     "execution_count": 121,
     "metadata": {},
     "output_type": "execute_result"
    }
   ],
   "source": [
    "clf_RF.fit(X_train, y_train)"
   ]
  },
  {
   "cell_type": "code",
   "execution_count": 299,
   "metadata": {},
   "outputs": [],
   "source": [
    "def getBestSubstitute(model, X, numOfSubs=2 ):\n",
    "        # get soft prediction\n",
    "        y_pred_soft=model.predict_proba(X)\n",
    "        df_proba=pd.concat([X.reset_index(drop=True),pd.DataFrame(y_pred_soft[:,1],columns=['prdictProba'])],axis=1)\n",
    "        # get mean and std for each  product and Subs\n",
    "        dfGroup=df_proba.groupby(['ParentProductNumber','ParentProductNumberSubs']).agg({'prdictProba':[('prdictProbaMean','mean'),\n",
    "                                                                                       ('prdictProbaStd',np.std),\n",
    "                                                                       ('countRows','count')]}).reset_index()\n",
    "        dfGroup.columns=dfGroup.columns.droplevel(0)\n",
    "        dfGroup.columns.values[0]='ParentProductNumber'\n",
    "        dfGroup.columns.values[1]='ParentProductNumberSubs'\n",
    "        dfGroup=dfGroup[dfGroup['countRows']>=3]\n",
    "        # get rank of mean and std\n",
    "        dfGroup['scoreMean']=dfGroup.groupby('ParentProductNumber')['prdictProbaMean'].apply(lambda x: (x-x.min())/(x.max()-x.min()))\n",
    "        dfGroup['scoreStd']=dfGroup.groupby('ParentProductNumber')['prdictProbaStd'].apply(lambda x: 1-((x-x.min())/(x.max()-x.min())))\n",
    "        dfGroup['scoreMeanAndStd']=(dfGroup['scoreMean']*0.8+dfGroup['scoreStd']*0.2).astype(np.float64)\n",
    "        dfGroup=dfGroup.round({'scoreMeanAndStd':4})\n",
    "        dfGroup['rankMeanAndStd']=dfGroup.groupby('ParentProductNumber')['scoreMeanAndStd'].rank(ascending=0,method='dense')\n",
    "        dfGroup['rankMeanAndStd']=np.where(dfGroup['rankMeanAndStd'].isnull(),1,dfGroup['rankMeanAndStd'])\n",
    "        dfGroup.sort_values(['ParentProductNumber','rankMeanAndStd'],inplace=True)\n",
    "        # filter best susbs by numofSubs\n",
    "        dfGroupFinal=dfGroup[(dfGroup['rankMeanAndStd']<=numOfSubs)]\n",
    "        return dfGroupFinal"
   ]
  },
  {
   "cell_type": "code",
   "execution_count": 300,
   "metadata": {},
   "outputs": [],
   "source": [
    "df_bestTwoSubs=getBestSubstitute(clf_RF, X)"
   ]
  },
  {
   "cell_type": "code",
   "execution_count": 301,
   "metadata": {},
   "outputs": [
    {
     "data": {
      "text/html": [
       "<div>\n",
       "<style scoped>\n",
       "    .dataframe tbody tr th:only-of-type {\n",
       "        vertical-align: middle;\n",
       "    }\n",
       "\n",
       "    .dataframe tbody tr th {\n",
       "        vertical-align: top;\n",
       "    }\n",
       "\n",
       "    .dataframe thead th {\n",
       "        text-align: right;\n",
       "    }\n",
       "</style>\n",
       "<table border=\"1\" class=\"dataframe\">\n",
       "  <thead>\n",
       "    <tr style=\"text-align: right;\">\n",
       "      <th></th>\n",
       "      <th>ParentProductNumber</th>\n",
       "      <th>ParentProductNumberSubs</th>\n",
       "      <th>prdictProbaMean</th>\n",
       "      <th>prdictProbaStd</th>\n",
       "      <th>countRows</th>\n",
       "      <th>scoreMean</th>\n",
       "      <th>scoreStd</th>\n",
       "      <th>scoreMeanAndStd</th>\n",
       "      <th>rankMeanAndStd</th>\n",
       "    </tr>\n",
       "  </thead>\n",
       "  <tbody>\n",
       "    <tr>\n",
       "      <th>12</th>\n",
       "      <td>161631</td>\n",
       "      <td>7290112497918</td>\n",
       "      <td>0.91</td>\n",
       "      <td>0.12</td>\n",
       "      <td>24</td>\n",
       "      <td>1.00</td>\n",
       "      <td>1.00</td>\n",
       "      <td>1.00</td>\n",
       "      <td>1.0</td>\n",
       "    </tr>\n",
       "    <tr>\n",
       "      <th>0</th>\n",
       "      <td>161631</td>\n",
       "      <td>161648</td>\n",
       "      <td>0.89</td>\n",
       "      <td>0.17</td>\n",
       "      <td>45</td>\n",
       "      <td>0.94</td>\n",
       "      <td>0.82</td>\n",
       "      <td>0.92</td>\n",
       "      <td>2.0</td>\n",
       "    </tr>\n",
       "    <tr>\n",
       "      <th>30</th>\n",
       "      <td>161648</td>\n",
       "      <td>7290112497918</td>\n",
       "      <td>0.91</td>\n",
       "      <td>0.12</td>\n",
       "      <td>31</td>\n",
       "      <td>1.00</td>\n",
       "      <td>1.00</td>\n",
       "      <td>1.00</td>\n",
       "      <td>1.0</td>\n",
       "    </tr>\n",
       "    <tr>\n",
       "      <th>16</th>\n",
       "      <td>161648</td>\n",
       "      <td>72909799</td>\n",
       "      <td>0.90</td>\n",
       "      <td>0.15</td>\n",
       "      <td>68</td>\n",
       "      <td>0.60</td>\n",
       "      <td>0.39</td>\n",
       "      <td>0.55</td>\n",
       "      <td>2.0</td>\n",
       "    </tr>\n",
       "    <tr>\n",
       "      <th>41</th>\n",
       "      <td>170053</td>\n",
       "      <td>7290104720536</td>\n",
       "      <td>0.78</td>\n",
       "      <td>0.08</td>\n",
       "      <td>11</td>\n",
       "      <td>1.00</td>\n",
       "      <td>0.86</td>\n",
       "      <td>0.97</td>\n",
       "      <td>1.0</td>\n",
       "    </tr>\n",
       "  </tbody>\n",
       "</table>\n",
       "</div>"
      ],
      "text/plain": [
       "    ParentProductNumber  ParentProductNumberSubs  prdictProbaMean  \\\n",
       "12               161631            7290112497918             0.91   \n",
       "0                161631                   161648             0.89   \n",
       "30               161648            7290112497918             0.91   \n",
       "16               161648                 72909799             0.90   \n",
       "41               170053            7290104720536             0.78   \n",
       "\n",
       "    prdictProbaStd  countRows  scoreMean  scoreStd  scoreMeanAndStd  \\\n",
       "12            0.12         24       1.00      1.00             1.00   \n",
       "0             0.17         45       0.94      0.82             0.92   \n",
       "30            0.12         31       1.00      1.00             1.00   \n",
       "16            0.15         68       0.60      0.39             0.55   \n",
       "41            0.08         11       1.00      0.86             0.97   \n",
       "\n",
       "    rankMeanAndStd  \n",
       "12             1.0  \n",
       "0              2.0  \n",
       "30             1.0  \n",
       "16             2.0  \n",
       "41             1.0  "
      ]
     },
     "execution_count": 301,
     "metadata": {},
     "output_type": "execute_result"
    }
   ],
   "source": [
    "df_bestTwoSubs.head()"
   ]
  },
  {
   "cell_type": "code",
   "execution_count": 302,
   "metadata": {
    "scrolled": true
   },
   "outputs": [
    {
     "data": {
      "text/plain": [
       "(935, 9)"
      ]
     },
     "execution_count": 302,
     "metadata": {},
     "output_type": "execute_result"
    }
   ],
   "source": [
    "df_bestTwoSubs.shape"
   ]
  },
  {
   "cell_type": "markdown",
   "metadata": {},
   "source": [
    "# get Top  Actual"
   ]
  },
  {
   "cell_type": "code",
   "execution_count": 340,
   "metadata": {},
   "outputs": [],
   "source": [
    "def getTopActual(df,NTop=2):\n",
    "    df_groupActual=df.groupby(['ParentProductNumber','ParentProductNumberSubs']).agg({'CorrelateItemStatusCode':[('AvgApproval','mean'),\n",
    "                                                                                              ('StdApproval',np.std),\n",
    "                                                                                              ('cntRows','count')\n",
    "                                                                                             ]}).reset_index()\n",
    "    df_groupActual.columns=df_groupActual.columns.droplevel(0)\n",
    "    df_groupActual.columns.values[0]='ParentProductNumber'\n",
    "    df_groupActual.columns.values[1]='ParentProductNumberSubs'\n",
    "    df_groupActual=df_groupActual[df_groupActual['cntRows']>=3]\n",
    "    df_groupActual.sort_values(['ParentProductNumber','AvgApproval'],ascending=[True,False],inplace=True)\n",
    "    df_ActualTopN=df_groupActual.groupby('ParentProductNumber').head(NTop)\n",
    "    return df_ActualTopN"
   ]
  },
  {
   "cell_type": "code",
   "execution_count": 341,
   "metadata": {},
   "outputs": [],
   "source": [
    "df_ActualTop3=getTopActual(df,3)"
   ]
  },
  {
   "cell_type": "code",
   "execution_count": 373,
   "metadata": {},
   "outputs": [
    {
     "data": {
      "text/html": [
       "<div>\n",
       "<style scoped>\n",
       "    .dataframe tbody tr th:only-of-type {\n",
       "        vertical-align: middle;\n",
       "    }\n",
       "\n",
       "    .dataframe tbody tr th {\n",
       "        vertical-align: top;\n",
       "    }\n",
       "\n",
       "    .dataframe thead th {\n",
       "        text-align: right;\n",
       "    }\n",
       "</style>\n",
       "<table border=\"1\" class=\"dataframe\">\n",
       "  <thead>\n",
       "    <tr style=\"text-align: right;\">\n",
       "      <th></th>\n",
       "      <th>ParentProductNumber</th>\n",
       "      <th>ParentProductNumberSubs</th>\n",
       "      <th>AvgApproval</th>\n",
       "      <th>StdApproval</th>\n",
       "      <th>cntRows</th>\n",
       "    </tr>\n",
       "  </thead>\n",
       "  <tbody>\n",
       "    <tr>\n",
       "      <th>12</th>\n",
       "      <td>161631</td>\n",
       "      <td>7290112497918</td>\n",
       "      <td>0.92</td>\n",
       "      <td>0.28</td>\n",
       "      <td>24</td>\n",
       "    </tr>\n",
       "    <tr>\n",
       "      <th>0</th>\n",
       "      <td>161631</td>\n",
       "      <td>161648</td>\n",
       "      <td>0.91</td>\n",
       "      <td>0.29</td>\n",
       "      <td>45</td>\n",
       "    </tr>\n",
       "    <tr>\n",
       "      <th>1</th>\n",
       "      <td>161631</td>\n",
       "      <td>72909799</td>\n",
       "      <td>0.88</td>\n",
       "      <td>0.32</td>\n",
       "      <td>86</td>\n",
       "    </tr>\n",
       "    <tr>\n",
       "      <th>16</th>\n",
       "      <td>161648</td>\n",
       "      <td>72909799</td>\n",
       "      <td>0.94</td>\n",
       "      <td>0.24</td>\n",
       "      <td>68</td>\n",
       "    </tr>\n",
       "    <tr>\n",
       "      <th>30</th>\n",
       "      <td>161648</td>\n",
       "      <td>7290112497918</td>\n",
       "      <td>0.94</td>\n",
       "      <td>0.25</td>\n",
       "      <td>31</td>\n",
       "    </tr>\n",
       "    <tr>\n",
       "      <th>14</th>\n",
       "      <td>161648</td>\n",
       "      <td>161631</td>\n",
       "      <td>0.92</td>\n",
       "      <td>0.28</td>\n",
       "      <td>71</td>\n",
       "    </tr>\n",
       "    <tr>\n",
       "      <th>41</th>\n",
       "      <td>170053</td>\n",
       "      <td>7290104720536</td>\n",
       "      <td>0.91</td>\n",
       "      <td>0.30</td>\n",
       "      <td>11</td>\n",
       "    </tr>\n",
       "    <tr>\n",
       "      <th>35</th>\n",
       "      <td>170053</td>\n",
       "      <td>5197628</td>\n",
       "      <td>0.80</td>\n",
       "      <td>0.41</td>\n",
       "      <td>15</td>\n",
       "    </tr>\n",
       "  </tbody>\n",
       "</table>\n",
       "</div>"
      ],
      "text/plain": [
       "    ParentProductNumber  ParentProductNumberSubs  AvgApproval  StdApproval  \\\n",
       "12               161631            7290112497918         0.92         0.28   \n",
       "0                161631                   161648         0.91         0.29   \n",
       "1                161631                 72909799         0.88         0.32   \n",
       "16               161648                 72909799         0.94         0.24   \n",
       "30               161648            7290112497918         0.94         0.25   \n",
       "14               161648                   161631         0.92         0.28   \n",
       "41               170053            7290104720536         0.91         0.30   \n",
       "35               170053                  5197628         0.80         0.41   \n",
       "\n",
       "    cntRows  \n",
       "12       24  \n",
       "0        45  \n",
       "1        86  \n",
       "16       68  \n",
       "30       31  \n",
       "14       71  \n",
       "41       11  \n",
       "35       15  "
      ]
     },
     "execution_count": 373,
     "metadata": {},
     "output_type": "execute_result"
    }
   ],
   "source": [
    "df_ActualTop3.head(8)"
   ]
  },
  {
   "cell_type": "code",
   "execution_count": null,
   "metadata": {},
   "outputs": [],
   "source": []
  },
  {
   "cell_type": "markdown",
   "metadata": {},
   "source": [
    "# compare  Top Predict In Top Actual"
   ]
  },
  {
   "cell_type": "code",
   "execution_count": 416,
   "metadata": {},
   "outputs": [],
   "source": [
    "def precKPredictInNActual(KToppredict=1, NTopActual=2, isZvi=0):\n",
    "    df_ActualTop=getTopActual(df,NTopActual)\n",
    "    display(df_ActualTop.head(3))\n",
    "    if isZvi:\n",
    "        print('Zvi rec')\n",
    "        df_RecTop=ZviRec[ZviRec['RankSubs']<=KToppredict].copy()\n",
    "    else:\n",
    "        df_RecTop=getBestSubstitute(clf_RF, X,KToppredict)\n",
    "    df_isInPred=df_ActualTop.merge(df_RecTop,on=['ParentProductNumber','ParentProductNumberSubs'],how='left')\\\n",
    "    .groupby('ParentProductNumber').agg({'prdictProbaMean':[('countSubs','count')],\n",
    "                                        'ParentProductNumberSubs':[('countRowsMainPrd','count')]}).reset_index()\n",
    "    df_isInPred.columns=df_isInPred.columns.droplevel(0)\n",
    "    df_isInPred.columns.values[0]='ParentProductNumber'\n",
    "    display(df_isInPred[df_isInPred['ParentProductNumber']==161631])\n",
    "    \n",
    "    print(len(df_isInPred[((df_isInPred['countSubs']<KToppredict) & (df_isInPred['countRowsMainPrd']>KToppredict))|\n",
    "          (df_isInPred['countSubs']==0)]))\n",
    "    print(len(df_isInPred[(df_isInPred['countSubs']>=KToppredict) |\n",
    "          ((df_isInPred['countRowsMainPrd']<=KToppredict) &(df_isInPred['countSubs']>0))]))\n",
    "    print(\"{:.0%}\".format(len(df_isInPred[(df_isInPred['countSubs']>=KToppredict) |\n",
    "          ((df_isInPred['countRowsMainPrd']<=KToppredict) &(df_isInPred['countSubs']>0))])/len(df_isInPred)))\n",
    "    return df_isInPred"
   ]
  },
  {
   "cell_type": "code",
   "execution_count": 370,
   "metadata": {
    "scrolled": true
   },
   "outputs": [
    {
     "data": {
      "text/html": [
       "<div>\n",
       "<style scoped>\n",
       "    .dataframe tbody tr th:only-of-type {\n",
       "        vertical-align: middle;\n",
       "    }\n",
       "\n",
       "    .dataframe tbody tr th {\n",
       "        vertical-align: top;\n",
       "    }\n",
       "\n",
       "    .dataframe thead th {\n",
       "        text-align: right;\n",
       "    }\n",
       "</style>\n",
       "<table border=\"1\" class=\"dataframe\">\n",
       "  <thead>\n",
       "    <tr style=\"text-align: right;\">\n",
       "      <th></th>\n",
       "      <th>ParentProductNumber</th>\n",
       "      <th>ParentProductNumberSubs</th>\n",
       "      <th>AvgApproval</th>\n",
       "      <th>StdApproval</th>\n",
       "      <th>cntRows</th>\n",
       "    </tr>\n",
       "  </thead>\n",
       "  <tbody>\n",
       "    <tr>\n",
       "      <th>12</th>\n",
       "      <td>161631</td>\n",
       "      <td>7290112497918</td>\n",
       "      <td>0.92</td>\n",
       "      <td>0.28</td>\n",
       "      <td>24</td>\n",
       "    </tr>\n",
       "    <tr>\n",
       "      <th>0</th>\n",
       "      <td>161631</td>\n",
       "      <td>161648</td>\n",
       "      <td>0.91</td>\n",
       "      <td>0.29</td>\n",
       "      <td>45</td>\n",
       "    </tr>\n",
       "    <tr>\n",
       "      <th>16</th>\n",
       "      <td>161648</td>\n",
       "      <td>72909799</td>\n",
       "      <td>0.94</td>\n",
       "      <td>0.24</td>\n",
       "      <td>68</td>\n",
       "    </tr>\n",
       "  </tbody>\n",
       "</table>\n",
       "</div>"
      ],
      "text/plain": [
       "    ParentProductNumber  ParentProductNumberSubs  AvgApproval  StdApproval  \\\n",
       "12               161631            7290112497918         0.92         0.28   \n",
       "0                161631                   161648         0.91         0.29   \n",
       "16               161648                 72909799         0.94         0.24   \n",
       "\n",
       "    cntRows  \n",
       "12       24  \n",
       "0        45  \n",
       "16       68  "
      ]
     },
     "metadata": {},
     "output_type": "display_data"
    },
    {
     "data": {
      "text/html": [
       "<div>\n",
       "<style scoped>\n",
       "    .dataframe tbody tr th:only-of-type {\n",
       "        vertical-align: middle;\n",
       "    }\n",
       "\n",
       "    .dataframe tbody tr th {\n",
       "        vertical-align: top;\n",
       "    }\n",
       "\n",
       "    .dataframe thead th {\n",
       "        text-align: right;\n",
       "    }\n",
       "</style>\n",
       "<table border=\"1\" class=\"dataframe\">\n",
       "  <thead>\n",
       "    <tr style=\"text-align: right;\">\n",
       "      <th></th>\n",
       "      <th>ParentProductNumber</th>\n",
       "      <th>countSubs</th>\n",
       "      <th>countRowsMainPrd</th>\n",
       "    </tr>\n",
       "  </thead>\n",
       "  <tbody>\n",
       "    <tr>\n",
       "      <th>0</th>\n",
       "      <td>161631</td>\n",
       "      <td>1</td>\n",
       "      <td>2</td>\n",
       "    </tr>\n",
       "  </tbody>\n",
       "</table>\n",
       "</div>"
      ],
      "text/plain": [
       "   ParentProductNumber  countSubs  countRowsMainPrd\n",
       "0               161631          1                 2"
      ]
     },
     "metadata": {},
     "output_type": "display_data"
    },
    {
     "name": "stdout",
     "output_type": "stream",
     "text": [
      "56\n",
      "449\n",
      "89%\n"
     ]
    }
   ],
   "source": [
    "precKPredictInNActual()"
   ]
  },
  {
   "cell_type": "code",
   "execution_count": 371,
   "metadata": {
    "scrolled": true
   },
   "outputs": [
    {
     "data": {
      "text/html": [
       "<div>\n",
       "<style scoped>\n",
       "    .dataframe tbody tr th:only-of-type {\n",
       "        vertical-align: middle;\n",
       "    }\n",
       "\n",
       "    .dataframe tbody tr th {\n",
       "        vertical-align: top;\n",
       "    }\n",
       "\n",
       "    .dataframe thead th {\n",
       "        text-align: right;\n",
       "    }\n",
       "</style>\n",
       "<table border=\"1\" class=\"dataframe\">\n",
       "  <thead>\n",
       "    <tr style=\"text-align: right;\">\n",
       "      <th></th>\n",
       "      <th>ParentProductNumber</th>\n",
       "      <th>ParentProductNumberSubs</th>\n",
       "      <th>AvgApproval</th>\n",
       "      <th>StdApproval</th>\n",
       "      <th>cntRows</th>\n",
       "    </tr>\n",
       "  </thead>\n",
       "  <tbody>\n",
       "    <tr>\n",
       "      <th>12</th>\n",
       "      <td>161631</td>\n",
       "      <td>7290112497918</td>\n",
       "      <td>0.92</td>\n",
       "      <td>0.28</td>\n",
       "      <td>24</td>\n",
       "    </tr>\n",
       "    <tr>\n",
       "      <th>0</th>\n",
       "      <td>161631</td>\n",
       "      <td>161648</td>\n",
       "      <td>0.91</td>\n",
       "      <td>0.29</td>\n",
       "      <td>45</td>\n",
       "    </tr>\n",
       "    <tr>\n",
       "      <th>1</th>\n",
       "      <td>161631</td>\n",
       "      <td>72909799</td>\n",
       "      <td>0.88</td>\n",
       "      <td>0.32</td>\n",
       "      <td>86</td>\n",
       "    </tr>\n",
       "  </tbody>\n",
       "</table>\n",
       "</div>"
      ],
      "text/plain": [
       "    ParentProductNumber  ParentProductNumberSubs  AvgApproval  StdApproval  \\\n",
       "12               161631            7290112497918         0.92         0.28   \n",
       "0                161631                   161648         0.91         0.29   \n",
       "1                161631                 72909799         0.88         0.32   \n",
       "\n",
       "    cntRows  \n",
       "12       24  \n",
       "0        45  \n",
       "1        86  "
      ]
     },
     "metadata": {},
     "output_type": "display_data"
    },
    {
     "data": {
      "text/html": [
       "<div>\n",
       "<style scoped>\n",
       "    .dataframe tbody tr th:only-of-type {\n",
       "        vertical-align: middle;\n",
       "    }\n",
       "\n",
       "    .dataframe tbody tr th {\n",
       "        vertical-align: top;\n",
       "    }\n",
       "\n",
       "    .dataframe thead th {\n",
       "        text-align: right;\n",
       "    }\n",
       "</style>\n",
       "<table border=\"1\" class=\"dataframe\">\n",
       "  <thead>\n",
       "    <tr style=\"text-align: right;\">\n",
       "      <th></th>\n",
       "      <th>ParentProductNumber</th>\n",
       "      <th>countSubs</th>\n",
       "      <th>countRowsMainPrd</th>\n",
       "    </tr>\n",
       "  </thead>\n",
       "  <tbody>\n",
       "    <tr>\n",
       "      <th>0</th>\n",
       "      <td>161631</td>\n",
       "      <td>2</td>\n",
       "      <td>3</td>\n",
       "    </tr>\n",
       "  </tbody>\n",
       "</table>\n",
       "</div>"
      ],
      "text/plain": [
       "   ParentProductNumber  countSubs  countRowsMainPrd\n",
       "0               161631          2                 3"
      ]
     },
     "metadata": {},
     "output_type": "display_data"
    },
    {
     "name": "stdout",
     "output_type": "stream",
     "text": [
      "76\n",
      "429\n",
      "85%\n"
     ]
    }
   ],
   "source": [
    "precKPredictInNActual(2,3)"
   ]
  },
  {
   "cell_type": "markdown",
   "metadata": {},
   "source": [
    "## Zvi recomandation"
   ]
  },
  {
   "cell_type": "code",
   "execution_count": 406,
   "metadata": {},
   "outputs": [],
   "source": [
    "ZviRec=pd.read_csv('zvi_recommendation_list (1).csv')"
   ]
  },
  {
   "cell_type": "code",
   "execution_count": 407,
   "metadata": {},
   "outputs": [],
   "source": [
    "ZviRec['RankSubs']=ZviRec.groupby('Product')['AvgCorrect'].rank(ascending=0,method='dense')"
   ]
  },
  {
   "cell_type": "code",
   "execution_count": 408,
   "metadata": {},
   "outputs": [
    {
     "data": {
      "text/html": [
       "<div>\n",
       "<style scoped>\n",
       "    .dataframe tbody tr th:only-of-type {\n",
       "        vertical-align: middle;\n",
       "    }\n",
       "\n",
       "    .dataframe tbody tr th {\n",
       "        vertical-align: top;\n",
       "    }\n",
       "\n",
       "    .dataframe thead th {\n",
       "        text-align: right;\n",
       "    }\n",
       "</style>\n",
       "<table border=\"1\" class=\"dataframe\">\n",
       "  <thead>\n",
       "    <tr style=\"text-align: right;\">\n",
       "      <th></th>\n",
       "      <th>Product</th>\n",
       "      <th>ProductSubs</th>\n",
       "      <th>CountCorrect</th>\n",
       "      <th>AvgCorrect</th>\n",
       "      <th>RankSubs</th>\n",
       "    </tr>\n",
       "  </thead>\n",
       "  <tbody>\n",
       "    <tr>\n",
       "      <th>0</th>\n",
       "      <td>161631</td>\n",
       "      <td>161648</td>\n",
       "      <td>45</td>\n",
       "      <td>0.93</td>\n",
       "      <td>1.0</td>\n",
       "    </tr>\n",
       "    <tr>\n",
       "      <th>1</th>\n",
       "      <td>161631</td>\n",
       "      <td>7290112497918</td>\n",
       "      <td>24</td>\n",
       "      <td>0.92</td>\n",
       "      <td>2.0</td>\n",
       "    </tr>\n",
       "    <tr>\n",
       "      <th>2</th>\n",
       "      <td>161631</td>\n",
       "      <td>72909799</td>\n",
       "      <td>86</td>\n",
       "      <td>0.88</td>\n",
       "      <td>3.0</td>\n",
       "    </tr>\n",
       "    <tr>\n",
       "      <th>3</th>\n",
       "      <td>161648</td>\n",
       "      <td>161631</td>\n",
       "      <td>71</td>\n",
       "      <td>0.99</td>\n",
       "      <td>1.0</td>\n",
       "    </tr>\n",
       "    <tr>\n",
       "      <th>4</th>\n",
       "      <td>161648</td>\n",
       "      <td>72909799</td>\n",
       "      <td>68</td>\n",
       "      <td>0.94</td>\n",
       "      <td>2.0</td>\n",
       "    </tr>\n",
       "  </tbody>\n",
       "</table>\n",
       "</div>"
      ],
      "text/plain": [
       "   Product    ProductSubs  CountCorrect  AvgCorrect  RankSubs\n",
       "0   161631         161648            45        0.93       1.0\n",
       "1   161631  7290112497918            24        0.92       2.0\n",
       "2   161631       72909799            86        0.88       3.0\n",
       "3   161648         161631            71        0.99       1.0\n",
       "4   161648       72909799            68        0.94       2.0"
      ]
     },
     "execution_count": 408,
     "metadata": {},
     "output_type": "execute_result"
    }
   ],
   "source": [
    "ZviRec.head()"
   ]
  },
  {
   "cell_type": "code",
   "execution_count": 409,
   "metadata": {},
   "outputs": [
    {
     "data": {
      "text/plain": [
       "(1283, 5)"
      ]
     },
     "execution_count": 409,
     "metadata": {},
     "output_type": "execute_result"
    }
   ],
   "source": [
    "ZviRec.shape"
   ]
  },
  {
   "cell_type": "code",
   "execution_count": 410,
   "metadata": {},
   "outputs": [],
   "source": [
    "ZviRec.rename(columns={'Product':'ParentProductNumber',\n",
    "                      'ProductSubs':'ParentProductNumberSubs',\n",
    "                       'AvgCorrect':'prdictProbaMean'\n",
    "                      },inplace=True)"
   ]
  },
  {
   "cell_type": "markdown",
   "metadata": {},
   "source": [
    "### is best of recomeneation in top 2 actual"
   ]
  },
  {
   "cell_type": "code",
   "execution_count": 417,
   "metadata": {
    "scrolled": false
   },
   "outputs": [
    {
     "data": {
      "text/html": [
       "<div>\n",
       "<style scoped>\n",
       "    .dataframe tbody tr th:only-of-type {\n",
       "        vertical-align: middle;\n",
       "    }\n",
       "\n",
       "    .dataframe tbody tr th {\n",
       "        vertical-align: top;\n",
       "    }\n",
       "\n",
       "    .dataframe thead th {\n",
       "        text-align: right;\n",
       "    }\n",
       "</style>\n",
       "<table border=\"1\" class=\"dataframe\">\n",
       "  <thead>\n",
       "    <tr style=\"text-align: right;\">\n",
       "      <th></th>\n",
       "      <th>ParentProductNumber</th>\n",
       "      <th>ParentProductNumberSubs</th>\n",
       "      <th>AvgApproval</th>\n",
       "      <th>StdApproval</th>\n",
       "      <th>cntRows</th>\n",
       "    </tr>\n",
       "  </thead>\n",
       "  <tbody>\n",
       "    <tr>\n",
       "      <th>12</th>\n",
       "      <td>161631</td>\n",
       "      <td>7290112497918</td>\n",
       "      <td>0.92</td>\n",
       "      <td>0.28</td>\n",
       "      <td>24</td>\n",
       "    </tr>\n",
       "    <tr>\n",
       "      <th>0</th>\n",
       "      <td>161631</td>\n",
       "      <td>161648</td>\n",
       "      <td>0.91</td>\n",
       "      <td>0.29</td>\n",
       "      <td>45</td>\n",
       "    </tr>\n",
       "    <tr>\n",
       "      <th>16</th>\n",
       "      <td>161648</td>\n",
       "      <td>72909799</td>\n",
       "      <td>0.94</td>\n",
       "      <td>0.24</td>\n",
       "      <td>68</td>\n",
       "    </tr>\n",
       "  </tbody>\n",
       "</table>\n",
       "</div>"
      ],
      "text/plain": [
       "    ParentProductNumber  ParentProductNumberSubs  AvgApproval  StdApproval  \\\n",
       "12               161631            7290112497918         0.92         0.28   \n",
       "0                161631                   161648         0.91         0.29   \n",
       "16               161648                 72909799         0.94         0.24   \n",
       "\n",
       "    cntRows  \n",
       "12       24  \n",
       "0        45  \n",
       "16       68  "
      ]
     },
     "metadata": {},
     "output_type": "display_data"
    },
    {
     "name": "stdout",
     "output_type": "stream",
     "text": [
      "Zvi rec\n"
     ]
    },
    {
     "data": {
      "text/html": [
       "<div>\n",
       "<style scoped>\n",
       "    .dataframe tbody tr th:only-of-type {\n",
       "        vertical-align: middle;\n",
       "    }\n",
       "\n",
       "    .dataframe tbody tr th {\n",
       "        vertical-align: top;\n",
       "    }\n",
       "\n",
       "    .dataframe thead th {\n",
       "        text-align: right;\n",
       "    }\n",
       "</style>\n",
       "<table border=\"1\" class=\"dataframe\">\n",
       "  <thead>\n",
       "    <tr style=\"text-align: right;\">\n",
       "      <th></th>\n",
       "      <th>ParentProductNumber</th>\n",
       "      <th>countSubs</th>\n",
       "      <th>countRowsMainPrd</th>\n",
       "    </tr>\n",
       "  </thead>\n",
       "  <tbody>\n",
       "    <tr>\n",
       "      <th>0</th>\n",
       "      <td>161631</td>\n",
       "      <td>1</td>\n",
       "      <td>2</td>\n",
       "    </tr>\n",
       "  </tbody>\n",
       "</table>\n",
       "</div>"
      ],
      "text/plain": [
       "   ParentProductNumber  countSubs  countRowsMainPrd\n",
       "0               161631          1                 2"
      ]
     },
     "metadata": {},
     "output_type": "display_data"
    },
    {
     "name": "stdout",
     "output_type": "stream",
     "text": [
      "121\n",
      "384\n",
      "76%\n"
     ]
    }
   ],
   "source": [
    "precKPredictInNActual(1,2,1)"
   ]
  },
  {
   "cell_type": "markdown",
   "metadata": {},
   "source": [
    "### is 2 best of recomeneation in top 3 actual"
   ]
  },
  {
   "cell_type": "code",
   "execution_count": 415,
   "metadata": {},
   "outputs": [
    {
     "data": {
      "text/html": [
       "<div>\n",
       "<style scoped>\n",
       "    .dataframe tbody tr th:only-of-type {\n",
       "        vertical-align: middle;\n",
       "    }\n",
       "\n",
       "    .dataframe tbody tr th {\n",
       "        vertical-align: top;\n",
       "    }\n",
       "\n",
       "    .dataframe thead th {\n",
       "        text-align: right;\n",
       "    }\n",
       "</style>\n",
       "<table border=\"1\" class=\"dataframe\">\n",
       "  <thead>\n",
       "    <tr style=\"text-align: right;\">\n",
       "      <th></th>\n",
       "      <th>ParentProductNumber</th>\n",
       "      <th>ParentProductNumberSubs</th>\n",
       "      <th>AvgApproval</th>\n",
       "      <th>StdApproval</th>\n",
       "      <th>cntRows</th>\n",
       "    </tr>\n",
       "  </thead>\n",
       "  <tbody>\n",
       "    <tr>\n",
       "      <th>12</th>\n",
       "      <td>161631</td>\n",
       "      <td>7290112497918</td>\n",
       "      <td>0.92</td>\n",
       "      <td>0.28</td>\n",
       "      <td>24</td>\n",
       "    </tr>\n",
       "    <tr>\n",
       "      <th>0</th>\n",
       "      <td>161631</td>\n",
       "      <td>161648</td>\n",
       "      <td>0.91</td>\n",
       "      <td>0.29</td>\n",
       "      <td>45</td>\n",
       "    </tr>\n",
       "    <tr>\n",
       "      <th>1</th>\n",
       "      <td>161631</td>\n",
       "      <td>72909799</td>\n",
       "      <td>0.88</td>\n",
       "      <td>0.32</td>\n",
       "      <td>86</td>\n",
       "    </tr>\n",
       "  </tbody>\n",
       "</table>\n",
       "</div>"
      ],
      "text/plain": [
       "    ParentProductNumber  ParentProductNumberSubs  AvgApproval  StdApproval  \\\n",
       "12               161631            7290112497918         0.92         0.28   \n",
       "0                161631                   161648         0.91         0.29   \n",
       "1                161631                 72909799         0.88         0.32   \n",
       "\n",
       "    cntRows  \n",
       "12       24  \n",
       "0        45  \n",
       "1        86  "
      ]
     },
     "metadata": {},
     "output_type": "display_data"
    },
    {
     "name": "stdout",
     "output_type": "stream",
     "text": [
      "Zvi rec\n"
     ]
    },
    {
     "data": {
      "text/html": [
       "<div>\n",
       "<style scoped>\n",
       "    .dataframe tbody tr th:only-of-type {\n",
       "        vertical-align: middle;\n",
       "    }\n",
       "\n",
       "    .dataframe tbody tr th {\n",
       "        vertical-align: top;\n",
       "    }\n",
       "\n",
       "    .dataframe thead th {\n",
       "        text-align: right;\n",
       "    }\n",
       "</style>\n",
       "<table border=\"1\" class=\"dataframe\">\n",
       "  <thead>\n",
       "    <tr style=\"text-align: right;\">\n",
       "      <th></th>\n",
       "      <th>ParentProductNumber</th>\n",
       "      <th>countSubs</th>\n",
       "      <th>countRowsMainPrd</th>\n",
       "    </tr>\n",
       "  </thead>\n",
       "  <tbody>\n",
       "    <tr>\n",
       "      <th>0</th>\n",
       "      <td>161631</td>\n",
       "      <td>2</td>\n",
       "      <td>3</td>\n",
       "    </tr>\n",
       "  </tbody>\n",
       "</table>\n",
       "</div>"
      ],
      "text/plain": [
       "   ParentProductNumber  countSubs  countRowsMainPrd\n",
       "0               161631          2                 3"
      ]
     },
     "metadata": {},
     "output_type": "display_data"
    },
    {
     "name": "stdout",
     "output_type": "stream",
     "text": [
      "125\n",
      "380\n",
      "75%\n"
     ]
    }
   ],
   "source": [
    "precKPredictInNActual(2,3,1)"
   ]
  }
 ],
 "metadata": {
  "kernelspec": {
   "display_name": "Python 3",
   "language": "python",
   "name": "python3"
  },
  "language_info": {
   "codemirror_mode": {
    "name": "ipython",
    "version": 3
   },
   "file_extension": ".py",
   "mimetype": "text/x-python",
   "name": "python",
   "nbconvert_exporter": "python",
   "pygments_lexer": "ipython3",
   "version": "3.6.4"
  },
  "toc": {
   "base_numbering": 1,
   "nav_menu": {},
   "number_sections": true,
   "sideBar": true,
   "skip_h1_title": false,
   "title_cell": "Table of Contents",
   "title_sidebar": "Contents",
   "toc_cell": true,
   "toc_position": {},
   "toc_section_display": true,
   "toc_window_display": true
  },
  "varInspector": {
   "cols": {
    "lenName": 16,
    "lenType": 16,
    "lenVar": 40
   },
   "kernels_config": {
    "python": {
     "delete_cmd_postfix": "",
     "delete_cmd_prefix": "del ",
     "library": "var_list.py",
     "varRefreshCmd": "print(var_dic_list())"
    },
    "r": {
     "delete_cmd_postfix": ") ",
     "delete_cmd_prefix": "rm(",
     "library": "var_list.r",
     "varRefreshCmd": "cat(var_dic_list()) "
    }
   },
   "types_to_exclude": [
    "module",
    "function",
    "builtin_function_or_method",
    "instance",
    "_Feature"
   ],
   "window_display": false
  }
 },
 "nbformat": 4,
 "nbformat_minor": 2
}
