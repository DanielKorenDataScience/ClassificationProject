{
  "nbformat": 4,
  "nbformat_minor": 0,
  "metadata": {
    "colab": {
      "name": "Shufersal_predict.ipynb",
      "provenance": [],
      "collapsed_sections": [
        "bNnieSsiHr4A",
        "4wii-OJ3actf",
        "7F_RegNtdIXn",
        "d_VBfeuUhKST",
        "l-Vbit-Z_sWW",
        "cIEYB-tFOhTb",
        "RBQIPpoUev6b",
        "W6tvvVZVRJz4",
        "Uos9bzosB7dU",
        "_e8SpyWLhzKl"
      ],
      "toc_visible": true,
      "include_colab_link": true
    },
    "kernelspec": {
      "name": "python3",
      "display_name": "Python 3"
    },
    "language_info": {
      "name": "python"
    }
  },
  "cells": [
    {
      "cell_type": "markdown",
      "metadata": {
        "id": "view-in-github",
        "colab_type": "text"
      },
      "source": [
        "<a href=\"https://colab.research.google.com/github/DanielKorenDataScience/ClassificationProject/blob/main/Shufersal_predict.ipynb\" target=\"_parent\"><img src=\"https://colab.research.google.com/assets/colab-badge.svg\" alt=\"Open In Colab\"/></a>"
      ]
    },
    {
      "cell_type": "markdown",
      "metadata": {
        "id": "AsgFwVtRbySD"
      },
      "source": [
        "Classification Project - SWEETS predict\n",
        "\n",
        "\n",
        "for Shufersal on-line orders, for replacing of missing products, will predict the replacement success!"
      ]
    },
    {
      "cell_type": "code",
      "metadata": {
        "id": "yGba9FH7bxTM"
      },
      "source": [
        "import requests\n",
        "import pandas as pd\n",
        "import matplotlib.pyplot as plt\n",
        "import numpy as np\n",
        "\n",
        "from IPython.display import display\n",
        "p = print\n",
        "d = display"
      ],
      "execution_count": 77,
      "outputs": []
    },
    {
      "cell_type": "markdown",
      "metadata": {
        "id": "K5fip8cGHkql"
      },
      "source": [
        "# Get Data"
      ]
    },
    {
      "cell_type": "markdown",
      "metadata": {
        "id": "KWnIiiXgmFyP"
      },
      "source": [
        "## Raw Data"
      ]
    },
    {
      "cell_type": "code",
      "metadata": {
        "id": "UvzC3e_IDvSd"
      },
      "source": [
        "id = ''  # name of result file\n",
        "prefix = 'Shufersal'\n",
        "\n",
        "RAW = True\n",
        "DIFF = True"
      ],
      "execution_count": 78,
      "outputs": []
    },
    {
      "cell_type": "code",
      "metadata": {
        "id": "Sp4iGxceSita"
      },
      "source": [
        "def get_raw(fname, subdir=''):\n",
        "  data_url = 'https://raw.githubusercontent.com/DanielKorenDataScience/ClassificationProject/main/' + subdir + fname\n",
        "  resp = requests.get(data_url)\n",
        "  text = resp.text\n",
        "  \n",
        "  if len(text) > 100:\n",
        "    with open(fname, 'w') as fh:\n",
        "      fh.write(text)"
      ],
      "execution_count": 79,
      "outputs": []
    },
    {
      "cell_type": "code",
      "metadata": {
        "id": "a4g1hSQGEQcR"
      },
      "source": [
        "def diff_list(li1, li2):\n",
        "  p(len(li1), len(li1))\n",
        "  return [i for i in li1 + li2 if i not in li1 or i not in li2]"
      ],
      "execution_count": 80,
      "outputs": []
    },
    {
      "cell_type": "code",
      "metadata": {
        "id": "QB89QjniPOg_",
        "outputId": "423d8a4d-9325-4705-c418-0570c115d3f0",
        "colab": {
          "base_uri": "https://localhost:8080/",
          "height": 146
        }
      },
      "source": [
        "df1 = pd.read_csv('/content/drive/MyDrive/Sweets_ver2.csv', encoding='ISO-8859-8', nrows=1)\n",
        "df1"
      ],
      "execution_count": 81,
      "outputs": [
        {
          "output_type": "execute_result",
          "data": {
            "text/html": [
              "<div>\n",
              "<style scoped>\n",
              "    .dataframe tbody tr th:only-of-type {\n",
              "        vertical-align: middle;\n",
              "    }\n",
              "\n",
              "    .dataframe tbody tr th {\n",
              "        vertical-align: top;\n",
              "    }\n",
              "\n",
              "    .dataframe thead th {\n",
              "        text-align: right;\n",
              "    }\n",
              "</style>\n",
              "<table border=\"1\" class=\"dataframe\">\n",
              "  <thead>\n",
              "    <tr style=\"text-align: right;\">\n",
              "      <th></th>\n",
              "      <th>OrderNumbert</th>\n",
              "      <th>HouseHoldID</th>\n",
              "      <th>LocationCityName</th>\n",
              "      <th>QuarterNumber</th>\n",
              "      <th>MonthNumber</th>\n",
              "      <th>WeekNumber</th>\n",
              "      <th>DayNumberInWeek</th>\n",
              "      <th>PeriodHoliday</th>\n",
              "      <th>TransactionDate</th>\n",
              "      <th>DepartmentCode</th>\n",
              "      <th>DepartmentName</th>\n",
              "      <th>CategoryCode</th>\n",
              "      <th>CategoryName</th>\n",
              "      <th>GroupCode</th>\n",
              "      <th>GroupName</th>\n",
              "      <th>SubGroupCode</th>\n",
              "      <th>SubGroupName</th>\n",
              "      <th>CompoundID</th>\n",
              "      <th>CompoundIDDesc</th>\n",
              "      <th>ParentProductNumber</th>\n",
              "      <th>ProductDescription</th>\n",
              "      <th>BrandIndDesc</th>\n",
              "      <th>BrandName</th>\n",
              "      <th>VendorNumber</th>\n",
              "      <th>VendorName</th>\n",
              "      <th>UnitOfMeasure</th>\n",
              "      <th>ItemsPerPackageWH</th>\n",
              "      <th>DescriptionTavit</th>\n",
              "      <th>Price</th>\n",
              "      <th>Quantity</th>\n",
              "      <th>cntPrdAll</th>\n",
              "      <th>NetSaleAmountAll</th>\n",
              "      <th>NetSaleNoVatPrdLast3Months</th>\n",
              "      <th>QuantSale</th>\n",
              "      <th>cntMonths</th>\n",
              "      <th>DiscountPerUnit</th>\n",
              "      <th>isPromo</th>\n",
              "      <th>Energy</th>\n",
              "      <th>Pachmema</th>\n",
              "      <th>Natran</th>\n",
              "      <th>...</th>\n",
              "      <th>ShumanRavuy</th>\n",
              "      <th>ShumanTrans</th>\n",
              "      <th>Colastrol</th>\n",
              "      <th>SivimTzunatim</th>\n",
              "      <th>CafiotSucar</th>\n",
              "      <th>DepartmentCodeSubs</th>\n",
              "      <th>DepartmentNameSusb</th>\n",
              "      <th>CategoryCodeSubs</th>\n",
              "      <th>CategoryNameSubs</th>\n",
              "      <th>GroupCodeSubs</th>\n",
              "      <th>GroupNameSubs</th>\n",
              "      <th>SubGroupCodeSubs</th>\n",
              "      <th>SubGroupNameSubs</th>\n",
              "      <th>CompoundIDSubs</th>\n",
              "      <th>CompoundIDDescSubs</th>\n",
              "      <th>ProductNumberSubs</th>\n",
              "      <th>ProductDescriptionSubs</th>\n",
              "      <th>BrandIndDescSuss</th>\n",
              "      <th>BrandNameSubs</th>\n",
              "      <th>VendorNumberSubs</th>\n",
              "      <th>VendorNameSubs</th>\n",
              "      <th>UnitOfMeasureSubs</th>\n",
              "      <th>ItemsPerPackageWHSubs</th>\n",
              "      <th>DescriptionTavitSubs</th>\n",
              "      <th>PriceSubs</th>\n",
              "      <th>NetSaleNoVatPrdSubs</th>\n",
              "      <th>QuantSaleSubs</th>\n",
              "      <th>cntMonthsSubs</th>\n",
              "      <th>DiscountPerUnitSubs</th>\n",
              "      <th>EnergySubs</th>\n",
              "      <th>PachmemaSubs</th>\n",
              "      <th>NatranSubs</th>\n",
              "      <th>HelbonSubs</th>\n",
              "      <th>ShumanSubs</th>\n",
              "      <th>ShumanRavuySubs</th>\n",
              "      <th>ShumanTransSubs</th>\n",
              "      <th>ColastrolSubs</th>\n",
              "      <th>SivimTzunatimSubs</th>\n",
              "      <th>CafiotSucarSusb</th>\n",
              "      <th>CorrelateItemStatusCode</th>\n",
              "    </tr>\n",
              "  </thead>\n",
              "  <tbody>\n",
              "    <tr>\n",
              "      <th>0</th>\n",
              "      <td>40052</td>\n",
              "      <td>1</td>\n",
              "      <td>ראשון לציון</td>\n",
              "      <td>202101</td>\n",
              "      <td>202102</td>\n",
              "      <td>202108</td>\n",
              "      <td>1</td>\n",
              "      <td>NotHoliday</td>\n",
              "      <td>2021-02-21</td>\n",
              "      <td>10</td>\n",
              "      <td>10-מזון יבש</td>\n",
              "      <td>6</td>\n",
              "      <td>מתוקים</td>\n",
              "      <td>700</td>\n",
              "      <td>חטיפים מתוקים</td>\n",
              "      <td>3</td>\n",
              "      <td>שקיות גדולות/קטנות</td>\n",
              "      <td>-8000500249352</td>\n",
              "      <td>205קינדר בואנו מיני מיקס</td>\n",
              "      <td>8000500249352</td>\n",
              "      <td>205קינדר בואנו מיני מיקס</td>\n",
              "      <td>קינדר</td>\n",
              "      <td>לא מותג פרטי</td>\n",
              "      <td>914547</td>\n",
              "      <td>פרימיום-חברה לדברי מתיקה</td>\n",
              "      <td>0.205</td>\n",
              "      <td>15</td>\n",
              "      <td>205 גרם</td>\n",
              "      <td>18.9</td>\n",
              "      <td>4</td>\n",
              "      <td>22</td>\n",
              "      <td>800.63</td>\n",
              "      <td>57747.16</td>\n",
              "      <td>0.8</td>\n",
              "      <td>16</td>\n",
              "      <td>NaN</td>\n",
              "      <td>noPromo</td>\n",
              "      <td>568</td>\n",
              "      <td>49.5</td>\n",
              "      <td>107</td>\n",
              "      <td>...</td>\n",
              "      <td>17.3</td>\n",
              "      <td>0.5</td>\n",
              "      <td>15</td>\n",
              "      <td>NaN</td>\n",
              "      <td>NaN</td>\n",
              "      <td>10</td>\n",
              "      <td>10-מזון יבש</td>\n",
              "      <td>6</td>\n",
              "      <td>מתוקים</td>\n",
              "      <td>700</td>\n",
              "      <td>חטיפים מתוקים</td>\n",
              "      <td>6</td>\n",
              "      <td>חטיפי ילדים</td>\n",
              "      <td>-8000500217740</td>\n",
              "      <td>קינדר בואנו מיני 86 גרם</td>\n",
              "      <td>8000500217740</td>\n",
              "      <td>קינדר בואנו מיני 86 גרם</td>\n",
              "      <td>קינדר</td>\n",
              "      <td>לא מותג פרטי</td>\n",
              "      <td>914547</td>\n",
              "      <td>פרימיום-חברה לדברי מתיקה</td>\n",
              "      <td>0.086</td>\n",
              "      <td>12</td>\n",
              "      <td>86 גרם</td>\n",
              "      <td>9.9</td>\n",
              "      <td>46128.25</td>\n",
              "      <td>0.8</td>\n",
              "      <td>13</td>\n",
              "      <td>NaN</td>\n",
              "      <td>NaN</td>\n",
              "      <td>NaN</td>\n",
              "      <td>NaN</td>\n",
              "      <td>NaN</td>\n",
              "      <td>NaN</td>\n",
              "      <td>NaN</td>\n",
              "      <td>NaN</td>\n",
              "      <td>NaN</td>\n",
              "      <td>NaN</td>\n",
              "      <td>NaN</td>\n",
              "      <td>1</td>\n",
              "    </tr>\n",
              "  </tbody>\n",
              "</table>\n",
              "<p>1 rows × 82 columns</p>\n",
              "</div>"
            ],
            "text/plain": [
              "   OrderNumbert  HouseHoldID  ... CafiotSucarSusb  CorrelateItemStatusCode\n",
              "0         40052            1  ...             NaN                        1\n",
              "\n",
              "[1 rows x 82 columns]"
            ]
          },
          "metadata": {
            "tags": []
          },
          "execution_count": 81
        }
      ]
    },
    {
      "cell_type": "code",
      "metadata": {
        "id": "VoP0C8qFhCkD",
        "colab": {
          "base_uri": "https://localhost:8080/",
          "height": 146
        },
        "outputId": "1332c130-b375-4fc8-a679-88db544091a5"
      },
      "source": [
        "if RAW:\n",
        "  fname = 'Sweets_ver2.csv'\n",
        "  get_raw(fname, 'Old/')    \n",
        "  df1 = pd.read_csv('/content/drive/MyDrive/Sweets_ver2.csv', encoding='ISO-8859-8', nrows=1)\n",
        "  df2 = pd.read_csv('/content/drive/MyDrive/Sweets_ver2.csv', encoding='ISO-8859-8', usecols=[i for i in range(82) if not i in[0,8,10,12,14,16,18,20,24,26,27,48,50,52,54,56,58,62,64,65]])\n",
        "  d(df1)"
      ],
      "execution_count": 82,
      "outputs": [
        {
          "output_type": "display_data",
          "data": {
            "text/html": [
              "<div>\n",
              "<style scoped>\n",
              "    .dataframe tbody tr th:only-of-type {\n",
              "        vertical-align: middle;\n",
              "    }\n",
              "\n",
              "    .dataframe tbody tr th {\n",
              "        vertical-align: top;\n",
              "    }\n",
              "\n",
              "    .dataframe thead th {\n",
              "        text-align: right;\n",
              "    }\n",
              "</style>\n",
              "<table border=\"1\" class=\"dataframe\">\n",
              "  <thead>\n",
              "    <tr style=\"text-align: right;\">\n",
              "      <th></th>\n",
              "      <th>OrderNumbert</th>\n",
              "      <th>HouseHoldID</th>\n",
              "      <th>LocationCityName</th>\n",
              "      <th>QuarterNumber</th>\n",
              "      <th>MonthNumber</th>\n",
              "      <th>WeekNumber</th>\n",
              "      <th>DayNumberInWeek</th>\n",
              "      <th>PeriodHoliday</th>\n",
              "      <th>TransactionDate</th>\n",
              "      <th>DepartmentCode</th>\n",
              "      <th>DepartmentName</th>\n",
              "      <th>CategoryCode</th>\n",
              "      <th>CategoryName</th>\n",
              "      <th>GroupCode</th>\n",
              "      <th>GroupName</th>\n",
              "      <th>SubGroupCode</th>\n",
              "      <th>SubGroupName</th>\n",
              "      <th>CompoundID</th>\n",
              "      <th>CompoundIDDesc</th>\n",
              "      <th>ParentProductNumber</th>\n",
              "      <th>ProductDescription</th>\n",
              "      <th>BrandIndDesc</th>\n",
              "      <th>BrandName</th>\n",
              "      <th>VendorNumber</th>\n",
              "      <th>VendorName</th>\n",
              "      <th>UnitOfMeasure</th>\n",
              "      <th>ItemsPerPackageWH</th>\n",
              "      <th>DescriptionTavit</th>\n",
              "      <th>Price</th>\n",
              "      <th>Quantity</th>\n",
              "      <th>cntPrdAll</th>\n",
              "      <th>NetSaleAmountAll</th>\n",
              "      <th>NetSaleNoVatPrdLast3Months</th>\n",
              "      <th>QuantSale</th>\n",
              "      <th>cntMonths</th>\n",
              "      <th>DiscountPerUnit</th>\n",
              "      <th>isPromo</th>\n",
              "      <th>Energy</th>\n",
              "      <th>Pachmema</th>\n",
              "      <th>Natran</th>\n",
              "      <th>...</th>\n",
              "      <th>ShumanRavuy</th>\n",
              "      <th>ShumanTrans</th>\n",
              "      <th>Colastrol</th>\n",
              "      <th>SivimTzunatim</th>\n",
              "      <th>CafiotSucar</th>\n",
              "      <th>DepartmentCodeSubs</th>\n",
              "      <th>DepartmentNameSusb</th>\n",
              "      <th>CategoryCodeSubs</th>\n",
              "      <th>CategoryNameSubs</th>\n",
              "      <th>GroupCodeSubs</th>\n",
              "      <th>GroupNameSubs</th>\n",
              "      <th>SubGroupCodeSubs</th>\n",
              "      <th>SubGroupNameSubs</th>\n",
              "      <th>CompoundIDSubs</th>\n",
              "      <th>CompoundIDDescSubs</th>\n",
              "      <th>ProductNumberSubs</th>\n",
              "      <th>ProductDescriptionSubs</th>\n",
              "      <th>BrandIndDescSuss</th>\n",
              "      <th>BrandNameSubs</th>\n",
              "      <th>VendorNumberSubs</th>\n",
              "      <th>VendorNameSubs</th>\n",
              "      <th>UnitOfMeasureSubs</th>\n",
              "      <th>ItemsPerPackageWHSubs</th>\n",
              "      <th>DescriptionTavitSubs</th>\n",
              "      <th>PriceSubs</th>\n",
              "      <th>NetSaleNoVatPrdSubs</th>\n",
              "      <th>QuantSaleSubs</th>\n",
              "      <th>cntMonthsSubs</th>\n",
              "      <th>DiscountPerUnitSubs</th>\n",
              "      <th>EnergySubs</th>\n",
              "      <th>PachmemaSubs</th>\n",
              "      <th>NatranSubs</th>\n",
              "      <th>HelbonSubs</th>\n",
              "      <th>ShumanSubs</th>\n",
              "      <th>ShumanRavuySubs</th>\n",
              "      <th>ShumanTransSubs</th>\n",
              "      <th>ColastrolSubs</th>\n",
              "      <th>SivimTzunatimSubs</th>\n",
              "      <th>CafiotSucarSusb</th>\n",
              "      <th>CorrelateItemStatusCode</th>\n",
              "    </tr>\n",
              "  </thead>\n",
              "  <tbody>\n",
              "    <tr>\n",
              "      <th>0</th>\n",
              "      <td>40052</td>\n",
              "      <td>1</td>\n",
              "      <td>ראשון לציון</td>\n",
              "      <td>202101</td>\n",
              "      <td>202102</td>\n",
              "      <td>202108</td>\n",
              "      <td>1</td>\n",
              "      <td>NotHoliday</td>\n",
              "      <td>2021-02-21</td>\n",
              "      <td>10</td>\n",
              "      <td>10-מזון יבש</td>\n",
              "      <td>6</td>\n",
              "      <td>מתוקים</td>\n",
              "      <td>700</td>\n",
              "      <td>חטיפים מתוקים</td>\n",
              "      <td>3</td>\n",
              "      <td>שקיות גדולות/קטנות</td>\n",
              "      <td>-8000500249352</td>\n",
              "      <td>205קינדר בואנו מיני מיקס</td>\n",
              "      <td>8000500249352</td>\n",
              "      <td>205קינדר בואנו מיני מיקס</td>\n",
              "      <td>קינדר</td>\n",
              "      <td>לא מותג פרטי</td>\n",
              "      <td>914547</td>\n",
              "      <td>פרימיום-חברה לדברי מתיקה</td>\n",
              "      <td>0.205</td>\n",
              "      <td>15</td>\n",
              "      <td>205 גרם</td>\n",
              "      <td>18.9</td>\n",
              "      <td>4</td>\n",
              "      <td>22</td>\n",
              "      <td>800.63</td>\n",
              "      <td>57747.16</td>\n",
              "      <td>0.8</td>\n",
              "      <td>16</td>\n",
              "      <td>NaN</td>\n",
              "      <td>noPromo</td>\n",
              "      <td>568</td>\n",
              "      <td>49.5</td>\n",
              "      <td>107</td>\n",
              "      <td>...</td>\n",
              "      <td>17.3</td>\n",
              "      <td>0.5</td>\n",
              "      <td>15</td>\n",
              "      <td>NaN</td>\n",
              "      <td>NaN</td>\n",
              "      <td>10</td>\n",
              "      <td>10-מזון יבש</td>\n",
              "      <td>6</td>\n",
              "      <td>מתוקים</td>\n",
              "      <td>700</td>\n",
              "      <td>חטיפים מתוקים</td>\n",
              "      <td>6</td>\n",
              "      <td>חטיפי ילדים</td>\n",
              "      <td>-8000500217740</td>\n",
              "      <td>קינדר בואנו מיני 86 גרם</td>\n",
              "      <td>8000500217740</td>\n",
              "      <td>קינדר בואנו מיני 86 גרם</td>\n",
              "      <td>קינדר</td>\n",
              "      <td>לא מותג פרטי</td>\n",
              "      <td>914547</td>\n",
              "      <td>פרימיום-חברה לדברי מתיקה</td>\n",
              "      <td>0.086</td>\n",
              "      <td>12</td>\n",
              "      <td>86 גרם</td>\n",
              "      <td>9.9</td>\n",
              "      <td>46128.25</td>\n",
              "      <td>0.8</td>\n",
              "      <td>13</td>\n",
              "      <td>NaN</td>\n",
              "      <td>NaN</td>\n",
              "      <td>NaN</td>\n",
              "      <td>NaN</td>\n",
              "      <td>NaN</td>\n",
              "      <td>NaN</td>\n",
              "      <td>NaN</td>\n",
              "      <td>NaN</td>\n",
              "      <td>NaN</td>\n",
              "      <td>NaN</td>\n",
              "      <td>NaN</td>\n",
              "      <td>1</td>\n",
              "    </tr>\n",
              "  </tbody>\n",
              "</table>\n",
              "<p>1 rows × 82 columns</p>\n",
              "</div>"
            ],
            "text/plain": [
              "   OrderNumbert  HouseHoldID  ... CafiotSucarSusb  CorrelateItemStatusCode\n",
              "0         40052            1  ...             NaN                        1\n",
              "\n",
              "[1 rows x 82 columns]"
            ]
          },
          "metadata": {
            "tags": []
          }
        }
      ]
    },
    {
      "cell_type": "markdown",
      "metadata": {
        "id": "YnYOkLt5oySI"
      },
      "source": [
        "Eliminating unwanted columns - mostly descriptive columns"
      ]
    },
    {
      "cell_type": "code",
      "metadata": {
        "id": "zAv5e7lRBzpu",
        "colab": {
          "base_uri": "https://localhost:8080/",
          "height": 374
        },
        "outputId": "414383e2-5c43-4f2c-d5f5-61b3eab7a6af"
      },
      "source": [
        "if RAW:\n",
        "  d(diff_list(list(df1.columns), list(df2.columns)))"
      ],
      "execution_count": 83,
      "outputs": [
        {
          "output_type": "stream",
          "text": [
            "82 82\n"
          ],
          "name": "stdout"
        },
        {
          "output_type": "display_data",
          "data": {
            "text/plain": [
              "['OrderNumbert',\n",
              " 'TransactionDate',\n",
              " 'DepartmentName',\n",
              " 'CategoryName',\n",
              " 'GroupName',\n",
              " 'SubGroupName',\n",
              " 'CompoundIDDesc',\n",
              " 'ProductDescription',\n",
              " 'VendorName',\n",
              " 'ItemsPerPackageWH',\n",
              " 'DescriptionTavit',\n",
              " 'DepartmentNameSusb',\n",
              " 'CategoryNameSubs',\n",
              " 'GroupNameSubs',\n",
              " 'SubGroupNameSubs',\n",
              " 'CompoundIDDescSubs',\n",
              " 'ProductDescriptionSubs',\n",
              " 'VendorNameSubs',\n",
              " 'ItemsPerPackageWHSubs',\n",
              " 'DescriptionTavitSubs']"
            ]
          },
          "metadata": {
            "tags": []
          }
        }
      ]
    },
    {
      "cell_type": "code",
      "metadata": {
        "id": "DNsn5qrnsvYo",
        "colab": {
          "base_uri": "https://localhost:8080/",
          "height": 1000
        },
        "outputId": "f2e55684-04de-487e-c7b0-11c6dbfa3fb0"
      },
      "source": [
        "if RAW:\n",
        "  d(df2.info())"
      ],
      "execution_count": 84,
      "outputs": [
        {
          "output_type": "stream",
          "text": [
            "<class 'pandas.core.frame.DataFrame'>\n",
            "RangeIndex: 54460 entries, 0 to 54459\n",
            "Data columns (total 62 columns):\n",
            " #   Column                      Non-Null Count  Dtype  \n",
            "---  ------                      --------------  -----  \n",
            " 0   HouseHoldID                 54460 non-null  int64  \n",
            " 1   LocationCityName            54460 non-null  object \n",
            " 2   QuarterNumber               54460 non-null  int64  \n",
            " 3   MonthNumber                 54460 non-null  int64  \n",
            " 4   WeekNumber                  54460 non-null  int64  \n",
            " 5   DayNumberInWeek             54460 non-null  int64  \n",
            " 6   PeriodHoliday               54460 non-null  object \n",
            " 7   DepartmentCode              54460 non-null  int64  \n",
            " 8   CategoryCode                54460 non-null  int64  \n",
            " 9   GroupCode                   54460 non-null  int64  \n",
            " 10  SubGroupCode                54460 non-null  int64  \n",
            " 11  CompoundID                  54460 non-null  int64  \n",
            " 12  ParentProductNumber         54460 non-null  int64  \n",
            " 13  BrandIndDesc                54460 non-null  object \n",
            " 14  BrandName                   54460 non-null  object \n",
            " 15  VendorNumber                54460 non-null  int64  \n",
            " 16  UnitOfMeasure               54460 non-null  float64\n",
            " 17  Price                       54460 non-null  float64\n",
            " 18  Quantity                    54460 non-null  int64  \n",
            " 19  cntPrdAll                   54460 non-null  int64  \n",
            " 20  NetSaleAmountAll            54460 non-null  float64\n",
            " 21  NetSaleNoVatPrdLast3Months  54200 non-null  float64\n",
            " 22  QuantSale                   52050 non-null  float64\n",
            " 23  cntMonths                   54460 non-null  int64  \n",
            " 24  DiscountPerUnit             32398 non-null  float64\n",
            " 25  isPromo                     54460 non-null  object \n",
            " 26  Energy                      50118 non-null  float64\n",
            " 27  Pachmema                    49682 non-null  float64\n",
            " 28  Natran                      44899 non-null  float64\n",
            " 29  Helbon                      43120 non-null  float64\n",
            " 30  Shuman                      43054 non-null  float64\n",
            " 31  ShumanRavuy                 42542 non-null  float64\n",
            " 32  ShumanTrans                 42294 non-null  float64\n",
            " 33  Colastrol                   35200 non-null  float64\n",
            " 34  SivimTzunatim               10731 non-null  float64\n",
            " 35  CafiotSucar                 31399 non-null  float64\n",
            " 36  DepartmentCodeSubs          54460 non-null  int64  \n",
            " 37  CategoryCodeSubs            54460 non-null  int64  \n",
            " 38  GroupCodeSubs               54460 non-null  int64  \n",
            " 39  SubGroupCodeSubs            54460 non-null  int64  \n",
            " 40  CompoundIDSubs              54460 non-null  int64  \n",
            " 41  ProductNumberSubs           54460 non-null  int64  \n",
            " 42  BrandIndDescSuss            54456 non-null  object \n",
            " 43  BrandNameSubs               54460 non-null  object \n",
            " 44  VendorNumberSubs            54460 non-null  int64  \n",
            " 45  UnitOfMeasureSubs           54460 non-null  float64\n",
            " 46  PriceSubs                   54460 non-null  float64\n",
            " 47  NetSaleNoVatPrdSubs         54235 non-null  float64\n",
            " 48  QuantSaleSubs               52885 non-null  float64\n",
            " 49  cntMonthsSubs               54460 non-null  int64  \n",
            " 50  DiscountPerUnitSubs         2370 non-null   float64\n",
            " 51  EnergySubs                  49638 non-null  float64\n",
            " 52  PachmemaSubs                49328 non-null  float64\n",
            " 53  NatranSubs                  44680 non-null  float64\n",
            " 54  HelbonSubs                  42730 non-null  float64\n",
            " 55  ShumanSubs                  43250 non-null  float64\n",
            " 56  ShumanRavuySubs             42118 non-null  float64\n",
            " 57  ShumanTransSubs             41819 non-null  float64\n",
            " 58  ColastrolSubs               34865 non-null  float64\n",
            " 59  SivimTzunatimSubs           11973 non-null  float64\n",
            " 60  CafiotSucarSusb             30626 non-null  float64\n",
            " 61  CorrelateItemStatusCode     54460 non-null  int64  \n",
            "dtypes: float64(31), int64(24), object(7)\n",
            "memory usage: 25.8+ MB\n"
          ],
          "name": "stdout"
        },
        {
          "output_type": "display_data",
          "data": {
            "text/plain": [
              "None"
            ]
          },
          "metadata": {
            "tags": []
          }
        }
      ]
    },
    {
      "cell_type": "code",
      "metadata": {
        "id": "g8MX6rBCuirA"
      },
      "source": [
        "# Fix Typo mistake\n",
        "if RAW: \n",
        "  df2.rename(columns={'OrderNumbert': 'OrderNumber','BrandIndDescSuss': 'BrandIndDescSubs', 'ProductNumberSubs': 'ParentProductNumberSubs', \n",
        "                    'NetSaleNoVatPrdSubs': 'NetSaleNoVatPrdLast3MonthsSubs', 'CafiotSucarSusb': 'CafiotSucarSubs'}, inplace=True)"
      ],
      "execution_count": 85,
      "outputs": []
    },
    {
      "cell_type": "markdown",
      "metadata": {
        "id": "HmIVwYFDCAX8"
      },
      "source": [
        "Eliminating nulls"
      ]
    },
    {
      "cell_type": "code",
      "metadata": {
        "id": "UQCtiUn0u2i0",
        "colab": {
          "base_uri": "https://localhost:8080/",
          "height": 1000
        },
        "outputId": "9e0f78e1-07b4-4d4e-96fb-684abfcaf392"
      },
      "source": [
        "# Fill na\n",
        "if RAW:\n",
        "  df2.fillna({'QuantSale': 1, 'QuantSaleSubs': 1}, inplace=True)\n",
        "  df2.fillna(0, inplace=True)\n",
        "  d(df2.info())"
      ],
      "execution_count": 86,
      "outputs": [
        {
          "output_type": "stream",
          "text": [
            "<class 'pandas.core.frame.DataFrame'>\n",
            "RangeIndex: 54460 entries, 0 to 54459\n",
            "Data columns (total 62 columns):\n",
            " #   Column                          Non-Null Count  Dtype  \n",
            "---  ------                          --------------  -----  \n",
            " 0   HouseHoldID                     54460 non-null  int64  \n",
            " 1   LocationCityName                54460 non-null  object \n",
            " 2   QuarterNumber                   54460 non-null  int64  \n",
            " 3   MonthNumber                     54460 non-null  int64  \n",
            " 4   WeekNumber                      54460 non-null  int64  \n",
            " 5   DayNumberInWeek                 54460 non-null  int64  \n",
            " 6   PeriodHoliday                   54460 non-null  object \n",
            " 7   DepartmentCode                  54460 non-null  int64  \n",
            " 8   CategoryCode                    54460 non-null  int64  \n",
            " 9   GroupCode                       54460 non-null  int64  \n",
            " 10  SubGroupCode                    54460 non-null  int64  \n",
            " 11  CompoundID                      54460 non-null  int64  \n",
            " 12  ParentProductNumber             54460 non-null  int64  \n",
            " 13  BrandIndDesc                    54460 non-null  object \n",
            " 14  BrandName                       54460 non-null  object \n",
            " 15  VendorNumber                    54460 non-null  int64  \n",
            " 16  UnitOfMeasure                   54460 non-null  float64\n",
            " 17  Price                           54460 non-null  float64\n",
            " 18  Quantity                        54460 non-null  int64  \n",
            " 19  cntPrdAll                       54460 non-null  int64  \n",
            " 20  NetSaleAmountAll                54460 non-null  float64\n",
            " 21  NetSaleNoVatPrdLast3Months      54460 non-null  float64\n",
            " 22  QuantSale                       54460 non-null  float64\n",
            " 23  cntMonths                       54460 non-null  int64  \n",
            " 24  DiscountPerUnit                 54460 non-null  float64\n",
            " 25  isPromo                         54460 non-null  object \n",
            " 26  Energy                          54460 non-null  float64\n",
            " 27  Pachmema                        54460 non-null  float64\n",
            " 28  Natran                          54460 non-null  float64\n",
            " 29  Helbon                          54460 non-null  float64\n",
            " 30  Shuman                          54460 non-null  float64\n",
            " 31  ShumanRavuy                     54460 non-null  float64\n",
            " 32  ShumanTrans                     54460 non-null  float64\n",
            " 33  Colastrol                       54460 non-null  float64\n",
            " 34  SivimTzunatim                   54460 non-null  float64\n",
            " 35  CafiotSucar                     54460 non-null  float64\n",
            " 36  DepartmentCodeSubs              54460 non-null  int64  \n",
            " 37  CategoryCodeSubs                54460 non-null  int64  \n",
            " 38  GroupCodeSubs                   54460 non-null  int64  \n",
            " 39  SubGroupCodeSubs                54460 non-null  int64  \n",
            " 40  CompoundIDSubs                  54460 non-null  int64  \n",
            " 41  ParentProductNumberSubs         54460 non-null  int64  \n",
            " 42  BrandIndDescSubs                54460 non-null  object \n",
            " 43  BrandNameSubs                   54460 non-null  object \n",
            " 44  VendorNumberSubs                54460 non-null  int64  \n",
            " 45  UnitOfMeasureSubs               54460 non-null  float64\n",
            " 46  PriceSubs                       54460 non-null  float64\n",
            " 47  NetSaleNoVatPrdLast3MonthsSubs  54460 non-null  float64\n",
            " 48  QuantSaleSubs                   54460 non-null  float64\n",
            " 49  cntMonthsSubs                   54460 non-null  int64  \n",
            " 50  DiscountPerUnitSubs             54460 non-null  float64\n",
            " 51  EnergySubs                      54460 non-null  float64\n",
            " 52  PachmemaSubs                    54460 non-null  float64\n",
            " 53  NatranSubs                      54460 non-null  float64\n",
            " 54  HelbonSubs                      54460 non-null  float64\n",
            " 55  ShumanSubs                      54460 non-null  float64\n",
            " 56  ShumanRavuySubs                 54460 non-null  float64\n",
            " 57  ShumanTransSubs                 54460 non-null  float64\n",
            " 58  ColastrolSubs                   54460 non-null  float64\n",
            " 59  SivimTzunatimSubs               54460 non-null  float64\n",
            " 60  CafiotSucarSubs                 54460 non-null  float64\n",
            " 61  CorrelateItemStatusCode         54460 non-null  int64  \n",
            "dtypes: float64(31), int64(24), object(7)\n",
            "memory usage: 25.8+ MB\n"
          ],
          "name": "stdout"
        },
        {
          "output_type": "display_data",
          "data": {
            "text/plain": [
              "None"
            ]
          },
          "metadata": {
            "tags": []
          }
        }
      ]
    },
    {
      "cell_type": "markdown",
      "metadata": {
        "id": "KRd7-IQDfv-U"
      },
      "source": [
        "## Remove duplicates"
      ]
    },
    {
      "cell_type": "markdown",
      "metadata": {
        "id": "ycDRDOxjf1-S"
      },
      "source": [
        "### remove features thar are not related to the product"
      ]
    },
    {
      "cell_type": "code",
      "metadata": {
        "colab": {
          "base_uri": "https://localhost:8080/"
        },
        "id": "XiCueDZCg-90",
        "outputId": "d1b67d12-4fad-4a39-98d9-975d125649c3"
      },
      "source": [
        "df2.columns"
      ],
      "execution_count": 87,
      "outputs": [
        {
          "output_type": "execute_result",
          "data": {
            "text/plain": [
              "Index(['HouseHoldID', 'LocationCityName', 'QuarterNumber', 'MonthNumber',\n",
              "       'WeekNumber', 'DayNumberInWeek', 'PeriodHoliday', 'DepartmentCode',\n",
              "       'CategoryCode', 'GroupCode', 'SubGroupCode', 'CompoundID',\n",
              "       'ParentProductNumber', 'BrandIndDesc', 'BrandName', 'VendorNumber',\n",
              "       'UnitOfMeasure', 'Price', 'Quantity', 'cntPrdAll', 'NetSaleAmountAll',\n",
              "       'NetSaleNoVatPrdLast3Months', 'QuantSale', 'cntMonths',\n",
              "       'DiscountPerUnit', 'isPromo', 'Energy', 'Pachmema', 'Natran', 'Helbon',\n",
              "       'Shuman', 'ShumanRavuy', 'ShumanTrans', 'Colastrol', 'SivimTzunatim',\n",
              "       'CafiotSucar', 'DepartmentCodeSubs', 'CategoryCodeSubs',\n",
              "       'GroupCodeSubs', 'SubGroupCodeSubs', 'CompoundIDSubs',\n",
              "       'ParentProductNumberSubs', 'BrandIndDescSubs', 'BrandNameSubs',\n",
              "       'VendorNumberSubs', 'UnitOfMeasureSubs', 'PriceSubs',\n",
              "       'NetSaleNoVatPrdLast3MonthsSubs', 'QuantSaleSubs', 'cntMonthsSubs',\n",
              "       'DiscountPerUnitSubs', 'EnergySubs', 'PachmemaSubs', 'NatranSubs',\n",
              "       'HelbonSubs', 'ShumanSubs', 'ShumanRavuySubs', 'ShumanTransSubs',\n",
              "       'ColastrolSubs', 'SivimTzunatimSubs', 'CafiotSucarSubs',\n",
              "       'CorrelateItemStatusCode'],\n",
              "      dtype='object')"
            ]
          },
          "metadata": {
            "tags": []
          },
          "execution_count": 87
        }
      ]
    },
    {
      "cell_type": "markdown",
      "metadata": {
        "id": "u8sdJrKtsPIp"
      },
      "source": [
        "## Prepare master and subs datasets"
      ]
    },
    {
      "cell_type": "markdown",
      "metadata": {
        "id": "VchAusPmhc-8"
      },
      "source": [
        "The following features are needed in order to predict - we do not predict based on a productId alone, but also on sales info\n"
      ]
    },
    {
      "cell_type": "code",
      "metadata": {
        "id": "ihs7BJavh7cy"
      },
      "source": [
        "cols_master = ['NetSaleNoVatPrdLast3Months', 'QuantSale', 'cntMonths']\n",
        "cols_subs = ['NetSaleNoVatPrdLast3MonthsSubs', 'QuantSaleSubs', 'cntMonthsSubs']\n",
        " # we have to choose the last price in the qtr for each product as part of it's feature' assuming it will not change too much in the next qtr"
      ],
      "execution_count": 88,
      "outputs": []
    },
    {
      "cell_type": "code",
      "metadata": {
        "id": "XmD41kZddIXs",
        "colab": {
          "base_uri": "https://localhost:8080/"
        },
        "outputId": "863ff84b-a857-4feb-dfa8-ac91b7aa4fa5"
      },
      "source": [
        "if RAW:\n",
        "  cols = ['HouseHoldID', 'LocationCityName', 'QuarterNumber', 'MonthNumber',\n",
        "       'WeekNumber', 'DayNumberInWeek', 'PeriodHoliday', 'cntPrdAll', 'NetSaleAmountAll',\n",
        "       'Quantity', 'DiscountPerUnit', 'DiscountPerUnitSubs']\n",
        "  df = df2.drop(cols, axis=1)\n",
        "\n",
        "  cols = ['CorrelateItemStatusCode', 'Price', 'PriceSubs']\n",
        "  df3 = df.drop(cols, axis=1)\n",
        "\n",
        "  df_no_promo = df3.drop('isPromo', axis=1)\n",
        "  df = df.drop('isPromo', axis=1) \n",
        "\n",
        "  cols = ['isPromo', 'DepartmentCodeSubs', 'CategoryCodeSubs', \n",
        "       'GroupCodeSubs', 'SubGroupCodeSubs', 'CompoundIDSubs',\n",
        "       'ParentProductNumberSubs', 'BrandIndDescSubs', 'BrandNameSubs',\n",
        "       'VendorNumberSubs', 'UnitOfMeasureSubs', \n",
        "       'EnergySubs', 'PachmemaSubs', 'NatranSubs', \n",
        "       'HelbonSubs', 'ShumanSubs', 'ShumanRavuySubs', 'ShumanTransSubs',\n",
        "       'ColastrolSubs', 'SivimTzunatimSubs', 'CafiotSucarSubs',\n",
        "       'NetSaleNoVatPrdLast3MonthsSubs', 'QuantSaleSubs', 'cntMonthsSubs']\n",
        "  df_master = df3.drop(cols, axis=1)\n",
        "\n",
        "  cols = ['isPromo', 'DepartmentCode', 'CategoryCode', \n",
        "        'GroupCode', 'SubGroupCode', 'CompoundID', \n",
        "       'ParentProductNumber', 'BrandIndDesc', 'BrandName', \n",
        "       'VendorNumber', 'UnitOfMeasure',\n",
        "       'Energy', 'Pachmema', 'Natran', 'Helbon',\n",
        "       'Shuman', 'ShumanRavuy', 'ShumanTrans', 'Colastrol', 'SivimTzunatim',\n",
        "       'CafiotSucar', 'NetSaleNoVatPrdLast3Months', 'QuantSale', 'cntMonths']\n",
        "  df_subs = df3.drop(cols, axis=1)\n",
        "\n",
        "  p(df.shape, df_no_promo.shape, df_master.shape, df_subs.shape)"
      ],
      "execution_count": 150,
      "outputs": [
        {
          "output_type": "stream",
          "text": [
            "(54460, 49) (54460, 46) (54460, 23) (54460, 23)\n"
          ],
          "name": "stdout"
        }
      ]
    },
    {
      "cell_type": "code",
      "metadata": {
        "colab": {
          "base_uri": "https://localhost:8080/"
        },
        "id": "qdXOeu90iJXF",
        "outputId": "ed8b046f-2266-44ee-cec4-34dce39ecc55"
      },
      "source": [
        "df.drop_duplicates(inplace=True)\n",
        "p(df.shape)"
      ],
      "execution_count": 90,
      "outputs": [
        {
          "output_type": "stream",
          "text": [
            "(9856, 48)\n"
          ],
          "name": "stdout"
        }
      ]
    },
    {
      "cell_type": "code",
      "metadata": {
        "colab": {
          "base_uri": "https://localhost:8080/"
        },
        "id": "2mTAvXJ_jyjY",
        "outputId": "0d4ce4e7-f252-45d8-f63a-bc34872d1f57"
      },
      "source": [
        "df_no_promo.drop_duplicates(inplace=True)\n",
        "p(df_no_promo.shape)"
      ],
      "execution_count": 91,
      "outputs": [
        {
          "output_type": "stream",
          "text": [
            "(8557, 47)\n"
          ],
          "name": "stdout"
        }
      ]
    },
    {
      "cell_type": "code",
      "metadata": {
        "id": "1VwU8J_RVRdT"
      },
      "source": [
        "df_master.drop_duplicates(inplace=True)\n",
        "p(df_master.shape)\n",
        "#d(df_master.head())"
      ],
      "execution_count": null,
      "outputs": []
    },
    {
      "cell_type": "code",
      "metadata": {
        "id": "891EchjzX7iN"
      },
      "source": [
        "# first group 471 - ['DepartmentCode', 'CategoryCode', 'GroupCode','SubGroupCode', 'CompoundID', 'BrandName', 'VendorNumber',\n",
        "#             'Shuman', 'ShumanRavuy', 'Colastrol', 'SivimTzunatim', 'CafiotSucar'] did not change that number\n",
        "val = pd.DataFrame(df_master.value_counts(['ParentProductNumber']))#, 'BrandIndDesc', 'UnitOfMeasure', \n",
        "#                        'Energy', 'Pachmema', 'Natran', 'Helbon', 'ShumanTrans']))\n",
        "#val.reset_index(inplace=True)\n",
        "#val.ParentProductNumber = val.ParentProductNumber.astype('int')\n",
        "d(val)"
      ],
      "execution_count": null,
      "outputs": []
    },
    {
      "cell_type": "code",
      "metadata": {
        "id": "FLb_6G7uVRy7",
        "outputId": "30637016-46fc-4396-ec49-8e5e0b148dca",
        "colab": {
          "base_uri": "https://localhost:8080/",
          "height": 241
        }
      },
      "source": [
        "df_subs.drop_duplicates(inplace=True)\n",
        "p(df_subs.shape)\n",
        "#d(df_subs.head())"
      ],
      "execution_count": 131,
      "outputs": [
        {
          "output_type": "stream",
          "text": [
            "(688, 23)\n"
          ],
          "name": "stdout"
        },
        {
          "output_type": "display_data",
          "data": {
            "text/html": [
              "<div>\n",
              "<style scoped>\n",
              "    .dataframe tbody tr th:only-of-type {\n",
              "        vertical-align: middle;\n",
              "    }\n",
              "\n",
              "    .dataframe tbody tr th {\n",
              "        vertical-align: top;\n",
              "    }\n",
              "\n",
              "    .dataframe thead th {\n",
              "        text-align: right;\n",
              "    }\n",
              "</style>\n",
              "<table border=\"1\" class=\"dataframe\">\n",
              "  <thead>\n",
              "    <tr style=\"text-align: right;\">\n",
              "      <th></th>\n",
              "      <th>DepartmentCodeSubs</th>\n",
              "      <th>CategoryCodeSubs</th>\n",
              "      <th>GroupCodeSubs</th>\n",
              "      <th>SubGroupCodeSubs</th>\n",
              "      <th>CompoundIDSubs</th>\n",
              "      <th>ParentProductNumberSubs</th>\n",
              "      <th>BrandIndDescSubs</th>\n",
              "      <th>BrandNameSubs</th>\n",
              "      <th>VendorNumberSubs</th>\n",
              "      <th>UnitOfMeasureSubs</th>\n",
              "      <th>NetSaleNoVatPrdLast3MonthsSubs</th>\n",
              "      <th>QuantSaleSubs</th>\n",
              "      <th>cntMonthsSubs</th>\n",
              "      <th>EnergySubs</th>\n",
              "      <th>PachmemaSubs</th>\n",
              "      <th>NatranSubs</th>\n",
              "      <th>HelbonSubs</th>\n",
              "      <th>ShumanSubs</th>\n",
              "      <th>ShumanRavuySubs</th>\n",
              "      <th>ShumanTransSubs</th>\n",
              "      <th>ColastrolSubs</th>\n",
              "      <th>SivimTzunatimSubs</th>\n",
              "      <th>CafiotSucarSubs</th>\n",
              "    </tr>\n",
              "  </thead>\n",
              "  <tbody>\n",
              "    <tr>\n",
              "      <th>0</th>\n",
              "      <td>10</td>\n",
              "      <td>6</td>\n",
              "      <td>700</td>\n",
              "      <td>6</td>\n",
              "      <td>-8000500217740</td>\n",
              "      <td>8000500217740</td>\n",
              "      <td>קינדר</td>\n",
              "      <td>לא מותג פרטי</td>\n",
              "      <td>914547</td>\n",
              "      <td>0.086</td>\n",
              "      <td>46128.25</td>\n",
              "      <td>0.8</td>\n",
              "      <td>13</td>\n",
              "      <td>0.0</td>\n",
              "      <td>0.0</td>\n",
              "      <td>0.0</td>\n",
              "      <td>0.0</td>\n",
              "      <td>0.0</td>\n",
              "      <td>0.0</td>\n",
              "      <td>0.0</td>\n",
              "      <td>0.0</td>\n",
              "      <td>0.0</td>\n",
              "      <td>0.00</td>\n",
              "    </tr>\n",
              "    <tr>\n",
              "      <th>1</th>\n",
              "      <td>10</td>\n",
              "      <td>6</td>\n",
              "      <td>699</td>\n",
              "      <td>4</td>\n",
              "      <td>23107</td>\n",
              "      <td>7290100852576</td>\n",
              "      <td>פרה</td>\n",
              "      <td>לא מותג פרטי</td>\n",
              "      <td>912069</td>\n",
              "      <td>0.300</td>\n",
              "      <td>67947.93</td>\n",
              "      <td>0.8</td>\n",
              "      <td>15</td>\n",
              "      <td>514.0</td>\n",
              "      <td>51.0</td>\n",
              "      <td>0.0</td>\n",
              "      <td>5.3</td>\n",
              "      <td>31.0</td>\n",
              "      <td>19.2</td>\n",
              "      <td>0.5</td>\n",
              "      <td>0.0</td>\n",
              "      <td>0.0</td>\n",
              "      <td>12.25</td>\n",
              "    </tr>\n",
              "    <tr>\n",
              "      <th>2</th>\n",
              "      <td>10</td>\n",
              "      <td>6</td>\n",
              "      <td>699</td>\n",
              "      <td>3</td>\n",
              "      <td>36777</td>\n",
              "      <td>8690766156404</td>\n",
              "      <td>גודייבה</td>\n",
              "      <td>לא מותג פרטי</td>\n",
              "      <td>910165</td>\n",
              "      <td>0.090</td>\n",
              "      <td>20718.49</td>\n",
              "      <td>1.0</td>\n",
              "      <td>13</td>\n",
              "      <td>532.0</td>\n",
              "      <td>51.0</td>\n",
              "      <td>21.0</td>\n",
              "      <td>6.5</td>\n",
              "      <td>30.0</td>\n",
              "      <td>18.0</td>\n",
              "      <td>0.5</td>\n",
              "      <td>7.5</td>\n",
              "      <td>7.8</td>\n",
              "      <td>12.00</td>\n",
              "    </tr>\n",
              "    <tr>\n",
              "      <th>3</th>\n",
              "      <td>10</td>\n",
              "      <td>6</td>\n",
              "      <td>699</td>\n",
              "      <td>2</td>\n",
              "      <td>8579</td>\n",
              "      <td>7290107649605</td>\n",
              "      <td>קליק</td>\n",
              "      <td>לא מותג פרטי</td>\n",
              "      <td>912268</td>\n",
              "      <td>0.085</td>\n",
              "      <td>32291.02</td>\n",
              "      <td>0.9</td>\n",
              "      <td>16</td>\n",
              "      <td>506.0</td>\n",
              "      <td>64.2</td>\n",
              "      <td>132.0</td>\n",
              "      <td>8.1</td>\n",
              "      <td>24.1</td>\n",
              "      <td>14.9</td>\n",
              "      <td>0.5</td>\n",
              "      <td>8.0</td>\n",
              "      <td>0.0</td>\n",
              "      <td>12.50</td>\n",
              "    </tr>\n",
              "    <tr>\n",
              "      <th>4</th>\n",
              "      <td>10</td>\n",
              "      <td>6</td>\n",
              "      <td>699</td>\n",
              "      <td>3</td>\n",
              "      <td>30727</td>\n",
              "      <td>7296073237631</td>\n",
              "      <td>שופרסל</td>\n",
              "      <td>מותג פרטי</td>\n",
              "      <td>913725</td>\n",
              "      <td>0.100</td>\n",
              "      <td>41347.56</td>\n",
              "      <td>0.9</td>\n",
              "      <td>16</td>\n",
              "      <td>603.0</td>\n",
              "      <td>23.0</td>\n",
              "      <td>10.0</td>\n",
              "      <td>8.7</td>\n",
              "      <td>50.0</td>\n",
              "      <td>30.0</td>\n",
              "      <td>0.5</td>\n",
              "      <td>0.0</td>\n",
              "      <td>13.0</td>\n",
              "      <td>4.50</td>\n",
              "    </tr>\n",
              "  </tbody>\n",
              "</table>\n",
              "</div>"
            ],
            "text/plain": [
              "   DepartmentCodeSubs  CategoryCodeSubs  ...  SivimTzunatimSubs  CafiotSucarSubs\n",
              "0                  10                 6  ...                0.0             0.00\n",
              "1                  10                 6  ...                0.0            12.25\n",
              "2                  10                 6  ...                7.8            12.00\n",
              "3                  10                 6  ...                0.0            12.50\n",
              "4                  10                 6  ...               13.0             4.50\n",
              "\n",
              "[5 rows x 23 columns]"
            ]
          },
          "metadata": {
            "tags": []
          }
        }
      ]
    },
    {
      "cell_type": "code",
      "metadata": {
        "id": "bmzgaptiRjuT"
      },
      "source": [
        "val = pd.DataFrame(df_subs.value_counts(['ParentProductNumberSubs']))#, 'BrandIndDescSubs', 'UnitOfMeasureSubs', \n",
        "#                        'EnergySubs', 'PachmemaSubs', 'NatranSubs', 'HelbonSubs', 'ShumanTransSubs']))\n",
        "val"
      ],
      "execution_count": null,
      "outputs": []
    },
    {
      "cell_type": "markdown",
      "metadata": {
        "id": "8gG8we1Ws_Mj"
      },
      "source": [
        "# Save partial data"
      ]
    },
    {
      "cell_type": "code",
      "metadata": {
        "id": "HABZ4mSww0qk"
      },
      "source": [
        "if RAW\n",
        "  df2.to_csv(prefix + \".csv\", index = False)\n",
        "  p(df2.shape)"
      ],
      "execution_count": null,
      "outputs": []
    },
    {
      "cell_type": "code",
      "metadata": {
        "id": "lqhgbV2PGVDC"
      },
      "source": [
        "if RAW:\n",
        "  df = pd.read_csv(prefix + '.csv', index_col=False)\n",
        "  p(df.shape)"
      ],
      "execution_count": null,
      "outputs": []
    },
    {
      "cell_type": "markdown",
      "metadata": {
        "id": "renJj2--1PoG"
      },
      "source": [
        "## Encoding categories"
      ]
    },
    {
      "cell_type": "code",
      "metadata": {
        "id": "Z0frP-SsM4Gq"
      },
      "source": [
        "from sklearn.preprocessing import LabelEncoder\n",
        "enc = LabelEncoder()\n",
        "\n",
        "if RAW and False:\n",
        "  enc.fit(['PromoSusbDiffPromo', 'PromoSusbSamePromo', 'noPromo'])\n",
        "  p(df.isPromo.value_counts())\n",
        "  p()\n",
        "  df.isPromo = enc.transform(df.isPromo)\n",
        "  p(df.isPromo.value_counts())"
      ],
      "execution_count": 134,
      "outputs": []
    },
    {
      "cell_type": "code",
      "metadata": {
        "id": "CXZ6Hs2L1ONt",
        "outputId": "ed7c387a-c808-4915-8d6b-93653dcf2dd5",
        "colab": {
          "base_uri": "https://localhost:8080/"
        }
      },
      "source": [
        "from sklearn.preprocessing import LabelEncoder\n",
        "enc = LabelEncoder()\n",
        "if RAW:\n",
        "  df['BrandIndDescSubs'] = df['BrandIndDescSubs'].astype('str')\n",
        "  for col in ['BrandIndDesc', 'BrandName', 'BrandNameSubs', 'BrandIndDescSubs']:\n",
        "    p(col)\n",
        "    p(pd.DataFrame(df[col].value_counts()).index)\n",
        "    df[col] = enc.fit_transform(df[col])\n",
        "    p(pd.DataFrame(df[col].value_counts()).index)"
      ],
      "execution_count": 152,
      "outputs": [
        {
          "output_type": "stream",
          "text": [
            "BrandIndDesc\n",
            "Index(['פרה', 'קינדר', 'עלית', 'קליק', 'שופרסל', 'M&M', 'מאסט', 'מילקה',\n",
            "       'לינדט', 'אורביט', 'יוגטה', 'מנטוס', 'פסק זמן', 'שטראוס', 'ספלנדיד',\n",
            "       'טוויקס', 'נסטלה', 'גודייבה', 'ריטר ספורט', 'פריי', 'סקיטלס', 'פשקס',\n",
            "       'צ'וקטה', 'ורד הגליל', 'כרמית', 'פררו', 'סניקרס', 'הרשי', 'מליטיזרס',\n",
            "       'טיק טק', 'FIVE', 'ורטר', 'מוצרט', 'אתי', 'שטורק', 'איירוויבז', 'לואקר',\n",
            "       'הריבו', 'לריטייר', 'מרס', 'מנבו', 'טופיפי', 'DISNEY', 'פיקניק',\n",
            "       'מייק&אייק', 'באונטי', 'בי קיינד', 'נוטלה', 'קדבורי', 'פרניגוטי',\n",
            "       'הובה בובה', 'קוטדור', 'טובלרון', 'ORIGINAL', 'באצ'י', 'המלט', 'פז',\n",
            "       'הולי קקאו', 'שוקול'ס'],\n",
            "      dtype='object')\n",
            "Int64Index([44, 52, 40, 53, 55,  2, 27, 30, 25,  4, 22, 33, 43, 58, 38, 19, 36,\n",
            "            10, 54, 45, 39, 48, 49, 16, 23, 47, 37, 15, 31, 21,  1, 17, 28,  6,\n",
            "            57,  5, 24, 14, 26, 34, 32, 20,  0, 42, 29,  7,  9, 35, 50, 46, 11,\n",
            "             3, 18, 51,  8, 41, 13, 12, 56],\n",
            "           dtype='int64')\n",
            "BrandName\n",
            "Index(['לא מותג פרטי', 'מותג פרטי'], dtype='object')\n",
            "Int64Index([0, 1], dtype='int64')\n",
            "BrandNameSubs\n",
            "Index(['לא מותג פרטי', 'מותג פרטי'], dtype='object')\n",
            "Int64Index([0, 1], dtype='int64')\n",
            "BrandIndDescSubs\n",
            "Index(['פרה', 'קינדר', 'עלית', 'שופרסל', 'קליק', 'M&M', 'מילקה', 'מאסט',\n",
            "       'לינדט', 'אורביט', 'יוגטה', 'מנטוס', 'פסק זמן', 'ספלנדיד', 'נסטלה',\n",
            "       'ריטר ספורט', 'פריי', 'מנבו', 'פשקס', 'סניקרס', 'גודייבה', 'צ'וקטה',\n",
            "       'שטראוס', 'סקיטלס', 'טוויקס', 'כרמית', 'פררו', 'ורטר', 'טיק טק', 'FIVE',\n",
            "       'מוצרט', 'אתי', 'הרשי', 'איירוויבז', 'DISNEY', 'שטורק', 'מרס', 'לואקר',\n",
            "       'באונטי', 'ורד הגליל', 'הריבו', 'טופיפי', 'מייק&אייק', 'בי קיינד',\n",
            "       'מליטיזרס', 'נוטלה', 'לריטייר', 'פיקניק', 'קדבורי', 'פרניגוטי',\n",
            "       'שקדיה סלקט', 'הובה בובה', 'אסם', 'אוראו', 'מנעמים', '0', 'פז',\n",
            "       'ג'לונים', 'מקוויטיס', 'קוטדור', 'שופרסל גרין', 'טובלרון', 'מן', 'במבה',\n",
            "       'תנובה', 'קליית גת', 'דר ברונר', 'שקד תבור', 'פפושדו', 'קטיף', 'וגה',\n",
            "       'האחים', 'השף הלבן', 'FREE', 'מרבה', 'באלזן', 'שוקול'ס', 'שוק קולינרי',\n",
            "       'ORIGINAL', 'פינוקים'],\n",
            "      dtype='object')\n",
            "Int64Index([58, 67, 52, 71, 69,  4, 38, 35, 33,  7, 30, 42, 56, 50, 48, 70, 59,\n",
            "            41, 62, 49, 16, 63, 76, 51, 27, 31, 61, 25, 29,  2, 36, 10, 21,  8,\n",
            "            75,  1, 46, 32, 11, 24, 20, 28, 37, 13, 39, 47, 34, 55, 64, 60, 78,\n",
            "            19,  9, 43,  6,  0, 15, 53, 72, 65, 26, 44, 54, 66, 57,  3, 23, 12,\n",
            "            22, 68,  5, 17, 79, 40, 14, 73, 77, 45, 74, 18],\n",
            "           dtype='int64')\n"
          ],
          "name": "stdout"
        }
      ]
    },
    {
      "cell_type": "markdown",
      "metadata": {
        "id": "4rM2GtyAYC0G"
      },
      "source": [
        "## Combine 'GroupCode' and 'SubGroupCode' into one column"
      ]
    },
    {
      "cell_type": "code",
      "metadata": {
        "id": "NUZO5YI5YBgY",
        "outputId": "e2f5a2c4-2fab-426e-9540-781c7aeb7edf",
        "colab": {
          "base_uri": "https://localhost:8080/",
          "height": 225
        }
      },
      "source": [
        "if RAW:\n",
        "  d(df.head(2))\n",
        "  df.GroupCode = df.GroupCode * 10 + df.SubGroupCode\n",
        "  df.GroupCodeSubs = df.GroupCodeSubs * 10 + df.SubGroupCodeSubs\n",
        " # df.drop(['SubGroupCode', 'SubGroupCodeSubs'], axis=1, inplace=True)\n",
        "  d(df.head(2))"
      ],
      "execution_count": 153,
      "outputs": [
        {
          "output_type": "display_data",
          "data": {
            "text/html": [
              "<div>\n",
              "<style scoped>\n",
              "    .dataframe tbody tr th:only-of-type {\n",
              "        vertical-align: middle;\n",
              "    }\n",
              "\n",
              "    .dataframe tbody tr th {\n",
              "        vertical-align: top;\n",
              "    }\n",
              "\n",
              "    .dataframe thead th {\n",
              "        text-align: right;\n",
              "    }\n",
              "</style>\n",
              "<table border=\"1\" class=\"dataframe\">\n",
              "  <thead>\n",
              "    <tr style=\"text-align: right;\">\n",
              "      <th></th>\n",
              "      <th>DepartmentCode</th>\n",
              "      <th>CategoryCode</th>\n",
              "      <th>GroupCode</th>\n",
              "      <th>SubGroupCode</th>\n",
              "      <th>CompoundID</th>\n",
              "      <th>ParentProductNumber</th>\n",
              "      <th>BrandIndDesc</th>\n",
              "      <th>BrandName</th>\n",
              "      <th>VendorNumber</th>\n",
              "      <th>UnitOfMeasure</th>\n",
              "      <th>Price</th>\n",
              "      <th>NetSaleNoVatPrdLast3Months</th>\n",
              "      <th>QuantSale</th>\n",
              "      <th>cntMonths</th>\n",
              "      <th>Energy</th>\n",
              "      <th>Pachmema</th>\n",
              "      <th>Natran</th>\n",
              "      <th>Helbon</th>\n",
              "      <th>Shuman</th>\n",
              "      <th>ShumanRavuy</th>\n",
              "      <th>ShumanTrans</th>\n",
              "      <th>Colastrol</th>\n",
              "      <th>SivimTzunatim</th>\n",
              "      <th>CafiotSucar</th>\n",
              "      <th>DepartmentCodeSubs</th>\n",
              "      <th>CategoryCodeSubs</th>\n",
              "      <th>GroupCodeSubs</th>\n",
              "      <th>SubGroupCodeSubs</th>\n",
              "      <th>CompoundIDSubs</th>\n",
              "      <th>ParentProductNumberSubs</th>\n",
              "      <th>BrandIndDescSubs</th>\n",
              "      <th>BrandNameSubs</th>\n",
              "      <th>VendorNumberSubs</th>\n",
              "      <th>UnitOfMeasureSubs</th>\n",
              "      <th>PriceSubs</th>\n",
              "      <th>NetSaleNoVatPrdLast3MonthsSubs</th>\n",
              "      <th>QuantSaleSubs</th>\n",
              "      <th>cntMonthsSubs</th>\n",
              "      <th>EnergySubs</th>\n",
              "      <th>PachmemaSubs</th>\n",
              "      <th>NatranSubs</th>\n",
              "      <th>HelbonSubs</th>\n",
              "      <th>ShumanSubs</th>\n",
              "      <th>ShumanRavuySubs</th>\n",
              "      <th>ShumanTransSubs</th>\n",
              "      <th>ColastrolSubs</th>\n",
              "      <th>SivimTzunatimSubs</th>\n",
              "      <th>CafiotSucarSubs</th>\n",
              "      <th>CorrelateItemStatusCode</th>\n",
              "    </tr>\n",
              "  </thead>\n",
              "  <tbody>\n",
              "    <tr>\n",
              "      <th>0</th>\n",
              "      <td>10</td>\n",
              "      <td>6</td>\n",
              "      <td>700</td>\n",
              "      <td>3</td>\n",
              "      <td>-8000500249352</td>\n",
              "      <td>8000500249352</td>\n",
              "      <td>52</td>\n",
              "      <td>0</td>\n",
              "      <td>914547</td>\n",
              "      <td>0.205</td>\n",
              "      <td>18.9</td>\n",
              "      <td>57747.16</td>\n",
              "      <td>0.8</td>\n",
              "      <td>16</td>\n",
              "      <td>568.0</td>\n",
              "      <td>49.5</td>\n",
              "      <td>107.0</td>\n",
              "      <td>8.6</td>\n",
              "      <td>37.8</td>\n",
              "      <td>17.3</td>\n",
              "      <td>0.5</td>\n",
              "      <td>15.0</td>\n",
              "      <td>0.0</td>\n",
              "      <td>0.00</td>\n",
              "      <td>10</td>\n",
              "      <td>6</td>\n",
              "      <td>700</td>\n",
              "      <td>6</td>\n",
              "      <td>-8000500217740</td>\n",
              "      <td>8000500217740</td>\n",
              "      <td>67</td>\n",
              "      <td>0</td>\n",
              "      <td>914547</td>\n",
              "      <td>0.086</td>\n",
              "      <td>9.9</td>\n",
              "      <td>46128.25</td>\n",
              "      <td>0.8</td>\n",
              "      <td>13</td>\n",
              "      <td>0.0</td>\n",
              "      <td>0.0</td>\n",
              "      <td>0.0</td>\n",
              "      <td>0.0</td>\n",
              "      <td>0.0</td>\n",
              "      <td>0.0</td>\n",
              "      <td>0.0</td>\n",
              "      <td>0.0</td>\n",
              "      <td>0.0</td>\n",
              "      <td>0.00</td>\n",
              "      <td>1</td>\n",
              "    </tr>\n",
              "    <tr>\n",
              "      <th>1</th>\n",
              "      <td>10</td>\n",
              "      <td>6</td>\n",
              "      <td>699</td>\n",
              "      <td>4</td>\n",
              "      <td>2900</td>\n",
              "      <td>178134</td>\n",
              "      <td>44</td>\n",
              "      <td>0</td>\n",
              "      <td>912069</td>\n",
              "      <td>0.400</td>\n",
              "      <td>19.6</td>\n",
              "      <td>141798.59</td>\n",
              "      <td>0.6</td>\n",
              "      <td>16</td>\n",
              "      <td>514.0</td>\n",
              "      <td>51.0</td>\n",
              "      <td>0.0</td>\n",
              "      <td>5.3</td>\n",
              "      <td>31.0</td>\n",
              "      <td>19.2</td>\n",
              "      <td>0.5</td>\n",
              "      <td>0.0</td>\n",
              "      <td>0.0</td>\n",
              "      <td>12.25</td>\n",
              "      <td>10</td>\n",
              "      <td>6</td>\n",
              "      <td>699</td>\n",
              "      <td>4</td>\n",
              "      <td>23107</td>\n",
              "      <td>7290100852576</td>\n",
              "      <td>58</td>\n",
              "      <td>0</td>\n",
              "      <td>912069</td>\n",
              "      <td>0.300</td>\n",
              "      <td>10.0</td>\n",
              "      <td>67947.93</td>\n",
              "      <td>0.8</td>\n",
              "      <td>15</td>\n",
              "      <td>514.0</td>\n",
              "      <td>51.0</td>\n",
              "      <td>0.0</td>\n",
              "      <td>5.3</td>\n",
              "      <td>31.0</td>\n",
              "      <td>19.2</td>\n",
              "      <td>0.5</td>\n",
              "      <td>0.0</td>\n",
              "      <td>0.0</td>\n",
              "      <td>12.25</td>\n",
              "      <td>1</td>\n",
              "    </tr>\n",
              "  </tbody>\n",
              "</table>\n",
              "</div>"
            ],
            "text/plain": [
              "   DepartmentCode  CategoryCode  ...  CafiotSucarSubs  CorrelateItemStatusCode\n",
              "0              10             6  ...             0.00                        1\n",
              "1              10             6  ...            12.25                        1\n",
              "\n",
              "[2 rows x 49 columns]"
            ]
          },
          "metadata": {
            "tags": []
          }
        },
        {
          "output_type": "display_data",
          "data": {
            "text/html": [
              "<div>\n",
              "<style scoped>\n",
              "    .dataframe tbody tr th:only-of-type {\n",
              "        vertical-align: middle;\n",
              "    }\n",
              "\n",
              "    .dataframe tbody tr th {\n",
              "        vertical-align: top;\n",
              "    }\n",
              "\n",
              "    .dataframe thead th {\n",
              "        text-align: right;\n",
              "    }\n",
              "</style>\n",
              "<table border=\"1\" class=\"dataframe\">\n",
              "  <thead>\n",
              "    <tr style=\"text-align: right;\">\n",
              "      <th></th>\n",
              "      <th>DepartmentCode</th>\n",
              "      <th>CategoryCode</th>\n",
              "      <th>GroupCode</th>\n",
              "      <th>SubGroupCode</th>\n",
              "      <th>CompoundID</th>\n",
              "      <th>ParentProductNumber</th>\n",
              "      <th>BrandIndDesc</th>\n",
              "      <th>BrandName</th>\n",
              "      <th>VendorNumber</th>\n",
              "      <th>UnitOfMeasure</th>\n",
              "      <th>Price</th>\n",
              "      <th>NetSaleNoVatPrdLast3Months</th>\n",
              "      <th>QuantSale</th>\n",
              "      <th>cntMonths</th>\n",
              "      <th>Energy</th>\n",
              "      <th>Pachmema</th>\n",
              "      <th>Natran</th>\n",
              "      <th>Helbon</th>\n",
              "      <th>Shuman</th>\n",
              "      <th>ShumanRavuy</th>\n",
              "      <th>ShumanTrans</th>\n",
              "      <th>Colastrol</th>\n",
              "      <th>SivimTzunatim</th>\n",
              "      <th>CafiotSucar</th>\n",
              "      <th>DepartmentCodeSubs</th>\n",
              "      <th>CategoryCodeSubs</th>\n",
              "      <th>GroupCodeSubs</th>\n",
              "      <th>SubGroupCodeSubs</th>\n",
              "      <th>CompoundIDSubs</th>\n",
              "      <th>ParentProductNumberSubs</th>\n",
              "      <th>BrandIndDescSubs</th>\n",
              "      <th>BrandNameSubs</th>\n",
              "      <th>VendorNumberSubs</th>\n",
              "      <th>UnitOfMeasureSubs</th>\n",
              "      <th>PriceSubs</th>\n",
              "      <th>NetSaleNoVatPrdLast3MonthsSubs</th>\n",
              "      <th>QuantSaleSubs</th>\n",
              "      <th>cntMonthsSubs</th>\n",
              "      <th>EnergySubs</th>\n",
              "      <th>PachmemaSubs</th>\n",
              "      <th>NatranSubs</th>\n",
              "      <th>HelbonSubs</th>\n",
              "      <th>ShumanSubs</th>\n",
              "      <th>ShumanRavuySubs</th>\n",
              "      <th>ShumanTransSubs</th>\n",
              "      <th>ColastrolSubs</th>\n",
              "      <th>SivimTzunatimSubs</th>\n",
              "      <th>CafiotSucarSubs</th>\n",
              "      <th>CorrelateItemStatusCode</th>\n",
              "    </tr>\n",
              "  </thead>\n",
              "  <tbody>\n",
              "    <tr>\n",
              "      <th>0</th>\n",
              "      <td>10</td>\n",
              "      <td>6</td>\n",
              "      <td>7003</td>\n",
              "      <td>3</td>\n",
              "      <td>-8000500249352</td>\n",
              "      <td>8000500249352</td>\n",
              "      <td>52</td>\n",
              "      <td>0</td>\n",
              "      <td>914547</td>\n",
              "      <td>0.205</td>\n",
              "      <td>18.9</td>\n",
              "      <td>57747.16</td>\n",
              "      <td>0.8</td>\n",
              "      <td>16</td>\n",
              "      <td>568.0</td>\n",
              "      <td>49.5</td>\n",
              "      <td>107.0</td>\n",
              "      <td>8.6</td>\n",
              "      <td>37.8</td>\n",
              "      <td>17.3</td>\n",
              "      <td>0.5</td>\n",
              "      <td>15.0</td>\n",
              "      <td>0.0</td>\n",
              "      <td>0.00</td>\n",
              "      <td>10</td>\n",
              "      <td>6</td>\n",
              "      <td>7006</td>\n",
              "      <td>6</td>\n",
              "      <td>-8000500217740</td>\n",
              "      <td>8000500217740</td>\n",
              "      <td>67</td>\n",
              "      <td>0</td>\n",
              "      <td>914547</td>\n",
              "      <td>0.086</td>\n",
              "      <td>9.9</td>\n",
              "      <td>46128.25</td>\n",
              "      <td>0.8</td>\n",
              "      <td>13</td>\n",
              "      <td>0.0</td>\n",
              "      <td>0.0</td>\n",
              "      <td>0.0</td>\n",
              "      <td>0.0</td>\n",
              "      <td>0.0</td>\n",
              "      <td>0.0</td>\n",
              "      <td>0.0</td>\n",
              "      <td>0.0</td>\n",
              "      <td>0.0</td>\n",
              "      <td>0.00</td>\n",
              "      <td>1</td>\n",
              "    </tr>\n",
              "    <tr>\n",
              "      <th>1</th>\n",
              "      <td>10</td>\n",
              "      <td>6</td>\n",
              "      <td>6994</td>\n",
              "      <td>4</td>\n",
              "      <td>2900</td>\n",
              "      <td>178134</td>\n",
              "      <td>44</td>\n",
              "      <td>0</td>\n",
              "      <td>912069</td>\n",
              "      <td>0.400</td>\n",
              "      <td>19.6</td>\n",
              "      <td>141798.59</td>\n",
              "      <td>0.6</td>\n",
              "      <td>16</td>\n",
              "      <td>514.0</td>\n",
              "      <td>51.0</td>\n",
              "      <td>0.0</td>\n",
              "      <td>5.3</td>\n",
              "      <td>31.0</td>\n",
              "      <td>19.2</td>\n",
              "      <td>0.5</td>\n",
              "      <td>0.0</td>\n",
              "      <td>0.0</td>\n",
              "      <td>12.25</td>\n",
              "      <td>10</td>\n",
              "      <td>6</td>\n",
              "      <td>6994</td>\n",
              "      <td>4</td>\n",
              "      <td>23107</td>\n",
              "      <td>7290100852576</td>\n",
              "      <td>58</td>\n",
              "      <td>0</td>\n",
              "      <td>912069</td>\n",
              "      <td>0.300</td>\n",
              "      <td>10.0</td>\n",
              "      <td>67947.93</td>\n",
              "      <td>0.8</td>\n",
              "      <td>15</td>\n",
              "      <td>514.0</td>\n",
              "      <td>51.0</td>\n",
              "      <td>0.0</td>\n",
              "      <td>5.3</td>\n",
              "      <td>31.0</td>\n",
              "      <td>19.2</td>\n",
              "      <td>0.5</td>\n",
              "      <td>0.0</td>\n",
              "      <td>0.0</td>\n",
              "      <td>12.25</td>\n",
              "      <td>1</td>\n",
              "    </tr>\n",
              "  </tbody>\n",
              "</table>\n",
              "</div>"
            ],
            "text/plain": [
              "   DepartmentCode  CategoryCode  ...  CafiotSucarSubs  CorrelateItemStatusCode\n",
              "0              10             6  ...             0.00                        1\n",
              "1              10             6  ...            12.25                        1\n",
              "\n",
              "[2 rows x 49 columns]"
            ]
          },
          "metadata": {
            "tags": []
          }
        }
      ]
    },
    {
      "cell_type": "markdown",
      "metadata": {
        "id": "pRT1z8asSKa0"
      },
      "source": [
        "## Use Dummies"
      ]
    },
    {
      "cell_type": "markdown",
      "metadata": {
        "id": "Q4sf5rfwdnqs"
      },
      "source": [
        "Minimal improvement - FalseNegative (0,0) improved from 1338 to 1328"
      ]
    },
    {
      "cell_type": "code",
      "metadata": {
        "id": "enpCWADOSFsg"
      },
      "source": [
        "## Converting the categories column (isPromo) to dummies column \n",
        "if RAW:\n",
        "  p(df.shape)\n",
        "  df = pd.get_dummies(df, columns=['isPromo', 'PeriodHoliday'])\n",
        "  p(df.shape)"
      ],
      "execution_count": null,
      "outputs": []
    },
    {
      "cell_type": "code",
      "metadata": {
        "id": "weFSY7OLZWsG"
      },
      "source": [
        "if RAW:\n",
        "  df_t = df.copy()"
      ],
      "execution_count": null,
      "outputs": []
    },
    {
      "cell_type": "markdown",
      "metadata": {
        "id": "bNnieSsiHr4A"
      },
      "source": [
        "## Calc diff vector"
      ]
    },
    {
      "cell_type": "code",
      "metadata": {
        "id": "2h_nBoBY_5o5"
      },
      "source": [
        "if RAW:\n",
        "  p(df.columns)"
      ],
      "execution_count": null,
      "outputs": []
    },
    {
      "cell_type": "code",
      "metadata": {
        "id": "dVnvNLbJEFao"
      },
      "source": [
        "if RAW and DIFF:\n",
        "  for col in ['DepartmentCode', 'CategoryCode', 'GroupCode', #'SubGroupCode',\n",
        "       'CompoundID', 'ParentProductNumber', 'BrandIndDesc',\n",
        "       'VendorNumber', 'UnitOfMeasure', 'Price', 'NetSaleNoVatPrdLast3Months', 'Energy', 'Pachmema',\n",
        "       'Natran', 'Helbon', 'Shuman', 'ShumanRavuy', 'ShumanTrans', 'Colastrol',\n",
        "       'SivimTzunatim', 'CafiotSucar', 'QuantSale', 'cntMonths', 'DiscountPerUnit']:\n",
        "    df[col + 'Diff'] = df[col] - df[col + 'Subs']"
      ],
      "execution_count": null,
      "outputs": []
    },
    {
      "cell_type": "code",
      "metadata": {
        "id": "R1pvSAXODmsI"
      },
      "source": [
        "if RAW and DIFF:\n",
        "  for col in ['DepartmentCode', 'CategoryCode', 'GroupCode', #'SubGroupCode',\n",
        "       'CompoundID', 'ParentProductNumber', 'VendorNumber', 'BrandIndDesc']:\n",
        "    df[col + 'Diff'] = (df[col + 'Diff'] != 0)    # tested both ==0 and !=0 (the result is 1 for one and 0 for the other - no change in the model results)\n",
        "    df[col + 'Diff'] = enc.fit_transform(df[col + 'Diff'])"
      ],
      "execution_count": null,
      "outputs": []
    },
    {
      "cell_type": "code",
      "metadata": {
        "id": "LuelWNmFIQ4y"
      },
      "source": [
        "## Converting the categories column (isPromo) to dummies column \n",
        "if RAW and DIFF and False:\n",
        "  p(df.shape)\n",
        "  cols = []\n",
        "  for col in ['DepartmentCode', 'CategoryCode', 'GroupCode',\n",
        "        'CompoundID', 'ParentProductNumber', 'VendorNumber', 'BrandIndDesc']:\n",
        "      cols.append(col)\n",
        "      cols.append(col + 'Subs')\n",
        "      cols.append(col + 'Diff')\n",
        "  df = pd.get_dummies(df, columns=cols)\n",
        "  p(df.shape)"
      ],
      "execution_count": null,
      "outputs": []
    },
    {
      "cell_type": "code",
      "metadata": {
        "id": "y8AeEktZ8SJB"
      },
      "source": [
        "if RAW and DIFF:\n",
        "  df.to_csv(prefix + \"_with_diff.csv\", index = False)"
      ],
      "execution_count": null,
      "outputs": []
    },
    {
      "cell_type": "code",
      "metadata": {
        "id": "lDvfuMAa8ze9"
      },
      "source": [
        "if RAW and DIFF:\n",
        "  df = pd.read_csv(prefix + '_with_diff.csv', index_col=False)\n",
        "  p(df.shape)"
      ],
      "execution_count": null,
      "outputs": []
    },
    {
      "cell_type": "markdown",
      "metadata": {
        "id": "bWMLTqJmOsbW"
      },
      "source": [
        "# Get ready Data"
      ]
    },
    {
      "cell_type": "code",
      "metadata": {
        "id": "JreYWRN5-viM"
      },
      "source": [
        "if RAW:\n",
        "  p(df.shape)\n",
        "  d(df.head())"
      ],
      "execution_count": null,
      "outputs": []
    },
    {
      "cell_type": "code",
      "metadata": {
        "id": "eRMl2lJ0BiXV"
      },
      "source": [
        "#if not RAW: - so not to use df_ratio\n",
        "df = pd.read_csv(prefix + '_with_diff.csv', encoding='ISO-8859-8')\n",
        "p(df.shape)\n",
        "d(df.head())"
      ],
      "execution_count": null,
      "outputs": []
    },
    {
      "cell_type": "markdown",
      "metadata": {
        "id": "N27b5TlMH14F"
      },
      "source": [
        "# Models"
      ]
    },
    {
      "cell_type": "markdown",
      "metadata": {
        "id": "cIEYB-tFOhTb"
      },
      "source": [
        "\n",
        "## Models - process_model code"
      ]
    },
    {
      "cell_type": "code",
      "metadata": {
        "id": "pMu7UaSHZ2BX"
      },
      "source": [
        "from sklearn.metrics import confusion_matrix, classification_report, accuracy_score\n",
        "import math\n",
        "\n",
        "pd.set_option(\"precision\", 2)\n",
        "df_result = pd.DataFrame()"
      ],
      "execution_count": 154,
      "outputs": []
    },
    {
      "cell_type": "code",
      "metadata": {
        "id": "6rVRpGZCICWb"
      },
      "source": [
        "from sklearn.model_selection import train_test_split, GridSearchCV, cross_val_score\n",
        "\n",
        "X = df.drop('CorrelateItemStatusCode', axis=1)\n",
        "y = df.CorrelateItemStatusCode.astype(int)\n",
        "\n",
        "X_train, X_test, y_train, y_test = train_test_split(X, y, train_size=0.7, random_state=0)"
      ],
      "execution_count": 155,
      "outputs": []
    },
    {
      "cell_type": "code",
      "metadata": {
        "id": "SD0WOCyeZqSg"
      },
      "source": [
        "def report(clf, X, y, note, test, data_type='Test'):\n",
        "  global df_result\n",
        "  name = type(clf).__name__ + ': ' + data_type\n",
        "  acc = accuracy_score(y_true=y, y_pred=clf.predict(X))\n",
        "  index = [(name, clf.classes_[0]), (name, clf.classes_[1])]\n",
        "  cm = pd.DataFrame(confusion_matrix(y_true=y, y_pred=clf.predict(X)),\n",
        "                    index=clf.classes_,\n",
        "                    columns=clf.classes_)\n",
        "  cm.reset_index(drop=True, inplace=True)\n",
        "  rep = classification_report(y_true=y, y_pred=clf.predict(X), zero_division=1, output_dict=True)\n",
        "  rep =  pd.DataFrame(rep)\n",
        "  rep = rep.T\n",
        "  rep['accuracy'] = acc\n",
        "  rep.support = rep.support.astype(int)\n",
        "  cols = list(rep.columns[:3]) + ['accuracy', 'support']\n",
        "  rep = rep[cols]\n",
        "  rep['precision_avg'] = rep.precision['macro avg']\n",
        "  rep['recall_avg'] = rep.recall['macro avg']\n",
        "  rep['f1-score_avg'] = rep['f1-score']['macro avg']\n",
        "  rep.drop(['accuracy', 'macro avg', 'weighted avg'], axis=0, inplace=True)\n",
        "  rep.reset_index(drop=True, inplace=True)\n",
        "  df = cm.join(rep)\n",
        "  df['name'] = name\n",
        "  df['note'] = note\n",
        "  df.loc[1, 'note'] = ''\n",
        "  if test:  # do not add to database\n",
        "    d(df)\n",
        "  else:    \n",
        "    df.reset_index(inplace=True)\n",
        "    df_result.reset_index(inplace=True)\n",
        "    df_result = df_result.append(df, ignore_index=True)\n",
        "    df_result.set_index(['name', 'index'], inplace=True)\n",
        "  return df_result"
      ],
      "execution_count": 156,
      "outputs": []
    },
    {
      "cell_type": "code",
      "metadata": {
        "id": "Ci9f_i4dMAXy"
      },
      "source": [
        "def showFeatureImportance(model, X, threshold):\n",
        "  if type(model).__name__ == 'LogisticRegression':  # no features importance data\n",
        "    w0 = model.intercept_[0]\n",
        "    w = model.coef_[0]\n",
        "    fx_imp = pd.Series(w, index=X.columns)\n",
        "  else:\n",
        "    fx_imp = pd.Series(model.feature_importances_, index=X.columns)\n",
        "  fx_imp /= fx_imp.sum()\n",
        "  fx_imp = fx_imp.sort_values()\n",
        "  fx_imp = fx_imp[fx_imp > threshold]\n",
        "  fig = plt.figure(figsize=(5,5))\n",
        "  plt.xlim(0, 1)\n",
        "  fx_imp.plot(kind='barh', title=type(model).__name__ )"
      ],
      "execution_count": 157,
      "outputs": []
    },
    {
      "cell_type": "code",
      "metadata": {
        "id": "mjA3XyhXOKcF"
      },
      "source": [
        "def process_model(model, X, y, X_test, y_test, plot=False, threshold=0, note='', test=False):\n",
        "  p('running: ', type(model).__name__, X.shape)\n",
        "  model.fit(X, y)\n",
        "  report(model, X, y, note, test, 'Train')\n",
        "  report(model, X_test, y_test, note, test)\n",
        "  if plot:\n",
        "    showFeatureImportance(model, X, threshold)\n",
        "  return df_result "
      ],
      "execution_count": 158,
      "outputs": []
    },
    {
      "cell_type": "code",
      "metadata": {
        "id": "ijx9CUGjIGCo"
      },
      "source": [
        "from sklearn.linear_model import LogisticRegression, BayesianRidge, Lasso, Ridge\n",
        "from sklearn.ensemble import GradientBoostingClassifier, RandomForestClassifier, AdaBoostClassifier, GradientBoostingRegressor, BaggingClassifier, VotingClassifier\n",
        "from sklearn.tree import DecisionTreeClassifier\n",
        "from sklearn.neighbors import KNeighborsClassifier\n",
        "from sklearn.svm import LinearSVC"
      ],
      "execution_count": 159,
      "outputs": []
    },
    {
      "cell_type": "markdown",
      "metadata": {
        "id": "WMPqQC7DQKLe"
      },
      "source": [
        "\n",
        "## Models - Run process_model"
      ]
    },
    {
      "cell_type": "code",
      "metadata": {
        "id": "7n6vHsoaau-z",
        "outputId": "28fc62b8-c140-4a69-d489-4a9bf8004627",
        "colab": {
          "base_uri": "https://localhost:8080/",
          "height": 540
        }
      },
      "source": [
        "df_result = pd.DataFrame()\n",
        "\n",
        "clf_RF = RandomForestClassifier(n_estimators=100, criterion='entropy', max_depth=None, min_samples_split=20, ccp_alpha=0.0003, random_state=73)\n",
        "process_model(clf_RF, X_train, y_train, X_test, y_test, plot=True, threshold=0.015, note=\"n_estimators=100, criterion='entropy', max_depth=None, min_samples_split=20, ccp_alpha=0.0003, random_state=73\")\n",
        "\n",
        "d(df_result)\n",
        "\n",
        "#fname = prefix + f'_result_{id}.csv'\n",
        "#df_result.to_csv(fname, index = True)"
      ],
      "execution_count": 162,
      "outputs": [
        {
          "output_type": "stream",
          "text": [
            "running:  RandomForestClassifier (38122, 48)\n"
          ],
          "name": "stdout"
        },
        {
          "output_type": "display_data",
          "data": {
            "text/html": [
              "<div>\n",
              "<style scoped>\n",
              "    .dataframe tbody tr th:only-of-type {\n",
              "        vertical-align: middle;\n",
              "    }\n",
              "\n",
              "    .dataframe tbody tr th {\n",
              "        vertical-align: top;\n",
              "    }\n",
              "\n",
              "    .dataframe thead th {\n",
              "        text-align: right;\n",
              "    }\n",
              "</style>\n",
              "<table border=\"1\" class=\"dataframe\">\n",
              "  <thead>\n",
              "    <tr style=\"text-align: right;\">\n",
              "      <th></th>\n",
              "      <th></th>\n",
              "      <th>0</th>\n",
              "      <th>1</th>\n",
              "      <th>precision</th>\n",
              "      <th>recall</th>\n",
              "      <th>f1-score</th>\n",
              "      <th>accuracy</th>\n",
              "      <th>support</th>\n",
              "      <th>precision_avg</th>\n",
              "      <th>recall_avg</th>\n",
              "      <th>f1-score_avg</th>\n",
              "      <th>note</th>\n",
              "    </tr>\n",
              "    <tr>\n",
              "      <th>name</th>\n",
              "      <th>index</th>\n",
              "      <th></th>\n",
              "      <th></th>\n",
              "      <th></th>\n",
              "      <th></th>\n",
              "      <th></th>\n",
              "      <th></th>\n",
              "      <th></th>\n",
              "      <th></th>\n",
              "      <th></th>\n",
              "      <th></th>\n",
              "      <th></th>\n",
              "    </tr>\n",
              "  </thead>\n",
              "  <tbody>\n",
              "    <tr>\n",
              "      <th rowspan=\"2\" valign=\"top\">RandomForestClassifier: Train</th>\n",
              "      <th>0</th>\n",
              "      <td>9081.0</td>\n",
              "      <td>3568.0</td>\n",
              "      <td>0.80</td>\n",
              "      <td>0.72</td>\n",
              "      <td>0.76</td>\n",
              "      <td>0.85</td>\n",
              "      <td>12649.0</td>\n",
              "      <td>0.84</td>\n",
              "      <td>0.82</td>\n",
              "      <td>0.82</td>\n",
              "      <td>n_estimators=200, criterion='entropy', max_dep...</td>\n",
              "    </tr>\n",
              "    <tr>\n",
              "      <th>1</th>\n",
              "      <td>2218.0</td>\n",
              "      <td>23255.0</td>\n",
              "      <td>0.87</td>\n",
              "      <td>0.91</td>\n",
              "      <td>0.89</td>\n",
              "      <td>0.85</td>\n",
              "      <td>25473.0</td>\n",
              "      <td>0.84</td>\n",
              "      <td>0.82</td>\n",
              "      <td>0.82</td>\n",
              "      <td></td>\n",
              "    </tr>\n",
              "    <tr>\n",
              "      <th rowspan=\"2\" valign=\"top\">RandomForestClassifier: Test</th>\n",
              "      <th>0</th>\n",
              "      <td>3711.0</td>\n",
              "      <td>1708.0</td>\n",
              "      <td>0.78</td>\n",
              "      <td>0.68</td>\n",
              "      <td>0.73</td>\n",
              "      <td>0.83</td>\n",
              "      <td>5419.0</td>\n",
              "      <td>0.81</td>\n",
              "      <td>0.79</td>\n",
              "      <td>0.80</td>\n",
              "      <td>n_estimators=200, criterion='entropy', max_dep...</td>\n",
              "    </tr>\n",
              "    <tr>\n",
              "      <th>1</th>\n",
              "      <td>1076.0</td>\n",
              "      <td>9843.0</td>\n",
              "      <td>0.85</td>\n",
              "      <td>0.90</td>\n",
              "      <td>0.88</td>\n",
              "      <td>0.83</td>\n",
              "      <td>10919.0</td>\n",
              "      <td>0.81</td>\n",
              "      <td>0.79</td>\n",
              "      <td>0.80</td>\n",
              "      <td></td>\n",
              "    </tr>\n",
              "  </tbody>\n",
              "</table>\n",
              "</div>"
            ],
            "text/plain": [
              "                                          0  ...                                               note\n",
              "name                          index          ...                                                   \n",
              "RandomForestClassifier: Train 0      9081.0  ...  n_estimators=200, criterion='entropy', max_dep...\n",
              "                              1      2218.0  ...                                                   \n",
              "RandomForestClassifier: Test  0      3711.0  ...  n_estimators=200, criterion='entropy', max_dep...\n",
              "                              1      1076.0  ...                                                   \n",
              "\n",
              "[4 rows x 11 columns]"
            ]
          },
          "metadata": {
            "tags": []
          }
        },
        {
          "output_type": "display_data",
          "data": {
            "image/png": "[encoded data removed]",
            "text/plain": [
              "<Figure size 360x360 with 1 Axes>"
            ]
          },
          "metadata": {
            "tags": [],
            "needs_background": "light"
          }
        }
      ]
    }
  ]
}