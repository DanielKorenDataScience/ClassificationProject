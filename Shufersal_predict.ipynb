{
  "nbformat": 4,
  "nbformat_minor": 0,
  "metadata": {
    "colab": {
      "name": "Shufersal_predict.ipynb",
      "provenance": [],
      "collapsed_sections": [
        "bNnieSsiHr4A",
        "4wii-OJ3actf",
        "7F_RegNtdIXn",
        "d_VBfeuUhKST",
        "l-Vbit-Z_sWW",
        "cIEYB-tFOhTb",
        "RBQIPpoUev6b",
        "W6tvvVZVRJz4",
        "Uos9bzosB7dU",
        "_e8SpyWLhzKl"
      ],
      "toc_visible": true,
      "include_colab_link": true
    },
    "kernelspec": {
      "name": "python3",
      "display_name": "Python 3"
    },
    "language_info": {
      "name": "python"
    }
  },
  "cells": [
    {
      "cell_type": "markdown",
      "metadata": {
        "id": "view-in-github",
        "colab_type": "text"
      },
      "source": [
        "<a href=\"https://colab.research.google.com/github/DanielKorenDataScience/ClassificationProject/blob/main/Shufersal_predict.ipynb\" target=\"_parent\"><img src=\"https://colab.research.google.com/assets/colab-badge.svg\" alt=\"Open In Colab\"/></a>"
      ]
    },
    {
      "cell_type": "markdown",
      "metadata": {
        "id": "AsgFwVtRbySD"
      },
      "source": [
        "Classification Project - SWEETS predict\n",
        "\n",
        "\n",
        "for Shufersal on-line orders, for replacing of missing products, will predict the replacement success!"
      ]
    },
    {
      "cell_type": "code",
      "metadata": {
        "id": "yGba9FH7bxTM"
      },
      "source": [
        "import requests\n",
        "import pandas as pd\n",
        "import matplotlib.pyplot as plt\n",
        "import numpy as np\n",
        "\n",
        "from IPython.display import display\n",
        "p = print\n",
        "d = display"
      ],
      "execution_count": 2,
      "outputs": []
    },
    {
      "cell_type": "markdown",
      "metadata": {
        "id": "K5fip8cGHkql"
      },
      "source": [
        "# Get Data"
      ]
    },
    {
      "cell_type": "markdown",
      "metadata": {
        "id": "KWnIiiXgmFyP"
      },
      "source": [
        "## Raw Data"
      ]
    },
    {
      "cell_type": "code",
      "metadata": {
        "id": "UvzC3e_IDvSd"
      },
      "source": [
        "id = ''  # name of result file\n",
        "prefix = 'Shufersal'\n",
        "\n",
        "RAW = True\n",
        "DIFF = True"
      ],
      "execution_count": 3,
      "outputs": []
    },
    {
      "cell_type": "code",
      "metadata": {
        "id": "Sp4iGxceSita"
      },
      "source": [
        "def get_raw(fname):\n",
        "  data_url = 'https://raw.githubusercontent.com/DanielKorenDataScience/ClassificationProject/main/' + fname\n",
        "  resp = requests.get(data_url)\n",
        "  text = resp.text\n",
        "  \n",
        "  if len(text) > 100:\n",
        "    with open(fname, 'w') as fh:\n",
        "      fh.write(text)"
      ],
      "execution_count": 4,
      "outputs": []
    },
    {
      "cell_type": "code",
      "metadata": {
        "id": "a4g1hSQGEQcR"
      },
      "source": [
        "def diff_list(li1, li2):\n",
        "  p(len(li1), len(li1))\n",
        "  return [i for i in li1 + li2 if i not in li1 or i not in li2]"
      ],
      "execution_count": 5,
      "outputs": []
    },
    {
      "cell_type": "code",
      "metadata": {
        "id": "VoP0C8qFhCkD",
        "colab": {
          "base_uri": "https://localhost:8080/",
          "height": 146
        },
        "outputId": "af4d9b1e-8d63-4fe2-e177-8be17ac8f663"
      },
      "source": [
        "if RAW:\n",
        "  fname = 'Sweets.csv'\n",
        "  get_raw(fname)    \n",
        "  df1 = pd.read_csv(fname, encoding='utf-8', nrows=1)\n",
        "  df2 = pd.read_csv(fname, encoding='utf-8', usecols=[i for i in range(82) if not i in[0,8,10,12,14,16,18,20,24,26,27,48,50,52,54,56,58,62,64,65]])\n",
        "  d(df1)"
      ],
      "execution_count": 6,
      "outputs": [
        {
          "output_type": "display_data",
          "data": {
            "text/html": [
              "<div>\n",
              "<style scoped>\n",
              "    .dataframe tbody tr th:only-of-type {\n",
              "        vertical-align: middle;\n",
              "    }\n",
              "\n",
              "    .dataframe tbody tr th {\n",
              "        vertical-align: top;\n",
              "    }\n",
              "\n",
              "    .dataframe thead th {\n",
              "        text-align: right;\n",
              "    }\n",
              "</style>\n",
              "<table border=\"1\" class=\"dataframe\">\n",
              "  <thead>\n",
              "    <tr style=\"text-align: right;\">\n",
              "      <th></th>\n",
              "      <th>OrderNumbert</th>\n",
              "      <th>HouseHoldID</th>\n",
              "      <th>LocationCityName</th>\n",
              "      <th>QuarterNumber</th>\n",
              "      <th>MonthNumber</th>\n",
              "      <th>WeekNumber</th>\n",
              "      <th>DayNumberInWeek</th>\n",
              "      <th>PeriodHoliday</th>\n",
              "      <th>TransactionDate</th>\n",
              "      <th>DepartmentCode</th>\n",
              "      <th>DepartmentName</th>\n",
              "      <th>CategoryCode</th>\n",
              "      <th>CategoryName</th>\n",
              "      <th>GroupCode</th>\n",
              "      <th>GroupName</th>\n",
              "      <th>SubGroupCode</th>\n",
              "      <th>SubGroupName</th>\n",
              "      <th>CompoundID</th>\n",
              "      <th>CompoundIDDesc</th>\n",
              "      <th>ParentProductNumber</th>\n",
              "      <th>ProductDescription</th>\n",
              "      <th>BrandIndDesc</th>\n",
              "      <th>BrandName</th>\n",
              "      <th>VendorNumber</th>\n",
              "      <th>VendorName</th>\n",
              "      <th>UnitOfMeasure</th>\n",
              "      <th>ItemsPerPackageWH</th>\n",
              "      <th>DescriptionTavit</th>\n",
              "      <th>Price</th>\n",
              "      <th>Quantity</th>\n",
              "      <th>cntPrdAll</th>\n",
              "      <th>NetSaleAmountAll</th>\n",
              "      <th>NetSaleNoVatPrdLast3Months</th>\n",
              "      <th>QuantSale</th>\n",
              "      <th>cntMonths</th>\n",
              "      <th>DiscountPerUnit</th>\n",
              "      <th>isPromo</th>\n",
              "      <th>Energy</th>\n",
              "      <th>Pachmema</th>\n",
              "      <th>Natran</th>\n",
              "      <th>...</th>\n",
              "      <th>ShumanRavuy</th>\n",
              "      <th>ShumanTrans</th>\n",
              "      <th>Colastrol</th>\n",
              "      <th>SivimTzunatim</th>\n",
              "      <th>CafiotSucar</th>\n",
              "      <th>DepartmentCodeSubs</th>\n",
              "      <th>DepartmentNameSusb</th>\n",
              "      <th>CategoryCodeSubs</th>\n",
              "      <th>CategoryNameSubs</th>\n",
              "      <th>GroupCodeSubs</th>\n",
              "      <th>GroupNameSubs</th>\n",
              "      <th>SubGroupCodeSubs</th>\n",
              "      <th>SubGroupNameSubs</th>\n",
              "      <th>CompoundIDSubs</th>\n",
              "      <th>CompoundIDDescSubs</th>\n",
              "      <th>ProductNumberSubs</th>\n",
              "      <th>ProductDescriptionSubs</th>\n",
              "      <th>BrandIndDescSuss</th>\n",
              "      <th>BrandNameSubs</th>\n",
              "      <th>VendorNumberSubs</th>\n",
              "      <th>VendorNameSubs</th>\n",
              "      <th>UnitOfMeasureSubs</th>\n",
              "      <th>ItemsPerPackageWHSubs</th>\n",
              "      <th>DescriptionTavitSubs</th>\n",
              "      <th>PriceSubs</th>\n",
              "      <th>NetSaleNoVatPrdSubs</th>\n",
              "      <th>QuantSaleSubs</th>\n",
              "      <th>cntMonthsSubs</th>\n",
              "      <th>DiscountPerUnitSubs</th>\n",
              "      <th>EnergySubs</th>\n",
              "      <th>PachmemaSubs</th>\n",
              "      <th>NatranSubs</th>\n",
              "      <th>HelbonSubs</th>\n",
              "      <th>ShumanSubs</th>\n",
              "      <th>ShumanRavuySubs</th>\n",
              "      <th>ShumanTransSubs</th>\n",
              "      <th>ColastrolSubs</th>\n",
              "      <th>SivimTzunatimSubs</th>\n",
              "      <th>CafiotSucarSusb</th>\n",
              "      <th>CorrelateItemStatusCode</th>\n",
              "    </tr>\n",
              "  </thead>\n",
              "  <tbody>\n",
              "    <tr>\n",
              "      <th>0</th>\n",
              "      <td>40052</td>\n",
              "      <td>1</td>\n",
              "      <td>ראשון לציון</td>\n",
              "      <td>202101</td>\n",
              "      <td>202102</td>\n",
              "      <td>202108</td>\n",
              "      <td>1</td>\n",
              "      <td>NotHoliday</td>\n",
              "      <td>21/02/2021</td>\n",
              "      <td>10</td>\n",
              "      <td>10-מזון יבש</td>\n",
              "      <td>6</td>\n",
              "      <td>מתוקים</td>\n",
              "      <td>700</td>\n",
              "      <td>חטיפים מתוקים</td>\n",
              "      <td>3</td>\n",
              "      <td>שקיות גדולות/קטנות</td>\n",
              "      <td>-8.000500e+12</td>\n",
              "      <td>205קינדר בואנו מיני מיקס</td>\n",
              "      <td>8.000500e+12</td>\n",
              "      <td>205קינדר בואנו מיני מיקס</td>\n",
              "      <td>קינדר</td>\n",
              "      <td>לא מותג פרטי</td>\n",
              "      <td>914547</td>\n",
              "      <td>פרימיום-חברה לדברי מתיקה</td>\n",
              "      <td>0.205</td>\n",
              "      <td>15</td>\n",
              "      <td>205 גרם</td>\n",
              "      <td>18.9</td>\n",
              "      <td>4</td>\n",
              "      <td>22</td>\n",
              "      <td>800.63</td>\n",
              "      <td>57747.16</td>\n",
              "      <td>0.8</td>\n",
              "      <td>16</td>\n",
              "      <td>NaN</td>\n",
              "      <td>noPromo</td>\n",
              "      <td>568</td>\n",
              "      <td>49.5</td>\n",
              "      <td>107</td>\n",
              "      <td>...</td>\n",
              "      <td>17.3</td>\n",
              "      <td>0.5</td>\n",
              "      <td>15</td>\n",
              "      <td>NaN</td>\n",
              "      <td>NaN</td>\n",
              "      <td>10</td>\n",
              "      <td>10-מזון יבש</td>\n",
              "      <td>6</td>\n",
              "      <td>מתוקים</td>\n",
              "      <td>700</td>\n",
              "      <td>חטיפים מתוקים</td>\n",
              "      <td>6</td>\n",
              "      <td>חטיפי ילדים</td>\n",
              "      <td>-8.000500e+12</td>\n",
              "      <td>קינדר בואנו מיני 86 גרם</td>\n",
              "      <td>8.000500e+12</td>\n",
              "      <td>קינדר בואנו מיני 86 גרם</td>\n",
              "      <td>קינדר</td>\n",
              "      <td>לא מותג פרטי</td>\n",
              "      <td>914547</td>\n",
              "      <td>פרימיום-חברה לדברי מתיקה</td>\n",
              "      <td>0.086</td>\n",
              "      <td>12</td>\n",
              "      <td>86 גרם</td>\n",
              "      <td>9.9</td>\n",
              "      <td>46128.25</td>\n",
              "      <td>0.8</td>\n",
              "      <td>13</td>\n",
              "      <td>NaN</td>\n",
              "      <td>NaN</td>\n",
              "      <td>NaN</td>\n",
              "      <td>NaN</td>\n",
              "      <td>NaN</td>\n",
              "      <td>NaN</td>\n",
              "      <td>NaN</td>\n",
              "      <td>NaN</td>\n",
              "      <td>NaN</td>\n",
              "      <td>NaN</td>\n",
              "      <td>NaN</td>\n",
              "      <td>1</td>\n",
              "    </tr>\n",
              "  </tbody>\n",
              "</table>\n",
              "<p>1 rows × 82 columns</p>\n",
              "</div>"
            ],
            "text/plain": [
              "   OrderNumbert  HouseHoldID  ... CafiotSucarSusb  CorrelateItemStatusCode\n",
              "0         40052            1  ...             NaN                        1\n",
              "\n",
              "[1 rows x 82 columns]"
            ]
          },
          "metadata": {
            "tags": []
          }
        }
      ]
    },
    {
      "cell_type": "markdown",
      "metadata": {
        "id": "YnYOkLt5oySI"
      },
      "source": [
        "Eliminating unwanted columns - mostly descriptive columns"
      ]
    },
    {
      "cell_type": "code",
      "metadata": {
        "id": "zAv5e7lRBzpu",
        "colab": {
          "base_uri": "https://localhost:8080/",
          "height": 374
        },
        "outputId": "bd6f39c7-07a9-41e8-9a18-67c83a8d220f"
      },
      "source": [
        "if RAW:\n",
        "  d(diff_list(list(df1.columns), list(df2.columns)))"
      ],
      "execution_count": 7,
      "outputs": [
        {
          "output_type": "stream",
          "text": [
            "82 82\n"
          ],
          "name": "stdout"
        },
        {
          "output_type": "display_data",
          "data": {
            "text/plain": [
              "['OrderNumbert',\n",
              " 'TransactionDate',\n",
              " 'DepartmentName',\n",
              " 'CategoryName',\n",
              " 'GroupName',\n",
              " 'SubGroupName',\n",
              " 'CompoundIDDesc',\n",
              " 'ProductDescription',\n",
              " 'VendorName',\n",
              " 'ItemsPerPackageWH',\n",
              " 'DescriptionTavit',\n",
              " 'DepartmentNameSusb',\n",
              " 'CategoryNameSubs',\n",
              " 'GroupNameSubs',\n",
              " 'SubGroupNameSubs',\n",
              " 'CompoundIDDescSubs',\n",
              " 'ProductDescriptionSubs',\n",
              " 'VendorNameSubs',\n",
              " 'ItemsPerPackageWHSubs',\n",
              " 'DescriptionTavitSubs']"
            ]
          },
          "metadata": {
            "tags": []
          }
        }
      ]
    },
    {
      "cell_type": "code",
      "metadata": {
        "id": "DNsn5qrnsvYo",
        "colab": {
          "base_uri": "https://localhost:8080/",
          "height": 1000
        },
        "outputId": "41ad10ad-b708-4c44-de67-23affe062ef7"
      },
      "source": [
        "if RAW:\n",
        "  d(df2.info())"
      ],
      "execution_count": 8,
      "outputs": [
        {
          "output_type": "stream",
          "text": [
            "<class 'pandas.core.frame.DataFrame'>\n",
            "RangeIndex: 54460 entries, 0 to 54459\n",
            "Data columns (total 62 columns):\n",
            " #   Column                      Non-Null Count  Dtype  \n",
            "---  ------                      --------------  -----  \n",
            " 0   HouseHoldID                 54460 non-null  int64  \n",
            " 1   LocationCityName            54460 non-null  object \n",
            " 2   QuarterNumber               54460 non-null  int64  \n",
            " 3   MonthNumber                 54460 non-null  int64  \n",
            " 4   WeekNumber                  54460 non-null  int64  \n",
            " 5   DayNumberInWeek             54460 non-null  int64  \n",
            " 6   PeriodHoliday               54460 non-null  object \n",
            " 7   DepartmentCode              54460 non-null  int64  \n",
            " 8   CategoryCode                54460 non-null  int64  \n",
            " 9   GroupCode                   54460 non-null  int64  \n",
            " 10  SubGroupCode                54460 non-null  int64  \n",
            " 11  CompoundID                  54460 non-null  float64\n",
            " 12  ParentProductNumber         54460 non-null  float64\n",
            " 13  BrandIndDesc                54460 non-null  object \n",
            " 14  BrandName                   54460 non-null  object \n",
            " 15  VendorNumber                54460 non-null  int64  \n",
            " 16  UnitOfMeasure               54460 non-null  float64\n",
            " 17  Price                       54460 non-null  float64\n",
            " 18  Quantity                    54460 non-null  int64  \n",
            " 19  cntPrdAll                   54460 non-null  int64  \n",
            " 20  NetSaleAmountAll            54460 non-null  float64\n",
            " 21  NetSaleNoVatPrdLast3Months  54200 non-null  float64\n",
            " 22  QuantSale                   52050 non-null  float64\n",
            " 23  cntMonths                   54460 non-null  int64  \n",
            " 24  DiscountPerUnit             32398 non-null  float64\n",
            " 25  isPromo                     54460 non-null  object \n",
            " 26  Energy                      50118 non-null  float64\n",
            " 27  Pachmema                    49682 non-null  float64\n",
            " 28  Natran                      44899 non-null  float64\n",
            " 29  Helbon                      43120 non-null  float64\n",
            " 30  Shuman                      43054 non-null  float64\n",
            " 31  ShumanRavuy                 42542 non-null  float64\n",
            " 32  ShumanTrans                 42294 non-null  float64\n",
            " 33  Colastrol                   35200 non-null  float64\n",
            " 34  SivimTzunatim               10731 non-null  float64\n",
            " 35  CafiotSucar                 31399 non-null  float64\n",
            " 36  DepartmentCodeSubs          54460 non-null  int64  \n",
            " 37  CategoryCodeSubs            54460 non-null  int64  \n",
            " 38  GroupCodeSubs               54460 non-null  int64  \n",
            " 39  SubGroupCodeSubs            54460 non-null  int64  \n",
            " 40  CompoundIDSubs              54460 non-null  float64\n",
            " 41  ProductNumberSubs           54460 non-null  float64\n",
            " 42  BrandIndDescSuss            54456 non-null  object \n",
            " 43  BrandNameSubs               54460 non-null  object \n",
            " 44  VendorNumberSubs            54460 non-null  int64  \n",
            " 45  UnitOfMeasureSubs           54460 non-null  float64\n",
            " 46  PriceSubs                   54460 non-null  float64\n",
            " 47  NetSaleNoVatPrdSubs         54235 non-null  float64\n",
            " 48  QuantSaleSubs               52885 non-null  float64\n",
            " 49  cntMonthsSubs               54460 non-null  int64  \n",
            " 50  DiscountPerUnitSubs         2370 non-null   float64\n",
            " 51  EnergySubs                  49638 non-null  float64\n",
            " 52  PachmemaSubs                49328 non-null  float64\n",
            " 53  NatranSubs                  44680 non-null  float64\n",
            " 54  HelbonSubs                  42730 non-null  float64\n",
            " 55  ShumanSubs                  43250 non-null  float64\n",
            " 56  ShumanRavuySubs             42118 non-null  float64\n",
            " 57  ShumanTransSubs             41819 non-null  float64\n",
            " 58  ColastrolSubs               34865 non-null  float64\n",
            " 59  SivimTzunatimSubs           11973 non-null  float64\n",
            " 60  CafiotSucarSusb             30626 non-null  float64\n",
            " 61  CorrelateItemStatusCode     54460 non-null  int64  \n",
            "dtypes: float64(35), int64(20), object(7)\n",
            "memory usage: 25.8+ MB\n"
          ],
          "name": "stdout"
        },
        {
          "output_type": "display_data",
          "data": {
            "text/plain": [
              "None"
            ]
          },
          "metadata": {
            "tags": []
          }
        }
      ]
    },
    {
      "cell_type": "code",
      "metadata": {
        "id": "g8MX6rBCuirA"
      },
      "source": [
        "# Fix Typo mistake\n",
        "if RAW: \n",
        "  df2.rename(columns={'OrderNumbert': 'OrderNumber','BrandIndDescSuss': 'BrandIndDescSubs', 'ProductNumberSubs': 'ParentProductNumberSubs', \n",
        "                    'NetSaleNoVatPrdSubs': 'NetSaleNoVatPrdLast3MonthsSubs', 'CafiotSucarSusb': 'CafiotSucarSubs'}, inplace=True)"
      ],
      "execution_count": 9,
      "outputs": []
    },
    {
      "cell_type": "markdown",
      "metadata": {
        "id": "HmIVwYFDCAX8"
      },
      "source": [
        "Eliminating nulls"
      ]
    },
    {
      "cell_type": "code",
      "metadata": {
        "id": "UQCtiUn0u2i0",
        "colab": {
          "base_uri": "https://localhost:8080/",
          "height": 1000
        },
        "outputId": "11149f50-3538-43a8-e151-54afa9c3ed7c"
      },
      "source": [
        "# Fill na\n",
        "if RAW:\n",
        "  df2.fillna({'QuantSale': 1, 'QuantSaleSubs': 1}, inplace=True)\n",
        "  df2.fillna(0, inplace=True)\n",
        "  d(df2.info())"
      ],
      "execution_count": 10,
      "outputs": [
        {
          "output_type": "stream",
          "text": [
            "<class 'pandas.core.frame.DataFrame'>\n",
            "RangeIndex: 54460 entries, 0 to 54459\n",
            "Data columns (total 62 columns):\n",
            " #   Column                          Non-Null Count  Dtype  \n",
            "---  ------                          --------------  -----  \n",
            " 0   HouseHoldID                     54460 non-null  int64  \n",
            " 1   LocationCityName                54460 non-null  object \n",
            " 2   QuarterNumber                   54460 non-null  int64  \n",
            " 3   MonthNumber                     54460 non-null  int64  \n",
            " 4   WeekNumber                      54460 non-null  int64  \n",
            " 5   DayNumberInWeek                 54460 non-null  int64  \n",
            " 6   PeriodHoliday                   54460 non-null  object \n",
            " 7   DepartmentCode                  54460 non-null  int64  \n",
            " 8   CategoryCode                    54460 non-null  int64  \n",
            " 9   GroupCode                       54460 non-null  int64  \n",
            " 10  SubGroupCode                    54460 non-null  int64  \n",
            " 11  CompoundID                      54460 non-null  float64\n",
            " 12  ParentProductNumber             54460 non-null  float64\n",
            " 13  BrandIndDesc                    54460 non-null  object \n",
            " 14  BrandName                       54460 non-null  object \n",
            " 15  VendorNumber                    54460 non-null  int64  \n",
            " 16  UnitOfMeasure                   54460 non-null  float64\n",
            " 17  Price                           54460 non-null  float64\n",
            " 18  Quantity                        54460 non-null  int64  \n",
            " 19  cntPrdAll                       54460 non-null  int64  \n",
            " 20  NetSaleAmountAll                54460 non-null  float64\n",
            " 21  NetSaleNoVatPrdLast3Months      54460 non-null  float64\n",
            " 22  QuantSale                       54460 non-null  float64\n",
            " 23  cntMonths                       54460 non-null  int64  \n",
            " 24  DiscountPerUnit                 54460 non-null  float64\n",
            " 25  isPromo                         54460 non-null  object \n",
            " 26  Energy                          54460 non-null  float64\n",
            " 27  Pachmema                        54460 non-null  float64\n",
            " 28  Natran                          54460 non-null  float64\n",
            " 29  Helbon                          54460 non-null  float64\n",
            " 30  Shuman                          54460 non-null  float64\n",
            " 31  ShumanRavuy                     54460 non-null  float64\n",
            " 32  ShumanTrans                     54460 non-null  float64\n",
            " 33  Colastrol                       54460 non-null  float64\n",
            " 34  SivimTzunatim                   54460 non-null  float64\n",
            " 35  CafiotSucar                     54460 non-null  float64\n",
            " 36  DepartmentCodeSubs              54460 non-null  int64  \n",
            " 37  CategoryCodeSubs                54460 non-null  int64  \n",
            " 38  GroupCodeSubs                   54460 non-null  int64  \n",
            " 39  SubGroupCodeSubs                54460 non-null  int64  \n",
            " 40  CompoundIDSubs                  54460 non-null  float64\n",
            " 41  ParentProductNumberSubs         54460 non-null  float64\n",
            " 42  BrandIndDescSubs                54460 non-null  object \n",
            " 43  BrandNameSubs                   54460 non-null  object \n",
            " 44  VendorNumberSubs                54460 non-null  int64  \n",
            " 45  UnitOfMeasureSubs               54460 non-null  float64\n",
            " 46  PriceSubs                       54460 non-null  float64\n",
            " 47  NetSaleNoVatPrdLast3MonthsSubs  54460 non-null  float64\n",
            " 48  QuantSaleSubs                   54460 non-null  float64\n",
            " 49  cntMonthsSubs                   54460 non-null  int64  \n",
            " 50  DiscountPerUnitSubs             54460 non-null  float64\n",
            " 51  EnergySubs                      54460 non-null  float64\n",
            " 52  PachmemaSubs                    54460 non-null  float64\n",
            " 53  NatranSubs                      54460 non-null  float64\n",
            " 54  HelbonSubs                      54460 non-null  float64\n",
            " 55  ShumanSubs                      54460 non-null  float64\n",
            " 56  ShumanRavuySubs                 54460 non-null  float64\n",
            " 57  ShumanTransSubs                 54460 non-null  float64\n",
            " 58  ColastrolSubs                   54460 non-null  float64\n",
            " 59  SivimTzunatimSubs               54460 non-null  float64\n",
            " 60  CafiotSucarSubs                 54460 non-null  float64\n",
            " 61  CorrelateItemStatusCode         54460 non-null  int64  \n",
            "dtypes: float64(35), int64(20), object(7)\n",
            "memory usage: 25.8+ MB\n"
          ],
          "name": "stdout"
        },
        {
          "output_type": "display_data",
          "data": {
            "text/plain": [
              "None"
            ]
          },
          "metadata": {
            "tags": []
          }
        }
      ]
    },
    {
      "cell_type": "markdown",
      "metadata": {
        "id": "KRd7-IQDfv-U"
      },
      "source": [
        "## Remove duplicates"
      ]
    },
    {
      "cell_type": "markdown",
      "metadata": {
        "id": "ycDRDOxjf1-S"
      },
      "source": [
        "### remove features thar are not related to the product"
      ]
    },
    {
      "cell_type": "code",
      "metadata": {
        "colab": {
          "base_uri": "https://localhost:8080/"
        },
        "id": "XiCueDZCg-90",
        "outputId": "0f2c7fcc-7626-47e0-9797-59a3eb79b4a9"
      },
      "source": [
        "df2.columns"
      ],
      "execution_count": 11,
      "outputs": [
        {
          "output_type": "execute_result",
          "data": {
            "text/plain": [
              "Index(['HouseHoldID', 'LocationCityName', 'QuarterNumber', 'MonthNumber',\n",
              "       'WeekNumber', 'DayNumberInWeek', 'PeriodHoliday', 'DepartmentCode',\n",
              "       'CategoryCode', 'GroupCode', 'SubGroupCode', 'CompoundID',\n",
              "       'ParentProductNumber', 'BrandIndDesc', 'BrandName', 'VendorNumber',\n",
              "       'UnitOfMeasure', 'Price', 'Quantity', 'cntPrdAll', 'NetSaleAmountAll',\n",
              "       'NetSaleNoVatPrdLast3Months', 'QuantSale', 'cntMonths',\n",
              "       'DiscountPerUnit', 'isPromo', 'Energy', 'Pachmema', 'Natran', 'Helbon',\n",
              "       'Shuman', 'ShumanRavuy', 'ShumanTrans', 'Colastrol', 'SivimTzunatim',\n",
              "       'CafiotSucar', 'DepartmentCodeSubs', 'CategoryCodeSubs',\n",
              "       'GroupCodeSubs', 'SubGroupCodeSubs', 'CompoundIDSubs',\n",
              "       'ParentProductNumberSubs', 'BrandIndDescSubs', 'BrandNameSubs',\n",
              "       'VendorNumberSubs', 'UnitOfMeasureSubs', 'PriceSubs',\n",
              "       'NetSaleNoVatPrdLast3MonthsSubs', 'QuantSaleSubs', 'cntMonthsSubs',\n",
              "       'DiscountPerUnitSubs', 'EnergySubs', 'PachmemaSubs', 'NatranSubs',\n",
              "       'HelbonSubs', 'ShumanSubs', 'ShumanRavuySubs', 'ShumanTransSubs',\n",
              "       'ColastrolSubs', 'SivimTzunatimSubs', 'CafiotSucarSubs',\n",
              "       'CorrelateItemStatusCode'],\n",
              "      dtype='object')"
            ]
          },
          "metadata": {
            "tags": []
          },
          "execution_count": 11
        }
      ]
    },
    {
      "cell_type": "markdown",
      "metadata": {
        "id": "u8sdJrKtsPIp"
      },
      "source": [
        "## Prepare master and subs datasets"
      ]
    },
    {
      "cell_type": "markdown",
      "metadata": {
        "id": "VchAusPmhc-8"
      },
      "source": [
        "The following features are needed in order to predict - we do not predict based on a productId alone, but also on sales info\n"
      ]
    },
    {
      "cell_type": "code",
      "metadata": {
        "id": "ihs7BJavh7cy"
      },
      "source": [
        "cols_master = ['NetSaleNoVatPrdLast3Months', 'QuantSale', 'cntMonths']\n",
        "cols_subs = ['NetSaleNoVatPrdLast3MonthsSubs', 'QuantSaleSubs', 'cntMonthsSubs']\n",
        " # we have to choose the last price in the qtr for each product as part of it's feature' assuming it will not change too much in the next qtr"
      ],
      "execution_count": 12,
      "outputs": []
    },
    {
      "cell_type": "code",
      "metadata": {
        "id": "XmD41kZddIXs",
        "colab": {
          "base_uri": "https://localhost:8080/"
        },
        "outputId": "17695869-7eed-4be2-da36-ad08642740ec"
      },
      "source": [
        "if RAW:\n",
        "  cols = ['HouseHoldID', 'LocationCityName', 'QuarterNumber', 'MonthNumber',\n",
        "       'WeekNumber', 'DayNumberInWeek', 'PeriodHoliday', 'cntPrdAll', 'NetSaleAmountAll',\n",
        "       'Quantity', 'CorrelateItemStatusCode', 'Price']\n",
        "  df = df2.drop(cols, axis=1)\n",
        "\n",
        "  df_no_promo = df.drop('isPromo', axis=1)\n",
        "\n",
        "  cols = ['isPromo', 'DepartmentCodeSubs', 'CategoryCodeSubs',\n",
        "       'GroupCodeSubs', 'SubGroupCodeSubs', 'CompoundIDSubs',\n",
        "       'ParentProductNumberSubs', 'BrandIndDescSubs', 'BrandNameSubs',\n",
        "       'VendorNumberSubs', 'UnitOfMeasureSubs', 'PriceSubs', 'DiscountPerUnitSubs', \n",
        "       'EnergySubs', 'PachmemaSubs', 'NatranSubs', \n",
        "       'HelbonSubs', 'ShumanSubs', 'ShumanRavuySubs', 'ShumanTransSubs',\n",
        "       'ColastrolSubs', 'SivimTzunatimSubs', 'CafiotSucarSubs',\n",
        "       'NetSaleNoVatPrdLast3MonthsSubs', 'QuantSaleSubs', 'cntMonthsSubs']\n",
        "  df_master = df.drop(cols, axis=1)\n",
        "\n",
        "  cols = ['isPromo', 'DepartmentCode', 'CategoryCode', \n",
        "        'GroupCode', 'SubGroupCode', 'CompoundID', \n",
        "       'ParentProductNumber', 'BrandIndDesc', 'BrandName', \n",
        "       'VendorNumber', 'UnitOfMeasure', 'DiscountPerUnit',\n",
        "       'Energy', 'Pachmema', 'Natran', 'Helbon',\n",
        "       'Shuman', 'ShumanRavuy', 'ShumanTrans', 'Colastrol', 'SivimTzunatim',\n",
        "       'CafiotSucar', 'NetSaleNoVatPrdLast3Months', 'QuantSale', 'cntMonths']\n",
        "  df_subs = df.drop(cols, axis=1)\n",
        "\n",
        "  p(df.shape, df_no_promo.shape, df_master.shape, df_subs.shape)"
      ],
      "execution_count": 22,
      "outputs": [
        {
          "output_type": "stream",
          "text": [
            "(54460, 50) (54460, 49) (54460, 24) (54460, 25)\n"
          ],
          "name": "stdout"
        }
      ]
    },
    {
      "cell_type": "code",
      "metadata": {
        "colab": {
          "base_uri": "https://localhost:8080/"
        },
        "id": "qdXOeu90iJXF",
        "outputId": "db9c5881-9d12-4589-c4a2-1542b3190d26"
      },
      "source": [
        "df.drop_duplicates(inplace=True)\n",
        "p(df.shape)"
      ],
      "execution_count": 25,
      "outputs": [
        {
          "output_type": "stream",
          "text": [
            "(17396, 50)\n"
          ],
          "name": "stdout"
        }
      ]
    },
    {
      "cell_type": "code",
      "metadata": {
        "colab": {
          "base_uri": "https://localhost:8080/"
        },
        "id": "2mTAvXJ_jyjY",
        "outputId": "72d638bf-2c93-4f35-b856-c8fc3ecd5fbb"
      },
      "source": [
        "df_no_promo.drop_duplicates(inplace=True)\n",
        "p(df_no_promo.shape)"
      ],
      "execution_count": 24,
      "outputs": [
        {
          "output_type": "stream",
          "text": [
            "(17396, 49)\n"
          ],
          "name": "stdout"
        }
      ]
    },
    {
      "cell_type": "code",
      "metadata": {
        "colab": {
          "base_uri": "https://localhost:8080/",
          "height": 309
        },
        "id": "1VwU8J_RVRdT",
        "outputId": "50b6ac1e-2df4-467e-d7a5-dacf5ec3419b"
      },
      "source": [
        "df_master.drop_duplicates(inplace=True)\n",
        "p(df_master.shape)\n",
        "d(df_master.head())"
      ],
      "execution_count": 23,
      "outputs": [
        {
          "output_type": "stream",
          "text": [
            "(4778, 24)\n"
          ],
          "name": "stdout"
        },
        {
          "output_type": "display_data",
          "data": {
            "text/html": [
              "<div>\n",
              "<style scoped>\n",
              "    .dataframe tbody tr th:only-of-type {\n",
              "        vertical-align: middle;\n",
              "    }\n",
              "\n",
              "    .dataframe tbody tr th {\n",
              "        vertical-align: top;\n",
              "    }\n",
              "\n",
              "    .dataframe thead th {\n",
              "        text-align: right;\n",
              "    }\n",
              "</style>\n",
              "<table border=\"1\" class=\"dataframe\">\n",
              "  <thead>\n",
              "    <tr style=\"text-align: right;\">\n",
              "      <th></th>\n",
              "      <th>DepartmentCode</th>\n",
              "      <th>CategoryCode</th>\n",
              "      <th>GroupCode</th>\n",
              "      <th>SubGroupCode</th>\n",
              "      <th>CompoundID</th>\n",
              "      <th>ParentProductNumber</th>\n",
              "      <th>BrandIndDesc</th>\n",
              "      <th>BrandName</th>\n",
              "      <th>VendorNumber</th>\n",
              "      <th>UnitOfMeasure</th>\n",
              "      <th>NetSaleNoVatPrdLast3Months</th>\n",
              "      <th>QuantSale</th>\n",
              "      <th>cntMonths</th>\n",
              "      <th>DiscountPerUnit</th>\n",
              "      <th>Energy</th>\n",
              "      <th>Pachmema</th>\n",
              "      <th>Natran</th>\n",
              "      <th>Helbon</th>\n",
              "      <th>Shuman</th>\n",
              "      <th>ShumanRavuy</th>\n",
              "      <th>ShumanTrans</th>\n",
              "      <th>Colastrol</th>\n",
              "      <th>SivimTzunatim</th>\n",
              "      <th>CafiotSucar</th>\n",
              "    </tr>\n",
              "  </thead>\n",
              "  <tbody>\n",
              "    <tr>\n",
              "      <th>0</th>\n",
              "      <td>10</td>\n",
              "      <td>6</td>\n",
              "      <td>700</td>\n",
              "      <td>3</td>\n",
              "      <td>-8.000500e+12</td>\n",
              "      <td>8.000500e+12</td>\n",
              "      <td>קינדר</td>\n",
              "      <td>לא מותג פרטי</td>\n",
              "      <td>914547</td>\n",
              "      <td>0.205</td>\n",
              "      <td>57747.16</td>\n",
              "      <td>0.8</td>\n",
              "      <td>16</td>\n",
              "      <td>0.000</td>\n",
              "      <td>568.0</td>\n",
              "      <td>49.5</td>\n",
              "      <td>107.0</td>\n",
              "      <td>8.6</td>\n",
              "      <td>37.8</td>\n",
              "      <td>17.3</td>\n",
              "      <td>0.5</td>\n",
              "      <td>15.0</td>\n",
              "      <td>0.0</td>\n",
              "      <td>0.00</td>\n",
              "    </tr>\n",
              "    <tr>\n",
              "      <th>1</th>\n",
              "      <td>10</td>\n",
              "      <td>6</td>\n",
              "      <td>699</td>\n",
              "      <td>4</td>\n",
              "      <td>2.900000e+03</td>\n",
              "      <td>1.781340e+05</td>\n",
              "      <td>פרה</td>\n",
              "      <td>לא מותג פרטי</td>\n",
              "      <td>912069</td>\n",
              "      <td>0.400</td>\n",
              "      <td>141798.59</td>\n",
              "      <td>0.6</td>\n",
              "      <td>16</td>\n",
              "      <td>0.000</td>\n",
              "      <td>514.0</td>\n",
              "      <td>51.0</td>\n",
              "      <td>0.0</td>\n",
              "      <td>5.3</td>\n",
              "      <td>31.0</td>\n",
              "      <td>19.2</td>\n",
              "      <td>0.5</td>\n",
              "      <td>0.0</td>\n",
              "      <td>0.0</td>\n",
              "      <td>12.25</td>\n",
              "    </tr>\n",
              "    <tr>\n",
              "      <th>2</th>\n",
              "      <td>10</td>\n",
              "      <td>6</td>\n",
              "      <td>699</td>\n",
              "      <td>3</td>\n",
              "      <td>1.204300e+04</td>\n",
              "      <td>7.610400e+12</td>\n",
              "      <td>לינדט</td>\n",
              "      <td>לא מותג פרטי</td>\n",
              "      <td>912317</td>\n",
              "      <td>0.100</td>\n",
              "      <td>80904.21</td>\n",
              "      <td>0.7</td>\n",
              "      <td>11</td>\n",
              "      <td>2.823</td>\n",
              "      <td>534.0</td>\n",
              "      <td>51.0</td>\n",
              "      <td>34.0</td>\n",
              "      <td>6.9</td>\n",
              "      <td>32.0</td>\n",
              "      <td>17.0</td>\n",
              "      <td>0.5</td>\n",
              "      <td>10.0</td>\n",
              "      <td>0.0</td>\n",
              "      <td>11.50</td>\n",
              "    </tr>\n",
              "    <tr>\n",
              "      <th>3</th>\n",
              "      <td>10</td>\n",
              "      <td>6</td>\n",
              "      <td>699</td>\n",
              "      <td>2</td>\n",
              "      <td>8.579000e+03</td>\n",
              "      <td>7.290110e+12</td>\n",
              "      <td>קליק</td>\n",
              "      <td>לא מותג פרטי</td>\n",
              "      <td>912268</td>\n",
              "      <td>0.085</td>\n",
              "      <td>18277.75</td>\n",
              "      <td>1.0</td>\n",
              "      <td>14</td>\n",
              "      <td>0.899</td>\n",
              "      <td>527.0</td>\n",
              "      <td>67.4</td>\n",
              "      <td>117.0</td>\n",
              "      <td>7.4</td>\n",
              "      <td>25.3</td>\n",
              "      <td>16.3</td>\n",
              "      <td>0.5</td>\n",
              "      <td>11.0</td>\n",
              "      <td>0.0</td>\n",
              "      <td>12.75</td>\n",
              "    </tr>\n",
              "    <tr>\n",
              "      <th>4</th>\n",
              "      <td>10</td>\n",
              "      <td>6</td>\n",
              "      <td>699</td>\n",
              "      <td>3</td>\n",
              "      <td>3.072700e+04</td>\n",
              "      <td>7.296070e+12</td>\n",
              "      <td>שופרסל</td>\n",
              "      <td>מותג פרטי</td>\n",
              "      <td>913725</td>\n",
              "      <td>0.100</td>\n",
              "      <td>45785.99</td>\n",
              "      <td>0.8</td>\n",
              "      <td>16</td>\n",
              "      <td>1.857</td>\n",
              "      <td>607.0</td>\n",
              "      <td>13.0</td>\n",
              "      <td>10.0</td>\n",
              "      <td>11.0</td>\n",
              "      <td>53.0</td>\n",
              "      <td>32.0</td>\n",
              "      <td>0.5</td>\n",
              "      <td>0.0</td>\n",
              "      <td>17.0</td>\n",
              "      <td>2.00</td>\n",
              "    </tr>\n",
              "  </tbody>\n",
              "</table>\n",
              "</div>"
            ],
            "text/plain": [
              "   DepartmentCode  CategoryCode  ...  SivimTzunatim  CafiotSucar\n",
              "0              10             6  ...            0.0         0.00\n",
              "1              10             6  ...            0.0        12.25\n",
              "2              10             6  ...            0.0        11.50\n",
              "3              10             6  ...            0.0        12.75\n",
              "4              10             6  ...           17.0         2.00\n",
              "\n",
              "[5 rows x 24 columns]"
            ]
          },
          "metadata": {
            "tags": []
          }
        }
      ]
    },
    {
      "cell_type": "code",
      "metadata": {
        "id": "y_FWYSg6lSV8",
        "outputId": "00d93090-a93a-4125-f0dd-a7e3f3eaf301",
        "colab": {
          "base_uri": "https://localhost:8080/"
        }
      },
      "source": [
        "df_master.groupby('ParentProductNumber')['DepartmentCode']"
      ],
      "execution_count": 20,
      "outputs": [
        {
          "output_type": "execute_result",
          "data": {
            "text/plain": [
              "<pandas.core.groupby.generic.SeriesGroupBy object at 0x7f0b5db0aa50>"
            ]
          },
          "metadata": {
            "tags": []
          },
          "execution_count": 20
        }
      ]
    },
    {
      "cell_type": "code",
      "metadata": {
        "id": "nqpjwIu2loeE"
      },
      "source": [
        ""
      ],
      "execution_count": null,
      "outputs": []
    },
    {
      "cell_type": "code",
      "metadata": {
        "colab": {
          "base_uri": "https://localhost:8080/",
          "height": 450
        },
        "id": "891EchjzX7iN",
        "outputId": "42b44c16-dc4c-46cf-ff80-649ee7e10543"
      },
      "source": [
        "# first group 471 - ['DepartmentCode', 'CategoryCode', 'GroupCode','SubGroupCode', 'CompoundID', 'BrandName', 'VendorNumber',\n",
        "#             'Shuman', 'ShumanRavuy', 'Colastrol', 'SivimTzunatim', 'CafiotSucar'] did not change that number\n",
        "val = pd.DataFrame(df_master.value_counts(['ParentProductNumber', 'BrandIndDesc', 'UnitOfMeasure', 'DiscountPerUnit', \n",
        "                        'Energy', 'Pachmema', 'Natran', 'Helbon', 'ShumanTrans']))\n",
        "d(val)"
      ],
      "execution_count": 26,
      "outputs": [
        {
          "output_type": "display_data",
          "data": {
            "text/html": [
              "<div>\n",
              "<style scoped>\n",
              "    .dataframe tbody tr th:only-of-type {\n",
              "        vertical-align: middle;\n",
              "    }\n",
              "\n",
              "    .dataframe tbody tr th {\n",
              "        vertical-align: top;\n",
              "    }\n",
              "\n",
              "    .dataframe thead th {\n",
              "        text-align: right;\n",
              "    }\n",
              "</style>\n",
              "<table border=\"1\" class=\"dataframe\">\n",
              "  <thead>\n",
              "    <tr style=\"text-align: right;\">\n",
              "      <th></th>\n",
              "      <th></th>\n",
              "      <th></th>\n",
              "      <th></th>\n",
              "      <th></th>\n",
              "      <th></th>\n",
              "      <th></th>\n",
              "      <th></th>\n",
              "      <th></th>\n",
              "      <th>0</th>\n",
              "    </tr>\n",
              "    <tr>\n",
              "      <th>ParentProductNumber</th>\n",
              "      <th>BrandIndDesc</th>\n",
              "      <th>UnitOfMeasure</th>\n",
              "      <th>DiscountPerUnit</th>\n",
              "      <th>Energy</th>\n",
              "      <th>Pachmema</th>\n",
              "      <th>Natran</th>\n",
              "      <th>Helbon</th>\n",
              "      <th>ShumanTrans</th>\n",
              "      <th></th>\n",
              "    </tr>\n",
              "  </thead>\n",
              "  <tbody>\n",
              "    <tr>\n",
              "      <th rowspan=\"5\" valign=\"top\">7.296070e+12</th>\n",
              "      <th rowspan=\"5\" valign=\"top\">שופרסל</th>\n",
              "      <th>0.180</th>\n",
              "      <th>0.900</th>\n",
              "      <th>344.0</th>\n",
              "      <th>83.0</th>\n",
              "      <th>50.0</th>\n",
              "      <th>3.0</th>\n",
              "      <th>0.0</th>\n",
              "      <td>3</td>\n",
              "    </tr>\n",
              "    <tr>\n",
              "      <th rowspan=\"3\" valign=\"top\">0.060</th>\n",
              "      <th>1.900</th>\n",
              "      <th>548.0</th>\n",
              "      <th>57.1</th>\n",
              "      <th>80.0</th>\n",
              "      <th>5.6</th>\n",
              "      <th>0.5</th>\n",
              "      <td>3</td>\n",
              "    </tr>\n",
              "    <tr>\n",
              "      <th>2.900</th>\n",
              "      <th>548.0</th>\n",
              "      <th>57.1</th>\n",
              "      <th>80.0</th>\n",
              "      <th>5.6</th>\n",
              "      <th>0.5</th>\n",
              "      <td>3</td>\n",
              "    </tr>\n",
              "    <tr>\n",
              "      <th>2.890</th>\n",
              "      <th>548.0</th>\n",
              "      <th>57.1</th>\n",
              "      <th>80.0</th>\n",
              "      <th>5.6</th>\n",
              "      <th>0.5</th>\n",
              "      <td>3</td>\n",
              "    </tr>\n",
              "    <tr>\n",
              "      <th>0.180</th>\n",
              "      <th>0.000</th>\n",
              "      <th>344.0</th>\n",
              "      <th>83.0</th>\n",
              "      <th>50.0</th>\n",
              "      <th>3.0</th>\n",
              "      <th>0.0</th>\n",
              "      <td>3</td>\n",
              "    </tr>\n",
              "    <tr>\n",
              "      <th>...</th>\n",
              "      <th>...</th>\n",
              "      <th>...</th>\n",
              "      <th>...</th>\n",
              "      <th>...</th>\n",
              "      <th>...</th>\n",
              "      <th>...</th>\n",
              "      <th>...</th>\n",
              "      <th>...</th>\n",
              "      <td>...</td>\n",
              "    </tr>\n",
              "    <tr>\n",
              "      <th rowspan=\"4\" valign=\"top\">7.290110e+12</th>\n",
              "      <th rowspan=\"4\" valign=\"top\">פרה</th>\n",
              "      <th rowspan=\"4\" valign=\"top\">0.100</th>\n",
              "      <th>1.478</th>\n",
              "      <th>547.0</th>\n",
              "      <th>48.0</th>\n",
              "      <th>99.0</th>\n",
              "      <th>10.1</th>\n",
              "      <th>0.5</th>\n",
              "      <td>1</td>\n",
              "    </tr>\n",
              "    <tr>\n",
              "      <th>1.479</th>\n",
              "      <th>547.0</th>\n",
              "      <th>48.0</th>\n",
              "      <th>99.0</th>\n",
              "      <th>10.1</th>\n",
              "      <th>0.5</th>\n",
              "      <td>1</td>\n",
              "    </tr>\n",
              "    <tr>\n",
              "      <th>1.481</th>\n",
              "      <th>568.0</th>\n",
              "      <th>44.0</th>\n",
              "      <th>160.0</th>\n",
              "      <th>13.7</th>\n",
              "      <th>0.5</th>\n",
              "      <td>1</td>\n",
              "    </tr>\n",
              "    <tr>\n",
              "      <th>1.482</th>\n",
              "      <th>547.0</th>\n",
              "      <th>48.0</th>\n",
              "      <th>99.0</th>\n",
              "      <th>10.1</th>\n",
              "      <th>0.5</th>\n",
              "      <td>1</td>\n",
              "    </tr>\n",
              "    <tr>\n",
              "      <th>1.616310e+05</th>\n",
              "      <th>קליק</th>\n",
              "      <th>0.038</th>\n",
              "      <th>0.000</th>\n",
              "      <th>533.0</th>\n",
              "      <th>59.0</th>\n",
              "      <th>75.0</th>\n",
              "      <th>9.1</th>\n",
              "      <th>0.5</th>\n",
              "      <td>1</td>\n",
              "    </tr>\n",
              "  </tbody>\n",
              "</table>\n",
              "<p>4748 rows × 1 columns</p>\n",
              "</div>"
            ],
            "text/plain": [
              "                                                                                                          0\n",
              "ParentProductNumber BrandIndDesc UnitOfMeasure DiscountPerUnit Energy Pachmema Natran Helbon ShumanTrans   \n",
              "7.296070e+12        שופרסל       0.180         0.900           344.0  83.0     50.0   3.0    0.0          3\n",
              "                                 0.060         1.900           548.0  57.1     80.0   5.6    0.5          3\n",
              "                                               2.900           548.0  57.1     80.0   5.6    0.5          3\n",
              "                                               2.890           548.0  57.1     80.0   5.6    0.5          3\n",
              "                                 0.180         0.000           344.0  83.0     50.0   3.0    0.0          3\n",
              "...                                                                                                      ..\n",
              "7.290110e+12        פרה          0.100         1.478           547.0  48.0     99.0   10.1   0.5          1\n",
              "                                               1.479           547.0  48.0     99.0   10.1   0.5          1\n",
              "                                               1.481           568.0  44.0     160.0  13.7   0.5          1\n",
              "                                               1.482           547.0  48.0     99.0   10.1   0.5          1\n",
              "1.616310e+05        קליק         0.038         0.000           533.0  59.0     75.0   9.1    0.5          1\n",
              "\n",
              "[4748 rows x 1 columns]"
            ]
          },
          "metadata": {
            "tags": []
          }
        }
      ]
    },
    {
      "cell_type": "code",
      "metadata": {
        "id": "FLb_6G7uVRy7"
      },
      "source": [
        "df_subs.drop_duplicates(inplace=True)\n",
        "p(df_subs.shape)\n",
        "d(df_subs.head())"
      ],
      "execution_count": null,
      "outputs": []
    },
    {
      "cell_type": "markdown",
      "metadata": {
        "id": "8gG8we1Ws_Mj"
      },
      "source": [
        "# Save partial data"
      ]
    },
    {
      "cell_type": "code",
      "metadata": {
        "id": "HABZ4mSww0qk"
      },
      "source": [
        "if RAW\n",
        "  df2.to_csv(prefix + \".csv\", index = False)\n",
        "  p(df2.shape)"
      ],
      "execution_count": null,
      "outputs": []
    },
    {
      "cell_type": "code",
      "metadata": {
        "id": "lqhgbV2PGVDC"
      },
      "source": [
        "if RAW:\n",
        "  df = pd.read_csv(prefix + '.csv', index_col=False)\n",
        "  p(df.shape)"
      ],
      "execution_count": null,
      "outputs": []
    },
    {
      "cell_type": "markdown",
      "metadata": {
        "id": "renJj2--1PoG"
      },
      "source": [
        "## Encoding categories"
      ]
    },
    {
      "cell_type": "code",
      "metadata": {
        "id": "Z0frP-SsM4Gq"
      },
      "source": [
        "from sklearn.preprocessing import LabelEncoder\n",
        "enc = LabelEncoder()\n",
        "\n",
        "if RAW:\n",
        "  enc.fit(['PromoSusbDiffPromo', 'PromoSusbSamePromo', 'noPromo'])\n",
        "  p(df.isPromo.value_counts())\n",
        "  p()\n",
        "  df.isPromo = enc.transform(df.isPromo)\n",
        "  p(df.isPromo.value_counts())"
      ],
      "execution_count": null,
      "outputs": []
    },
    {
      "cell_type": "code",
      "metadata": {
        "id": "CXZ6Hs2L1ONt"
      },
      "source": [
        "if RAW:\n",
        "  for col in ['LocationCityName', 'PeriodHoliday', 'BrandIndDesc', 'BrandName', 'BrandIndDescSubs', 'BrandNameSubs']:\n",
        "    p(col)\n",
        "    p(pd.DataFrame(df[col].value_counts()).index)\n",
        "    df[col] = enc.fit_transform(df[col])\n",
        "    p(pd.DataFrame(df[col].value_counts()).index)"
      ],
      "execution_count": null,
      "outputs": []
    },
    {
      "cell_type": "markdown",
      "metadata": {
        "id": "4rM2GtyAYC0G"
      },
      "source": [
        "## Combine 'GroupCode' and 'SubGroupCode' into one column"
      ]
    },
    {
      "cell_type": "code",
      "metadata": {
        "id": "NUZO5YI5YBgY"
      },
      "source": [
        "if RAW:\n",
        "  d(df.head(2))\n",
        "  df.GroupCode = df.GroupCode * 10 + df.SubGroupCode\n",
        "  df.GroupCodeSubs = df.GroupCodeSubs * 10 + df.SubGroupCodeSubs\n",
        " # df.drop(['SubGroupCode', 'SubGroupCodeSubs'], axis=1, inplace=True)\n",
        "  d(df.head(2))"
      ],
      "execution_count": null,
      "outputs": []
    },
    {
      "cell_type": "markdown",
      "metadata": {
        "id": "pRT1z8asSKa0"
      },
      "source": [
        "## Use Dummies"
      ]
    },
    {
      "cell_type": "markdown",
      "metadata": {
        "id": "Q4sf5rfwdnqs"
      },
      "source": [
        "Minimal improvement - FalseNegative (0,0) improved from 1338 to 1328"
      ]
    },
    {
      "cell_type": "code",
      "metadata": {
        "id": "enpCWADOSFsg"
      },
      "source": [
        "## Converting the categories column (isPromo) to dummies column \n",
        "if RAW:\n",
        "  p(df.shape)\n",
        "  df = pd.get_dummies(df, columns=['isPromo', 'PeriodHoliday'])\n",
        "  p(df.shape)"
      ],
      "execution_count": null,
      "outputs": []
    },
    {
      "cell_type": "code",
      "metadata": {
        "id": "weFSY7OLZWsG"
      },
      "source": [
        "if RAW:\n",
        "  df_t = df.copy()"
      ],
      "execution_count": null,
      "outputs": []
    },
    {
      "cell_type": "markdown",
      "metadata": {
        "id": "bNnieSsiHr4A"
      },
      "source": [
        "## Calc diff vector"
      ]
    },
    {
      "cell_type": "code",
      "metadata": {
        "id": "2h_nBoBY_5o5"
      },
      "source": [
        "if RAW:\n",
        "  p(df.columns)"
      ],
      "execution_count": null,
      "outputs": []
    },
    {
      "cell_type": "code",
      "metadata": {
        "id": "dVnvNLbJEFao"
      },
      "source": [
        "if RAW and DIFF:\n",
        "  for col in ['DepartmentCode', 'CategoryCode', 'GroupCode', #'SubGroupCode',\n",
        "       'CompoundID', 'ParentProductNumber', 'BrandIndDesc',\n",
        "       'VendorNumber', 'UnitOfMeasure', 'Price', 'NetSaleNoVatPrdLast3Months', 'Energy', 'Pachmema',\n",
        "       'Natran', 'Helbon', 'Shuman', 'ShumanRavuy', 'ShumanTrans', 'Colastrol',\n",
        "       'SivimTzunatim', 'CafiotSucar', 'QuantSale', 'cntMonths', 'DiscountPerUnit']:\n",
        "    df[col + 'Diff'] = df[col] - df[col + 'Subs']"
      ],
      "execution_count": null,
      "outputs": []
    },
    {
      "cell_type": "code",
      "metadata": {
        "id": "R1pvSAXODmsI"
      },
      "source": [
        "if RAW and DIFF:\n",
        "  for col in ['DepartmentCode', 'CategoryCode', 'GroupCode', #'SubGroupCode',\n",
        "       'CompoundID', 'ParentProductNumber', 'VendorNumber', 'BrandIndDesc']:\n",
        "    df[col + 'Diff'] = (df[col + 'Diff'] != 0)    # tested both ==0 and !=0 (the result is 1 for one and 0 for the other - no change in the model results)\n",
        "    df[col + 'Diff'] = enc.fit_transform(df[col + 'Diff'])"
      ],
      "execution_count": null,
      "outputs": []
    },
    {
      "cell_type": "code",
      "metadata": {
        "id": "LuelWNmFIQ4y"
      },
      "source": [
        "## Converting the categories column (isPromo) to dummies column \n",
        "if RAW and DIFF and False:\n",
        "  p(df.shape)\n",
        "  cols = []\n",
        "  for col in ['DepartmentCode', 'CategoryCode', 'GroupCode',\n",
        "        'CompoundID', 'ParentProductNumber', 'VendorNumber', 'BrandIndDesc']:\n",
        "      cols.append(col)\n",
        "      cols.append(col + 'Subs')\n",
        "      cols.append(col + 'Diff')\n",
        "  df = pd.get_dummies(df, columns=cols)\n",
        "  p(df.shape)"
      ],
      "execution_count": null,
      "outputs": []
    },
    {
      "cell_type": "code",
      "metadata": {
        "id": "y8AeEktZ8SJB"
      },
      "source": [
        "if RAW and DIFF:\n",
        "  df.to_csv(prefix + \"_with_diff.csv\", index = False)"
      ],
      "execution_count": null,
      "outputs": []
    },
    {
      "cell_type": "code",
      "metadata": {
        "id": "lDvfuMAa8ze9"
      },
      "source": [
        "if RAW and DIFF:\n",
        "  df = pd.read_csv(prefix + '_with_diff.csv', index_col=False)\n",
        "  p(df.shape)"
      ],
      "execution_count": null,
      "outputs": []
    },
    {
      "cell_type": "markdown",
      "metadata": {
        "id": "bWMLTqJmOsbW"
      },
      "source": [
        "# Get ready Data"
      ]
    },
    {
      "cell_type": "code",
      "metadata": {
        "id": "JreYWRN5-viM"
      },
      "source": [
        "if RAW:\n",
        "  p(df.shape)\n",
        "  d(df.head())"
      ],
      "execution_count": null,
      "outputs": []
    },
    {
      "cell_type": "code",
      "metadata": {
        "id": "eRMl2lJ0BiXV"
      },
      "source": [
        "#if not RAW: - so not to use df_ratio\n",
        "df = pd.read_csv(prefix + '_with_diff.csv', encoding='ISO-8859-8')\n",
        "p(df.shape)\n",
        "d(df.head())"
      ],
      "execution_count": null,
      "outputs": []
    },
    {
      "cell_type": "markdown",
      "metadata": {
        "id": "N27b5TlMH14F"
      },
      "source": [
        "# Models"
      ]
    },
    {
      "cell_type": "markdown",
      "metadata": {
        "id": "cIEYB-tFOhTb"
      },
      "source": [
        "\n",
        "## Models - process_model code"
      ]
    },
    {
      "cell_type": "code",
      "metadata": {
        "id": "pMu7UaSHZ2BX"
      },
      "source": [
        "from sklearn.metrics import confusion_matrix, classification_report, accuracy_score\n",
        "import math\n",
        "\n",
        "pd.set_option(\"precision\", 2)\n",
        "df_result = pd.DataFrame()"
      ],
      "execution_count": null,
      "outputs": []
    },
    {
      "cell_type": "code",
      "metadata": {
        "id": "6rVRpGZCICWb"
      },
      "source": [
        "from sklearn.model_selection import train_test_split, GridSearchCV, cross_val_score\n",
        "\n",
        "X = df.drop('CorrelateItemStatusCode', axis=1)\n",
        "y = df.CorrelateItemStatusCode.astype(int)\n",
        "\n",
        "X_train, X_test, y_train, y_test = train_test_split(X, y, train_size=0.7, random_state=0)"
      ],
      "execution_count": null,
      "outputs": []
    },
    {
      "cell_type": "code",
      "metadata": {
        "id": "SD0WOCyeZqSg"
      },
      "source": [
        "def report(clf, X, y, note, test, data_type='Test'):\n",
        "  global df_result\n",
        "  name = type(clf).__name__ + ': ' + data_type\n",
        "  acc = accuracy_score(y_true=y, y_pred=clf.predict(X))\n",
        "  index = [(name, clf.classes_[0]), (name, clf.classes_[1])]\n",
        "  cm = pd.DataFrame(confusion_matrix(y_true=y, y_pred=clf.predict(X)),\n",
        "                    index=clf.classes_,\n",
        "                    columns=clf.classes_)\n",
        "  cm.reset_index(drop=True, inplace=True)\n",
        "  rep = classification_report(y_true=y, y_pred=clf.predict(X), zero_division=1, output_dict=True)\n",
        "  rep =  pd.DataFrame(rep)\n",
        "  rep = rep.T\n",
        "  rep['accuracy'] = acc\n",
        "  rep.support = rep.support.astype(int)\n",
        "  cols = list(rep.columns[:3]) + ['accuracy', 'support']\n",
        "  rep = rep[cols]\n",
        "  rep['precision_avg'] = rep.precision['macro avg']\n",
        "  rep['recall_avg'] = rep.recall['macro avg']\n",
        "  rep['f1-score_avg'] = rep['f1-score']['macro avg']\n",
        "  rep.drop(['accuracy', 'macro avg', 'weighted avg'], axis=0, inplace=True)\n",
        "  rep.reset_index(drop=True, inplace=True)\n",
        "  df = cm.join(rep)\n",
        "  df['name'] = name\n",
        "  df['note'] = note\n",
        "  df.loc[1, 'note'] = ''\n",
        "  if test:  # do not add to database\n",
        "    d(df)\n",
        "  else:    \n",
        "    df.reset_index(inplace=True)\n",
        "    df_result.reset_index(inplace=True)\n",
        "    df_result = df_result.append(df, ignore_index=True)\n",
        "    df_result.set_index(['name', 'index'], inplace=True)\n",
        "  return df_result"
      ],
      "execution_count": null,
      "outputs": []
    },
    {
      "cell_type": "code",
      "metadata": {
        "id": "Ci9f_i4dMAXy"
      },
      "source": [
        "def showFeatureImportance(model, X, threshold):\n",
        "  if type(model).__name__ == 'LogisticRegression':  # no features importance data\n",
        "    w0 = model.intercept_[0]\n",
        "    w = model.coef_[0]\n",
        "    fx_imp = pd.Series(w, index=X.columns)\n",
        "  else:\n",
        "    fx_imp = pd.Series(model.feature_importances_, index=X.columns)\n",
        "  fx_imp /= fx_imp.sum()\n",
        "  fx_imp = fx_imp.sort_values()\n",
        "  fx_imp = fx_imp[fx_imp > threshold]\n",
        "  fig = plt.figure(figsize=(5,5))\n",
        "  plt.xlim(0, 1)\n",
        "  fx_imp.plot(kind='barh', title=type(model).__name__ )"
      ],
      "execution_count": null,
      "outputs": []
    },
    {
      "cell_type": "code",
      "metadata": {
        "id": "mjA3XyhXOKcF"
      },
      "source": [
        "def process_model(model, X, y, X_test, y_test, plot=False, threshold=0, note='', test=False):\n",
        "  p('running: ', type(model).__name__, X.shape)\n",
        "  model.fit(X, y)\n",
        "  report(model, X, y, note, test, 'Train')\n",
        "  report(model, X_test, y_test, note, test)\n",
        "  if plot:\n",
        "    showFeatureImportance(model, X, threshold)\n",
        "  return df_result "
      ],
      "execution_count": null,
      "outputs": []
    },
    {
      "cell_type": "code",
      "metadata": {
        "id": "ijx9CUGjIGCo"
      },
      "source": [
        "from sklearn.linear_model import LogisticRegression, BayesianRidge, Lasso, Ridge\n",
        "from sklearn.ensemble import GradientBoostingClassifier, RandomForestClassifier, AdaBoostClassifier, GradientBoostingRegressor, BaggingClassifier, VotingClassifier\n",
        "from sklearn.tree import DecisionTreeClassifier\n",
        "from sklearn.neighbors import KNeighborsClassifier\n",
        "from sklearn.svm import LinearSVC"
      ],
      "execution_count": null,
      "outputs": []
    },
    {
      "cell_type": "markdown",
      "metadata": {
        "id": "WMPqQC7DQKLe"
      },
      "source": [
        "\n",
        "## Models - Run process_model"
      ]
    },
    {
      "cell_type": "code",
      "metadata": {
        "id": "7n6vHsoaau-z"
      },
      "source": [
        "df_result = pd.DataFrame()\n",
        "\n",
        "clf_RF = RandomForestClassifier(n_estimators=200, criterion='entropy', max_depth=None, min_samples_split=20, ccp_alpha=0.0003, random_state=1234)\n",
        "process_model(clf_RF, X_train, y_train, X_test, y_test, plot=True, threshold=0.015, note=\"n_estimators=200, criterion='entropy', max_depth=None, min_samples_split=20, ccp_alpha=0.0003, random_state=1234\")\n",
        "\n",
        "d(df_result)\n",
        "\n",
        "#fname = prefix + f'_result_{id}.csv'\n",
        "#df_result.to_csv(fname, index = True)"
      ],
      "execution_count": null,
      "outputs": []
    }
  ]
}