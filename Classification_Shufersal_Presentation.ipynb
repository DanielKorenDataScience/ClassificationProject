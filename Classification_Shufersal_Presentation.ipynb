{
  "nbformat": 4,
  "nbformat_minor": 0,
  "metadata": {
    "colab": {
      "name": "Copy of Classification Project - Shufersal.ipynb",
      "provenance": [],
      "collapsed_sections": [
        "bNnieSsiHr4A",
        "4wii-OJ3actf",
        "7F_RegNtdIXn",
        "d_VBfeuUhKST",
        "l-Vbit-Z_sWW",
        "cIEYB-tFOhTb",
        "RBQIPpoUev6b",
        "W6tvvVZVRJz4",
        "Uos9bzosB7dU",
        "_e8SpyWLhzKl"
      ],
      "toc_visible": true,
      "include_colab_link": true
    },
    "kernelspec": {
      "name": "python3",
      "display_name": "Python 3"
    },
    "language_info": {
      "name": "python"
    }
  },
  "cells": [
    {
      "cell_type": "markdown",
      "metadata": {
        "id": "view-in-github",
        "colab_type": "text"
      },
      "source": [
        "<a href=\"https://colab.research.google.com/github/DanielKorenDataScience/ClassificationProject/blob/main/Classification_Shufersal_Presentation.ipynb\" target=\"_parent\"><img src=\"https://colab.research.google.com/assets/colab-badge.svg\" alt=\"Open In Colab\"/></a>"
      ]
    },
    {
      "cell_type": "markdown",
      "metadata": {
        "id": "AsgFwVtRbySD"
      },
      "source": [
        "Classification Project - PRESENTATION\n",
        "\n",
        "for Shufersal on-line orders, for replacing of missing products, will predict the replacement success!"
      ]
    },
    {
      "cell_type": "code",
      "metadata": {
        "id": "yGba9FH7bxTM"
      },
      "source": [
        "import requests\n",
        "import pandas as pd\n",
        "import matplotlib.pyplot as plt\n",
        "import numpy as np\n",
        "\n",
        "from IPython.display import display\n",
        "p = print\n",
        "d = display\n",
        "\n",
        "from sklearn.preprocessing import LabelEncoder"
      ],
      "execution_count": 46,
      "outputs": []
    },
    {
      "cell_type": "markdown",
      "metadata": {
        "id": "K5fip8cGHkql"
      },
      "source": [
        "# Get Data"
      ]
    },
    {
      "cell_type": "code",
      "metadata": {
        "id": "UvzC3e_IDvSd"
      },
      "source": [
        "id = 'no_diff'\n",
        "prefix = 'Shufersal'\n",
        "\n",
        "DIFF = False\n",
        "RATIO = False\n",
        "REL = False\n",
        "\n",
        "REMOVE_ING = False\n",
        "SPLIT_DATE = False\n",
        "SPLIT_DATE2 = False\n",
        "ONLY_PRICE = False\n",
        "\n",
        "SWEETS = True\n",
        "CANS = False\n",
        "DETERGENTS = False"
      ],
      "execution_count": 2,
      "outputs": []
    },
    {
      "cell_type": "code",
      "metadata": {
        "id": "sj82nrVzWKej"
      },
      "source": [
        "def get_data(fname, partial=True):\n",
        "  data_url = 'https://raw.githubusercontent.com/DanielKorenDataScience/ClassificationProject/main/' + fname\n",
        "  p(fname)\n",
        "\n",
        "  if partial:\n",
        "    # Eliminating unwanted columns - mostly descriptive columns\n",
        "    df = pd.read_csv(data_url, usecols=[i for i in range(82) if not i in[0,8,10,12,14,16,18,20,24,26,27,48,50,52,54,56,58,62,64,65]])\n",
        "  else:\n",
        "    df = pd.read_csv(data_url)\n",
        "  return df"
      ],
      "execution_count": 44,
      "outputs": []
    },
    {
      "cell_type": "markdown",
      "metadata": {
        "id": "nGKGh_hFv0rY"
      },
      "source": [
        "## Sweets or Cans or Detergents"
      ]
    },
    {
      "cell_type": "code",
      "metadata": {
        "colab": {
          "base_uri": "https://localhost:8080/",
          "height": 134
        },
        "id": "KdwAFYWqwMt8",
        "outputId": "a0961b31-a579-4226-c7f8-536b88b3c068"
      },
      "source": [
        "if SWEETS:\n",
        "  df = get_data('Sweets.csv')\n",
        "elif CANS:\n",
        "  df = get_data('Cans.csv')\n",
        "else:  \n",
        "  df = get_data('Detergents.csv')\n",
        "df.head(1)"
      ],
      "execution_count": 4,
      "outputs": [
        {
          "output_type": "stream",
          "text": [
            "Sweets.csv\n"
          ],
          "name": "stdout"
        },
        {
          "output_type": "execute_result",
          "data": {
            "text/html": [
              "<div>\n",
              "<style scoped>\n",
              "    .dataframe tbody tr th:only-of-type {\n",
              "        vertical-align: middle;\n",
              "    }\n",
              "\n",
              "    .dataframe tbody tr th {\n",
              "        vertical-align: top;\n",
              "    }\n",
              "\n",
              "    .dataframe thead th {\n",
              "        text-align: right;\n",
              "    }\n",
              "</style>\n",
              "<table border=\"1\" class=\"dataframe\">\n",
              "  <thead>\n",
              "    <tr style=\"text-align: right;\">\n",
              "      <th></th>\n",
              "      <th>HouseHoldID</th>\n",
              "      <th>LocationCityName</th>\n",
              "      <th>QuarterNumber</th>\n",
              "      <th>MonthNumber</th>\n",
              "      <th>WeekNumber</th>\n",
              "      <th>DayNumberInWeek</th>\n",
              "      <th>PeriodHoliday</th>\n",
              "      <th>DepartmentCode</th>\n",
              "      <th>CategoryCode</th>\n",
              "      <th>GroupCode</th>\n",
              "      <th>SubGroupCode</th>\n",
              "      <th>CompoundID</th>\n",
              "      <th>ParentProductNumber</th>\n",
              "      <th>BrandIndDesc</th>\n",
              "      <th>BrandName</th>\n",
              "      <th>VendorNumber</th>\n",
              "      <th>UnitOfMeasure</th>\n",
              "      <th>Price</th>\n",
              "      <th>Quantity</th>\n",
              "      <th>cntPrdAll</th>\n",
              "      <th>NetSaleAmountAll</th>\n",
              "      <th>NetSaleNoVatPrdLast3Months</th>\n",
              "      <th>QuantSale</th>\n",
              "      <th>cntMonths</th>\n",
              "      <th>DiscountPerUnit</th>\n",
              "      <th>isPromo</th>\n",
              "      <th>Energy</th>\n",
              "      <th>Pachmema</th>\n",
              "      <th>Natran</th>\n",
              "      <th>Helbon</th>\n",
              "      <th>Shuman</th>\n",
              "      <th>ShumanRavuy</th>\n",
              "      <th>ShumanTrans</th>\n",
              "      <th>Colastrol</th>\n",
              "      <th>SivimTzunatim</th>\n",
              "      <th>CafiotSucar</th>\n",
              "      <th>DepartmentCodeSubs</th>\n",
              "      <th>CategoryCodeSubs</th>\n",
              "      <th>GroupCodeSubs</th>\n",
              "      <th>SubGroupCodeSubs</th>\n",
              "      <th>CompoundIDSubs</th>\n",
              "      <th>ProductNumberSubs</th>\n",
              "      <th>BrandIndDescSuss</th>\n",
              "      <th>BrandNameSubs</th>\n",
              "      <th>VendorNumberSubs</th>\n",
              "      <th>UnitOfMeasureSubs</th>\n",
              "      <th>PriceSubs</th>\n",
              "      <th>NetSaleNoVatPrdSubs</th>\n",
              "      <th>QuantSaleSubs</th>\n",
              "      <th>cntMonthsSubs</th>\n",
              "      <th>DiscountPerUnitSubs</th>\n",
              "      <th>EnergySubs</th>\n",
              "      <th>PachmemaSubs</th>\n",
              "      <th>NatranSubs</th>\n",
              "      <th>HelbonSubs</th>\n",
              "      <th>ShumanSubs</th>\n",
              "      <th>ShumanRavuySubs</th>\n",
              "      <th>ShumanTransSubs</th>\n",
              "      <th>ColastrolSubs</th>\n",
              "      <th>SivimTzunatimSubs</th>\n",
              "      <th>CafiotSucarSusb</th>\n",
              "      <th>CorrelateItemStatusCode</th>\n",
              "    </tr>\n",
              "  </thead>\n",
              "  <tbody>\n",
              "    <tr>\n",
              "      <th>0</th>\n",
              "      <td>1</td>\n",
              "      <td>ראשון לציון</td>\n",
              "      <td>202101</td>\n",
              "      <td>202102</td>\n",
              "      <td>202108</td>\n",
              "      <td>1</td>\n",
              "      <td>NotHoliday</td>\n",
              "      <td>10</td>\n",
              "      <td>6</td>\n",
              "      <td>700</td>\n",
              "      <td>3</td>\n",
              "      <td>-8000500249352</td>\n",
              "      <td>8000500249352</td>\n",
              "      <td>קינדר</td>\n",
              "      <td>לא מותג פרטי</td>\n",
              "      <td>914547</td>\n",
              "      <td>0.205</td>\n",
              "      <td>18.9</td>\n",
              "      <td>4</td>\n",
              "      <td>22</td>\n",
              "      <td>800.63</td>\n",
              "      <td>57747.16</td>\n",
              "      <td>0.8</td>\n",
              "      <td>16</td>\n",
              "      <td>NaN</td>\n",
              "      <td>noPromo</td>\n",
              "      <td>568.0</td>\n",
              "      <td>49.5</td>\n",
              "      <td>107.0</td>\n",
              "      <td>8.6</td>\n",
              "      <td>37.8</td>\n",
              "      <td>17.3</td>\n",
              "      <td>0.5</td>\n",
              "      <td>15.0</td>\n",
              "      <td>NaN</td>\n",
              "      <td>NaN</td>\n",
              "      <td>10</td>\n",
              "      <td>6</td>\n",
              "      <td>700</td>\n",
              "      <td>6</td>\n",
              "      <td>-8000500217740</td>\n",
              "      <td>8000500217740</td>\n",
              "      <td>קינדר</td>\n",
              "      <td>לא מותג פרטי</td>\n",
              "      <td>914547</td>\n",
              "      <td>0.086</td>\n",
              "      <td>9.9</td>\n",
              "      <td>46128.25</td>\n",
              "      <td>0.8</td>\n",
              "      <td>13</td>\n",
              "      <td>NaN</td>\n",
              "      <td>NaN</td>\n",
              "      <td>NaN</td>\n",
              "      <td>NaN</td>\n",
              "      <td>NaN</td>\n",
              "      <td>NaN</td>\n",
              "      <td>NaN</td>\n",
              "      <td>NaN</td>\n",
              "      <td>NaN</td>\n",
              "      <td>NaN</td>\n",
              "      <td>NaN</td>\n",
              "      <td>1</td>\n",
              "    </tr>\n",
              "  </tbody>\n",
              "</table>\n",
              "</div>"
            ],
            "text/plain": [
              "   HouseHoldID LocationCityName  ...  CafiotSucarSusb  CorrelateItemStatusCode\n",
              "0            1      ראשון לציון  ...              NaN                        1\n",
              "\n",
              "[1 rows x 62 columns]"
            ]
          },
          "metadata": {
            "tags": []
          },
          "execution_count": 4
        }
      ]
    },
    {
      "cell_type": "markdown",
      "metadata": {
        "id": "cKk5yZErGJ_c"
      },
      "source": [
        "# EDA"
      ]
    },
    {
      "cell_type": "code",
      "metadata": {
        "id": "5Sfr2TXaeElP"
      },
      "source": [
        "import seaborn as sns\n",
        "try:\n",
        "  from bidi import algorithm as bidialg\n",
        "except:\n",
        "  !pip install python-bidi\n",
        "  from bidi import algorithm as bidialg"
      ],
      "execution_count": 39,
      "outputs": []
    },
    {
      "cell_type": "code",
      "metadata": {
        "scrolled": true,
        "id": "pkjbQqjTGJ_e",
        "colab": {
          "base_uri": "https://localhost:8080/",
          "height": 350
        },
        "outputId": "44b38d1e-5af5-4b65-98c4-c44ee6081f80"
      },
      "source": [
        "plt.figure(figsize=(8,5))\n",
        "#ax=sns.histplot(df.CorrelateItemStatusCode.astype('int'), kde=False)\n",
        "ax=sns.countplot(x=df.CorrelateItemStatusCode)\n",
        "ax.set(title='Distribution of approvals')\n",
        "# label each bar in histogram\n",
        "for pa in ax.patches:\n",
        "    height = pa.get_height() # get the height of each bar\n",
        "    # adding text to each bar\n",
        "    ax.text(x = pa.get_x()+(pa.get_width()/2), # x-coordinate position of data label, padded to be in the middle of the bar\n",
        "    y = height+0.2, # y-coordinate position of data label, padded 0.2 above bar\n",
        "    s = '{:.0f}'.format(height), # data label, formatted to ignore decimals\n",
        "    ha = 'center') # sets horizontal alignment (ha) to center\n",
        "plt.xticks(df.CorrelateItemStatusCode.astype('int').unique())\n",
        "plt.show()"
      ],
      "execution_count": 48,
      "outputs": [
        {
          "output_type": "display_data",
          "data": {
            "image/png": "[encoded data removed]",
            "text/plain": [
              "<Figure size 576x360 with 1 Axes>"
            ]
          },
          "metadata": {
            "tags": [],
            "needs_background": "light"
          }
        }
      ]
    },
    {
      "cell_type": "code",
      "metadata": {
        "id": "hHInRofdgi7c",
        "outputId": "898115ca-5739-4ff5-c3fc-62d46c27ef10",
        "colab": {
          "base_uri": "https://localhost:8080/"
        }
      },
      "source": [
        "df_cp = df.copy()\n",
        "df_origin = get_data('Sweets.csv', partial=False)"
      ],
      "execution_count": 49,
      "outputs": [
        {
          "output_type": "stream",
          "text": [
            "Sweets.csv\n"
          ],
          "name": "stdout"
        }
      ]
    },
    {
      "cell_type": "code",
      "metadata": {
        "id": "B4F_XfoWjzwy"
      },
      "source": [
        "df_cp['Refused'] = np.where(df_cp.CorrelateItemStatusCode==0, 1, 0)\n",
        "df_cp = df_cp.rename(columns={'CorrelateItemStatusCode': 'Accepted'})"
      ],
      "execution_count": 19,
      "outputs": []
    },
    {
      "cell_type": "code",
      "metadata": {
        "id": "AAFy5sjykZQw"
      },
      "source": [
        "df_plot = df_cp.groupby(['WeekNumber'])[['Accepted','Refused']].sum().reset_index()"
      ],
      "execution_count": 20,
      "outputs": []
    },
    {
      "cell_type": "code",
      "metadata": {
        "id": "UaA1pHqQlHNB",
        "colab": {
          "base_uri": "https://localhost:8080/",
          "height": 362
        },
        "outputId": "1865494b-9e83-473b-97d0-c30f9002f84e"
      },
      "source": [
        "df_plot.set_index('WeekNumber').plot(kind='bar', stacked=True, figsize=(8,5))\n",
        "plt.show()"
      ],
      "execution_count": 27,
      "outputs": [
        {
          "output_type": "display_data",
          "data": {
            "image/png": "[encoded data removed]",
            "text/plain": [
              "<Figure size 576x360 with 1 Axes>"
            ]
          },
          "metadata": {
            "tags": [],
            "needs_background": "light"
          }
        }
      ]
    },
    {
      "cell_type": "code",
      "metadata": {
        "id": "sFENVjAMqvsH",
        "colab": {
          "base_uri": "https://localhost:8080/",
          "height": 1000
        },
        "outputId": "fb9b3ccf-558b-48e9-bf0b-38b19c22ba9b"
      },
      "source": [
        "plt.figure(figsize=(15,30)) \n",
        "df_city = df_origin.groupby('LocationCityName')['CorrelateItemStatusCode'].mean().reset_index().sort_values('CorrelateItemStatusCode')\n",
        "sns.barplot( y=df_origin.LocationCityName.apply( bidialg.get_display ), x=df_origin['CorrelateItemStatusCode'], order=df_city.LocationCityName.apply( bidialg.get_display ))\n",
        "plt.show()"
      ],
      "execution_count": 42,
      "outputs": [
        {
          "output_type": "display_data",
          "data": {
            "image/png": "[encoded data removed]",
            "text/plain": [
              "<Figure size 1080x2160 with 1 Axes>"
            ]
          },
          "metadata": {
            "tags": [],
            "needs_background": "light"
          }
        }
      ]
    },
    {
      "cell_type": "code",
      "metadata": {
        "id": "viOWfX9u2AaB",
        "colab": {
          "base_uri": "https://localhost:8080/",
          "height": 606
        },
        "outputId": "0514cb72-a37a-443b-d2dd-8ba30d5bc087"
      },
      "source": [
        "plt.figure(figsize=(15,10)) \n",
        "df_group = df_origin.groupby('GroupName')['CorrelateItemStatusCode'].mean().reset_index().sort_values('CorrelateItemStatusCode')\n",
        "sns.barplot( y=df_origin.GroupName.apply( bidialg.get_display ), x=df_origin['CorrelateItemStatusCode'], order=df_group.GroupName.apply( bidialg.get_display ))\n",
        "plt.show()"
      ],
      "execution_count": 51,
      "outputs": [
        {
          "output_type": "display_data",
          "data": {
            "image/png": "[encoded data removed]",
            "text/plain": [
              "<Figure size 1080x720 with 1 Axes>"
            ]
          },
          "metadata": {
            "tags": [],
            "needs_background": "light"
          }
        }
      ]
    },
    {
      "cell_type": "markdown",
      "metadata": {
        "id": "JG0fqZIIp9uL"
      },
      "source": [
        "## Acceptance of Subs from different group"
      ]
    },
    {
      "cell_type": "code",
      "metadata": {
        "id": "jqqQfCeG3dtG",
        "colab": {
          "base_uri": "https://localhost:8080/",
          "height": 606
        },
        "outputId": "6b2684bd-dc50-48f1-d0de-5a594328feee"
      },
      "source": [
        "plt.figure(figsize=(20,10))\n",
        "df_groupmatrix = df_origin[['GroupName', 'GroupNameSubs','CorrelateItemStatusCode']].copy()\n",
        "df_groupmatrix['grpsubsnew'] = np.where(df_groupmatrix.GroupNameSubs==df_groupmatrix.GroupName,df_groupmatrix.GroupNameSubs,'Other')\n",
        "sns.barplot(x=df_groupmatrix.GroupName.apply( bidialg.get_display ), y=df_groupmatrix.CorrelateItemStatusCode, hue=df_groupmatrix.grpsubsnew.apply( bidialg.get_display ))\n",
        "plt.show()"
      ],
      "execution_count": 52,
      "outputs": [
        {
          "output_type": "display_data",
          "data": {
            "image/png": "[encoded data removed]",
            "text/plain": [
              "<Figure size 1440x720 with 1 Axes>"
            ]
          },
          "metadata": {
            "tags": [],
            "needs_background": "light"
          }
        }
      ]
    },
    {
      "cell_type": "markdown",
      "metadata": {
        "id": "om9RLRZoqP1P"
      },
      "source": [
        "## Correlation - Price is negative, isPromo is positive"
      ]
    },
    {
      "cell_type": "code",
      "metadata": {
        "id": "KlfyqIIX9DeP",
        "colab": {
          "base_uri": "https://localhost:8080/",
          "height": 1000
        },
        "outputId": "6f61438b-fc9f-4f6f-e95d-5d711d07039d"
      },
      "source": [
        "plt.figure(figsize=(15,20)) \n",
        "df_cor = df.corr()['CorrelateItemStatusCode'][:]\n",
        "df_cor_ = pd.DataFrame(df_cor).sort_values('CorrelateItemStatusCode')\n",
        "df_cor_ = df_cor_[df_cor_.index != 'CorrelateItemStatusCode']\n",
        "sns.barplot( y=df_cor_.index, x=df_cor_['CorrelateItemStatusCode'])\n",
        "plt.show()"
      ],
      "execution_count": 53,
      "outputs": [
        {
          "output_type": "display_data",
          "data": {
            "image/png": "[encoded data removed]",
            "text/plain": [
              "<Figure size 1080x1440 with 1 Axes>"
            ]
          },
          "metadata": {
            "tags": [],
            "needs_background": "light"
          }
        }
      ]
    },
    {
      "cell_type": "markdown",
      "metadata": {
        "id": "YGL6DZMqcnSj"
      },
      "source": [
        "# Various Data Sets - Functions"
      ]
    },
    {
      "cell_type": "markdown",
      "metadata": {
        "id": "bNnieSsiHr4A"
      },
      "source": [
        "## Calc diff vector"
      ]
    },
    {
      "cell_type": "code",
      "metadata": {
        "id": "dVnvNLbJEFao"
      },
      "source": [
        "def prepare_diff(df):\n",
        "  id = ''\n",
        "  for col in ['DepartmentCode', 'CategoryCode', 'GroupCode', #'SubGroupCode',\n",
        "       'CompoundID', 'ParentProductNumber', 'BrandIndDesc',\n",
        "       'VendorNumber', 'UnitOfMeasure', 'Price', 'NetSaleNoVatPrdLast3Months', 'Energy', 'Pachmema',\n",
        "       'Natran', 'Helbon', 'Shuman', 'ShumanRavuy', 'ShumanTrans', 'Colastrol',\n",
        "       'SivimTzunatim', 'CafiotSucar', 'QuantSale', 'cntMonths', 'DiscountPerUnit']:\n",
        "    df[col + 'Diff'] = df[col] - df[col + 'Subs']\n",
        "\n",
        "  for col in ['DepartmentCode', 'CategoryCode', 'GroupCode', #'SubGroupCode',\n",
        "       'CompoundID', 'ParentProductNumber', 'VendorNumber', 'BrandIndDesc']:\n",
        "    df[col + 'Diff'] = (df[col + 'Diff'] != 0)    # tested both ==0 and !=0 (the result is 1 for one and 0 for the other - no change in the model results)\n",
        "    df[col + 'Diff'] = enc.fit_transform(df[col + 'Diff'])\n",
        "\n",
        "  return df"
      ],
      "execution_count": null,
      "outputs": []
    },
    {
      "cell_type": "markdown",
      "metadata": {
        "id": "4wii-OJ3actf"
      },
      "source": [
        "## Calc Ratio vector - no change in results\n",
        "\n",
        "note: changes affects only columns that are not categorical because those we change to 0/1 in the 2nd step below"
      ]
    },
    {
      "cell_type": "code",
      "metadata": {
        "id": "3yg0D4XciR20"
      },
      "source": [
        "def prepare_ratio(df):\n",
        "  id = 'ratio'\n",
        "  for col in ['DepartmentCode', 'CategoryCode', 'GroupCode', #'SubGroupCode',\n",
        "       'CompoundID', 'ParentProductNumber', 'BrandIndDesc',\n",
        "       'VendorNumber', 'UnitOfMeasure', 'Price', 'NetSaleNoVatPrdLast3Months', 'Energy', 'Pachmema',\n",
        "       'Natran', 'Helbon', 'Shuman', 'ShumanRavuy', 'ShumanTrans', 'Colastrol',\n",
        "       'SivimTzunatim', 'CafiotSucar', 'QuantSale', 'cntMonths', 'DiscountPerUnit']:\n",
        "    df[col + 'Ratio'] = df.apply(lambda row: 999 if row[col + 'Subs'] == 0 else row[col] / row[col + 'Subs'], axis=1)\n",
        "\n",
        "  for col in ['DepartmentCode', 'CategoryCode', 'GroupCode', #'SubGroupCode',\n",
        "       'CompoundID', 'ParentProductNumber', 'VendorNumber', 'BrandIndDesc']:\n",
        "    df[col + 'Ratio'] = (df[col + 'Ratio'] != 1.0)\n",
        "    df[col + 'Ratio'] = enc.fit_transform(df[col + 'Ratio'])\n",
        "\n",
        "  return df"
      ],
      "execution_count": null,
      "outputs": []
    },
    {
      "cell_type": "markdown",
      "metadata": {
        "id": "tiuNqyZC-vgr"
      },
      "source": [
        "## Calc Relative Diff - no change in results\n",
        "\n",
        "note: changes affects only columns that are not categorical because those we change to 0/1 in the 2nd step below"
      ]
    },
    {
      "cell_type": "code",
      "metadata": {
        "id": "Yz32ftMT-vhl"
      },
      "source": [
        "def prepare_rel(df):\n",
        "  id = 'rel_diff'\n",
        "\n",
        "  for col in ['DepartmentCode', 'CategoryCode', 'GroupCode', #'SubGroupCode',\n",
        "       'CompoundID', 'ParentProductNumber', 'BrandIndDesc',\n",
        "       'VendorNumber', 'UnitOfMeasure', 'Price', 'NetSaleNoVatPrdLast3Months', 'Energy', 'Pachmema',\n",
        "       'Natran', 'Helbon', 'Shuman', 'ShumanRavuy', 'ShumanTrans', 'Colastrol',\n",
        "       'SivimTzunatim', 'CafiotSucar', 'QuantSale', 'cntMonths', 'DiscountPerUnit']:\n",
        "    df[col + 'RelDiff'] = df.apply(lambda row: 1 if row[col] == 0 else (row[col] - row[col + 'Subs']) / row[col], axis=1)\n",
        "\n",
        "  for col in ['DepartmentCode', 'CategoryCode', 'GroupCode', #'SubGroupCode',\n",
        "       'CompoundID', 'ParentProductNumber', 'VendorNumber', 'BrandIndDesc']:\n",
        "    df[col + 'RelDiff'] = (df[col + 'RelDiff'] != 0.0)\n",
        "    df[col + 'RelDiff'] = enc.fit_transform(df[col + 'RelDiff'])\n",
        "\n",
        "  return df    "
      ],
      "execution_count": null,
      "outputs": []
    },
    {
      "cell_type": "markdown",
      "metadata": {
        "id": "7F_RegNtdIXn"
      },
      "source": [
        "## Models - remove ingredients - no change in results"
      ]
    },
    {
      "cell_type": "code",
      "metadata": {
        "id": "XmD41kZddIXs"
      },
      "source": [
        "def do_remove_ing(df):\n",
        "  global X_train, X_test, y_train, y_test\n",
        "\n",
        "  id = 'remove_ingredients'\n",
        "\n",
        "  try:\n",
        "    del X_train, X_test, y_train, y_test\n",
        "  except:\n",
        "    pass\n",
        "  \n",
        "  cols = ['CorrelateItemStatusCode']\n",
        "  for col in ['Energy', 'Pachmema', 'Natran', 'Helbon', 'Shuman', 'ShumanRavuy', 'ShumanTrans', 'Colastrol',\n",
        "       'SivimTzunatim', 'CafiotSucar']:\n",
        "      cols.append(col)\n",
        "      cols.append(col + 'Subs')\n",
        "      cols.append(col + 'Diff')\n",
        "\n",
        "  X = df.drop(cols, axis=1)\n",
        "  y = df.CorrelateItemStatusCode.astype(int)\n",
        "\n",
        "  X_train, X_test, y_train, y_test = train_test_split(X, y, train_size=0.7, random_state=0)\n",
        "#  p(df.shape)\n",
        "#  p(X_train.shape, X_test.shape, y_train.shape, y_test.shape)"
      ],
      "execution_count": null,
      "outputs": []
    },
    {
      "cell_type": "markdown",
      "metadata": {
        "id": "d_VBfeuUhKST"
      },
      "source": [
        "## Models - split based on date - major change (precision went down from 84% to 78%)"
      ]
    },
    {
      "cell_type": "code",
      "metadata": {
        "id": "3hv7ppZ6hKSb"
      },
      "source": [
        "def do_split_date(df):\n",
        "  global X_train, X_test, y_train, y_test\n",
        " \n",
        "  id = 'split_based_on_date'\n",
        "\n",
        "  mask = df.WeekNumber > 202108\n",
        "  try:\n",
        "    del X_train, X_test, y_train, y_test\n",
        "  except:\n",
        "    pass\n",
        "\n",
        "  df_train = df[~mask]\n",
        "  X_train = df_train.drop('CorrelateItemStatusCode', axis=1)\n",
        "  y_train = df_train.CorrelateItemStatusCode.astype(int)\n",
        "\n",
        "  df_test = df[mask]\n",
        "  X_test = df_test.drop('CorrelateItemStatusCode', axis=1)\n",
        "  y_test = df_test.CorrelateItemStatusCode.astype(int)\n",
        "\n",
        "  #Variant - remove the date related columns - must be run after the SPLIT_DATE run because it prepares the X_train\n",
        "  if SPLIT_DATE2:\n",
        "    id = 'split_based_on_date_without_date_features_and_order_info'\n",
        "\n",
        "    cols = ['QuarterNumber', 'MonthNumber', 'WeekNumber', 'DayNumberInWeek', \n",
        "            'PeriodHoliday_0', 'PeriodHoliday_1',\n",
        "            'Quantity', 'cntPrdAll', 'NetSaleAmountAll']\n",
        "    X_train = X_train.drop(cols, axis=1)\n",
        "    X_test = X_test.drop(cols, axis=1)\n",
        "#    p(X_train.shape, X_test.shape, y_train.shape, y_test.shape)\n",
        "\n",
        "#  p(df.shape)\n",
        "#  p(X_train.shape, X_test.shape, y_train.shape, y_test.shape)"
      ],
      "execution_count": null,
      "outputs": []
    },
    {
      "cell_type": "markdown",
      "metadata": {
        "id": "l-Vbit-Z_sWW"
      },
      "source": [
        "## Models - remove all features execpt of prices"
      ]
    },
    {
      "cell_type": "code",
      "metadata": {
        "id": "zZ4Qc85u_sWc"
      },
      "source": [
        "def do_only_price(df):\n",
        "  global X_train, X_test, y_train, y_test\n",
        "\n",
        "  id = 'only_prices'\n",
        "  try:\n",
        "    del X_train, X_test, y_train, y_test\n",
        "  except:\n",
        "    pass\n",
        "  \n",
        "  X = df[['Price', 'PriceSubs', 'PriceDiff']]\n",
        "  y = df.CorrelateItemStatusCode.astype(int)\n",
        "\n",
        "  X_train, X_test, y_train, y_test = train_test_split(X, y, train_size=0.7, random_state=0)\n",
        "#  p(df.shape)\n",
        "#  p(X_train.shape, X_test.shape, y_train.shape, y_test.shape)"
      ],
      "execution_count": null,
      "outputs": []
    },
    {
      "cell_type": "markdown",
      "metadata": {
        "id": "NXv0ThRkj_Ju"
      },
      "source": [
        "# Prepare Data"
      ]
    },
    {
      "cell_type": "code",
      "metadata": {
        "id": "g8MX6rBCuirA"
      },
      "source": [
        "def prepare(df):\n",
        "  ## Fix Typo mistake\n",
        "  df.rename(columns={'OrderNumbert': 'OrderNumber','BrandIndDescSuss': 'BrandIndDescSubs', 'ProductNumberSubs': 'ParentProductNumberSubs', \\\n",
        "                    'NetSaleNoVatPrdSubs': 'NetSaleNoVatPrdLast3MonthsSubs', 'CafiotSucarSusb': 'CafiotSucarSubs'}, inplace=True)\n",
        "  \n",
        "  ##Eliminating nulls\n",
        "  df.fillna({'QuantSale': 1, 'QuantSaleSubs': 1}, inplace=True)\n",
        "  df.fillna(0, inplace=True)\n",
        "\n",
        "  ## Encoding categories\n",
        "  enc = LabelEncoder()\n",
        "  enc.fit(['PromoSusbDiffPromo', 'PromoSusbSamePromo', 'noPromo'])\n",
        "  df.isPromo = enc.transform(df.isPromo)\n",
        "\n",
        "  df['LocationCityName'] = df.LocationCityName.astype('str')\n",
        "  df['BrandIndDesc'] = df.BrandIndDesc.astype('str')\n",
        "  df['BrandIndDescSubs'] = df.BrandIndDescSubs.astype('str')\n",
        "  for col in ['LocationCityName', 'PeriodHoliday', 'BrandIndDesc', 'BrandName', 'BrandIndDescSubs', 'BrandNameSubs']:\n",
        "    df[col] = enc.fit_transform(df[col])\n",
        "\n",
        "  ## Combine 'GroupCode' and 'SubGroupCode' into one column\n",
        "  df.GroupCode = df.GroupCode * 10 + df.SubGroupCode\n",
        "  df.GroupCodeSubs = df.GroupCodeSubs * 10 + df.SubGroupCodeSubs\n",
        "\n",
        "  ## Use Dummies\n",
        "  ## Minimal improvement - FalseNegative (0,0) improved from 1338 to 1328\n",
        "  df = pd.get_dummies(df, columns=['isPromo', 'PeriodHoliday'])\n",
        "\n",
        "  if DIFF:\n",
        "    df = prepare_diff(df)\n",
        "  elif RATIO:\n",
        "    df = prepare_ratio(df)\n",
        "  elif REL:\n",
        "    df = prepare_rel(df)\n",
        "  return df    \n",
        "\n",
        "df = prepare(df)    "
      ],
      "execution_count": null,
      "outputs": []
    },
    {
      "cell_type": "markdown",
      "metadata": {
        "id": "N27b5TlMH14F"
      },
      "source": [
        "# Models"
      ]
    },
    {
      "cell_type": "markdown",
      "metadata": {
        "id": "cIEYB-tFOhTb"
      },
      "source": [
        "\n",
        "## Models - process_model code"
      ]
    },
    {
      "cell_type": "code",
      "metadata": {
        "id": "pMu7UaSHZ2BX"
      },
      "source": [
        "from sklearn.metrics import confusion_matrix, classification_report, accuracy_score\n",
        "import math\n",
        "\n",
        "pd.set_option(\"precision\", 2)\n",
        "df_result = pd.DataFrame()"
      ],
      "execution_count": null,
      "outputs": []
    },
    {
      "cell_type": "code",
      "metadata": {
        "id": "6rVRpGZCICWb"
      },
      "source": [
        "from sklearn.model_selection import train_test_split, GridSearchCV, cross_val_score\n",
        "\n",
        "X = df.drop('CorrelateItemStatusCode', axis=1)\n",
        "y = df.CorrelateItemStatusCode.astype(int)\n",
        "\n",
        "X_train, X_test, y_train, y_test = train_test_split(X, y, train_size=0.7, random_state=0)\n",
        "\n",
        "if REMOVE_ING:\n",
        "  do_remove_ing(df)\n",
        "elif SPLIT_DATE or SPLIT_DATE2:\n",
        "  do_split_date(df)\n",
        "elif ONLY_PRICE:  \n",
        "  do_only_price(df)"
      ],
      "execution_count": null,
      "outputs": []
    },
    {
      "cell_type": "code",
      "metadata": {
        "id": "SD0WOCyeZqSg"
      },
      "source": [
        "def report(clf, X, y, note, test, data_type='Test'):\n",
        "  global df_result\n",
        "  name = type(clf).__name__ + ': ' + data_type\n",
        "  acc = accuracy_score(y_true=y, y_pred=clf.predict(X))\n",
        "  index = [(name, clf.classes_[0]), (name, clf.classes_[1])]\n",
        "  cm = pd.DataFrame(confusion_matrix(y_true=y, y_pred=clf.predict(X)),\n",
        "                    index=clf.classes_,\n",
        "                    columns=clf.classes_)\n",
        "  cm.reset_index(drop=True, inplace=True)\n",
        "  rep = classification_report(y_true=y, y_pred=clf.predict(X), zero_division=1, output_dict=True)\n",
        "  rep =  pd.DataFrame(rep)\n",
        "  rep = rep.T\n",
        "  rep['accuracy'] = acc\n",
        "  rep.support = rep.support.astype(int)\n",
        "  cols = list(rep.columns[:3]) + ['accuracy', 'support']\n",
        "  rep = rep[cols]\n",
        "  rep['precision_avg'] = rep.precision['macro avg']\n",
        "  rep['recall_avg'] = rep.recall['macro avg']\n",
        "  rep['f1-score_avg'] = rep['f1-score']['macro avg']\n",
        "  rep.drop(['accuracy', 'macro avg', 'weighted avg'], axis=0, inplace=True)\n",
        "  rep.reset_index(drop=True, inplace=True)\n",
        "  df = cm.join(rep)\n",
        "  df['name'] = name\n",
        "  df['note'] = note\n",
        "  df.loc[1, 'note'] = ''\n",
        "  if test:  # do not add to database\n",
        "    d(df)\n",
        "  else:    \n",
        "    df.reset_index(inplace=True)\n",
        "    df_result.reset_index(inplace=True)\n",
        "    df_result = df_result.append(df, ignore_index=True)\n",
        "    df_result.set_index(['name', 'index'], inplace=True)\n",
        "  return df_result"
      ],
      "execution_count": null,
      "outputs": []
    },
    {
      "cell_type": "code",
      "metadata": {
        "id": "C3h2dFcAQGR3"
      },
      "source": [
        "#ROC and AUC\n",
        "from sklearn.metrics import roc_curve\n",
        "from sklearn.metrics import roc_auc_score\n",
        "\n",
        "def get_roc_and_auc(model,X_test,y_test):\n",
        "    ns_probs = [0 for _ in range(len(y_test))]\n",
        "#    lr_probs = clf_voting.predict_proba(X_test)[:,1]\n",
        "    lr_probs = model.predict_proba(X_test)[:,1]\n",
        "    ns_auc = roc_auc_score(y_test, ns_probs)\n",
        "    lr_auc = roc_auc_score(y_test, lr_probs)\n",
        "    # summarize scores\n",
        "    print('\\nNo Skill: ROC AUC=%.3f' % (ns_auc))\n",
        "    print('model: ROC AUC=%.3f' % (lr_auc))\n",
        "    # calculate roc curves\n",
        "    ns_fpr, ns_tpr, _ = roc_curve(y_test, ns_probs)\n",
        "    lr_fpr, lr_tpr, _ = roc_curve(y_test, lr_probs)\n",
        "    # plot the roc curve for the model\n",
        "    fig = plt.figure(figsize=(5,5))\n",
        "    plt.plot(ns_fpr, ns_tpr, linestyle='--', label='No Skill')\n",
        "    plt.plot(lr_fpr, lr_tpr, marker='.', label='model')\n",
        "    # axis labels\n",
        "    plt.xlabel('False Positive Rate')\n",
        "    plt.ylabel('True Positive Rate')\n",
        "    plt.title(type(model).__name__ )\n",
        "    # show the legend\n",
        "    plt.legend()\n",
        "    # show the plot\n",
        "    plt.show()"
      ],
      "execution_count": null,
      "outputs": []
    },
    {
      "cell_type": "code",
      "metadata": {
        "id": "Ci9f_i4dMAXy"
      },
      "source": [
        "def showFeatureImportance(model, X, threshold):\n",
        "  if type(model).__name__ == 'LogisticRegression':  # no features importance data\n",
        "    w0 = model.intercept_[0]\n",
        "    w = model.coef_[0]\n",
        "    fx_imp = pd.Series(w, index=X.columns)\n",
        "  else:\n",
        "    fx_imp = pd.Series(model.feature_importances_, index=X.columns)\n",
        "  fx_imp /= fx_imp.sum()\n",
        "  fx_imp = fx_imp.sort_values()\n",
        "  fx_imp = fx_imp[fx_imp > threshold]\n",
        "  fig = plt.figure(figsize=(5,5))\n",
        "  plt.xlim(0, 1)\n",
        "  fx_imp.plot(kind='barh', title=type(model).__name__ )"
      ],
      "execution_count": null,
      "outputs": []
    },
    {
      "cell_type": "code",
      "metadata": {
        "id": "mjA3XyhXOKcF"
      },
      "source": [
        "def process_model(model, X, y, X_test, y_test, plot=False, threshold=0, note='', test=False):\n",
        "  p('running: ', type(model).__name__, X.shape)\n",
        "  model.fit(X, y)\n",
        "  report(model, X, y, note, test, 'Train')\n",
        "  report(model, X_test, y_test, note, test)\n",
        "  if plot:\n",
        "    showFeatureImportance(model, X, threshold)\n",
        "    get_roc_and_auc(model,X_test,y_test)    \n",
        "  return df_result "
      ],
      "execution_count": null,
      "outputs": []
    },
    {
      "cell_type": "code",
      "metadata": {
        "id": "ijx9CUGjIGCo"
      },
      "source": [
        "from sklearn.linear_model import LogisticRegression\n",
        "from sklearn.ensemble import GradientBoostingClassifier, RandomForestClassifier, AdaBoostClassifier, GradientBoostingRegressor, VotingClassifier\n",
        "from sklearn.tree import DecisionTreeClassifier\n",
        "from sklearn.neighbors import KNeighborsClassifier"
      ],
      "execution_count": null,
      "outputs": []
    },
    {
      "cell_type": "markdown",
      "metadata": {
        "id": "WMPqQC7DQKLe"
      },
      "source": [
        "\n",
        "## Models - Run process_model"
      ]
    },
    {
      "cell_type": "code",
      "metadata": {
        "id": "7n6vHsoaau-z",
        "colab": {
          "base_uri": "https://localhost:8080/",
          "height": 941
        },
        "outputId": "64e55570-4e74-48d2-879b-cb68edc34229"
      },
      "source": [
        "ONLY_RF = True\n",
        "df_result = pd.DataFrame()\n",
        "\n",
        "if not ONLY_RF:\n",
        "  process_model(LogisticRegression(max_iter=1000), X_train, y_train, X_test, y_test, note='max_iter=1000', threshold=0.0000005)  # did not fit, return accuracy=0, so we increased max_iter from default 100\n",
        "  process_model(LogisticRegression(C=100, max_iter=1000, fit_intercept=False, warm_start=True), X_train, y_train, X_test, y_test, note='max_iter=1000, C=100, fit_intercept=False, warm_start=True', threshold=0.0000005, plot=False)\n",
        "\n",
        "  clf_GB = GradientBoostingClassifier(n_estimators=100)\n",
        "  process_model(clf_GB, X_train, y_train, X_test, y_test, plot=False, threshold=0.015, note='n_estimators=100')\n",
        "  clf_GB = GradientBoostingClassifier(ccp_alpha=0.0001, n_estimators=200, random_state=1234)\n",
        "  process_model(clf_GB, X_train, y_train, X_test, y_test, plot=False, threshold=0.015, note='ccp_alpha=0.0001, n_estimators=200, random_state=1234')\n",
        "\n",
        "  clf_AB = AdaBoostClassifier(base_estimator=DecisionTreeClassifier(max_depth=5), n_estimators=100, learning_rate=0.01)\n",
        "  process_model(clf_AB, X_train, y_train, X_test, y_test)\n",
        "\n",
        "  process_model(KNeighborsClassifier(n_neighbors=39), X_train, y_train, X_test, y_test)\n",
        "\n",
        "  if not REL: #ERROR: Classification metrics can't handle a mix of binary and continuous targets\n",
        "    process_model(VotingClassifier(estimators=[('RF', clf_RF), ('GB', clf_GB), ('AB', clf_AB)], voting='soft'), X_train, y_train, X_test, y_test, note=\"('RF', clf_RF), ('GB', clf_GB), ('AB', clf_AB')\")\n",
        "\n",
        "clf_RF = RandomForestClassifier(n_estimators=200, criterion='entropy', max_depth=None, min_samples_split=20, ccp_alpha=0.0003, random_state=73)\n",
        "process_model(clf_RF, X_train, y_train, X_test, y_test, plot=True, threshold=0.015, note=\"n_estimators=200, criterion='entropy', max_depth=None, min_samples_split=20, ccp_alpha=0.0003, random_state=1234\")\n",
        "\n",
        "d(df_result)\n",
        "\n",
        "fname = prefix + f'_result_{id}.csv'\n",
        "df_result.to_csv(fname, index = True)\n",
        "p(id)"
      ],
      "execution_count": null,
      "outputs": [
        {
          "output_type": "stream",
          "text": [
            "running:  RandomForestClassifier (38122, 64)\n",
            "\n",
            "No Skill: ROC AUC=0.500\n",
            "model: ROC AUC=0.919\n"
          ],
          "name": "stdout"
        },
        {
          "output_type": "display_data",
          "data": {
            "image/png": "[encoded data removed]",
            "text/plain": [
              "<Figure size 360x360 with 1 Axes>"
            ]
          },
          "metadata": {
            "tags": [],
            "needs_background": "light"
          }
        },
        {
          "output_type": "display_data",
          "data": {
            "image/png": "[encoded data removed]",
            "text/plain": [
              "<Figure size 360x360 with 1 Axes>"
            ]
          },
          "metadata": {
            "tags": [],
            "needs_background": "light"
          }
        },
        {
          "output_type": "display_data",
          "data": {
            "text/html": [
              "<div>\n",
              "<style scoped>\n",
              "    .dataframe tbody tr th:only-of-type {\n",
              "        vertical-align: middle;\n",
              "    }\n",
              "\n",
              "    .dataframe tbody tr th {\n",
              "        vertical-align: top;\n",
              "    }\n",
              "\n",
              "    .dataframe thead th {\n",
              "        text-align: right;\n",
              "    }\n",
              "</style>\n",
              "<table border=\"1\" class=\"dataframe\">\n",
              "  <thead>\n",
              "    <tr style=\"text-align: right;\">\n",
              "      <th></th>\n",
              "      <th></th>\n",
              "      <th>0</th>\n",
              "      <th>1</th>\n",
              "      <th>precision</th>\n",
              "      <th>recall</th>\n",
              "      <th>f1-score</th>\n",
              "      <th>accuracy</th>\n",
              "      <th>support</th>\n",
              "      <th>precision_avg</th>\n",
              "      <th>recall_avg</th>\n",
              "      <th>f1-score_avg</th>\n",
              "      <th>note</th>\n",
              "    </tr>\n",
              "    <tr>\n",
              "      <th>name</th>\n",
              "      <th>index</th>\n",
              "      <th></th>\n",
              "      <th></th>\n",
              "      <th></th>\n",
              "      <th></th>\n",
              "      <th></th>\n",
              "      <th></th>\n",
              "      <th></th>\n",
              "      <th></th>\n",
              "      <th></th>\n",
              "      <th></th>\n",
              "      <th></th>\n",
              "    </tr>\n",
              "  </thead>\n",
              "  <tbody>\n",
              "    <tr>\n",
              "      <th rowspan=\"2\" valign=\"top\">RandomForestClassifier: Train</th>\n",
              "      <th>0</th>\n",
              "      <td>9087.0</td>\n",
              "      <td>3562.0</td>\n",
              "      <td>0.87</td>\n",
              "      <td>0.72</td>\n",
              "      <td>0.79</td>\n",
              "      <td>0.87</td>\n",
              "      <td>12649.0</td>\n",
              "      <td>0.87</td>\n",
              "      <td>0.83</td>\n",
              "      <td>0.85</td>\n",
              "      <td>n_estimators=200, criterion='entropy', max_dep...</td>\n",
              "    </tr>\n",
              "    <tr>\n",
              "      <th>1</th>\n",
              "      <td>1319.0</td>\n",
              "      <td>24154.0</td>\n",
              "      <td>0.87</td>\n",
              "      <td>0.95</td>\n",
              "      <td>0.91</td>\n",
              "      <td>0.87</td>\n",
              "      <td>25473.0</td>\n",
              "      <td>0.87</td>\n",
              "      <td>0.83</td>\n",
              "      <td>0.85</td>\n",
              "      <td></td>\n",
              "    </tr>\n",
              "    <tr>\n",
              "      <th rowspan=\"2\" valign=\"top\">RandomForestClassifier: Test</th>\n",
              "      <th>0</th>\n",
              "      <td>3674.0</td>\n",
              "      <td>1745.0</td>\n",
              "      <td>0.83</td>\n",
              "      <td>0.68</td>\n",
              "      <td>0.75</td>\n",
              "      <td>0.85</td>\n",
              "      <td>5419.0</td>\n",
              "      <td>0.84</td>\n",
              "      <td>0.80</td>\n",
              "      <td>0.82</td>\n",
              "      <td>n_estimators=200, criterion='entropy', max_dep...</td>\n",
              "    </tr>\n",
              "    <tr>\n",
              "      <th>1</th>\n",
              "      <td>760.0</td>\n",
              "      <td>10159.0</td>\n",
              "      <td>0.85</td>\n",
              "      <td>0.93</td>\n",
              "      <td>0.89</td>\n",
              "      <td>0.85</td>\n",
              "      <td>10919.0</td>\n",
              "      <td>0.84</td>\n",
              "      <td>0.80</td>\n",
              "      <td>0.82</td>\n",
              "      <td></td>\n",
              "    </tr>\n",
              "  </tbody>\n",
              "</table>\n",
              "</div>"
            ],
            "text/plain": [
              "                                          0  ...                                               note\n",
              "name                          index          ...                                                   \n",
              "RandomForestClassifier: Train 0      9087.0  ...  n_estimators=200, criterion='entropy', max_dep...\n",
              "                              1      1319.0  ...                                                   \n",
              "RandomForestClassifier: Test  0      3674.0  ...  n_estimators=200, criterion='entropy', max_dep...\n",
              "                              1       760.0  ...                                                   \n",
              "\n",
              "[4 rows x 11 columns]"
            ]
          },
          "metadata": {
            "tags": []
          }
        },
        {
          "output_type": "stream",
          "text": [
            "no_diff\n"
          ],
          "name": "stdout"
        }
      ]
    },
    {
      "cell_type": "markdown",
      "metadata": {
        "id": "6fP2iFkkcUYH"
      },
      "source": [
        "## Models - compare results\n",
        "\n",
        "1. Diff\n",
        "2. Diff with remove ingredients columns\n",
        "3. Diff with split based on date\n",
        "3. Diff with split based on date (without date features and order info) \n",
        "4. Ratio\n",
        "5. RelDiff - relative difference\n",
        "6. OnlyPrices - Diff with only 3 features( Price, PriceSubs, PriceDiff)\n",
        "8. No Diff (no comparison between master and subs)"
      ]
    },
    {
      "cell_type": "code",
      "metadata": {
        "id": "Sp4iGxceSita"
      },
      "source": [
        "def get_raw(fname, subdir=''):\n",
        "  data_url = 'https://raw.githubusercontent.com/DanielKorenDataScience/ClassificationProject/main/' + subdir + fname\n",
        "  return pd.read_csv(data_url)"
      ],
      "execution_count": null,
      "outputs": []
    },
    {
      "cell_type": "code",
      "metadata": {
        "id": "A6OcmPA4QTYE"
      },
      "source": [
        "def read_results(id='', disp=True, full=False):\n",
        "  fname = prefix + f'_result_{id}.csv'\n",
        "  p(fname)\n",
        "  try:\n",
        "    df = pd.read_csv(fname)\n",
        "  except:\n",
        "    try:\n",
        "      df = get_raw(fname, 'Results/')\n",
        "#      df = pd.read_csv(fname)\n",
        "    except:\n",
        "      p('No data')\n",
        "      return\n",
        "  df.set_index(['name', 'index'], inplace=True)\n",
        "  if not full:\n",
        "    df = df.loc[['RandomForestClassifier: Train', 'RandomForestClassifier: Test']]#.copy()\n",
        "  if disp:\n",
        "    pd.set_option(\"max_column\", 120)\n",
        "    d(df)\n",
        "  return df"
      ],
      "execution_count": null,
      "outputs": []
    },
    {
      "cell_type": "code",
      "metadata": {
        "colab": {
          "base_uri": "https://localhost:8080/",
          "height": 1000
        },
        "id": "B2oUa5xgRNBp",
        "outputId": "728965a5-a7a4-402f-83ac-a6bbefc37bef"
      },
      "source": [
        "p(id)\n",
        "read_results()\n",
        "read_results('remove_ingredients')\n",
        "read_results('split_based_on_date')\n",
        "read_results('split_based_on_date_without_date_features_and_order_info')\n",
        "read_results('ratio')\n",
        "read_results('rel_diff')\n",
        "read_results('only_prices')\n",
        "read_results('no_diff')\n",
        "p()"
      ],
      "execution_count": null,
      "outputs": [
        {
          "output_type": "stream",
          "text": [
            "no_diff\n",
            "Shufersal_result_.csv\n"
          ],
          "name": "stdout"
        },
        {
          "output_type": "display_data",
          "data": {
            "text/html": [
              "<div>\n",
              "<style scoped>\n",
              "    .dataframe tbody tr th:only-of-type {\n",
              "        vertical-align: middle;\n",
              "    }\n",
              "\n",
              "    .dataframe tbody tr th {\n",
              "        vertical-align: top;\n",
              "    }\n",
              "\n",
              "    .dataframe thead th {\n",
              "        text-align: right;\n",
              "    }\n",
              "</style>\n",
              "<table border=\"1\" class=\"dataframe\">\n",
              "  <thead>\n",
              "    <tr style=\"text-align: right;\">\n",
              "      <th></th>\n",
              "      <th></th>\n",
              "      <th>0</th>\n",
              "      <th>1</th>\n",
              "      <th>precision</th>\n",
              "      <th>recall</th>\n",
              "      <th>f1-score</th>\n",
              "      <th>accuracy</th>\n",
              "      <th>support</th>\n",
              "      <th>precision_avg</th>\n",
              "      <th>recall_avg</th>\n",
              "      <th>f1-score_avg</th>\n",
              "      <th>note</th>\n",
              "    </tr>\n",
              "    <tr>\n",
              "      <th>name</th>\n",
              "      <th>index</th>\n",
              "      <th></th>\n",
              "      <th></th>\n",
              "      <th></th>\n",
              "      <th></th>\n",
              "      <th></th>\n",
              "      <th></th>\n",
              "      <th></th>\n",
              "      <th></th>\n",
              "      <th></th>\n",
              "      <th></th>\n",
              "      <th></th>\n",
              "    </tr>\n",
              "  </thead>\n",
              "  <tbody>\n",
              "    <tr>\n",
              "      <th rowspan=\"2\" valign=\"top\">RandomForestClassifier: Train</th>\n",
              "      <th>0</th>\n",
              "      <td>9267.0</td>\n",
              "      <td>3382.0</td>\n",
              "      <td>0.86</td>\n",
              "      <td>0.73</td>\n",
              "      <td>0.79</td>\n",
              "      <td>0.87</td>\n",
              "      <td>12649.0</td>\n",
              "      <td>0.87</td>\n",
              "      <td>0.84</td>\n",
              "      <td>0.85</td>\n",
              "      <td>n_estimators=200, criterion='entropy', max_dep...</td>\n",
              "    </tr>\n",
              "    <tr>\n",
              "      <th>1</th>\n",
              "      <td>1546.0</td>\n",
              "      <td>23927.0</td>\n",
              "      <td>0.88</td>\n",
              "      <td>0.94</td>\n",
              "      <td>0.91</td>\n",
              "      <td>0.87</td>\n",
              "      <td>25473.0</td>\n",
              "      <td>0.87</td>\n",
              "      <td>0.84</td>\n",
              "      <td>0.85</td>\n",
              "      <td>NaN</td>\n",
              "    </tr>\n",
              "    <tr>\n",
              "      <th rowspan=\"2\" valign=\"top\">RandomForestClassifier: Test</th>\n",
              "      <th>0</th>\n",
              "      <td>3804.0</td>\n",
              "      <td>1615.0</td>\n",
              "      <td>0.81</td>\n",
              "      <td>0.70</td>\n",
              "      <td>0.75</td>\n",
              "      <td>0.85</td>\n",
              "      <td>5419.0</td>\n",
              "      <td>0.84</td>\n",
              "      <td>0.81</td>\n",
              "      <td>0.82</td>\n",
              "      <td>n_estimators=200, criterion='entropy', max_dep...</td>\n",
              "    </tr>\n",
              "    <tr>\n",
              "      <th>1</th>\n",
              "      <td>879.0</td>\n",
              "      <td>10040.0</td>\n",
              "      <td>0.86</td>\n",
              "      <td>0.92</td>\n",
              "      <td>0.89</td>\n",
              "      <td>0.85</td>\n",
              "      <td>10919.0</td>\n",
              "      <td>0.84</td>\n",
              "      <td>0.81</td>\n",
              "      <td>0.82</td>\n",
              "      <td>NaN</td>\n",
              "    </tr>\n",
              "  </tbody>\n",
              "</table>\n",
              "</div>"
            ],
            "text/plain": [
              "                                          0        1  precision  recall  \\\n",
              "name                          index                                       \n",
              "RandomForestClassifier: Train 0      9267.0   3382.0       0.86    0.73   \n",
              "                              1      1546.0  23927.0       0.88    0.94   \n",
              "RandomForestClassifier: Test  0      3804.0   1615.0       0.81    0.70   \n",
              "                              1       879.0  10040.0       0.86    0.92   \n",
              "\n",
              "                                     f1-score  accuracy  support  \\\n",
              "name                          index                                \n",
              "RandomForestClassifier: Train 0          0.79      0.87  12649.0   \n",
              "                              1          0.91      0.87  25473.0   \n",
              "RandomForestClassifier: Test  0          0.75      0.85   5419.0   \n",
              "                              1          0.89      0.85  10919.0   \n",
              "\n",
              "                                     precision_avg  recall_avg  f1-score_avg  \\\n",
              "name                          index                                            \n",
              "RandomForestClassifier: Train 0               0.87        0.84          0.85   \n",
              "                              1               0.87        0.84          0.85   \n",
              "RandomForestClassifier: Test  0               0.84        0.81          0.82   \n",
              "                              1               0.84        0.81          0.82   \n",
              "\n",
              "                                                                                  note  \n",
              "name                          index                                                     \n",
              "RandomForestClassifier: Train 0      n_estimators=200, criterion='entropy', max_dep...  \n",
              "                              1                                                    NaN  \n",
              "RandomForestClassifier: Test  0      n_estimators=200, criterion='entropy', max_dep...  \n",
              "                              1                                                    NaN  "
            ]
          },
          "metadata": {
            "tags": []
          }
        },
        {
          "output_type": "stream",
          "text": [
            "Shufersal_result_remove_ingredients.csv\n"
          ],
          "name": "stdout"
        },
        {
          "output_type": "display_data",
          "data": {
            "text/html": [
              "<div>\n",
              "<style scoped>\n",
              "    .dataframe tbody tr th:only-of-type {\n",
              "        vertical-align: middle;\n",
              "    }\n",
              "\n",
              "    .dataframe tbody tr th {\n",
              "        vertical-align: top;\n",
              "    }\n",
              "\n",
              "    .dataframe thead th {\n",
              "        text-align: right;\n",
              "    }\n",
              "</style>\n",
              "<table border=\"1\" class=\"dataframe\">\n",
              "  <thead>\n",
              "    <tr style=\"text-align: right;\">\n",
              "      <th></th>\n",
              "      <th></th>\n",
              "      <th>0</th>\n",
              "      <th>1</th>\n",
              "      <th>precision</th>\n",
              "      <th>recall</th>\n",
              "      <th>f1-score</th>\n",
              "      <th>accuracy</th>\n",
              "      <th>support</th>\n",
              "      <th>precision_avg</th>\n",
              "      <th>recall_avg</th>\n",
              "      <th>f1-score_avg</th>\n",
              "      <th>note</th>\n",
              "    </tr>\n",
              "    <tr>\n",
              "      <th>name</th>\n",
              "      <th>index</th>\n",
              "      <th></th>\n",
              "      <th></th>\n",
              "      <th></th>\n",
              "      <th></th>\n",
              "      <th></th>\n",
              "      <th></th>\n",
              "      <th></th>\n",
              "      <th></th>\n",
              "      <th></th>\n",
              "      <th></th>\n",
              "      <th></th>\n",
              "    </tr>\n",
              "  </thead>\n",
              "  <tbody>\n",
              "    <tr>\n",
              "      <th rowspan=\"2\" valign=\"top\">RandomForestClassifier: Train</th>\n",
              "      <th>0</th>\n",
              "      <td>9116.0</td>\n",
              "      <td>3533.0</td>\n",
              "      <td>0.86</td>\n",
              "      <td>0.72</td>\n",
              "      <td>0.78</td>\n",
              "      <td>0.87</td>\n",
              "      <td>12649.0</td>\n",
              "      <td>0.86</td>\n",
              "      <td>0.83</td>\n",
              "      <td>0.84</td>\n",
              "      <td>n_estimators=200, criterion='entropy', max_dep...</td>\n",
              "    </tr>\n",
              "    <tr>\n",
              "      <th>1</th>\n",
              "      <td>1512.0</td>\n",
              "      <td>23961.0</td>\n",
              "      <td>0.87</td>\n",
              "      <td>0.94</td>\n",
              "      <td>0.90</td>\n",
              "      <td>0.87</td>\n",
              "      <td>25473.0</td>\n",
              "      <td>0.86</td>\n",
              "      <td>0.83</td>\n",
              "      <td>0.84</td>\n",
              "      <td>NaN</td>\n",
              "    </tr>\n",
              "    <tr>\n",
              "      <th rowspan=\"2\" valign=\"top\">RandomForestClassifier: Test</th>\n",
              "      <th>0</th>\n",
              "      <td>3767.0</td>\n",
              "      <td>1652.0</td>\n",
              "      <td>0.82</td>\n",
              "      <td>0.70</td>\n",
              "      <td>0.75</td>\n",
              "      <td>0.85</td>\n",
              "      <td>5419.0</td>\n",
              "      <td>0.84</td>\n",
              "      <td>0.81</td>\n",
              "      <td>0.82</td>\n",
              "      <td>n_estimators=200, criterion='entropy', max_dep...</td>\n",
              "    </tr>\n",
              "    <tr>\n",
              "      <th>1</th>\n",
              "      <td>828.0</td>\n",
              "      <td>10091.0</td>\n",
              "      <td>0.86</td>\n",
              "      <td>0.92</td>\n",
              "      <td>0.89</td>\n",
              "      <td>0.85</td>\n",
              "      <td>10919.0</td>\n",
              "      <td>0.84</td>\n",
              "      <td>0.81</td>\n",
              "      <td>0.82</td>\n",
              "      <td>NaN</td>\n",
              "    </tr>\n",
              "  </tbody>\n",
              "</table>\n",
              "</div>"
            ],
            "text/plain": [
              "                                          0        1  precision  recall  \\\n",
              "name                          index                                       \n",
              "RandomForestClassifier: Train 0      9116.0   3533.0       0.86    0.72   \n",
              "                              1      1512.0  23961.0       0.87    0.94   \n",
              "RandomForestClassifier: Test  0      3767.0   1652.0       0.82    0.70   \n",
              "                              1       828.0  10091.0       0.86    0.92   \n",
              "\n",
              "                                     f1-score  accuracy  support  \\\n",
              "name                          index                                \n",
              "RandomForestClassifier: Train 0          0.78      0.87  12649.0   \n",
              "                              1          0.90      0.87  25473.0   \n",
              "RandomForestClassifier: Test  0          0.75      0.85   5419.0   \n",
              "                              1          0.89      0.85  10919.0   \n",
              "\n",
              "                                     precision_avg  recall_avg  f1-score_avg  \\\n",
              "name                          index                                            \n",
              "RandomForestClassifier: Train 0               0.86        0.83          0.84   \n",
              "                              1               0.86        0.83          0.84   \n",
              "RandomForestClassifier: Test  0               0.84        0.81          0.82   \n",
              "                              1               0.84        0.81          0.82   \n",
              "\n",
              "                                                                                  note  \n",
              "name                          index                                                     \n",
              "RandomForestClassifier: Train 0      n_estimators=200, criterion='entropy', max_dep...  \n",
              "                              1                                                    NaN  \n",
              "RandomForestClassifier: Test  0      n_estimators=200, criterion='entropy', max_dep...  \n",
              "                              1                                                    NaN  "
            ]
          },
          "metadata": {
            "tags": []
          }
        },
        {
          "output_type": "stream",
          "text": [
            "Shufersal_result_split_based_on_date.csv\n"
          ],
          "name": "stdout"
        },
        {
          "output_type": "display_data",
          "data": {
            "text/html": [
              "<div>\n",
              "<style scoped>\n",
              "    .dataframe tbody tr th:only-of-type {\n",
              "        vertical-align: middle;\n",
              "    }\n",
              "\n",
              "    .dataframe tbody tr th {\n",
              "        vertical-align: top;\n",
              "    }\n",
              "\n",
              "    .dataframe thead th {\n",
              "        text-align: right;\n",
              "    }\n",
              "</style>\n",
              "<table border=\"1\" class=\"dataframe\">\n",
              "  <thead>\n",
              "    <tr style=\"text-align: right;\">\n",
              "      <th></th>\n",
              "      <th></th>\n",
              "      <th>0</th>\n",
              "      <th>1</th>\n",
              "      <th>precision</th>\n",
              "      <th>recall</th>\n",
              "      <th>f1-score</th>\n",
              "      <th>accuracy</th>\n",
              "      <th>support</th>\n",
              "      <th>precision_avg</th>\n",
              "      <th>recall_avg</th>\n",
              "      <th>f1-score_avg</th>\n",
              "      <th>note</th>\n",
              "    </tr>\n",
              "    <tr>\n",
              "      <th>name</th>\n",
              "      <th>index</th>\n",
              "      <th></th>\n",
              "      <th></th>\n",
              "      <th></th>\n",
              "      <th></th>\n",
              "      <th></th>\n",
              "      <th></th>\n",
              "      <th></th>\n",
              "      <th></th>\n",
              "      <th></th>\n",
              "      <th></th>\n",
              "      <th></th>\n",
              "    </tr>\n",
              "  </thead>\n",
              "  <tbody>\n",
              "    <tr>\n",
              "      <th rowspan=\"2\" valign=\"top\">RandomForestClassifier: Train</th>\n",
              "      <th>0</th>\n",
              "      <td>8644.0</td>\n",
              "      <td>3102.0</td>\n",
              "      <td>0.86</td>\n",
              "      <td>0.74</td>\n",
              "      <td>0.79</td>\n",
              "      <td>0.88</td>\n",
              "      <td>11746.0</td>\n",
              "      <td>0.87</td>\n",
              "      <td>0.84</td>\n",
              "      <td>0.85</td>\n",
              "      <td>n_estimators=200, criterion='entropy', max_dep...</td>\n",
              "    </tr>\n",
              "    <tr>\n",
              "      <th>1</th>\n",
              "      <td>1419.0</td>\n",
              "      <td>24252.0</td>\n",
              "      <td>0.89</td>\n",
              "      <td>0.94</td>\n",
              "      <td>0.91</td>\n",
              "      <td>0.88</td>\n",
              "      <td>25671.0</td>\n",
              "      <td>0.87</td>\n",
              "      <td>0.84</td>\n",
              "      <td>0.85</td>\n",
              "      <td>NaN</td>\n",
              "    </tr>\n",
              "    <tr>\n",
              "      <th rowspan=\"2\" valign=\"top\">RandomForestClassifier: Test</th>\n",
              "      <th>0</th>\n",
              "      <td>3699.0</td>\n",
              "      <td>2623.0</td>\n",
              "      <td>0.78</td>\n",
              "      <td>0.59</td>\n",
              "      <td>0.67</td>\n",
              "      <td>0.78</td>\n",
              "      <td>6322.0</td>\n",
              "      <td>0.78</td>\n",
              "      <td>0.74</td>\n",
              "      <td>0.75</td>\n",
              "      <td>n_estimators=200, criterion='entropy', max_dep...</td>\n",
              "    </tr>\n",
              "    <tr>\n",
              "      <th>1</th>\n",
              "      <td>1072.0</td>\n",
              "      <td>9649.0</td>\n",
              "      <td>0.79</td>\n",
              "      <td>0.90</td>\n",
              "      <td>0.84</td>\n",
              "      <td>0.78</td>\n",
              "      <td>10721.0</td>\n",
              "      <td>0.78</td>\n",
              "      <td>0.74</td>\n",
              "      <td>0.75</td>\n",
              "      <td>NaN</td>\n",
              "    </tr>\n",
              "  </tbody>\n",
              "</table>\n",
              "</div>"
            ],
            "text/plain": [
              "                                          0        1  precision  recall  \\\n",
              "name                          index                                       \n",
              "RandomForestClassifier: Train 0      8644.0   3102.0       0.86    0.74   \n",
              "                              1      1419.0  24252.0       0.89    0.94   \n",
              "RandomForestClassifier: Test  0      3699.0   2623.0       0.78    0.59   \n",
              "                              1      1072.0   9649.0       0.79    0.90   \n",
              "\n",
              "                                     f1-score  accuracy  support  \\\n",
              "name                          index                                \n",
              "RandomForestClassifier: Train 0          0.79      0.88  11746.0   \n",
              "                              1          0.91      0.88  25671.0   \n",
              "RandomForestClassifier: Test  0          0.67      0.78   6322.0   \n",
              "                              1          0.84      0.78  10721.0   \n",
              "\n",
              "                                     precision_avg  recall_avg  f1-score_avg  \\\n",
              "name                          index                                            \n",
              "RandomForestClassifier: Train 0               0.87        0.84          0.85   \n",
              "                              1               0.87        0.84          0.85   \n",
              "RandomForestClassifier: Test  0               0.78        0.74          0.75   \n",
              "                              1               0.78        0.74          0.75   \n",
              "\n",
              "                                                                                  note  \n",
              "name                          index                                                     \n",
              "RandomForestClassifier: Train 0      n_estimators=200, criterion='entropy', max_dep...  \n",
              "                              1                                                    NaN  \n",
              "RandomForestClassifier: Test  0      n_estimators=200, criterion='entropy', max_dep...  \n",
              "                              1                                                    NaN  "
            ]
          },
          "metadata": {
            "tags": []
          }
        },
        {
          "output_type": "stream",
          "text": [
            "Shufersal_result_split_based_on_date_without_date_features_and_order_info.csv\n"
          ],
          "name": "stdout"
        },
        {
          "output_type": "display_data",
          "data": {
            "text/html": [
              "<div>\n",
              "<style scoped>\n",
              "    .dataframe tbody tr th:only-of-type {\n",
              "        vertical-align: middle;\n",
              "    }\n",
              "\n",
              "    .dataframe tbody tr th {\n",
              "        vertical-align: top;\n",
              "    }\n",
              "\n",
              "    .dataframe thead th {\n",
              "        text-align: right;\n",
              "    }\n",
              "</style>\n",
              "<table border=\"1\" class=\"dataframe\">\n",
              "  <thead>\n",
              "    <tr style=\"text-align: right;\">\n",
              "      <th></th>\n",
              "      <th></th>\n",
              "      <th>0</th>\n",
              "      <th>1</th>\n",
              "      <th>precision</th>\n",
              "      <th>recall</th>\n",
              "      <th>f1-score</th>\n",
              "      <th>accuracy</th>\n",
              "      <th>support</th>\n",
              "      <th>precision_avg</th>\n",
              "      <th>recall_avg</th>\n",
              "      <th>f1-score_avg</th>\n",
              "      <th>note</th>\n",
              "    </tr>\n",
              "    <tr>\n",
              "      <th>name</th>\n",
              "      <th>index</th>\n",
              "      <th></th>\n",
              "      <th></th>\n",
              "      <th></th>\n",
              "      <th></th>\n",
              "      <th></th>\n",
              "      <th></th>\n",
              "      <th></th>\n",
              "      <th></th>\n",
              "      <th></th>\n",
              "      <th></th>\n",
              "      <th></th>\n",
              "    </tr>\n",
              "  </thead>\n",
              "  <tbody>\n",
              "    <tr>\n",
              "      <th rowspan=\"2\" valign=\"top\">RandomForestClassifier: Train</th>\n",
              "      <th>0</th>\n",
              "      <td>8386.0</td>\n",
              "      <td>3360.0</td>\n",
              "      <td>0.84</td>\n",
              "      <td>0.71</td>\n",
              "      <td>0.77</td>\n",
              "      <td>0.87</td>\n",
              "      <td>11746.0</td>\n",
              "      <td>0.86</td>\n",
              "      <td>0.83</td>\n",
              "      <td>0.84</td>\n",
              "      <td>n_estimators=200, criterion='entropy', max_dep...</td>\n",
              "    </tr>\n",
              "    <tr>\n",
              "      <th>1</th>\n",
              "      <td>1569.0</td>\n",
              "      <td>24102.0</td>\n",
              "      <td>0.88</td>\n",
              "      <td>0.94</td>\n",
              "      <td>0.91</td>\n",
              "      <td>0.87</td>\n",
              "      <td>25671.0</td>\n",
              "      <td>0.86</td>\n",
              "      <td>0.83</td>\n",
              "      <td>0.84</td>\n",
              "      <td>NaN</td>\n",
              "    </tr>\n",
              "    <tr>\n",
              "      <th rowspan=\"2\" valign=\"top\">RandomForestClassifier: Test</th>\n",
              "      <th>0</th>\n",
              "      <td>3685.0</td>\n",
              "      <td>2637.0</td>\n",
              "      <td>0.78</td>\n",
              "      <td>0.58</td>\n",
              "      <td>0.67</td>\n",
              "      <td>0.78</td>\n",
              "      <td>6322.0</td>\n",
              "      <td>0.78</td>\n",
              "      <td>0.74</td>\n",
              "      <td>0.75</td>\n",
              "      <td>n_estimators=200, criterion='entropy', max_dep...</td>\n",
              "    </tr>\n",
              "    <tr>\n",
              "      <th>1</th>\n",
              "      <td>1042.0</td>\n",
              "      <td>9679.0</td>\n",
              "      <td>0.79</td>\n",
              "      <td>0.90</td>\n",
              "      <td>0.84</td>\n",
              "      <td>0.78</td>\n",
              "      <td>10721.0</td>\n",
              "      <td>0.78</td>\n",
              "      <td>0.74</td>\n",
              "      <td>0.75</td>\n",
              "      <td>NaN</td>\n",
              "    </tr>\n",
              "  </tbody>\n",
              "</table>\n",
              "</div>"
            ],
            "text/plain": [
              "                                          0        1  precision  recall  \\\n",
              "name                          index                                       \n",
              "RandomForestClassifier: Train 0      8386.0   3360.0       0.84    0.71   \n",
              "                              1      1569.0  24102.0       0.88    0.94   \n",
              "RandomForestClassifier: Test  0      3685.0   2637.0       0.78    0.58   \n",
              "                              1      1042.0   9679.0       0.79    0.90   \n",
              "\n",
              "                                     f1-score  accuracy  support  \\\n",
              "name                          index                                \n",
              "RandomForestClassifier: Train 0          0.77      0.87  11746.0   \n",
              "                              1          0.91      0.87  25671.0   \n",
              "RandomForestClassifier: Test  0          0.67      0.78   6322.0   \n",
              "                              1          0.84      0.78  10721.0   \n",
              "\n",
              "                                     precision_avg  recall_avg  f1-score_avg  \\\n",
              "name                          index                                            \n",
              "RandomForestClassifier: Train 0               0.86        0.83          0.84   \n",
              "                              1               0.86        0.83          0.84   \n",
              "RandomForestClassifier: Test  0               0.78        0.74          0.75   \n",
              "                              1               0.78        0.74          0.75   \n",
              "\n",
              "                                                                                  note  \n",
              "name                          index                                                     \n",
              "RandomForestClassifier: Train 0      n_estimators=200, criterion='entropy', max_dep...  \n",
              "                              1                                                    NaN  \n",
              "RandomForestClassifier: Test  0      n_estimators=200, criterion='entropy', max_dep...  \n",
              "                              1                                                    NaN  "
            ]
          },
          "metadata": {
            "tags": []
          }
        },
        {
          "output_type": "stream",
          "text": [
            "Shufersal_result_ratio.csv\n"
          ],
          "name": "stdout"
        },
        {
          "output_type": "display_data",
          "data": {
            "text/html": [
              "<div>\n",
              "<style scoped>\n",
              "    .dataframe tbody tr th:only-of-type {\n",
              "        vertical-align: middle;\n",
              "    }\n",
              "\n",
              "    .dataframe tbody tr th {\n",
              "        vertical-align: top;\n",
              "    }\n",
              "\n",
              "    .dataframe thead th {\n",
              "        text-align: right;\n",
              "    }\n",
              "</style>\n",
              "<table border=\"1\" class=\"dataframe\">\n",
              "  <thead>\n",
              "    <tr style=\"text-align: right;\">\n",
              "      <th></th>\n",
              "      <th></th>\n",
              "      <th>0</th>\n",
              "      <th>1</th>\n",
              "      <th>precision</th>\n",
              "      <th>recall</th>\n",
              "      <th>f1-score</th>\n",
              "      <th>accuracy</th>\n",
              "      <th>support</th>\n",
              "      <th>precision_avg</th>\n",
              "      <th>recall_avg</th>\n",
              "      <th>f1-score_avg</th>\n",
              "      <th>note</th>\n",
              "    </tr>\n",
              "    <tr>\n",
              "      <th>name</th>\n",
              "      <th>index</th>\n",
              "      <th></th>\n",
              "      <th></th>\n",
              "      <th></th>\n",
              "      <th></th>\n",
              "      <th></th>\n",
              "      <th></th>\n",
              "      <th></th>\n",
              "      <th></th>\n",
              "      <th></th>\n",
              "      <th></th>\n",
              "      <th></th>\n",
              "    </tr>\n",
              "  </thead>\n",
              "  <tbody>\n",
              "    <tr>\n",
              "      <th rowspan=\"2\" valign=\"top\">RandomForestClassifier: Train</th>\n",
              "      <th>0</th>\n",
              "      <td>9227.0</td>\n",
              "      <td>3422.0</td>\n",
              "      <td>0.85</td>\n",
              "      <td>0.73</td>\n",
              "      <td>0.79</td>\n",
              "      <td>0.87</td>\n",
              "      <td>12649.0</td>\n",
              "      <td>0.86</td>\n",
              "      <td>0.83</td>\n",
              "      <td>0.85</td>\n",
              "      <td>n_estimators=200, criterion='entropy', max_dep...</td>\n",
              "    </tr>\n",
              "    <tr>\n",
              "      <th>1</th>\n",
              "      <td>1586.0</td>\n",
              "      <td>23887.0</td>\n",
              "      <td>0.87</td>\n",
              "      <td>0.94</td>\n",
              "      <td>0.91</td>\n",
              "      <td>0.87</td>\n",
              "      <td>25473.0</td>\n",
              "      <td>0.86</td>\n",
              "      <td>0.83</td>\n",
              "      <td>0.85</td>\n",
              "      <td>NaN</td>\n",
              "    </tr>\n",
              "    <tr>\n",
              "      <th rowspan=\"2\" valign=\"top\">RandomForestClassifier: Test</th>\n",
              "      <th>0</th>\n",
              "      <td>3797.0</td>\n",
              "      <td>1622.0</td>\n",
              "      <td>0.81</td>\n",
              "      <td>0.70</td>\n",
              "      <td>0.75</td>\n",
              "      <td>0.85</td>\n",
              "      <td>5419.0</td>\n",
              "      <td>0.83</td>\n",
              "      <td>0.81</td>\n",
              "      <td>0.82</td>\n",
              "      <td>n_estimators=200, criterion='entropy', max_dep...</td>\n",
              "    </tr>\n",
              "    <tr>\n",
              "      <th>1</th>\n",
              "      <td>899.0</td>\n",
              "      <td>10020.0</td>\n",
              "      <td>0.86</td>\n",
              "      <td>0.92</td>\n",
              "      <td>0.89</td>\n",
              "      <td>0.85</td>\n",
              "      <td>10919.0</td>\n",
              "      <td>0.83</td>\n",
              "      <td>0.81</td>\n",
              "      <td>0.82</td>\n",
              "      <td>NaN</td>\n",
              "    </tr>\n",
              "  </tbody>\n",
              "</table>\n",
              "</div>"
            ],
            "text/plain": [
              "                                          0        1  precision  recall  \\\n",
              "name                          index                                       \n",
              "RandomForestClassifier: Train 0      9227.0   3422.0       0.85    0.73   \n",
              "                              1      1586.0  23887.0       0.87    0.94   \n",
              "RandomForestClassifier: Test  0      3797.0   1622.0       0.81    0.70   \n",
              "                              1       899.0  10020.0       0.86    0.92   \n",
              "\n",
              "                                     f1-score  accuracy  support  \\\n",
              "name                          index                                \n",
              "RandomForestClassifier: Train 0          0.79      0.87  12649.0   \n",
              "                              1          0.91      0.87  25473.0   \n",
              "RandomForestClassifier: Test  0          0.75      0.85   5419.0   \n",
              "                              1          0.89      0.85  10919.0   \n",
              "\n",
              "                                     precision_avg  recall_avg  f1-score_avg  \\\n",
              "name                          index                                            \n",
              "RandomForestClassifier: Train 0               0.86        0.83          0.85   \n",
              "                              1               0.86        0.83          0.85   \n",
              "RandomForestClassifier: Test  0               0.83        0.81          0.82   \n",
              "                              1               0.83        0.81          0.82   \n",
              "\n",
              "                                                                                  note  \n",
              "name                          index                                                     \n",
              "RandomForestClassifier: Train 0      n_estimators=200, criterion='entropy', max_dep...  \n",
              "                              1                                                    NaN  \n",
              "RandomForestClassifier: Test  0      n_estimators=200, criterion='entropy', max_dep...  \n",
              "                              1                                                    NaN  "
            ]
          },
          "metadata": {
            "tags": []
          }
        },
        {
          "output_type": "stream",
          "text": [
            "Shufersal_result_rel_diff.csv\n"
          ],
          "name": "stdout"
        },
        {
          "output_type": "display_data",
          "data": {
            "text/html": [
              "<div>\n",
              "<style scoped>\n",
              "    .dataframe tbody tr th:only-of-type {\n",
              "        vertical-align: middle;\n",
              "    }\n",
              "\n",
              "    .dataframe tbody tr th {\n",
              "        vertical-align: top;\n",
              "    }\n",
              "\n",
              "    .dataframe thead th {\n",
              "        text-align: right;\n",
              "    }\n",
              "</style>\n",
              "<table border=\"1\" class=\"dataframe\">\n",
              "  <thead>\n",
              "    <tr style=\"text-align: right;\">\n",
              "      <th></th>\n",
              "      <th></th>\n",
              "      <th>0</th>\n",
              "      <th>1</th>\n",
              "      <th>precision</th>\n",
              "      <th>recall</th>\n",
              "      <th>f1-score</th>\n",
              "      <th>accuracy</th>\n",
              "      <th>support</th>\n",
              "      <th>precision_avg</th>\n",
              "      <th>recall_avg</th>\n",
              "      <th>f1-score_avg</th>\n",
              "      <th>note</th>\n",
              "    </tr>\n",
              "    <tr>\n",
              "      <th>name</th>\n",
              "      <th>index</th>\n",
              "      <th></th>\n",
              "      <th></th>\n",
              "      <th></th>\n",
              "      <th></th>\n",
              "      <th></th>\n",
              "      <th></th>\n",
              "      <th></th>\n",
              "      <th></th>\n",
              "      <th></th>\n",
              "      <th></th>\n",
              "      <th></th>\n",
              "    </tr>\n",
              "  </thead>\n",
              "  <tbody>\n",
              "    <tr>\n",
              "      <th rowspan=\"2\" valign=\"top\">RandomForestClassifier: Train</th>\n",
              "      <th>0</th>\n",
              "      <td>9280.0</td>\n",
              "      <td>3369.0</td>\n",
              "      <td>0.86</td>\n",
              "      <td>0.73</td>\n",
              "      <td>0.79</td>\n",
              "      <td>0.87</td>\n",
              "      <td>12649.0</td>\n",
              "      <td>0.87</td>\n",
              "      <td>0.84</td>\n",
              "      <td>0.85</td>\n",
              "      <td>n_estimators=200, criterion='entropy', max_dep...</td>\n",
              "    </tr>\n",
              "    <tr>\n",
              "      <th>1</th>\n",
              "      <td>1567.0</td>\n",
              "      <td>23906.0</td>\n",
              "      <td>0.88</td>\n",
              "      <td>0.94</td>\n",
              "      <td>0.91</td>\n",
              "      <td>0.87</td>\n",
              "      <td>25473.0</td>\n",
              "      <td>0.87</td>\n",
              "      <td>0.84</td>\n",
              "      <td>0.85</td>\n",
              "      <td>NaN</td>\n",
              "    </tr>\n",
              "    <tr>\n",
              "      <th rowspan=\"2\" valign=\"top\">RandomForestClassifier: Test</th>\n",
              "      <th>0</th>\n",
              "      <td>3829.0</td>\n",
              "      <td>1590.0</td>\n",
              "      <td>0.81</td>\n",
              "      <td>0.71</td>\n",
              "      <td>0.75</td>\n",
              "      <td>0.85</td>\n",
              "      <td>5419.0</td>\n",
              "      <td>0.84</td>\n",
              "      <td>0.81</td>\n",
              "      <td>0.82</td>\n",
              "      <td>n_estimators=200, criterion='entropy', max_dep...</td>\n",
              "    </tr>\n",
              "    <tr>\n",
              "      <th>1</th>\n",
              "      <td>899.0</td>\n",
              "      <td>10020.0</td>\n",
              "      <td>0.86</td>\n",
              "      <td>0.92</td>\n",
              "      <td>0.89</td>\n",
              "      <td>0.85</td>\n",
              "      <td>10919.0</td>\n",
              "      <td>0.84</td>\n",
              "      <td>0.81</td>\n",
              "      <td>0.82</td>\n",
              "      <td>NaN</td>\n",
              "    </tr>\n",
              "  </tbody>\n",
              "</table>\n",
              "</div>"
            ],
            "text/plain": [
              "                                          0        1  precision  recall  \\\n",
              "name                          index                                       \n",
              "RandomForestClassifier: Train 0      9280.0   3369.0       0.86    0.73   \n",
              "                              1      1567.0  23906.0       0.88    0.94   \n",
              "RandomForestClassifier: Test  0      3829.0   1590.0       0.81    0.71   \n",
              "                              1       899.0  10020.0       0.86    0.92   \n",
              "\n",
              "                                     f1-score  accuracy  support  \\\n",
              "name                          index                                \n",
              "RandomForestClassifier: Train 0          0.79      0.87  12649.0   \n",
              "                              1          0.91      0.87  25473.0   \n",
              "RandomForestClassifier: Test  0          0.75      0.85   5419.0   \n",
              "                              1          0.89      0.85  10919.0   \n",
              "\n",
              "                                     precision_avg  recall_avg  f1-score_avg  \\\n",
              "name                          index                                            \n",
              "RandomForestClassifier: Train 0               0.87        0.84          0.85   \n",
              "                              1               0.87        0.84          0.85   \n",
              "RandomForestClassifier: Test  0               0.84        0.81          0.82   \n",
              "                              1               0.84        0.81          0.82   \n",
              "\n",
              "                                                                                  note  \n",
              "name                          index                                                     \n",
              "RandomForestClassifier: Train 0      n_estimators=200, criterion='entropy', max_dep...  \n",
              "                              1                                                    NaN  \n",
              "RandomForestClassifier: Test  0      n_estimators=200, criterion='entropy', max_dep...  \n",
              "                              1                                                    NaN  "
            ]
          },
          "metadata": {
            "tags": []
          }
        },
        {
          "output_type": "stream",
          "text": [
            "Shufersal_result_only_prices.csv\n"
          ],
          "name": "stdout"
        },
        {
          "output_type": "display_data",
          "data": {
            "text/html": [
              "<div>\n",
              "<style scoped>\n",
              "    .dataframe tbody tr th:only-of-type {\n",
              "        vertical-align: middle;\n",
              "    }\n",
              "\n",
              "    .dataframe tbody tr th {\n",
              "        vertical-align: top;\n",
              "    }\n",
              "\n",
              "    .dataframe thead th {\n",
              "        text-align: right;\n",
              "    }\n",
              "</style>\n",
              "<table border=\"1\" class=\"dataframe\">\n",
              "  <thead>\n",
              "    <tr style=\"text-align: right;\">\n",
              "      <th></th>\n",
              "      <th></th>\n",
              "      <th>0</th>\n",
              "      <th>1</th>\n",
              "      <th>precision</th>\n",
              "      <th>recall</th>\n",
              "      <th>f1-score</th>\n",
              "      <th>accuracy</th>\n",
              "      <th>support</th>\n",
              "      <th>precision_avg</th>\n",
              "      <th>recall_avg</th>\n",
              "      <th>f1-score_avg</th>\n",
              "      <th>note</th>\n",
              "    </tr>\n",
              "    <tr>\n",
              "      <th>name</th>\n",
              "      <th>index</th>\n",
              "      <th></th>\n",
              "      <th></th>\n",
              "      <th></th>\n",
              "      <th></th>\n",
              "      <th></th>\n",
              "      <th></th>\n",
              "      <th></th>\n",
              "      <th></th>\n",
              "      <th></th>\n",
              "      <th></th>\n",
              "      <th></th>\n",
              "    </tr>\n",
              "  </thead>\n",
              "  <tbody>\n",
              "    <tr>\n",
              "      <th rowspan=\"2\" valign=\"top\">RandomForestClassifier: Train</th>\n",
              "      <th>0</th>\n",
              "      <td>8819.0</td>\n",
              "      <td>3830.0</td>\n",
              "      <td>0.77</td>\n",
              "      <td>0.70</td>\n",
              "      <td>0.73</td>\n",
              "      <td>0.83</td>\n",
              "      <td>12649.0</td>\n",
              "      <td>0.81</td>\n",
              "      <td>0.80</td>\n",
              "      <td>0.8</td>\n",
              "      <td>n_estimators=200, criterion='entropy', max_dep...</td>\n",
              "    </tr>\n",
              "    <tr>\n",
              "      <th>1</th>\n",
              "      <td>2709.0</td>\n",
              "      <td>22764.0</td>\n",
              "      <td>0.86</td>\n",
              "      <td>0.89</td>\n",
              "      <td>0.87</td>\n",
              "      <td>0.83</td>\n",
              "      <td>25473.0</td>\n",
              "      <td>0.81</td>\n",
              "      <td>0.80</td>\n",
              "      <td>0.8</td>\n",
              "      <td>NaN</td>\n",
              "    </tr>\n",
              "    <tr>\n",
              "      <th rowspan=\"2\" valign=\"top\">RandomForestClassifier: Test</th>\n",
              "      <th>0</th>\n",
              "      <td>3786.0</td>\n",
              "      <td>1633.0</td>\n",
              "      <td>0.75</td>\n",
              "      <td>0.70</td>\n",
              "      <td>0.73</td>\n",
              "      <td>0.82</td>\n",
              "      <td>5419.0</td>\n",
              "      <td>0.80</td>\n",
              "      <td>0.79</td>\n",
              "      <td>0.8</td>\n",
              "      <td>n_estimators=200, criterion='entropy', max_dep...</td>\n",
              "    </tr>\n",
              "    <tr>\n",
              "      <th>1</th>\n",
              "      <td>1234.0</td>\n",
              "      <td>9685.0</td>\n",
              "      <td>0.86</td>\n",
              "      <td>0.89</td>\n",
              "      <td>0.87</td>\n",
              "      <td>0.82</td>\n",
              "      <td>10919.0</td>\n",
              "      <td>0.80</td>\n",
              "      <td>0.79</td>\n",
              "      <td>0.8</td>\n",
              "      <td>NaN</td>\n",
              "    </tr>\n",
              "  </tbody>\n",
              "</table>\n",
              "</div>"
            ],
            "text/plain": [
              "                                          0        1  precision  recall  \\\n",
              "name                          index                                       \n",
              "RandomForestClassifier: Train 0      8819.0   3830.0       0.77    0.70   \n",
              "                              1      2709.0  22764.0       0.86    0.89   \n",
              "RandomForestClassifier: Test  0      3786.0   1633.0       0.75    0.70   \n",
              "                              1      1234.0   9685.0       0.86    0.89   \n",
              "\n",
              "                                     f1-score  accuracy  support  \\\n",
              "name                          index                                \n",
              "RandomForestClassifier: Train 0          0.73      0.83  12649.0   \n",
              "                              1          0.87      0.83  25473.0   \n",
              "RandomForestClassifier: Test  0          0.73      0.82   5419.0   \n",
              "                              1          0.87      0.82  10919.0   \n",
              "\n",
              "                                     precision_avg  recall_avg  f1-score_avg  \\\n",
              "name                          index                                            \n",
              "RandomForestClassifier: Train 0               0.81        0.80           0.8   \n",
              "                              1               0.81        0.80           0.8   \n",
              "RandomForestClassifier: Test  0               0.80        0.79           0.8   \n",
              "                              1               0.80        0.79           0.8   \n",
              "\n",
              "                                                                                  note  \n",
              "name                          index                                                     \n",
              "RandomForestClassifier: Train 0      n_estimators=200, criterion='entropy', max_dep...  \n",
              "                              1                                                    NaN  \n",
              "RandomForestClassifier: Test  0      n_estimators=200, criterion='entropy', max_dep...  \n",
              "                              1                                                    NaN  "
            ]
          },
          "metadata": {
            "tags": []
          }
        },
        {
          "output_type": "stream",
          "text": [
            "Shufersal_result_no_diff.csv\n"
          ],
          "name": "stdout"
        },
        {
          "output_type": "display_data",
          "data": {
            "text/html": [
              "<div>\n",
              "<style scoped>\n",
              "    .dataframe tbody tr th:only-of-type {\n",
              "        vertical-align: middle;\n",
              "    }\n",
              "\n",
              "    .dataframe tbody tr th {\n",
              "        vertical-align: top;\n",
              "    }\n",
              "\n",
              "    .dataframe thead th {\n",
              "        text-align: right;\n",
              "    }\n",
              "</style>\n",
              "<table border=\"1\" class=\"dataframe\">\n",
              "  <thead>\n",
              "    <tr style=\"text-align: right;\">\n",
              "      <th></th>\n",
              "      <th></th>\n",
              "      <th>0</th>\n",
              "      <th>1</th>\n",
              "      <th>precision</th>\n",
              "      <th>recall</th>\n",
              "      <th>f1-score</th>\n",
              "      <th>accuracy</th>\n",
              "      <th>support</th>\n",
              "      <th>precision_avg</th>\n",
              "      <th>recall_avg</th>\n",
              "      <th>f1-score_avg</th>\n",
              "      <th>note</th>\n",
              "    </tr>\n",
              "    <tr>\n",
              "      <th>name</th>\n",
              "      <th>index</th>\n",
              "      <th></th>\n",
              "      <th></th>\n",
              "      <th></th>\n",
              "      <th></th>\n",
              "      <th></th>\n",
              "      <th></th>\n",
              "      <th></th>\n",
              "      <th></th>\n",
              "      <th></th>\n",
              "      <th></th>\n",
              "      <th></th>\n",
              "    </tr>\n",
              "  </thead>\n",
              "  <tbody>\n",
              "    <tr>\n",
              "      <th rowspan=\"2\" valign=\"top\">RandomForestClassifier: Train</th>\n",
              "      <th>0</th>\n",
              "      <td>9087.0</td>\n",
              "      <td>3562.0</td>\n",
              "      <td>0.87</td>\n",
              "      <td>0.72</td>\n",
              "      <td>0.79</td>\n",
              "      <td>0.87</td>\n",
              "      <td>12649.0</td>\n",
              "      <td>0.87</td>\n",
              "      <td>0.83</td>\n",
              "      <td>0.85</td>\n",
              "      <td>n_estimators=200, criterion='entropy', max_dep...</td>\n",
              "    </tr>\n",
              "    <tr>\n",
              "      <th>1</th>\n",
              "      <td>1319.0</td>\n",
              "      <td>24154.0</td>\n",
              "      <td>0.87</td>\n",
              "      <td>0.95</td>\n",
              "      <td>0.91</td>\n",
              "      <td>0.87</td>\n",
              "      <td>25473.0</td>\n",
              "      <td>0.87</td>\n",
              "      <td>0.83</td>\n",
              "      <td>0.85</td>\n",
              "      <td>NaN</td>\n",
              "    </tr>\n",
              "    <tr>\n",
              "      <th rowspan=\"2\" valign=\"top\">RandomForestClassifier: Test</th>\n",
              "      <th>0</th>\n",
              "      <td>3674.0</td>\n",
              "      <td>1745.0</td>\n",
              "      <td>0.83</td>\n",
              "      <td>0.68</td>\n",
              "      <td>0.75</td>\n",
              "      <td>0.85</td>\n",
              "      <td>5419.0</td>\n",
              "      <td>0.84</td>\n",
              "      <td>0.80</td>\n",
              "      <td>0.82</td>\n",
              "      <td>n_estimators=200, criterion='entropy', max_dep...</td>\n",
              "    </tr>\n",
              "    <tr>\n",
              "      <th>1</th>\n",
              "      <td>760.0</td>\n",
              "      <td>10159.0</td>\n",
              "      <td>0.85</td>\n",
              "      <td>0.93</td>\n",
              "      <td>0.89</td>\n",
              "      <td>0.85</td>\n",
              "      <td>10919.0</td>\n",
              "      <td>0.84</td>\n",
              "      <td>0.80</td>\n",
              "      <td>0.82</td>\n",
              "      <td>NaN</td>\n",
              "    </tr>\n",
              "  </tbody>\n",
              "</table>\n",
              "</div>"
            ],
            "text/plain": [
              "                                          0        1  precision  recall  \\\n",
              "name                          index                                       \n",
              "RandomForestClassifier: Train 0      9087.0   3562.0       0.87    0.72   \n",
              "                              1      1319.0  24154.0       0.87    0.95   \n",
              "RandomForestClassifier: Test  0      3674.0   1745.0       0.83    0.68   \n",
              "                              1       760.0  10159.0       0.85    0.93   \n",
              "\n",
              "                                     f1-score  accuracy  support  \\\n",
              "name                          index                                \n",
              "RandomForestClassifier: Train 0          0.79      0.87  12649.0   \n",
              "                              1          0.91      0.87  25473.0   \n",
              "RandomForestClassifier: Test  0          0.75      0.85   5419.0   \n",
              "                              1          0.89      0.85  10919.0   \n",
              "\n",
              "                                     precision_avg  recall_avg  f1-score_avg  \\\n",
              "name                          index                                            \n",
              "RandomForestClassifier: Train 0               0.87        0.83          0.85   \n",
              "                              1               0.87        0.83          0.85   \n",
              "RandomForestClassifier: Test  0               0.84        0.80          0.82   \n",
              "                              1               0.84        0.80          0.82   \n",
              "\n",
              "                                                                                  note  \n",
              "name                          index                                                     \n",
              "RandomForestClassifier: Train 0      n_estimators=200, criterion='entropy', max_dep...  \n",
              "                              1                                                    NaN  \n",
              "RandomForestClassifier: Test  0      n_estimators=200, criterion='entropy', max_dep...  \n",
              "                              1                                                    NaN  "
            ]
          },
          "metadata": {
            "tags": []
          }
        },
        {
          "output_type": "stream",
          "text": [
            "\n"
          ],
          "name": "stdout"
        }
      ]
    },
    {
      "cell_type": "markdown",
      "metadata": {
        "id": "gVL3LIG1kTjY"
      },
      "source": [
        "#Baseline Model"
      ]
    },
    {
      "cell_type": "code",
      "metadata": {
        "id": "j7plSJ5BkcGp"
      },
      "source": [
        "def returnPrec(model,products):\n",
        "            productCols=['ParentProductNumber','ParentProductNumberSubs']\n",
        "            val=model[(model[productCols[0]]==products[0]) & (model[productCols[1]]==products[1])]['avgApproval']\n",
        "            if val.empty ==False:\n",
        "                #display(val)\n",
        "                return val.iloc[0]\n",
        "            #print(val)\n",
        "            return -1"
      ],
      "execution_count": null,
      "outputs": []
    },
    {
      "cell_type": "code",
      "metadata": {
        "id": "qIk9QpU0lJ0K"
      },
      "source": [
        "class BaselineModel:\n",
        "    def __init__(self, classes_):\n",
        "        self.classes_ = classes_\n",
        "    def fit(self,X_, y_):\n",
        "        #catalogCols=['ParentProductNumber','CompoundID','SubGroupCodeNew','GroupCode']\n",
        "        cols=['ParentProductNumber','ParentProductNumberSubs']\n",
        "        group=pd.concat([X_[cols],y_],axis=1).apply(lambda x:x.astype(np.int64))\\\n",
        "            .groupby(cols)\\\n",
        "            .agg({'CorrelateItemStatusCode':[('avgApproval','mean'),('countRows','count')]}).reset_index()\n",
        "        group.columns=group.columns.droplevel(0)\n",
        "        group.columns.values[0]=cols[0]\n",
        "        group.columns.values[1]=cols[1]\n",
        "        group=group[group['countRows']>=5]\n",
        "        display(group.head())\n",
        "        display(len(group))\n",
        "        self.model=group \n",
        "        return self\n",
        "    \n",
        "    def predict(self,X_): \n",
        "        #print(type(X_))\n",
        "        y_predPrec = X_.apply(lambda x: returnPrec( model=self.model,products=[x['ParentProductNumber'],\n",
        "                                                                                 x['ParentProductNumberSubs']]),axis=1)\n",
        "        #display(y_predPrec)\n",
        "        y_pred=np.where(y_predPrec>0.5,1,0)\n",
        "        return y_pred\n",
        "    def predict_proba(self,X_):\n",
        "        y_predPrec = X_.apply(lambda x: returnPrec(model=self.model, products=[x['ParentProductNumber'],\n",
        "                                                                                 x['ParentProductNumberSubs']]),axis=1)\n",
        "        return y_predPrec"
      ],
      "execution_count": null,
      "outputs": []
    },
    {
      "cell_type": "code",
      "metadata": {
        "id": "gNyGxU3Mlkv0"
      },
      "source": [
        "baseline=BaselineModel(df.CorrelateItemStatusCode.unique())"
      ],
      "execution_count": null,
      "outputs": []
    },
    {
      "cell_type": "code",
      "metadata": {
        "id": "C0F2Tbiml7Gk"
      },
      "source": [
        "baseline.fit(X_train,y_train)"
      ],
      "execution_count": null,
      "outputs": []
    },
    {
      "cell_type": "code",
      "metadata": {
        "id": "QybG91jSmDuO"
      },
      "source": [
        "y_pred=baseline.predict(X_test)"
      ],
      "execution_count": null,
      "outputs": []
    },
    {
      "cell_type": "markdown",
      "metadata": {
        "id": "7Cm7ERewmWDN"
      },
      "source": [
        "##Example baseline model"
      ]
    },
    {
      "cell_type": "code",
      "metadata": {
        "id": "LS3jnP5nmKDR"
      },
      "source": [
        "y_train[(X_train['ParentProductNumber']==161631) & (X_train['ParentProductNumberSubs']==72909799)].sum()\\\n",
        "/len(y_train[(X_train['ParentProductNumber']==161631) & (X_train['ParentProductNumberSubs']==72909799)])"
      ],
      "execution_count": null,
      "outputs": []
    },
    {
      "cell_type": "code",
      "metadata": {
        "id": "746ryWpmmYyf"
      },
      "source": [
        "baseline.predict_proba(X_test[(X_test['ParentProductNumber']==161631) & (X_test['ParentProductNumberSubs']==72909799)])"
      ],
      "execution_count": null,
      "outputs": []
    },
    {
      "cell_type": "code",
      "metadata": {
        "id": "qh_lCTrmmopU"
      },
      "source": [
        "print(len(y_pred[y_pred==0]))\n",
        "print(len(y_pred[y_pred==1]))\n",
        "print(len(y_pred[y_pred==-1]))"
      ],
      "execution_count": null,
      "outputs": []
    },
    {
      "cell_type": "code",
      "metadata": {
        "id": "8lfQ0GOFmxe6"
      },
      "source": [
        "print(classification_report(y_test,y_pred))"
      ],
      "execution_count": null,
      "outputs": []
    },
    {
      "cell_type": "code",
      "metadata": {
        "id": "cJzRcIGmm225"
      },
      "source": [
        "process_model(BaselineModel(df.CorrelateItemStatusCode.unique()))"
      ],
      "execution_count": null,
      "outputs": []
    },
    {
      "cell_type": "markdown",
      "metadata": {
        "id": "RBQIPpoUev6b"
      },
      "source": [
        "# Grid Search for hyperparameters - on best model RandonForest"
      ]
    },
    {
      "cell_type": "markdown",
      "metadata": {
        "id": "4om1mBJnz3FZ"
      },
      "source": [
        "It run for few hours and then colab disconnected - it was to preform 5880 checks. From the partial results (because Verbose=4) I saw that n_estimators=500, min_samples_split=6, criterion='entropy' gives better results so we implemented them and we can see that indeed precision was improved from 84% to 85% "
      ]
    },
    {
      "cell_type": "code",
      "metadata": {
        "id": "oXdxQNNqgeKT"
      },
      "source": [
        "GS = False\n",
        "if GS and False:\n",
        "  clf_RF = RandomForestClassifier(n_estimators=64)\n",
        "  clf_RF.fit(X_train, y_train)\n",
        "  p(clf_RF.score(X_train, y_train))\n",
        "  p(clf_RF.score(X_test, y_test))"
      ],
      "execution_count": null,
      "outputs": []
    },
    {
      "cell_type": "code",
      "metadata": {
        "id": "f5tuV4p2YWiV"
      },
      "source": [
        "def run_GS(model, param_grid, n_jobs=-1, cv=5, verbose=4):\n",
        "  if verbose > 3 and n_jobs == -1:\n",
        "    p('Warning: when n_jobs=-1 no partial results are displayed')\n",
        "    p('Change one of the parameters - Aborted')\n",
        "    return\n",
        "  clf_gs = GridSearchCV(model, param_grid, cv=cv, verbose=verbose, n_jobs=n_jobs)\n",
        "  clf_gs.fit(X_train, y_train)\n",
        "\n",
        "  p('Results')\n",
        "  clf_gs.estimator\n",
        "  p(clf_gs.best_params_)\n",
        "  p(clf_gs.best_estimator_)\n",
        "  p('After')\n",
        "  p(clf_gs.score(X_train, y_train))\n",
        "  p(clf_gs.score(X_test, y_test))"
      ],
      "execution_count": null,
      "outputs": []
    },
    {
      "cell_type": "code",
      "metadata": {
        "id": "z3BuABtErX98"
      },
      "source": [
        "if GS and False:\n",
        "  param_grid = { \n",
        "      'max_depth' : [None, 8, 15],\n",
        "      'ccp_alpha': [0.0001, 0.0003, 0.0005],\n",
        "      'n_estimators': [100, 200],\n",
        "  #    'max_features': ['auto', 'sqrt', 'log2', 1.0, 0.75, 0.5, 0.25],\n",
        "      'max_leaf_nodes': [None, 20, 40],\n",
        "      'min_samples_split': [2, 10, 20],\n",
        "      'random_state': [73]\n",
        "  }\n",
        "  model = GradientBoostingClassifier()\n",
        "  run_GS(model, param_grid, n_jobs=-1, cv=2, verbose=3)"
      ],
      "execution_count": null,
      "outputs": []
    },
    {
      "cell_type": "code",
      "metadata": {
        "id": "yFvl1gEiOGxF"
      },
      "source": [
        "if GS:\n",
        "  param_grid = { \n",
        "#      'max_depth' : [None, 8, 15],\n",
        "      'ccp_alpha': [0.0008, 0.001, 0.002],\n",
        "      #'n_estimators': [100],\n",
        "  #    'max_features': ['auto', 'sqrt', 'log2', 1.0, 0.75, 0.5, 0.25],\n",
        "#      'max_leaf_nodes': [None, 20, 40],\n",
        "      'min_samples_split': [2],\n",
        "      'random_state': [73]\n",
        "  }\n",
        "  model = GradientBoostingClassifier()\n",
        "  run_GS(model, param_grid, n_jobs=-1, cv=2, verbose=3)"
      ],
      "execution_count": null,
      "outputs": []
    },
    {
      "cell_type": "markdown",
      "metadata": {
        "id": "2kcyWw2L5MjQ"
      },
      "source": [
        "Results\n",
        "{'ccp_alpha': 0.0005, 'max_depth': None, 'max_leaf_nodes': None, 'min_samples_split': 2, 'n_estimators': 100, 'random_state': 73}\n",
        "GradientBoostingClassifier(ccp_alpha=0.0005, criterion='friedman_mse',\n",
        "                           init=None, learning_rate=0.1, loss='deviance',\n",
        "                           max_depth=None, max_features=None,\n",
        "                           max_leaf_nodes=None, min_impurity_decrease=0.0,\n",
        "                           min_impurity_split=None, min_samples_leaf=1,\n",
        "                           min_samples_split=2, min_weight_fraction_leaf=0.0,\n",
        "                           n_estimators=100, n_iter_no_change=None,\n",
        "                           presort='deprecated', random_state=73, subsample=1.0,\n",
        "                           tol=0.0001, validation_fraction=0.1, verbose=0,\n",
        "                           warm_start=False)\n",
        "\n",
        "After\n",
        "\n",
        "0.8204559424860357\n",
        "\n",
        "0.764712785307751\n"
      ]
    },
    {
      "cell_type": "code",
      "metadata": {
        "id": "CvFQC7lq5HRl"
      },
      "source": [
        "if GS:\n",
        "  param_grid = { \n",
        "      'max_depth' : [None, 8, 15],\n",
        "      'ccp_alpha': [0.0001, 0.0003, 0.0005],\n",
        "      'n_estimators': [100, 200],\n",
        "  #    'max_features': ['auto', 'sqrt', 'log2', 1.0, 0.75, 0.5, 0.25],\n",
        "      'criterion' :['gini', 'entropy'], \n",
        "      'max_leaf_nodes': [None, 20, 40],\n",
        "      'min_samples_split': [2, 10, 20],\n",
        "      'random_state': [73]\n",
        "  }\n",
        "  model = RandomForestClassifier()\n",
        "  run_GS(model, param_grid, n_jobs=-1, cv=2, verbose=3)"
      ],
      "execution_count": null,
      "outputs": []
    },
    {
      "cell_type": "code",
      "metadata": {
        "id": "l0bYwKFvemoO"
      },
      "source": [
        "if GS:\n",
        "  param_grid = { \n",
        "      'max_depth' : [None, 4,5,6,7,8],\n",
        "      'ccp_alpha': [0.01, 0.02, 0.03, 0.1],\n",
        "  #    'n_estimators': [64, 200, 500],\n",
        "  #    'max_features': ['auto', 'sqrt', 'log2', 1.0, 0.75, 0.5, 0.25],\n",
        "      'criterion' :['gini', 'entropy'], \n",
        "  #   'max_leaf_nodes': [None, 4, 10, 20],\n",
        "      'min_samples_split': [20, 100, 500]#[2, 4, 6, 8, 10, 12, 14]\n",
        "  }\n",
        "  model = RandomForestClassifier()\n",
        "  run_GS(model, param_grid, n_jobs=-1, cv=2, verbose=3)"
      ],
      "execution_count": null,
      "outputs": []
    },
    {
      "cell_type": "code",
      "metadata": {
        "id": "mRABcmGFXxDt"
      },
      "source": [
        "if GS and False:\n",
        "  param_grid = { \n",
        "      'max_depth' : [None, 4,8,10],\n",
        "      'ccp_alpha': [0.005, 0.01, 0.015],\n",
        "  #    'n_estimators': [64, 200, 500],\n",
        "  #    'max_features': ['auto', 'sqrt', 'log2', 1.0, 0.75, 0.5, 0.25],\n",
        "      'criterion' :['entropy'], \n",
        "  #   'max_leaf_nodes': [None, 4, 10, 20],\n",
        "      'min_samples_split': [10, 20, 30]\n",
        "  }\n",
        "\n",
        "  model = RandomForestClassifier()\n",
        "  run_GS(model, param_grid, n_jobs=-1, cv=2, verbose=3)"
      ],
      "execution_count": null,
      "outputs": []
    },
    {
      "cell_type": "markdown",
      "metadata": {
        "id": "ER6xz_XnXOCd"
      },
      "source": [
        "> output:\n",
        "\n",
        "Fitting 5 folds for each of 144 candidates, totalling 720 fits\n",
        "\n",
        "{'ccp_alpha': 0.01, 'criterion': 'entropy', 'max_depth': 8, 'min_samples_split': 20}"
      ]
    },
    {
      "cell_type": "code",
      "metadata": {
        "id": "DtL2eW1WEAIQ"
      },
      "source": [
        "if GS and False:\n",
        "  param_grid = { \n",
        "      'max_depth' : [None, 4,8,10],\n",
        "      'ccp_alpha': [0.005, 0.01, 0.015],\n",
        "  #    'n_estimators': [64, 200, 500],\n",
        "  #    'max_features': ['auto', 'sqrt', 'log2', 1.0, 0.75, 0.5, 0.25],\n",
        "      'criterion' :['entropy'], \n",
        "  #   'max_leaf_nodes': [None, 4, 10, 20],\n",
        "      'min_samples_split': [10, 20, 30]\n",
        "  }\n",
        "\n",
        "  model = RandomForestClassifier()\n",
        "  run_GS(model, param_grid, n_jobs=-1, cv=2, verbose=3)"
      ],
      "execution_count": null,
      "outputs": []
    },
    {
      "cell_type": "markdown",
      "metadata": {
        "id": "qW1yQgqEYzM2"
      },
      "source": [
        "> Output\n",
        "\n",
        "Fitting 5 folds for each of 36 candidates, totalling 180 fits\n",
        "\n",
        "{'ccp_alpha': 0.005, 'criterion': 'entropy', 'max_depth': None, 'min_samples_split': 20}\n",
        "\n",
        "Train: 0.7725460364094224\n",
        "\n",
        "Test: 0.7751866813563472"
      ]
    },
    {
      "cell_type": "code",
      "metadata": {
        "id": "MbYj8XELIe_d"
      },
      "source": [
        "if GS and False:\n",
        "  param_grid = { \n",
        "      'max_depth' : [None],\n",
        "      'ccp_alpha': [0.001, 0.003, 0.005],\n",
        "      'criterion' :['entropy'], \n",
        "      'min_samples_split': [20],\n",
        "      'n_estimators': [64, 200, 500],\n",
        "  }\n",
        "  model = RandomForestClassifier()\n",
        "  run_GS(model, param_grid, n_jobs=-1, cv=2, verbose=3)"
      ],
      "execution_count": null,
      "outputs": []
    },
    {
      "cell_type": "markdown",
      "metadata": {
        "id": "BsdSvQroZNKO"
      },
      "source": [
        "> Output\n",
        "\n",
        "Fitting 5 folds for each of 9 candidates, totalling 45 fits\n",
        "\n",
        "{'ccp_alpha': 0.001, 'criterion': 'entropy', 'max_depth': None, 'min_samples_split': 20, 'n_estimators': 200}\n",
        "\n",
        "Train: 0.8159592885997586\n",
        "\n",
        "Test: 0.8142367486840495"
      ]
    },
    {
      "cell_type": "code",
      "metadata": {
        "id": "cMPONf6oPxbe"
      },
      "source": [
        "if GS and False:\n",
        "  param_grid = { \n",
        "      'max_depth' : [None],\n",
        "      'ccp_alpha': [0.0001, 0.0005, 0.0008, 0.001],\n",
        "      'criterion' :['entropy'], \n",
        "      'min_samples_split': [20],\n",
        "      'n_estimators': [200, 300],\n",
        "  }\n",
        "  model = RandomForestClassifier()\n",
        "  run_GS(model, param_grid, n_jobs=-1, cv=2, verbose=3)"
      ],
      "execution_count": null,
      "outputs": []
    },
    {
      "cell_type": "markdown",
      "metadata": {
        "id": "Hflh-hmOaM7U"
      },
      "source": [
        "> Output\n",
        "\n",
        "Fitting 5 folds for each of 8 candidates, totalling 40 fits (15 mins)\n",
        "\n",
        "{'ccp_alpha': 0.0001, 'criterion': 'entropy', 'max_depth': None, 'min_samples_split': 20, 'n_estimators': 200}\n",
        "\n",
        "Train: 0.921698756623472\n",
        "\n",
        "Test: 0.8595299302240176"
      ]
    },
    {
      "cell_type": "code",
      "metadata": {
        "id": "oLsWGIx3WrvG"
      },
      "source": [
        "if GS and False:\n",
        "  clf_RF = RandomForestClassifier(n_estimators=200, criterion='entropy', max_depth=None, min_samples_split=20, ccp_alpha=0.0005)\n",
        "  clf_RF.fit(X_train, y_train)\n",
        "  p(clf_RF.score(X_train, y_train))\n",
        "  p(clf_RF.score(X_test, y_test))"
      ],
      "execution_count": null,
      "outputs": []
    },
    {
      "cell_type": "code",
      "metadata": {
        "id": "zDC-IKvyZb4I"
      },
      "source": [
        "#{'ccp_alpha': 0.0005, 'criterion': 'gini', 'max_depth': None, 'max_leaf_nodes': None, 'min_samples_split': 2, 'n_estimators': 100, 'random_state': 73}\n",
        "\n",
        "if GS:\n",
        "  for i in range(5):\n",
        "    ccp_alpha = 0.0001 + i / 10000\n",
        "    clf_RF = RandomForestClassifier(n_estimators=100, criterion='gini', max_depth=None, min_samples_split=2, ccp_alpha=ccp_alpha, random_state=73)\n",
        "    p(ccp_alpha)\n",
        "    clf_RF.fit(X_train, y_train)\n",
        "    p(clf_RF.score(X_train, y_train))\n",
        "    p(clf_RF.score(X_test, y_test))"
      ],
      "execution_count": null,
      "outputs": []
    },
    {
      "cell_type": "markdown",
      "metadata": {
        "id": "W6tvvVZVRJz4"
      },
      "source": [
        "# Cross validation"
      ]
    },
    {
      "cell_type": "code",
      "metadata": {
        "id": "0Z2obmckEf3k"
      },
      "source": [
        "CV = False\n",
        "if CV:\n",
        "  k = 7\n",
        "  scores = cross_val_score(clf_RF, X_train, y_train, cv=k)\n",
        "  p(\"\\nscores : \" + (k * \"{:.3f}, \").format(*scores))\n",
        "  p(\"mean : {:.3f} std : {:.3f} \".format(scores.mean(), scores.std()))"
      ],
      "execution_count": null,
      "outputs": []
    },
    {
      "cell_type": "markdown",
      "metadata": {
        "id": "YhU6cUlYXZqy"
      },
      "source": [
        "scores : 0.838, 0.845, 0.843, 0.850, 0.837, 0.844, 0.843, \n",
        "\n",
        "mean : 0.843 std : 0.004 "
      ]
    }
  ]
}