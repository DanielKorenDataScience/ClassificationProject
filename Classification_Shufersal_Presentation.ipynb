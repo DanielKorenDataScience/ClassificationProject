{
  "nbformat": 4,
  "nbformat_minor": 0,
  "metadata": {
    "colab": {
      "name": "Copy of Classification Project - Shufersal.ipynb",
      "provenance": [],
      "collapsed_sections": [
        "bNnieSsiHr4A",
        "4wii-OJ3actf",
        "7F_RegNtdIXn",
        "d_VBfeuUhKST",
        "l-Vbit-Z_sWW",
        "cIEYB-tFOhTb",
        "RBQIPpoUev6b",
        "W6tvvVZVRJz4",
        "Uos9bzosB7dU",
        "_e8SpyWLhzKl"
      ],
      "toc_visible": true,
      "include_colab_link": true
    },
    "kernelspec": {
      "name": "python3",
      "display_name": "Python 3"
    },
    "language_info": {
      "name": "python"
    }
  },
  "cells": [
    {
      "cell_type": "markdown",
      "metadata": {
        "id": "view-in-github",
        "colab_type": "text"
      },
      "source": [
        "<a href=\"https://colab.research.google.com/github/DanielKorenDataScience/ClassificationProject/blob/main/Classification_Shufersal_Presentation.ipynb\" target=\"_parent\"><img src=\"https://colab.research.google.com/assets/colab-badge.svg\" alt=\"Open In Colab\"/></a>"
      ]
    },
    {
      "cell_type": "markdown",
      "metadata": {
        "id": "AsgFwVtRbySD"
      },
      "source": [
        "# **Classification Project - PRESENTATION**\n",
        "\n",
        "for Shufersal on-line orders, for replacing of missing products, will predict the replacement success!"
      ]
    },
    {
      "cell_type": "code",
      "metadata": {
        "id": "yGba9FH7bxTM"
      },
      "source": [
        "import requests\n",
        "import pandas as pd\n",
        "import matplotlib.pyplot as plt\n",
        "import numpy as np\n",
        "\n",
        "from IPython.display import display\n",
        "p = print\n",
        "d = display\n",
        "\n",
        "from sklearn.preprocessing import LabelEncoder"
      ],
      "execution_count": 2,
      "outputs": []
    },
    {
      "cell_type": "markdown",
      "metadata": {
        "id": "K5fip8cGHkql"
      },
      "source": [
        "# Get Data"
      ]
    },
    {
      "cell_type": "code",
      "metadata": {
        "id": "UvzC3e_IDvSd"
      },
      "source": [
        "id = 'no_diff'\n",
        "prefix = 'Shufersal'\n",
        "\n",
        "DIFF = False\n",
        "RATIO = False\n",
        "REL = False\n",
        "\n",
        "REMOVE_ING = False\n",
        "SPLIT_DATE = False\n",
        "SPLIT_DATE2 = False\n",
        "ONLY_PRICE = False\n",
        "\n",
        "SWEETS = True\n",
        "CANS = False\n",
        "DETERGENTS = False\n",
        "\n",
        "EDA = False"
      ],
      "execution_count": 3,
      "outputs": []
    },
    {
      "cell_type": "code",
      "metadata": {
        "id": "sj82nrVzWKej"
      },
      "source": [
        "def get_data(fname, partial=True):\n",
        "  data_url = 'https://raw.githubusercontent.com/DanielKorenDataScience/ClassificationProject/main/' + fname\n",
        "  p(fname)\n",
        "\n",
        "  if partial:\n",
        "    # Eliminating unwanted columns - mostly descriptive columns\n",
        "    df = pd.read_csv(data_url, usecols=[i for i in range(82) if not i in[0,8,10,12,14,16,18,20,24,26,27,48,50,52,54,56,58,62,64,65]])\n",
        "  else:\n",
        "    df = pd.read_csv(data_url)\n",
        "  return df"
      ],
      "execution_count": 4,
      "outputs": []
    },
    {
      "cell_type": "markdown",
      "metadata": {
        "id": "nGKGh_hFv0rY"
      },
      "source": [
        "## Sweets or Cans or Detergents"
      ]
    },
    {
      "cell_type": "code",
      "metadata": {
        "colab": {
          "base_uri": "https://localhost:8080/",
          "height": 134
        },
        "id": "KdwAFYWqwMt8",
        "outputId": "0d233a79-2671-41b2-c0f7-a3377f891a38"
      },
      "source": [
        "if SWEETS:\n",
        "  df = get_data('Sweets.csv')\n",
        "elif CANS:\n",
        "  df = get_data('Cans.csv')\n",
        "else:  \n",
        "  df = get_data('Detergents.csv')\n",
        "df.head(1)"
      ],
      "execution_count": 5,
      "outputs": [
        {
          "output_type": "stream",
          "text": [
            "Sweets.csv\n"
          ],
          "name": "stdout"
        },
        {
          "output_type": "execute_result",
          "data": {
            "text/html": [
              "<div>\n",
              "<style scoped>\n",
              "    .dataframe tbody tr th:only-of-type {\n",
              "        vertical-align: middle;\n",
              "    }\n",
              "\n",
              "    .dataframe tbody tr th {\n",
              "        vertical-align: top;\n",
              "    }\n",
              "\n",
              "    .dataframe thead th {\n",
              "        text-align: right;\n",
              "    }\n",
              "</style>\n",
              "<table border=\"1\" class=\"dataframe\">\n",
              "  <thead>\n",
              "    <tr style=\"text-align: right;\">\n",
              "      <th></th>\n",
              "      <th>HouseHoldID</th>\n",
              "      <th>LocationCityName</th>\n",
              "      <th>QuarterNumber</th>\n",
              "      <th>MonthNumber</th>\n",
              "      <th>WeekNumber</th>\n",
              "      <th>DayNumberInWeek</th>\n",
              "      <th>PeriodHoliday</th>\n",
              "      <th>DepartmentCode</th>\n",
              "      <th>CategoryCode</th>\n",
              "      <th>GroupCode</th>\n",
              "      <th>SubGroupCode</th>\n",
              "      <th>CompoundID</th>\n",
              "      <th>ParentProductNumber</th>\n",
              "      <th>BrandIndDesc</th>\n",
              "      <th>BrandName</th>\n",
              "      <th>VendorNumber</th>\n",
              "      <th>UnitOfMeasure</th>\n",
              "      <th>Price</th>\n",
              "      <th>Quantity</th>\n",
              "      <th>cntPrdAll</th>\n",
              "      <th>NetSaleAmountAll</th>\n",
              "      <th>NetSaleNoVatPrdLast3Months</th>\n",
              "      <th>QuantSale</th>\n",
              "      <th>cntMonths</th>\n",
              "      <th>DiscountPerUnit</th>\n",
              "      <th>isPromo</th>\n",
              "      <th>Energy</th>\n",
              "      <th>Pachmema</th>\n",
              "      <th>Natran</th>\n",
              "      <th>Helbon</th>\n",
              "      <th>Shuman</th>\n",
              "      <th>ShumanRavuy</th>\n",
              "      <th>ShumanTrans</th>\n",
              "      <th>Colastrol</th>\n",
              "      <th>SivimTzunatim</th>\n",
              "      <th>CafiotSucar</th>\n",
              "      <th>DepartmentCodeSubs</th>\n",
              "      <th>CategoryCodeSubs</th>\n",
              "      <th>GroupCodeSubs</th>\n",
              "      <th>SubGroupCodeSubs</th>\n",
              "      <th>CompoundIDSubs</th>\n",
              "      <th>ProductNumberSubs</th>\n",
              "      <th>BrandIndDescSuss</th>\n",
              "      <th>BrandNameSubs</th>\n",
              "      <th>VendorNumberSubs</th>\n",
              "      <th>UnitOfMeasureSubs</th>\n",
              "      <th>PriceSubs</th>\n",
              "      <th>NetSaleNoVatPrdSubs</th>\n",
              "      <th>QuantSaleSubs</th>\n",
              "      <th>cntMonthsSubs</th>\n",
              "      <th>DiscountPerUnitSubs</th>\n",
              "      <th>EnergySubs</th>\n",
              "      <th>PachmemaSubs</th>\n",
              "      <th>NatranSubs</th>\n",
              "      <th>HelbonSubs</th>\n",
              "      <th>ShumanSubs</th>\n",
              "      <th>ShumanRavuySubs</th>\n",
              "      <th>ShumanTransSubs</th>\n",
              "      <th>ColastrolSubs</th>\n",
              "      <th>SivimTzunatimSubs</th>\n",
              "      <th>CafiotSucarSusb</th>\n",
              "      <th>CorrelateItemStatusCode</th>\n",
              "    </tr>\n",
              "  </thead>\n",
              "  <tbody>\n",
              "    <tr>\n",
              "      <th>0</th>\n",
              "      <td>1</td>\n",
              "      <td>ראשון לציון</td>\n",
              "      <td>202101</td>\n",
              "      <td>202102</td>\n",
              "      <td>202108</td>\n",
              "      <td>1</td>\n",
              "      <td>NotHoliday</td>\n",
              "      <td>10</td>\n",
              "      <td>6</td>\n",
              "      <td>700</td>\n",
              "      <td>3</td>\n",
              "      <td>-8000500249352</td>\n",
              "      <td>8000500249352</td>\n",
              "      <td>קינדר</td>\n",
              "      <td>לא מותג פרטי</td>\n",
              "      <td>914547</td>\n",
              "      <td>0.205</td>\n",
              "      <td>18.9</td>\n",
              "      <td>4</td>\n",
              "      <td>22</td>\n",
              "      <td>800.63</td>\n",
              "      <td>57747.16</td>\n",
              "      <td>0.8</td>\n",
              "      <td>16</td>\n",
              "      <td>NaN</td>\n",
              "      <td>noPromo</td>\n",
              "      <td>568.0</td>\n",
              "      <td>49.5</td>\n",
              "      <td>107.0</td>\n",
              "      <td>8.6</td>\n",
              "      <td>37.8</td>\n",
              "      <td>17.3</td>\n",
              "      <td>0.5</td>\n",
              "      <td>15.0</td>\n",
              "      <td>NaN</td>\n",
              "      <td>NaN</td>\n",
              "      <td>10</td>\n",
              "      <td>6</td>\n",
              "      <td>700</td>\n",
              "      <td>6</td>\n",
              "      <td>-8000500217740</td>\n",
              "      <td>8000500217740</td>\n",
              "      <td>קינדר</td>\n",
              "      <td>לא מותג פרטי</td>\n",
              "      <td>914547</td>\n",
              "      <td>0.086</td>\n",
              "      <td>9.9</td>\n",
              "      <td>46128.25</td>\n",
              "      <td>0.8</td>\n",
              "      <td>13</td>\n",
              "      <td>NaN</td>\n",
              "      <td>NaN</td>\n",
              "      <td>NaN</td>\n",
              "      <td>NaN</td>\n",
              "      <td>NaN</td>\n",
              "      <td>NaN</td>\n",
              "      <td>NaN</td>\n",
              "      <td>NaN</td>\n",
              "      <td>NaN</td>\n",
              "      <td>NaN</td>\n",
              "      <td>NaN</td>\n",
              "      <td>1</td>\n",
              "    </tr>\n",
              "  </tbody>\n",
              "</table>\n",
              "</div>"
            ],
            "text/plain": [
              "   HouseHoldID LocationCityName  ...  CafiotSucarSusb  CorrelateItemStatusCode\n",
              "0            1      ראשון לציון  ...              NaN                        1\n",
              "\n",
              "[1 rows x 62 columns]"
            ]
          },
          "metadata": {
            "tags": []
          },
          "execution_count": 5
        }
      ]
    },
    {
      "cell_type": "markdown",
      "metadata": {
        "id": "cKk5yZErGJ_c"
      },
      "source": [
        "# EDA"
      ]
    },
    {
      "cell_type": "code",
      "metadata": {
        "id": "5Sfr2TXaeElP",
        "colab": {
          "base_uri": "https://localhost:8080/"
        },
        "outputId": "6206d592-c1f5-4bcb-e7ee-542ae43e136c"
      },
      "source": [
        "import seaborn as sns\n",
        "try:\n",
        "  from bidi import algorithm as bidialg\n",
        "except:\n",
        "  !pip install python-bidi\n",
        "  from bidi import algorithm as bidialg"
      ],
      "execution_count": 6,
      "outputs": [
        {
          "output_type": "stream",
          "text": [
            "Collecting python-bidi\n",
            "  Downloading https://files.pythonhosted.org/packages/33/b0/f942d146a2f457233baaafd6bdf624eba8e0f665045b4abd69d1b62d097d/python_bidi-0.4.2-py2.py3-none-any.whl\n",
            "Requirement already satisfied: six in /usr/local/lib/python3.7/dist-packages (from python-bidi) (1.15.0)\n",
            "Installing collected packages: python-bidi\n",
            "Successfully installed python-bidi-0.4.2\n"
          ],
          "name": "stdout"
        }
      ]
    },
    {
      "cell_type": "code",
      "metadata": {
        "scrolled": true,
        "id": "pkjbQqjTGJ_e"
      },
      "source": [
        "if EDA:\n",
        "  plt.figure(figsize=(8,5))\n",
        "  #ax=sns.histplot(df.CorrelateItemStatusCode.astype('int'), kde=False)\n",
        "  ax=sns.countplot(x=df.CorrelateItemStatusCode)\n",
        "  ax.set(title='Distribution of approvals')\n",
        "  # label each bar in histogram\n",
        "  for pa in ax.patches:\n",
        "      height = pa.get_height() # get the height of each bar\n",
        "      # adding text to each bar\n",
        "      ax.text(x = pa.get_x()+(pa.get_width()/2), # x-coordinate position of data label, padded to be in the middle of the bar\n",
        "      y = height+0.2, # y-coordinate position of data label, padded 0.2 above bar\n",
        "      s = '{:.0f}'.format(height), # data label, formatted to ignore decimals\n",
        "      ha = 'center') # sets horizontal alignment (ha) to center\n",
        "  #plt.xticks(df.CorrelateItemStatusCode.astype('int').unique())\n",
        "  plt.show()"
      ],
      "execution_count": 7,
      "outputs": []
    },
    {
      "cell_type": "code",
      "metadata": {
        "id": "hHInRofdgi7c"
      },
      "source": [
        "if EDA:\n",
        "  df_cp = df.copy()\n",
        "  df_origin = get_data('Sweets.csv', partial=False)"
      ],
      "execution_count": 8,
      "outputs": []
    },
    {
      "cell_type": "code",
      "metadata": {
        "id": "UaA1pHqQlHNB"
      },
      "source": [
        "if EDA:\n",
        "  df_cp['Refused'] = np.where(df_cp.CorrelateItemStatusCode==0, 1, 0)\n",
        "  df_cp = df_cp.rename(columns={'CorrelateItemStatusCode': 'Accepted'})\n",
        "  df_plot = df_cp.groupby(['WeekNumber'])[['Accepted','Refused']].sum().reset_index()\n",
        "  df_plot.set_index('WeekNumber').plot(kind='bar', stacked=True, figsize=(8,5))\n",
        "  plt.show()"
      ],
      "execution_count": 9,
      "outputs": []
    },
    {
      "cell_type": "code",
      "metadata": {
        "id": "sFENVjAMqvsH"
      },
      "source": [
        "if EDA:\n",
        "  plt.figure(figsize=(15,30))\n",
        "  df_city = df_origin.groupby('LocationCityName')['CorrelateItemStatusCode'].mean().reset_index().sort_values('CorrelateItemStatusCode')\n",
        "  sns.barplot( y=df_origin.LocationCityName.apply( bidialg.get_display ), x=df_origin['CorrelateItemStatusCode'], order=df_city.LocationCityName.apply( bidialg.get_display ))\n",
        "  plt.show()"
      ],
      "execution_count": 10,
      "outputs": []
    },
    {
      "cell_type": "code",
      "metadata": {
        "id": "viOWfX9u2AaB"
      },
      "source": [
        "if EDA:\n",
        "  plt.figure(figsize=(15,10)) \n",
        "  df_group = df_origin.groupby('GroupName')['CorrelateItemStatusCode'].mean().reset_index().sort_values('CorrelateItemStatusCode')\n",
        "  sns.barplot( y=df_origin.GroupName.apply( bidialg.get_display ), x=df_origin['CorrelateItemStatusCode'], order=df_group.GroupName.apply( bidialg.get_display ))\n",
        "  plt.show()"
      ],
      "execution_count": 11,
      "outputs": []
    },
    {
      "cell_type": "markdown",
      "metadata": {
        "id": "JG0fqZIIp9uL"
      },
      "source": [
        "## Acceptance of Subs from different group"
      ]
    },
    {
      "cell_type": "code",
      "metadata": {
        "id": "jqqQfCeG3dtG"
      },
      "source": [
        "if EDA:\n",
        "  plt.figure(figsize=(20,10))\n",
        "  df_groupmatrix = df_origin[['GroupName', 'GroupNameSubs','CorrelateItemStatusCode']].copy()\n",
        "  df_groupmatrix['grpsubsnew'] = np.where(df_groupmatrix.GroupNameSubs==df_groupmatrix.GroupName,df_groupmatrix.GroupNameSubs,'Other')\n",
        "  sns.barplot(x=df_groupmatrix.GroupName.apply( bidialg.get_display ), y=df_groupmatrix.CorrelateItemStatusCode, hue=df_groupmatrix.grpsubsnew.apply( bidialg.get_display ))\n",
        "  plt.show()"
      ],
      "execution_count": 12,
      "outputs": []
    },
    {
      "cell_type": "markdown",
      "metadata": {
        "id": "om9RLRZoqP1P"
      },
      "source": [
        "## Correlation - Price is negative, isPromo is positive"
      ]
    },
    {
      "cell_type": "code",
      "metadata": {
        "id": "KlfyqIIX9DeP"
      },
      "source": [
        "if EDA:\n",
        "  plt.figure(figsize=(15,20))\n",
        "  df_cor = df.corr()['CorrelateItemStatusCode'][:]\n",
        "  df_cor_ = pd.DataFrame(df_cor).sort_values('CorrelateItemStatusCode')\n",
        "  df_cor_ = df_cor_[df_cor_.index != 'CorrelateItemStatusCode']\n",
        "  sns.barplot( y=df_cor_.index, x=df_cor_['CorrelateItemStatusCode'])\n",
        "  plt.show()"
      ],
      "execution_count": 13,
      "outputs": []
    },
    {
      "cell_type": "markdown",
      "metadata": {
        "id": "YGL6DZMqcnSj"
      },
      "source": [
        "# Various Data Sets - Functions"
      ]
    },
    {
      "cell_type": "markdown",
      "metadata": {
        "id": "bNnieSsiHr4A"
      },
      "source": [
        "## Calc diff vector"
      ]
    },
    {
      "cell_type": "code",
      "metadata": {
        "id": "dVnvNLbJEFao"
      },
      "source": [
        "def prepare_diff(df):\n",
        "  id = ''\n",
        "  for col in ['DepartmentCode', 'CategoryCode', 'GroupCode', #'SubGroupCode',\n",
        "       'CompoundID', 'ParentProductNumber', 'BrandIndDesc',\n",
        "       'VendorNumber', 'UnitOfMeasure', 'Price', 'NetSaleNoVatPrdLast3Months', 'Energy', 'Pachmema',\n",
        "       'Natran', 'Helbon', 'Shuman', 'ShumanRavuy', 'ShumanTrans', 'Colastrol',\n",
        "       'SivimTzunatim', 'CafiotSucar', 'QuantSale', 'cntMonths', 'DiscountPerUnit']:\n",
        "    df[col + 'Diff'] = df[col] - df[col + 'Subs']\n",
        "\n",
        "  for col in ['DepartmentCode', 'CategoryCode', 'GroupCode', #'SubGroupCode',\n",
        "       'CompoundID', 'ParentProductNumber', 'VendorNumber', 'BrandIndDesc']:\n",
        "    df[col + 'Diff'] = (df[col + 'Diff'] != 0)    # tested both ==0 and !=0 (the result is 1 for one and 0 for the other - no change in the model results)\n",
        "    df[col + 'Diff'] = enc.fit_transform(df[col + 'Diff'])\n",
        "\n",
        "  return df"
      ],
      "execution_count": 14,
      "outputs": []
    },
    {
      "cell_type": "markdown",
      "metadata": {
        "id": "4wii-OJ3actf"
      },
      "source": [
        "## Calc Ratio vector - no change in results\n",
        "\n",
        "note: changes affects only columns that are not categorical because those we change to 0/1 in the 2nd step below"
      ]
    },
    {
      "cell_type": "code",
      "metadata": {
        "id": "3yg0D4XciR20"
      },
      "source": [
        "def prepare_ratio(df):\n",
        "  id = 'ratio'\n",
        "  for col in ['DepartmentCode', 'CategoryCode', 'GroupCode', #'SubGroupCode',\n",
        "       'CompoundID', 'ParentProductNumber', 'BrandIndDesc',\n",
        "       'VendorNumber', 'UnitOfMeasure', 'Price', 'NetSaleNoVatPrdLast3Months', 'Energy', 'Pachmema',\n",
        "       'Natran', 'Helbon', 'Shuman', 'ShumanRavuy', 'ShumanTrans', 'Colastrol',\n",
        "       'SivimTzunatim', 'CafiotSucar', 'QuantSale', 'cntMonths', 'DiscountPerUnit']:\n",
        "    df[col + 'Ratio'] = df.apply(lambda row: 999 if row[col + 'Subs'] == 0 else row[col] / row[col + 'Subs'], axis=1)\n",
        "\n",
        "  for col in ['DepartmentCode', 'CategoryCode', 'GroupCode', #'SubGroupCode',\n",
        "       'CompoundID', 'ParentProductNumber', 'VendorNumber', 'BrandIndDesc']:\n",
        "    df[col + 'Ratio'] = (df[col + 'Ratio'] != 1.0)\n",
        "    df[col + 'Ratio'] = enc.fit_transform(df[col + 'Ratio'])\n",
        "\n",
        "  return df"
      ],
      "execution_count": 15,
      "outputs": []
    },
    {
      "cell_type": "markdown",
      "metadata": {
        "id": "tiuNqyZC-vgr"
      },
      "source": [
        "## Calc Relative Diff - no change in results\n",
        "\n",
        "note: changes affects only columns that are not categorical because those we change to 0/1 in the 2nd step below"
      ]
    },
    {
      "cell_type": "code",
      "metadata": {
        "id": "Yz32ftMT-vhl"
      },
      "source": [
        "def prepare_rel(df):\n",
        "  id = 'rel_diff'\n",
        "\n",
        "  for col in ['DepartmentCode', 'CategoryCode', 'GroupCode', #'SubGroupCode',\n",
        "       'CompoundID', 'ParentProductNumber', 'BrandIndDesc',\n",
        "       'VendorNumber', 'UnitOfMeasure', 'Price', 'NetSaleNoVatPrdLast3Months', 'Energy', 'Pachmema',\n",
        "       'Natran', 'Helbon', 'Shuman', 'ShumanRavuy', 'ShumanTrans', 'Colastrol',\n",
        "       'SivimTzunatim', 'CafiotSucar', 'QuantSale', 'cntMonths', 'DiscountPerUnit']:\n",
        "    df[col + 'RelDiff'] = df.apply(lambda row: 1 if row[col] == 0 else (row[col] - row[col + 'Subs']) / row[col], axis=1)\n",
        "\n",
        "  for col in ['DepartmentCode', 'CategoryCode', 'GroupCode', #'SubGroupCode',\n",
        "       'CompoundID', 'ParentProductNumber', 'VendorNumber', 'BrandIndDesc']:\n",
        "    df[col + 'RelDiff'] = (df[col + 'RelDiff'] != 0.0)\n",
        "    df[col + 'RelDiff'] = enc.fit_transform(df[col + 'RelDiff'])\n",
        "\n",
        "  return df    "
      ],
      "execution_count": 16,
      "outputs": []
    },
    {
      "cell_type": "markdown",
      "metadata": {
        "id": "7F_RegNtdIXn"
      },
      "source": [
        "## Models - remove ingredients - no change in results"
      ]
    },
    {
      "cell_type": "code",
      "metadata": {
        "id": "XmD41kZddIXs"
      },
      "source": [
        "def do_remove_ing(df):\n",
        "  global X_train, X_test, y_train, y_test\n",
        "\n",
        "  id = 'remove_ingredients'\n",
        "\n",
        "  try:\n",
        "    del X_train, X_test, y_train, y_test\n",
        "  except:\n",
        "    pass\n",
        "  \n",
        "  cols = ['CorrelateItemStatusCode']\n",
        "  for col in ['Energy', 'Pachmema', 'Natran', 'Helbon', 'Shuman', 'ShumanRavuy', 'ShumanTrans', 'Colastrol',\n",
        "       'SivimTzunatim', 'CafiotSucar']:\n",
        "      cols.append(col)\n",
        "      cols.append(col + 'Subs')\n",
        "      cols.append(col + 'Diff')\n",
        "\n",
        "  X = df.drop(cols, axis=1)\n",
        "  y = df.CorrelateItemStatusCode.astype(int)\n",
        "\n",
        "  X_train, X_test, y_train, y_test = train_test_split(X, y, train_size=0.7, random_state=0)\n",
        "#  p(df.shape)\n",
        "#  p(X_train.shape, X_test.shape, y_train.shape, y_test.shape)"
      ],
      "execution_count": 17,
      "outputs": []
    },
    {
      "cell_type": "markdown",
      "metadata": {
        "id": "d_VBfeuUhKST"
      },
      "source": [
        "## Models - split based on date - major change (precision went down from 84% to 78%)"
      ]
    },
    {
      "cell_type": "code",
      "metadata": {
        "id": "3hv7ppZ6hKSb"
      },
      "source": [
        "def do_split_date(df):\n",
        "  global X_train, X_test, y_train, y_test\n",
        " \n",
        "  id = 'split_based_on_date'\n",
        "\n",
        "  mask = df.WeekNumber > 202108\n",
        "  try:\n",
        "    del X_train, X_test, y_train, y_test\n",
        "  except:\n",
        "    pass\n",
        "\n",
        "  df_train = df[~mask]\n",
        "  X_train = df_train.drop('CorrelateItemStatusCode', axis=1)\n",
        "  y_train = df_train.CorrelateItemStatusCode.astype(int)\n",
        "\n",
        "  df_test = df[mask]\n",
        "  X_test = df_test.drop('CorrelateItemStatusCode', axis=1)\n",
        "  y_test = df_test.CorrelateItemStatusCode.astype(int)\n",
        "\n",
        "  #Variant - remove the date related columns - must be run after the SPLIT_DATE run because it prepares the X_train\n",
        "  if SPLIT_DATE2:\n",
        "    id = 'split_based_on_date_without_date_features_and_order_info'\n",
        "\n",
        "    cols = ['QuarterNumber', 'MonthNumber', 'WeekNumber', 'DayNumberInWeek', \n",
        "            'PeriodHoliday_0', 'PeriodHoliday_1',\n",
        "            'Quantity', 'cntPrdAll', 'NetSaleAmountAll']\n",
        "    X_train = X_train.drop(cols, axis=1)\n",
        "    X_test = X_test.drop(cols, axis=1)\n",
        "#    p(X_train.shape, X_test.shape, y_train.shape, y_test.shape)\n",
        "\n",
        "#  p(df.shape)\n",
        "#  p(X_train.shape, X_test.shape, y_train.shape, y_test.shape)"
      ],
      "execution_count": 18,
      "outputs": []
    },
    {
      "cell_type": "markdown",
      "metadata": {
        "id": "l-Vbit-Z_sWW"
      },
      "source": [
        "## Models - remove all features execpt of prices"
      ]
    },
    {
      "cell_type": "code",
      "metadata": {
        "id": "zZ4Qc85u_sWc"
      },
      "source": [
        "def do_only_price(df):\n",
        "  global X_train, X_test, y_train, y_test\n",
        "\n",
        "  id = 'only_prices'\n",
        "  try:\n",
        "    del X_train, X_test, y_train, y_test\n",
        "  except:\n",
        "    pass\n",
        "  \n",
        "  X = df[['Price', 'PriceSubs', 'PriceDiff']]\n",
        "  y = df.CorrelateItemStatusCode.astype(int)\n",
        "\n",
        "  X_train, X_test, y_train, y_test = train_test_split(X, y, train_size=0.7, random_state=0)\n",
        "#  p(df.shape)\n",
        "#  p(X_train.shape, X_test.shape, y_train.shape, y_test.shape)"
      ],
      "execution_count": 19,
      "outputs": []
    },
    {
      "cell_type": "markdown",
      "metadata": {
        "id": "NXv0ThRkj_Ju"
      },
      "source": [
        "# Prepare Data"
      ]
    },
    {
      "cell_type": "code",
      "metadata": {
        "id": "g8MX6rBCuirA"
      },
      "source": [
        "def prepare(df):\n",
        "  ## Fix Typo mistake\n",
        "  df.rename(columns={'OrderNumbert': 'OrderNumber','BrandIndDescSuss': 'BrandIndDescSubs', 'ProductNumberSubs': 'ParentProductNumberSubs', \\\n",
        "                    'NetSaleNoVatPrdSubs': 'NetSaleNoVatPrdLast3MonthsSubs', 'CafiotSucarSusb': 'CafiotSucarSubs'}, inplace=True)\n",
        "  \n",
        "  ##Eliminating nulls\n",
        "  df.fillna({'QuantSale': 1, 'QuantSaleSubs': 1}, inplace=True)\n",
        "  df.fillna(0, inplace=True)\n",
        "\n",
        "  ## Encoding categories\n",
        "  enc = LabelEncoder()\n",
        "  enc.fit(['PromoSusbDiffPromo', 'PromoSusbSamePromo', 'noPromo'])\n",
        "  df.isPromo = enc.transform(df.isPromo)\n",
        "\n",
        "  df['LocationCityName'] = df.LocationCityName.astype('str')\n",
        "  df['BrandIndDesc'] = df.BrandIndDesc.astype('str')\n",
        "  df['BrandIndDescSubs'] = df.BrandIndDescSubs.astype('str')\n",
        "  for col in ['LocationCityName', 'PeriodHoliday', 'BrandIndDesc', 'BrandName', 'BrandIndDescSubs', 'BrandNameSubs']:\n",
        "    df[col] = enc.fit_transform(df[col])\n",
        "\n",
        "  ## Combine 'GroupCode' and 'SubGroupCode' into one column\n",
        "  df.GroupCode = df.GroupCode * 10 + df.SubGroupCode\n",
        "  df.GroupCodeSubs = df.GroupCodeSubs * 10 + df.SubGroupCodeSubs\n",
        "\n",
        "  ## Use Dummies\n",
        "  ## Minimal improvement - FalseNegative (0,0) improved from 1338 to 1328\n",
        "  #df = pd.get_dummies(df, columns=['isPromo', 'PeriodHoliday'])\n",
        "\n",
        "  if DIFF:\n",
        "    df = prepare_diff(df)\n",
        "  elif RATIO:\n",
        "    df = prepare_ratio(df)\n",
        "  elif REL:\n",
        "    df = prepare_rel(df)\n",
        "  return df    \n",
        "\n",
        "df = prepare(df)    "
      ],
      "execution_count": 20,
      "outputs": []
    },
    {
      "cell_type": "markdown",
      "metadata": {
        "id": "N27b5TlMH14F"
      },
      "source": [
        "# Models"
      ]
    },
    {
      "cell_type": "markdown",
      "metadata": {
        "id": "cIEYB-tFOhTb"
      },
      "source": [
        "\n",
        "## Models - process_model code"
      ]
    },
    {
      "cell_type": "code",
      "metadata": {
        "id": "pMu7UaSHZ2BX"
      },
      "source": [
        "from sklearn.metrics import confusion_matrix, classification_report, accuracy_score\n",
        "import math\n",
        "\n",
        "pd.set_option(\"precision\", 2)\n",
        "df_result = pd.DataFrame()"
      ],
      "execution_count": 21,
      "outputs": []
    },
    {
      "cell_type": "code",
      "metadata": {
        "id": "6rVRpGZCICWb"
      },
      "source": [
        "from sklearn.model_selection import train_test_split, GridSearchCV, cross_val_score\n",
        "\n",
        "X = df.drop('CorrelateItemStatusCode', axis=1)\n",
        "y = df.CorrelateItemStatusCode.astype(int)\n",
        "\n",
        "X_train, X_test, y_train, y_test = train_test_split(X, y, train_size=0.7, random_state=0)\n",
        "\n",
        "if REMOVE_ING:\n",
        "  do_remove_ing(df)\n",
        "elif SPLIT_DATE or SPLIT_DATE2:\n",
        "  do_split_date(df)\n",
        "elif ONLY_PRICE:  \n",
        "  do_only_price(df)"
      ],
      "execution_count": 22,
      "outputs": []
    },
    {
      "cell_type": "code",
      "metadata": {
        "id": "SD0WOCyeZqSg"
      },
      "source": [
        "def report(clf, X, y, note, test, data_type='Test'):\n",
        "  global df_result\n",
        "  name = type(clf).__name__ + ': ' + data_type\n",
        "  acc = accuracy_score(y_true=y, y_pred=clf.predict(X))\n",
        "  index = [(name, clf.classes_[0]), (name, clf.classes_[1])]\n",
        "  cm = pd.DataFrame(confusion_matrix(y_true=y, y_pred=clf.predict(X)),\n",
        "                    index=clf.classes_,\n",
        "                    columns=clf.classes_)\n",
        "  cm.reset_index(drop=True, inplace=True)\n",
        "  rep = classification_report(y_true=y, y_pred=clf.predict(X), zero_division=1, output_dict=True)\n",
        "  rep =  pd.DataFrame(rep)\n",
        "  rep = rep.T\n",
        "  rep['accuracy'] = acc\n",
        "  rep.support = rep.support.astype(int)\n",
        "  cols = list(rep.columns[:3]) + ['accuracy', 'support']\n",
        "  rep = rep[cols]\n",
        "  rep['precision_avg'] = rep.precision['macro avg']\n",
        "  rep['recall_avg'] = rep.recall['macro avg']\n",
        "  rep['f1-score_avg'] = rep['f1-score']['macro avg']\n",
        "  rep.drop(['accuracy', 'macro avg', 'weighted avg'], axis=0, inplace=True)\n",
        "  rep.reset_index(drop=True, inplace=True)\n",
        "  df = cm.join(rep)\n",
        "  df['name'] = name\n",
        "  df['note'] = note\n",
        "  df.loc[1, 'note'] = ''\n",
        "  if test:  # do not add to database\n",
        "    d(df)\n",
        "  else:    \n",
        "    df.reset_index(inplace=True)\n",
        "    df_result.reset_index(inplace=True)\n",
        "    df_result = df_result.append(df, ignore_index=True)\n",
        "    df_result.set_index(['name', 'index'], inplace=True)\n",
        "  return df_result"
      ],
      "execution_count": 23,
      "outputs": []
    },
    {
      "cell_type": "code",
      "metadata": {
        "id": "C3h2dFcAQGR3"
      },
      "source": [
        "#ROC and AUC\n",
        "from sklearn.metrics import roc_curve\n",
        "from sklearn.metrics import roc_auc_score\n",
        "\n",
        "def get_roc_and_auc(model,X_test,y_test):\n",
        "    ns_probs = [0 for _ in range(len(y_test))]\n",
        "#    lr_probs = clf_voting.predict_proba(X_test)[:,1]\n",
        "    lr_probs = model.predict_proba(X_test)[:,1]\n",
        "    ns_auc = roc_auc_score(y_test, ns_probs)\n",
        "    lr_auc = roc_auc_score(y_test, lr_probs)\n",
        "    # summarize scores\n",
        "    print('\\nNo Skill: ROC AUC=%.3f' % (ns_auc))\n",
        "    print('model: ROC AUC=%.3f' % (lr_auc))\n",
        "    # calculate roc curves\n",
        "    ns_fpr, ns_tpr, _ = roc_curve(y_test, ns_probs)\n",
        "    lr_fpr, lr_tpr, _ = roc_curve(y_test, lr_probs)\n",
        "    # plot the roc curve for the model\n",
        "    fig = plt.figure(figsize=(5,5))\n",
        "    plt.plot(ns_fpr, ns_tpr, linestyle='--', label='No Skill')\n",
        "    plt.plot(lr_fpr, lr_tpr, marker='.', label='model')\n",
        "    # axis labels\n",
        "    plt.xlabel('False Positive Rate')\n",
        "    plt.ylabel('True Positive Rate')\n",
        "    plt.title(type(model).__name__ )\n",
        "    # show the legend\n",
        "    plt.legend()\n",
        "    # show the plot\n",
        "    plt.show()"
      ],
      "execution_count": 24,
      "outputs": []
    },
    {
      "cell_type": "code",
      "metadata": {
        "id": "Ci9f_i4dMAXy"
      },
      "source": [
        "def showFeatureImportance(model, X, threshold):\n",
        "  if type(model).__name__ == 'LogisticRegression':  # no features importance data\n",
        "    w0 = model.intercept_[0]\n",
        "    w = model.coef_[0]\n",
        "    fx_imp = pd.Series(w, index=X.columns)\n",
        "  else:\n",
        "    fx_imp = pd.Series(model.feature_importances_, index=X.columns)\n",
        "  fx_imp /= fx_imp.sum()\n",
        "  fx_imp = fx_imp.sort_values()\n",
        "  fx_imp = fx_imp[fx_imp > threshold]\n",
        "  fig = plt.figure(figsize=(5,5))\n",
        "  plt.xlim(0, 1)\n",
        "  fx_imp.plot(kind='barh', title=type(model).__name__ )"
      ],
      "execution_count": 25,
      "outputs": []
    },
    {
      "cell_type": "code",
      "metadata": {
        "id": "mjA3XyhXOKcF"
      },
      "source": [
        "def process_model(model, X, y, X_test, y_test, plot=False, threshold=0, note='', test=False):\n",
        "  p('running: ', type(model).__name__, X.shape)\n",
        "  model.fit(X, y)\n",
        "  report(model, X, y, note, test, 'Train')\n",
        "  report(model, X_test, y_test, note, test)\n",
        "  if plot:\n",
        "    showFeatureImportance(model, X, threshold)\n",
        "    get_roc_and_auc(model,X_test,y_test)    \n",
        "  return df_result "
      ],
      "execution_count": 26,
      "outputs": []
    },
    {
      "cell_type": "code",
      "metadata": {
        "id": "ijx9CUGjIGCo",
        "colab": {
          "base_uri": "https://localhost:8080/"
        },
        "outputId": "23ebf9c9-716b-4939-a2c4-1aa8d41f45de"
      },
      "source": [
        "from sklearn.linear_model import LogisticRegression\n",
        "from sklearn.ensemble import GradientBoostingClassifier, RandomForestClassifier, AdaBoostClassifier, GradientBoostingRegressor, VotingClassifier\n",
        "from sklearn.tree import DecisionTreeClassifier\n",
        "from sklearn.neighbors import KNeighborsClassifier\n",
        "try:\n",
        "  import catboost as ctb\n",
        "except:\n",
        "  !pip install catboost\n",
        "  !pip install xgboost\n",
        "  !pip install lightgbm\n",
        "import catboost as ctb  \n",
        "import xgboost as xgb  \n",
        "import lightgbm as lgb"
      ],
      "execution_count": 27,
      "outputs": [
        {
          "output_type": "stream",
          "text": [
            "Collecting catboost\n",
            "\u001b[?25l  Downloading https://files.pythonhosted.org/packages/47/80/8e9c57ec32dfed6ba2922bc5c96462cbf8596ce1a6f5de532ad1e43e53fe/catboost-0.25.1-cp37-none-manylinux1_x86_64.whl (67.3MB)\n",
            "\u001b[K     |████████████████████████████████| 67.3MB 64kB/s \n",
            "\u001b[?25hRequirement already satisfied: matplotlib in /usr/local/lib/python3.7/dist-packages (from catboost) (3.2.2)\n",
            "Requirement already satisfied: pandas>=0.24.0 in /usr/local/lib/python3.7/dist-packages (from catboost) (1.1.5)\n",
            "Requirement already satisfied: six in /usr/local/lib/python3.7/dist-packages (from catboost) (1.15.0)\n",
            "Requirement already satisfied: scipy in /usr/local/lib/python3.7/dist-packages (from catboost) (1.4.1)\n",
            "Requirement already satisfied: plotly in /usr/local/lib/python3.7/dist-packages (from catboost) (4.4.1)\n",
            "Requirement already satisfied: graphviz in /usr/local/lib/python3.7/dist-packages (from catboost) (0.10.1)\n",
            "Requirement already satisfied: numpy>=1.16.0 in /usr/local/lib/python3.7/dist-packages (from catboost) (1.19.5)\n",
            "Requirement already satisfied: pyparsing!=2.0.4,!=2.1.2,!=2.1.6,>=2.0.1 in /usr/local/lib/python3.7/dist-packages (from matplotlib->catboost) (2.4.7)\n",
            "Requirement already satisfied: python-dateutil>=2.1 in /usr/local/lib/python3.7/dist-packages (from matplotlib->catboost) (2.8.1)\n",
            "Requirement already satisfied: cycler>=0.10 in /usr/local/lib/python3.7/dist-packages (from matplotlib->catboost) (0.10.0)\n",
            "Requirement already satisfied: kiwisolver>=1.0.1 in /usr/local/lib/python3.7/dist-packages (from matplotlib->catboost) (1.3.1)\n",
            "Requirement already satisfied: pytz>=2017.2 in /usr/local/lib/python3.7/dist-packages (from pandas>=0.24.0->catboost) (2018.9)\n",
            "Requirement already satisfied: retrying>=1.3.3 in /usr/local/lib/python3.7/dist-packages (from plotly->catboost) (1.3.3)\n",
            "Installing collected packages: catboost\n",
            "Successfully installed catboost-0.25.1\n",
            "Requirement already satisfied: xgboost in /usr/local/lib/python3.7/dist-packages (0.90)\n",
            "Requirement already satisfied: scipy in /usr/local/lib/python3.7/dist-packages (from xgboost) (1.4.1)\n",
            "Requirement already satisfied: numpy in /usr/local/lib/python3.7/dist-packages (from xgboost) (1.19.5)\n",
            "Requirement already satisfied: lightgbm in /usr/local/lib/python3.7/dist-packages (2.2.3)\n",
            "Requirement already satisfied: numpy in /usr/local/lib/python3.7/dist-packages (from lightgbm) (1.19.5)\n",
            "Requirement already satisfied: scipy in /usr/local/lib/python3.7/dist-packages (from lightgbm) (1.4.1)\n",
            "Requirement already satisfied: scikit-learn in /usr/local/lib/python3.7/dist-packages (from lightgbm) (0.22.2.post1)\n",
            "Requirement already satisfied: joblib>=0.11 in /usr/local/lib/python3.7/dist-packages (from scikit-learn->lightgbm) (1.0.1)\n"
          ],
          "name": "stdout"
        }
      ]
    },
    {
      "cell_type": "markdown",
      "metadata": {
        "id": "WMPqQC7DQKLe"
      },
      "source": [
        "\n",
        "## Models - Run process_model"
      ]
    },
    {
      "cell_type": "code",
      "metadata": {
        "id": "1B27vYwNw53Q"
      },
      "source": [
        "if False:\n",
        "#  for lgb              \n",
        "  param_dist = {\"max_depth\": [25,50, 75],\n",
        "                \"learning_rate\" : [0.01,0.05,0.1],\n",
        "                \"num_leaves\": [300,900,1200],\n",
        "                \"n_estimators\": [200]\n",
        "              }              "
      ],
      "execution_count": 29,
      "outputs": []
    },
    {
      "cell_type": "code",
      "metadata": {
        "id": "7n6vHsoaau-z",
        "colab": {
          "base_uri": "https://localhost:8080/",
          "height": 379
        },
        "outputId": "d0f70f76-5cdb-40c9-c7c0-5f4b0b7cb84e"
      },
      "source": [
        "ONLY_RF = True\n",
        "df_result = pd.DataFrame()\n",
        "\n",
        "if not ONLY_RF:\n",
        "  process_model(LogisticRegression(max_iter=1000), X_train, y_train, X_test, y_test, note='max_iter=1000', threshold=0.0000005)  # did not fit, return accuracy=0, so we increased max_iter from default 100\n",
        "  process_model(LogisticRegression(C=100, max_iter=1000, fit_intercept=False, warm_start=True), X_train, y_train, X_test, y_test, note='max_iter=1000, C=100, fit_intercept=False, warm_start=True', threshold=0.0000005, plot=False)\n",
        "\n",
        "  clf_GB = GradientBoostingClassifier(n_estimators=100)\n",
        "  process_model(clf_GB, X_train, y_train, X_test, y_test, plot=False, threshold=0.015, note='n_estimators=100')\n",
        "  clf_GB = GradientBoostingClassifier(ccp_alpha=0.0001, n_estimators=200, random_state=1234)\n",
        "  process_model(clf_GB, X_train, y_train, X_test, y_test, plot=False, threshold=0.015, note='ccp_alpha=0.0001, n_estimators=200, random_state=1234')\n",
        "\n",
        "  clf_AB = AdaBoostClassifier(base_estimator=DecisionTreeClassifier(max_depth=5), n_estimators=100, learning_rate=0.01)\n",
        "  process_model(clf_AB, X_train, y_train, X_test, y_test)\n",
        "\n",
        "  process_model(KNeighborsClassifier(n_neighbors=39), X_train, y_train, X_test, y_test)\n",
        "\n",
        "  if not REL: #ERROR: Classification metrics can't handle a mix of binary and continuous targets\n",
        "    process_model(VotingClassifier(estimators=[('RF', clf_RF), ('GB', clf_GB), ('AB', clf_AB)], voting='soft'), X_train, y_train, X_test, y_test, note=\"('RF', clf_RF), ('GB', clf_GB), ('AB', clf_AB')\")\n",
        "\n",
        "clf_RF = RandomForestClassifier(n_estimators=200, criterion='entropy', max_depth=None, min_samples_split=20, ccp_alpha=0.0003, random_state=73)\n",
        "#process_model(clf_RF, X_train, y_train, X_test, y_test, plot=True, threshold=0.015, note=\"n_estimators=200, criterion='entropy', max_depth=None, min_samples_split=20, ccp_alpha=0.0003, random_state=73\")\n",
        "\n",
        "id = 'take8'\n",
        "model_CBC = ctb.CatBoostClassifier(logging_level='Silent', random_state=73)#, depth=None, iterations=None, learning_rate=0.1, l2_leaf_reg=5) #10\n",
        "process_model(model_CBC, X_train, y_train, X_test, y_test, plot=False, threshold=0.012, note=\"random_state=73\")#, iterations=None depth=None, learning_rate=0.1, l2_leaf_reg=5\")\n",
        "\n",
        "\n",
        "#model = xgb.XGBClassifier(random_state=73)\n",
        "#process_model(model, X_train, y_train, X_test, y_test, plot=False, threshold=0.012)\n",
        "\n",
        "model = lgb.LGBMClassifier(silent=False, random_state=73)#, max_depth=None, n_estimators=100, learning_rate=0.05)\n",
        "process_model(model, X_train, y_train, X_test, y_test, plot=False, threshold=0.012, note=\"random_state=73\")#, n_estimators=100 max_depth=None, random_state=73, learning_rate=0.05\")\n",
        "\n",
        "d(df_result)\n",
        "\n",
        "fname = prefix + f'_result_{id}.csv'\n",
        "df_result.to_csv(fname, index = True)\n",
        "p(id)"
      ],
      "execution_count": 66,
      "outputs": [
        {
          "output_type": "stream",
          "text": [
            "running:  CatBoostClassifier (38122, 61)\n",
            "running:  LGBMClassifier (38122, 61)\n"
          ],
          "name": "stdout"
        },
        {
          "output_type": "display_data",
          "data": {
            "text/html": [
              "<div>\n",
              "<style scoped>\n",
              "    .dataframe tbody tr th:only-of-type {\n",
              "        vertical-align: middle;\n",
              "    }\n",
              "\n",
              "    .dataframe tbody tr th {\n",
              "        vertical-align: top;\n",
              "    }\n",
              "\n",
              "    .dataframe thead th {\n",
              "        text-align: right;\n",
              "    }\n",
              "</style>\n",
              "<table border=\"1\" class=\"dataframe\">\n",
              "  <thead>\n",
              "    <tr style=\"text-align: right;\">\n",
              "      <th></th>\n",
              "      <th></th>\n",
              "      <th>0</th>\n",
              "      <th>1</th>\n",
              "      <th>precision</th>\n",
              "      <th>recall</th>\n",
              "      <th>f1-score</th>\n",
              "      <th>accuracy</th>\n",
              "      <th>support</th>\n",
              "      <th>precision_avg</th>\n",
              "      <th>recall_avg</th>\n",
              "      <th>f1-score_avg</th>\n",
              "      <th>note</th>\n",
              "    </tr>\n",
              "    <tr>\n",
              "      <th>name</th>\n",
              "      <th>index</th>\n",
              "      <th></th>\n",
              "      <th></th>\n",
              "      <th></th>\n",
              "      <th></th>\n",
              "      <th></th>\n",
              "      <th></th>\n",
              "      <th></th>\n",
              "      <th></th>\n",
              "      <th></th>\n",
              "      <th></th>\n",
              "      <th></th>\n",
              "    </tr>\n",
              "  </thead>\n",
              "  <tbody>\n",
              "    <tr>\n",
              "      <th rowspan=\"2\" valign=\"top\">CatBoostClassifier: Train</th>\n",
              "      <th>0</th>\n",
              "      <td>10150.0</td>\n",
              "      <td>2499.0</td>\n",
              "      <td>0.88</td>\n",
              "      <td>0.80</td>\n",
              "      <td>0.84</td>\n",
              "      <td>0.90</td>\n",
              "      <td>12649.0</td>\n",
              "      <td>0.89</td>\n",
              "      <td>0.87</td>\n",
              "      <td>0.88</td>\n",
              "      <td>random_state=73</td>\n",
              "    </tr>\n",
              "    <tr>\n",
              "      <th>1</th>\n",
              "      <td>1340.0</td>\n",
              "      <td>24133.0</td>\n",
              "      <td>0.91</td>\n",
              "      <td>0.95</td>\n",
              "      <td>0.93</td>\n",
              "      <td>0.90</td>\n",
              "      <td>25473.0</td>\n",
              "      <td>0.89</td>\n",
              "      <td>0.87</td>\n",
              "      <td>0.88</td>\n",
              "      <td></td>\n",
              "    </tr>\n",
              "    <tr>\n",
              "      <th rowspan=\"2\" valign=\"top\">CatBoostClassifier: Test</th>\n",
              "      <th>0</th>\n",
              "      <td>4136.0</td>\n",
              "      <td>1283.0</td>\n",
              "      <td>0.83</td>\n",
              "      <td>0.76</td>\n",
              "      <td>0.79</td>\n",
              "      <td>0.87</td>\n",
              "      <td>5419.0</td>\n",
              "      <td>0.86</td>\n",
              "      <td>0.84</td>\n",
              "      <td>0.85</td>\n",
              "      <td>random_state=73</td>\n",
              "    </tr>\n",
              "    <tr>\n",
              "      <th>1</th>\n",
              "      <td>855.0</td>\n",
              "      <td>10064.0</td>\n",
              "      <td>0.89</td>\n",
              "      <td>0.92</td>\n",
              "      <td>0.90</td>\n",
              "      <td>0.87</td>\n",
              "      <td>10919.0</td>\n",
              "      <td>0.86</td>\n",
              "      <td>0.84</td>\n",
              "      <td>0.85</td>\n",
              "      <td></td>\n",
              "    </tr>\n",
              "    <tr>\n",
              "      <th rowspan=\"2\" valign=\"top\">LGBMClassifier: Train</th>\n",
              "      <th>0</th>\n",
              "      <td>9662.0</td>\n",
              "      <td>2987.0</td>\n",
              "      <td>0.85</td>\n",
              "      <td>0.76</td>\n",
              "      <td>0.81</td>\n",
              "      <td>0.88</td>\n",
              "      <td>12649.0</td>\n",
              "      <td>0.87</td>\n",
              "      <td>0.85</td>\n",
              "      <td>0.86</td>\n",
              "      <td>random_state=73</td>\n",
              "    </tr>\n",
              "    <tr>\n",
              "      <th>1</th>\n",
              "      <td>1676.0</td>\n",
              "      <td>23797.0</td>\n",
              "      <td>0.89</td>\n",
              "      <td>0.93</td>\n",
              "      <td>0.91</td>\n",
              "      <td>0.88</td>\n",
              "      <td>25473.0</td>\n",
              "      <td>0.87</td>\n",
              "      <td>0.85</td>\n",
              "      <td>0.86</td>\n",
              "      <td></td>\n",
              "    </tr>\n",
              "    <tr>\n",
              "      <th rowspan=\"2\" valign=\"top\">LGBMClassifier: Test</th>\n",
              "      <th>0</th>\n",
              "      <td>4035.0</td>\n",
              "      <td>1384.0</td>\n",
              "      <td>0.82</td>\n",
              "      <td>0.74</td>\n",
              "      <td>0.78</td>\n",
              "      <td>0.86</td>\n",
              "      <td>5419.0</td>\n",
              "      <td>0.85</td>\n",
              "      <td>0.83</td>\n",
              "      <td>0.84</td>\n",
              "      <td>random_state=73</td>\n",
              "    </tr>\n",
              "    <tr>\n",
              "      <th>1</th>\n",
              "      <td>862.0</td>\n",
              "      <td>10057.0</td>\n",
              "      <td>0.88</td>\n",
              "      <td>0.92</td>\n",
              "      <td>0.90</td>\n",
              "      <td>0.86</td>\n",
              "      <td>10919.0</td>\n",
              "      <td>0.85</td>\n",
              "      <td>0.83</td>\n",
              "      <td>0.84</td>\n",
              "      <td></td>\n",
              "    </tr>\n",
              "  </tbody>\n",
              "</table>\n",
              "</div>"
            ],
            "text/plain": [
              "                                       0        1  precision  recall  \\\n",
              "name                      index                                        \n",
              "CatBoostClassifier: Train 0      10150.0   2499.0       0.88    0.80   \n",
              "                          1       1340.0  24133.0       0.91    0.95   \n",
              "CatBoostClassifier: Test  0       4136.0   1283.0       0.83    0.76   \n",
              "                          1        855.0  10064.0       0.89    0.92   \n",
              "LGBMClassifier: Train     0       9662.0   2987.0       0.85    0.76   \n",
              "                          1       1676.0  23797.0       0.89    0.93   \n",
              "LGBMClassifier: Test      0       4035.0   1384.0       0.82    0.74   \n",
              "                          1        862.0  10057.0       0.88    0.92   \n",
              "\n",
              "                                 f1-score  accuracy  support  precision_avg  \\\n",
              "name                      index                                               \n",
              "CatBoostClassifier: Train 0          0.84      0.90  12649.0           0.89   \n",
              "                          1          0.93      0.90  25473.0           0.89   \n",
              "CatBoostClassifier: Test  0          0.79      0.87   5419.0           0.86   \n",
              "                          1          0.90      0.87  10919.0           0.86   \n",
              "LGBMClassifier: Train     0          0.81      0.88  12649.0           0.87   \n",
              "                          1          0.91      0.88  25473.0           0.87   \n",
              "LGBMClassifier: Test      0          0.78      0.86   5419.0           0.85   \n",
              "                          1          0.90      0.86  10919.0           0.85   \n",
              "\n",
              "                                 recall_avg  f1-score_avg             note  \n",
              "name                      index                                             \n",
              "CatBoostClassifier: Train 0            0.87          0.88  random_state=73  \n",
              "                          1            0.87          0.88                   \n",
              "CatBoostClassifier: Test  0            0.84          0.85  random_state=73  \n",
              "                          1            0.84          0.85                   \n",
              "LGBMClassifier: Train     0            0.85          0.86  random_state=73  \n",
              "                          1            0.85          0.86                   \n",
              "LGBMClassifier: Test      0            0.83          0.84  random_state=73  \n",
              "                          1            0.83          0.84                   "
            ]
          },
          "metadata": {
            "tags": []
          }
        },
        {
          "output_type": "stream",
          "text": [
            "take8\n"
          ],
          "name": "stdout"
        }
      ]
    },
    {
      "cell_type": "markdown",
      "metadata": {
        "id": "6fP2iFkkcUYH"
      },
      "source": [
        "## Models - compare results\n",
        "\n",
        "1. Diff\n",
        "2. Diff with remove ingredients columns\n",
        "3. Diff with split based on date\n",
        "3. Diff with split based on date (without date features and order info) \n",
        "4. Ratio\n",
        "5. RelDiff - relative difference\n",
        "6. OnlyPrices - Diff with only 3 features( Price, PriceSubs, PriceDiff)\n",
        "8. No Diff (no comparison between master and subs)"
      ]
    },
    {
      "cell_type": "code",
      "metadata": {
        "id": "Sp4iGxceSita"
      },
      "source": [
        "def get_raw(fname, subdir=''):\n",
        "  data_url = 'https://raw.githubusercontent.com/DanielKorenDataScience/ClassificationProject/main/' + subdir + fname\n",
        "  return pd.read_csv(data_url)"
      ],
      "execution_count": 31,
      "outputs": []
    },
    {
      "cell_type": "code",
      "metadata": {
        "id": "A6OcmPA4QTYE"
      },
      "source": [
        "def read_results(id='', disp=True, full=False):\n",
        "  fname = prefix + f'_result_{id}.csv'\n",
        "  p(fname)\n",
        "  try:\n",
        "    df = pd.read_csv(fname)\n",
        "  except:\n",
        "    try:\n",
        "      df = get_raw(fname, 'Results/')\n",
        "#      df = pd.read_csv(fname)\n",
        "    except:\n",
        "      p('No data')\n",
        "      return\n",
        "  df.set_index(['name', 'index'], inplace=True)\n",
        "  if not full:\n",
        "    df = df.loc[['RandomForestClassifier: Train', 'RandomForestClassifier: Test']]#.copy()\n",
        "  if disp:\n",
        "    pd.set_option(\"max_column\", 120)\n",
        "    d(df)\n",
        "  return df"
      ],
      "execution_count": 32,
      "outputs": []
    },
    {
      "cell_type": "code",
      "metadata": {
        "colab": {
          "base_uri": "https://localhost:8080/",
          "height": 0
        },
        "id": "B2oUa5xgRNBp",
        "outputId": "9b075e1b-6772-4d82-9860-7e9f48234666"
      },
      "source": [
        "p(id)\n",
        "read_results()\n",
        "read_results('remove_ingredients')\n",
        "read_results('split_based_on_date')\n",
        "read_results('split_based_on_date_without_date_features_and_order_info')\n",
        "read_results('ratio')\n",
        "read_results('rel_diff')\n",
        "read_results('only_prices')\n",
        "read_results('no_diff')\n",
        "p()"
      ],
      "execution_count": 33,
      "outputs": [
        {
          "output_type": "stream",
          "text": [
            "take7\n",
            "Shufersal_result_.csv\n"
          ],
          "name": "stdout"
        },
        {
          "output_type": "display_data",
          "data": {
            "text/html": [
              "<div>\n",
              "<style scoped>\n",
              "    .dataframe tbody tr th:only-of-type {\n",
              "        vertical-align: middle;\n",
              "    }\n",
              "\n",
              "    .dataframe tbody tr th {\n",
              "        vertical-align: top;\n",
              "    }\n",
              "\n",
              "    .dataframe thead th {\n",
              "        text-align: right;\n",
              "    }\n",
              "</style>\n",
              "<table border=\"1\" class=\"dataframe\">\n",
              "  <thead>\n",
              "    <tr style=\"text-align: right;\">\n",
              "      <th></th>\n",
              "      <th></th>\n",
              "      <th>0</th>\n",
              "      <th>1</th>\n",
              "      <th>precision</th>\n",
              "      <th>recall</th>\n",
              "      <th>f1-score</th>\n",
              "      <th>accuracy</th>\n",
              "      <th>support</th>\n",
              "      <th>precision_avg</th>\n",
              "      <th>recall_avg</th>\n",
              "      <th>f1-score_avg</th>\n",
              "      <th>note</th>\n",
              "    </tr>\n",
              "    <tr>\n",
              "      <th>name</th>\n",
              "      <th>index</th>\n",
              "      <th></th>\n",
              "      <th></th>\n",
              "      <th></th>\n",
              "      <th></th>\n",
              "      <th></th>\n",
              "      <th></th>\n",
              "      <th></th>\n",
              "      <th></th>\n",
              "      <th></th>\n",
              "      <th></th>\n",
              "      <th></th>\n",
              "    </tr>\n",
              "  </thead>\n",
              "  <tbody>\n",
              "    <tr>\n",
              "      <th rowspan=\"2\" valign=\"top\">RandomForestClassifier: Train</th>\n",
              "      <th>0</th>\n",
              "      <td>9267.0</td>\n",
              "      <td>3382.0</td>\n",
              "      <td>0.86</td>\n",
              "      <td>0.73</td>\n",
              "      <td>0.79</td>\n",
              "      <td>0.87</td>\n",
              "      <td>12649.0</td>\n",
              "      <td>0.87</td>\n",
              "      <td>0.84</td>\n",
              "      <td>0.85</td>\n",
              "      <td>n_estimators=200, criterion='entropy', max_dep...</td>\n",
              "    </tr>\n",
              "    <tr>\n",
              "      <th>1</th>\n",
              "      <td>1546.0</td>\n",
              "      <td>23927.0</td>\n",
              "      <td>0.88</td>\n",
              "      <td>0.94</td>\n",
              "      <td>0.91</td>\n",
              "      <td>0.87</td>\n",
              "      <td>25473.0</td>\n",
              "      <td>0.87</td>\n",
              "      <td>0.84</td>\n",
              "      <td>0.85</td>\n",
              "      <td>NaN</td>\n",
              "    </tr>\n",
              "    <tr>\n",
              "      <th rowspan=\"2\" valign=\"top\">RandomForestClassifier: Test</th>\n",
              "      <th>0</th>\n",
              "      <td>3804.0</td>\n",
              "      <td>1615.0</td>\n",
              "      <td>0.81</td>\n",
              "      <td>0.70</td>\n",
              "      <td>0.75</td>\n",
              "      <td>0.85</td>\n",
              "      <td>5419.0</td>\n",
              "      <td>0.84</td>\n",
              "      <td>0.81</td>\n",
              "      <td>0.82</td>\n",
              "      <td>n_estimators=200, criterion='entropy', max_dep...</td>\n",
              "    </tr>\n",
              "    <tr>\n",
              "      <th>1</th>\n",
              "      <td>879.0</td>\n",
              "      <td>10040.0</td>\n",
              "      <td>0.86</td>\n",
              "      <td>0.92</td>\n",
              "      <td>0.89</td>\n",
              "      <td>0.85</td>\n",
              "      <td>10919.0</td>\n",
              "      <td>0.84</td>\n",
              "      <td>0.81</td>\n",
              "      <td>0.82</td>\n",
              "      <td>NaN</td>\n",
              "    </tr>\n",
              "  </tbody>\n",
              "</table>\n",
              "</div>"
            ],
            "text/plain": [
              "                                          0        1  precision  recall  \\\n",
              "name                          index                                       \n",
              "RandomForestClassifier: Train 0      9267.0   3382.0       0.86    0.73   \n",
              "                              1      1546.0  23927.0       0.88    0.94   \n",
              "RandomForestClassifier: Test  0      3804.0   1615.0       0.81    0.70   \n",
              "                              1       879.0  10040.0       0.86    0.92   \n",
              "\n",
              "                                     f1-score  accuracy  support  \\\n",
              "name                          index                                \n",
              "RandomForestClassifier: Train 0          0.79      0.87  12649.0   \n",
              "                              1          0.91      0.87  25473.0   \n",
              "RandomForestClassifier: Test  0          0.75      0.85   5419.0   \n",
              "                              1          0.89      0.85  10919.0   \n",
              "\n",
              "                                     precision_avg  recall_avg  f1-score_avg  \\\n",
              "name                          index                                            \n",
              "RandomForestClassifier: Train 0               0.87        0.84          0.85   \n",
              "                              1               0.87        0.84          0.85   \n",
              "RandomForestClassifier: Test  0               0.84        0.81          0.82   \n",
              "                              1               0.84        0.81          0.82   \n",
              "\n",
              "                                                                                  note  \n",
              "name                          index                                                     \n",
              "RandomForestClassifier: Train 0      n_estimators=200, criterion='entropy', max_dep...  \n",
              "                              1                                                    NaN  \n",
              "RandomForestClassifier: Test  0      n_estimators=200, criterion='entropy', max_dep...  \n",
              "                              1                                                    NaN  "
            ]
          },
          "metadata": {
            "tags": []
          }
        },
        {
          "output_type": "stream",
          "text": [
            "Shufersal_result_remove_ingredients.csv\n"
          ],
          "name": "stdout"
        },
        {
          "output_type": "display_data",
          "data": {
            "text/html": [
              "<div>\n",
              "<style scoped>\n",
              "    .dataframe tbody tr th:only-of-type {\n",
              "        vertical-align: middle;\n",
              "    }\n",
              "\n",
              "    .dataframe tbody tr th {\n",
              "        vertical-align: top;\n",
              "    }\n",
              "\n",
              "    .dataframe thead th {\n",
              "        text-align: right;\n",
              "    }\n",
              "</style>\n",
              "<table border=\"1\" class=\"dataframe\">\n",
              "  <thead>\n",
              "    <tr style=\"text-align: right;\">\n",
              "      <th></th>\n",
              "      <th></th>\n",
              "      <th>0</th>\n",
              "      <th>1</th>\n",
              "      <th>precision</th>\n",
              "      <th>recall</th>\n",
              "      <th>f1-score</th>\n",
              "      <th>accuracy</th>\n",
              "      <th>support</th>\n",
              "      <th>precision_avg</th>\n",
              "      <th>recall_avg</th>\n",
              "      <th>f1-score_avg</th>\n",
              "      <th>note</th>\n",
              "    </tr>\n",
              "    <tr>\n",
              "      <th>name</th>\n",
              "      <th>index</th>\n",
              "      <th></th>\n",
              "      <th></th>\n",
              "      <th></th>\n",
              "      <th></th>\n",
              "      <th></th>\n",
              "      <th></th>\n",
              "      <th></th>\n",
              "      <th></th>\n",
              "      <th></th>\n",
              "      <th></th>\n",
              "      <th></th>\n",
              "    </tr>\n",
              "  </thead>\n",
              "  <tbody>\n",
              "    <tr>\n",
              "      <th rowspan=\"2\" valign=\"top\">RandomForestClassifier: Train</th>\n",
              "      <th>0</th>\n",
              "      <td>9116.0</td>\n",
              "      <td>3533.0</td>\n",
              "      <td>0.86</td>\n",
              "      <td>0.72</td>\n",
              "      <td>0.78</td>\n",
              "      <td>0.87</td>\n",
              "      <td>12649.0</td>\n",
              "      <td>0.86</td>\n",
              "      <td>0.83</td>\n",
              "      <td>0.84</td>\n",
              "      <td>n_estimators=200, criterion='entropy', max_dep...</td>\n",
              "    </tr>\n",
              "    <tr>\n",
              "      <th>1</th>\n",
              "      <td>1512.0</td>\n",
              "      <td>23961.0</td>\n",
              "      <td>0.87</td>\n",
              "      <td>0.94</td>\n",
              "      <td>0.90</td>\n",
              "      <td>0.87</td>\n",
              "      <td>25473.0</td>\n",
              "      <td>0.86</td>\n",
              "      <td>0.83</td>\n",
              "      <td>0.84</td>\n",
              "      <td>NaN</td>\n",
              "    </tr>\n",
              "    <tr>\n",
              "      <th rowspan=\"2\" valign=\"top\">RandomForestClassifier: Test</th>\n",
              "      <th>0</th>\n",
              "      <td>3767.0</td>\n",
              "      <td>1652.0</td>\n",
              "      <td>0.82</td>\n",
              "      <td>0.70</td>\n",
              "      <td>0.75</td>\n",
              "      <td>0.85</td>\n",
              "      <td>5419.0</td>\n",
              "      <td>0.84</td>\n",
              "      <td>0.81</td>\n",
              "      <td>0.82</td>\n",
              "      <td>n_estimators=200, criterion='entropy', max_dep...</td>\n",
              "    </tr>\n",
              "    <tr>\n",
              "      <th>1</th>\n",
              "      <td>828.0</td>\n",
              "      <td>10091.0</td>\n",
              "      <td>0.86</td>\n",
              "      <td>0.92</td>\n",
              "      <td>0.89</td>\n",
              "      <td>0.85</td>\n",
              "      <td>10919.0</td>\n",
              "      <td>0.84</td>\n",
              "      <td>0.81</td>\n",
              "      <td>0.82</td>\n",
              "      <td>NaN</td>\n",
              "    </tr>\n",
              "  </tbody>\n",
              "</table>\n",
              "</div>"
            ],
            "text/plain": [
              "                                          0        1  precision  recall  \\\n",
              "name                          index                                       \n",
              "RandomForestClassifier: Train 0      9116.0   3533.0       0.86    0.72   \n",
              "                              1      1512.0  23961.0       0.87    0.94   \n",
              "RandomForestClassifier: Test  0      3767.0   1652.0       0.82    0.70   \n",
              "                              1       828.0  10091.0       0.86    0.92   \n",
              "\n",
              "                                     f1-score  accuracy  support  \\\n",
              "name                          index                                \n",
              "RandomForestClassifier: Train 0          0.78      0.87  12649.0   \n",
              "                              1          0.90      0.87  25473.0   \n",
              "RandomForestClassifier: Test  0          0.75      0.85   5419.0   \n",
              "                              1          0.89      0.85  10919.0   \n",
              "\n",
              "                                     precision_avg  recall_avg  f1-score_avg  \\\n",
              "name                          index                                            \n",
              "RandomForestClassifier: Train 0               0.86        0.83          0.84   \n",
              "                              1               0.86        0.83          0.84   \n",
              "RandomForestClassifier: Test  0               0.84        0.81          0.82   \n",
              "                              1               0.84        0.81          0.82   \n",
              "\n",
              "                                                                                  note  \n",
              "name                          index                                                     \n",
              "RandomForestClassifier: Train 0      n_estimators=200, criterion='entropy', max_dep...  \n",
              "                              1                                                    NaN  \n",
              "RandomForestClassifier: Test  0      n_estimators=200, criterion='entropy', max_dep...  \n",
              "                              1                                                    NaN  "
            ]
          },
          "metadata": {
            "tags": []
          }
        },
        {
          "output_type": "stream",
          "text": [
            "Shufersal_result_split_based_on_date.csv\n"
          ],
          "name": "stdout"
        },
        {
          "output_type": "display_data",
          "data": {
            "text/html": [
              "<div>\n",
              "<style scoped>\n",
              "    .dataframe tbody tr th:only-of-type {\n",
              "        vertical-align: middle;\n",
              "    }\n",
              "\n",
              "    .dataframe tbody tr th {\n",
              "        vertical-align: top;\n",
              "    }\n",
              "\n",
              "    .dataframe thead th {\n",
              "        text-align: right;\n",
              "    }\n",
              "</style>\n",
              "<table border=\"1\" class=\"dataframe\">\n",
              "  <thead>\n",
              "    <tr style=\"text-align: right;\">\n",
              "      <th></th>\n",
              "      <th></th>\n",
              "      <th>0</th>\n",
              "      <th>1</th>\n",
              "      <th>precision</th>\n",
              "      <th>recall</th>\n",
              "      <th>f1-score</th>\n",
              "      <th>accuracy</th>\n",
              "      <th>support</th>\n",
              "      <th>precision_avg</th>\n",
              "      <th>recall_avg</th>\n",
              "      <th>f1-score_avg</th>\n",
              "      <th>note</th>\n",
              "    </tr>\n",
              "    <tr>\n",
              "      <th>name</th>\n",
              "      <th>index</th>\n",
              "      <th></th>\n",
              "      <th></th>\n",
              "      <th></th>\n",
              "      <th></th>\n",
              "      <th></th>\n",
              "      <th></th>\n",
              "      <th></th>\n",
              "      <th></th>\n",
              "      <th></th>\n",
              "      <th></th>\n",
              "      <th></th>\n",
              "    </tr>\n",
              "  </thead>\n",
              "  <tbody>\n",
              "    <tr>\n",
              "      <th rowspan=\"2\" valign=\"top\">RandomForestClassifier: Train</th>\n",
              "      <th>0</th>\n",
              "      <td>8644.0</td>\n",
              "      <td>3102.0</td>\n",
              "      <td>0.86</td>\n",
              "      <td>0.74</td>\n",
              "      <td>0.79</td>\n",
              "      <td>0.88</td>\n",
              "      <td>11746.0</td>\n",
              "      <td>0.87</td>\n",
              "      <td>0.84</td>\n",
              "      <td>0.85</td>\n",
              "      <td>n_estimators=200, criterion='entropy', max_dep...</td>\n",
              "    </tr>\n",
              "    <tr>\n",
              "      <th>1</th>\n",
              "      <td>1419.0</td>\n",
              "      <td>24252.0</td>\n",
              "      <td>0.89</td>\n",
              "      <td>0.94</td>\n",
              "      <td>0.91</td>\n",
              "      <td>0.88</td>\n",
              "      <td>25671.0</td>\n",
              "      <td>0.87</td>\n",
              "      <td>0.84</td>\n",
              "      <td>0.85</td>\n",
              "      <td>NaN</td>\n",
              "    </tr>\n",
              "    <tr>\n",
              "      <th rowspan=\"2\" valign=\"top\">RandomForestClassifier: Test</th>\n",
              "      <th>0</th>\n",
              "      <td>3699.0</td>\n",
              "      <td>2623.0</td>\n",
              "      <td>0.78</td>\n",
              "      <td>0.59</td>\n",
              "      <td>0.67</td>\n",
              "      <td>0.78</td>\n",
              "      <td>6322.0</td>\n",
              "      <td>0.78</td>\n",
              "      <td>0.74</td>\n",
              "      <td>0.75</td>\n",
              "      <td>n_estimators=200, criterion='entropy', max_dep...</td>\n",
              "    </tr>\n",
              "    <tr>\n",
              "      <th>1</th>\n",
              "      <td>1072.0</td>\n",
              "      <td>9649.0</td>\n",
              "      <td>0.79</td>\n",
              "      <td>0.90</td>\n",
              "      <td>0.84</td>\n",
              "      <td>0.78</td>\n",
              "      <td>10721.0</td>\n",
              "      <td>0.78</td>\n",
              "      <td>0.74</td>\n",
              "      <td>0.75</td>\n",
              "      <td>NaN</td>\n",
              "    </tr>\n",
              "  </tbody>\n",
              "</table>\n",
              "</div>"
            ],
            "text/plain": [
              "                                          0        1  precision  recall  \\\n",
              "name                          index                                       \n",
              "RandomForestClassifier: Train 0      8644.0   3102.0       0.86    0.74   \n",
              "                              1      1419.0  24252.0       0.89    0.94   \n",
              "RandomForestClassifier: Test  0      3699.0   2623.0       0.78    0.59   \n",
              "                              1      1072.0   9649.0       0.79    0.90   \n",
              "\n",
              "                                     f1-score  accuracy  support  \\\n",
              "name                          index                                \n",
              "RandomForestClassifier: Train 0          0.79      0.88  11746.0   \n",
              "                              1          0.91      0.88  25671.0   \n",
              "RandomForestClassifier: Test  0          0.67      0.78   6322.0   \n",
              "                              1          0.84      0.78  10721.0   \n",
              "\n",
              "                                     precision_avg  recall_avg  f1-score_avg  \\\n",
              "name                          index                                            \n",
              "RandomForestClassifier: Train 0               0.87        0.84          0.85   \n",
              "                              1               0.87        0.84          0.85   \n",
              "RandomForestClassifier: Test  0               0.78        0.74          0.75   \n",
              "                              1               0.78        0.74          0.75   \n",
              "\n",
              "                                                                                  note  \n",
              "name                          index                                                     \n",
              "RandomForestClassifier: Train 0      n_estimators=200, criterion='entropy', max_dep...  \n",
              "                              1                                                    NaN  \n",
              "RandomForestClassifier: Test  0      n_estimators=200, criterion='entropy', max_dep...  \n",
              "                              1                                                    NaN  "
            ]
          },
          "metadata": {
            "tags": []
          }
        },
        {
          "output_type": "stream",
          "text": [
            "Shufersal_result_split_based_on_date_without_date_features_and_order_info.csv\n"
          ],
          "name": "stdout"
        },
        {
          "output_type": "display_data",
          "data": {
            "text/html": [
              "<div>\n",
              "<style scoped>\n",
              "    .dataframe tbody tr th:only-of-type {\n",
              "        vertical-align: middle;\n",
              "    }\n",
              "\n",
              "    .dataframe tbody tr th {\n",
              "        vertical-align: top;\n",
              "    }\n",
              "\n",
              "    .dataframe thead th {\n",
              "        text-align: right;\n",
              "    }\n",
              "</style>\n",
              "<table border=\"1\" class=\"dataframe\">\n",
              "  <thead>\n",
              "    <tr style=\"text-align: right;\">\n",
              "      <th></th>\n",
              "      <th></th>\n",
              "      <th>0</th>\n",
              "      <th>1</th>\n",
              "      <th>precision</th>\n",
              "      <th>recall</th>\n",
              "      <th>f1-score</th>\n",
              "      <th>accuracy</th>\n",
              "      <th>support</th>\n",
              "      <th>precision_avg</th>\n",
              "      <th>recall_avg</th>\n",
              "      <th>f1-score_avg</th>\n",
              "      <th>note</th>\n",
              "    </tr>\n",
              "    <tr>\n",
              "      <th>name</th>\n",
              "      <th>index</th>\n",
              "      <th></th>\n",
              "      <th></th>\n",
              "      <th></th>\n",
              "      <th></th>\n",
              "      <th></th>\n",
              "      <th></th>\n",
              "      <th></th>\n",
              "      <th></th>\n",
              "      <th></th>\n",
              "      <th></th>\n",
              "      <th></th>\n",
              "    </tr>\n",
              "  </thead>\n",
              "  <tbody>\n",
              "    <tr>\n",
              "      <th rowspan=\"2\" valign=\"top\">RandomForestClassifier: Train</th>\n",
              "      <th>0</th>\n",
              "      <td>8386.0</td>\n",
              "      <td>3360.0</td>\n",
              "      <td>0.84</td>\n",
              "      <td>0.71</td>\n",
              "      <td>0.77</td>\n",
              "      <td>0.87</td>\n",
              "      <td>11746.0</td>\n",
              "      <td>0.86</td>\n",
              "      <td>0.83</td>\n",
              "      <td>0.84</td>\n",
              "      <td>n_estimators=200, criterion='entropy', max_dep...</td>\n",
              "    </tr>\n",
              "    <tr>\n",
              "      <th>1</th>\n",
              "      <td>1569.0</td>\n",
              "      <td>24102.0</td>\n",
              "      <td>0.88</td>\n",
              "      <td>0.94</td>\n",
              "      <td>0.91</td>\n",
              "      <td>0.87</td>\n",
              "      <td>25671.0</td>\n",
              "      <td>0.86</td>\n",
              "      <td>0.83</td>\n",
              "      <td>0.84</td>\n",
              "      <td>NaN</td>\n",
              "    </tr>\n",
              "    <tr>\n",
              "      <th rowspan=\"2\" valign=\"top\">RandomForestClassifier: Test</th>\n",
              "      <th>0</th>\n",
              "      <td>3685.0</td>\n",
              "      <td>2637.0</td>\n",
              "      <td>0.78</td>\n",
              "      <td>0.58</td>\n",
              "      <td>0.67</td>\n",
              "      <td>0.78</td>\n",
              "      <td>6322.0</td>\n",
              "      <td>0.78</td>\n",
              "      <td>0.74</td>\n",
              "      <td>0.75</td>\n",
              "      <td>n_estimators=200, criterion='entropy', max_dep...</td>\n",
              "    </tr>\n",
              "    <tr>\n",
              "      <th>1</th>\n",
              "      <td>1042.0</td>\n",
              "      <td>9679.0</td>\n",
              "      <td>0.79</td>\n",
              "      <td>0.90</td>\n",
              "      <td>0.84</td>\n",
              "      <td>0.78</td>\n",
              "      <td>10721.0</td>\n",
              "      <td>0.78</td>\n",
              "      <td>0.74</td>\n",
              "      <td>0.75</td>\n",
              "      <td>NaN</td>\n",
              "    </tr>\n",
              "  </tbody>\n",
              "</table>\n",
              "</div>"
            ],
            "text/plain": [
              "                                          0        1  precision  recall  \\\n",
              "name                          index                                       \n",
              "RandomForestClassifier: Train 0      8386.0   3360.0       0.84    0.71   \n",
              "                              1      1569.0  24102.0       0.88    0.94   \n",
              "RandomForestClassifier: Test  0      3685.0   2637.0       0.78    0.58   \n",
              "                              1      1042.0   9679.0       0.79    0.90   \n",
              "\n",
              "                                     f1-score  accuracy  support  \\\n",
              "name                          index                                \n",
              "RandomForestClassifier: Train 0          0.77      0.87  11746.0   \n",
              "                              1          0.91      0.87  25671.0   \n",
              "RandomForestClassifier: Test  0          0.67      0.78   6322.0   \n",
              "                              1          0.84      0.78  10721.0   \n",
              "\n",
              "                                     precision_avg  recall_avg  f1-score_avg  \\\n",
              "name                          index                                            \n",
              "RandomForestClassifier: Train 0               0.86        0.83          0.84   \n",
              "                              1               0.86        0.83          0.84   \n",
              "RandomForestClassifier: Test  0               0.78        0.74          0.75   \n",
              "                              1               0.78        0.74          0.75   \n",
              "\n",
              "                                                                                  note  \n",
              "name                          index                                                     \n",
              "RandomForestClassifier: Train 0      n_estimators=200, criterion='entropy', max_dep...  \n",
              "                              1                                                    NaN  \n",
              "RandomForestClassifier: Test  0      n_estimators=200, criterion='entropy', max_dep...  \n",
              "                              1                                                    NaN  "
            ]
          },
          "metadata": {
            "tags": []
          }
        },
        {
          "output_type": "stream",
          "text": [
            "Shufersal_result_ratio.csv\n"
          ],
          "name": "stdout"
        },
        {
          "output_type": "display_data",
          "data": {
            "text/html": [
              "<div>\n",
              "<style scoped>\n",
              "    .dataframe tbody tr th:only-of-type {\n",
              "        vertical-align: middle;\n",
              "    }\n",
              "\n",
              "    .dataframe tbody tr th {\n",
              "        vertical-align: top;\n",
              "    }\n",
              "\n",
              "    .dataframe thead th {\n",
              "        text-align: right;\n",
              "    }\n",
              "</style>\n",
              "<table border=\"1\" class=\"dataframe\">\n",
              "  <thead>\n",
              "    <tr style=\"text-align: right;\">\n",
              "      <th></th>\n",
              "      <th></th>\n",
              "      <th>0</th>\n",
              "      <th>1</th>\n",
              "      <th>precision</th>\n",
              "      <th>recall</th>\n",
              "      <th>f1-score</th>\n",
              "      <th>accuracy</th>\n",
              "      <th>support</th>\n",
              "      <th>precision_avg</th>\n",
              "      <th>recall_avg</th>\n",
              "      <th>f1-score_avg</th>\n",
              "      <th>note</th>\n",
              "    </tr>\n",
              "    <tr>\n",
              "      <th>name</th>\n",
              "      <th>index</th>\n",
              "      <th></th>\n",
              "      <th></th>\n",
              "      <th></th>\n",
              "      <th></th>\n",
              "      <th></th>\n",
              "      <th></th>\n",
              "      <th></th>\n",
              "      <th></th>\n",
              "      <th></th>\n",
              "      <th></th>\n",
              "      <th></th>\n",
              "    </tr>\n",
              "  </thead>\n",
              "  <tbody>\n",
              "    <tr>\n",
              "      <th rowspan=\"2\" valign=\"top\">RandomForestClassifier: Train</th>\n",
              "      <th>0</th>\n",
              "      <td>9227.0</td>\n",
              "      <td>3422.0</td>\n",
              "      <td>0.85</td>\n",
              "      <td>0.73</td>\n",
              "      <td>0.79</td>\n",
              "      <td>0.87</td>\n",
              "      <td>12649.0</td>\n",
              "      <td>0.86</td>\n",
              "      <td>0.83</td>\n",
              "      <td>0.85</td>\n",
              "      <td>n_estimators=200, criterion='entropy', max_dep...</td>\n",
              "    </tr>\n",
              "    <tr>\n",
              "      <th>1</th>\n",
              "      <td>1586.0</td>\n",
              "      <td>23887.0</td>\n",
              "      <td>0.87</td>\n",
              "      <td>0.94</td>\n",
              "      <td>0.91</td>\n",
              "      <td>0.87</td>\n",
              "      <td>25473.0</td>\n",
              "      <td>0.86</td>\n",
              "      <td>0.83</td>\n",
              "      <td>0.85</td>\n",
              "      <td>NaN</td>\n",
              "    </tr>\n",
              "    <tr>\n",
              "      <th rowspan=\"2\" valign=\"top\">RandomForestClassifier: Test</th>\n",
              "      <th>0</th>\n",
              "      <td>3797.0</td>\n",
              "      <td>1622.0</td>\n",
              "      <td>0.81</td>\n",
              "      <td>0.70</td>\n",
              "      <td>0.75</td>\n",
              "      <td>0.85</td>\n",
              "      <td>5419.0</td>\n",
              "      <td>0.83</td>\n",
              "      <td>0.81</td>\n",
              "      <td>0.82</td>\n",
              "      <td>n_estimators=200, criterion='entropy', max_dep...</td>\n",
              "    </tr>\n",
              "    <tr>\n",
              "      <th>1</th>\n",
              "      <td>899.0</td>\n",
              "      <td>10020.0</td>\n",
              "      <td>0.86</td>\n",
              "      <td>0.92</td>\n",
              "      <td>0.89</td>\n",
              "      <td>0.85</td>\n",
              "      <td>10919.0</td>\n",
              "      <td>0.83</td>\n",
              "      <td>0.81</td>\n",
              "      <td>0.82</td>\n",
              "      <td>NaN</td>\n",
              "    </tr>\n",
              "  </tbody>\n",
              "</table>\n",
              "</div>"
            ],
            "text/plain": [
              "                                          0        1  precision  recall  \\\n",
              "name                          index                                       \n",
              "RandomForestClassifier: Train 0      9227.0   3422.0       0.85    0.73   \n",
              "                              1      1586.0  23887.0       0.87    0.94   \n",
              "RandomForestClassifier: Test  0      3797.0   1622.0       0.81    0.70   \n",
              "                              1       899.0  10020.0       0.86    0.92   \n",
              "\n",
              "                                     f1-score  accuracy  support  \\\n",
              "name                          index                                \n",
              "RandomForestClassifier: Train 0          0.79      0.87  12649.0   \n",
              "                              1          0.91      0.87  25473.0   \n",
              "RandomForestClassifier: Test  0          0.75      0.85   5419.0   \n",
              "                              1          0.89      0.85  10919.0   \n",
              "\n",
              "                                     precision_avg  recall_avg  f1-score_avg  \\\n",
              "name                          index                                            \n",
              "RandomForestClassifier: Train 0               0.86        0.83          0.85   \n",
              "                              1               0.86        0.83          0.85   \n",
              "RandomForestClassifier: Test  0               0.83        0.81          0.82   \n",
              "                              1               0.83        0.81          0.82   \n",
              "\n",
              "                                                                                  note  \n",
              "name                          index                                                     \n",
              "RandomForestClassifier: Train 0      n_estimators=200, criterion='entropy', max_dep...  \n",
              "                              1                                                    NaN  \n",
              "RandomForestClassifier: Test  0      n_estimators=200, criterion='entropy', max_dep...  \n",
              "                              1                                                    NaN  "
            ]
          },
          "metadata": {
            "tags": []
          }
        },
        {
          "output_type": "stream",
          "text": [
            "Shufersal_result_rel_diff.csv\n"
          ],
          "name": "stdout"
        },
        {
          "output_type": "display_data",
          "data": {
            "text/html": [
              "<div>\n",
              "<style scoped>\n",
              "    .dataframe tbody tr th:only-of-type {\n",
              "        vertical-align: middle;\n",
              "    }\n",
              "\n",
              "    .dataframe tbody tr th {\n",
              "        vertical-align: top;\n",
              "    }\n",
              "\n",
              "    .dataframe thead th {\n",
              "        text-align: right;\n",
              "    }\n",
              "</style>\n",
              "<table border=\"1\" class=\"dataframe\">\n",
              "  <thead>\n",
              "    <tr style=\"text-align: right;\">\n",
              "      <th></th>\n",
              "      <th></th>\n",
              "      <th>0</th>\n",
              "      <th>1</th>\n",
              "      <th>precision</th>\n",
              "      <th>recall</th>\n",
              "      <th>f1-score</th>\n",
              "      <th>accuracy</th>\n",
              "      <th>support</th>\n",
              "      <th>precision_avg</th>\n",
              "      <th>recall_avg</th>\n",
              "      <th>f1-score_avg</th>\n",
              "      <th>note</th>\n",
              "    </tr>\n",
              "    <tr>\n",
              "      <th>name</th>\n",
              "      <th>index</th>\n",
              "      <th></th>\n",
              "      <th></th>\n",
              "      <th></th>\n",
              "      <th></th>\n",
              "      <th></th>\n",
              "      <th></th>\n",
              "      <th></th>\n",
              "      <th></th>\n",
              "      <th></th>\n",
              "      <th></th>\n",
              "      <th></th>\n",
              "    </tr>\n",
              "  </thead>\n",
              "  <tbody>\n",
              "    <tr>\n",
              "      <th rowspan=\"2\" valign=\"top\">RandomForestClassifier: Train</th>\n",
              "      <th>0</th>\n",
              "      <td>9280.0</td>\n",
              "      <td>3369.0</td>\n",
              "      <td>0.86</td>\n",
              "      <td>0.73</td>\n",
              "      <td>0.79</td>\n",
              "      <td>0.87</td>\n",
              "      <td>12649.0</td>\n",
              "      <td>0.87</td>\n",
              "      <td>0.84</td>\n",
              "      <td>0.85</td>\n",
              "      <td>n_estimators=200, criterion='entropy', max_dep...</td>\n",
              "    </tr>\n",
              "    <tr>\n",
              "      <th>1</th>\n",
              "      <td>1567.0</td>\n",
              "      <td>23906.0</td>\n",
              "      <td>0.88</td>\n",
              "      <td>0.94</td>\n",
              "      <td>0.91</td>\n",
              "      <td>0.87</td>\n",
              "      <td>25473.0</td>\n",
              "      <td>0.87</td>\n",
              "      <td>0.84</td>\n",
              "      <td>0.85</td>\n",
              "      <td>NaN</td>\n",
              "    </tr>\n",
              "    <tr>\n",
              "      <th rowspan=\"2\" valign=\"top\">RandomForestClassifier: Test</th>\n",
              "      <th>0</th>\n",
              "      <td>3829.0</td>\n",
              "      <td>1590.0</td>\n",
              "      <td>0.81</td>\n",
              "      <td>0.71</td>\n",
              "      <td>0.75</td>\n",
              "      <td>0.85</td>\n",
              "      <td>5419.0</td>\n",
              "      <td>0.84</td>\n",
              "      <td>0.81</td>\n",
              "      <td>0.82</td>\n",
              "      <td>n_estimators=200, criterion='entropy', max_dep...</td>\n",
              "    </tr>\n",
              "    <tr>\n",
              "      <th>1</th>\n",
              "      <td>899.0</td>\n",
              "      <td>10020.0</td>\n",
              "      <td>0.86</td>\n",
              "      <td>0.92</td>\n",
              "      <td>0.89</td>\n",
              "      <td>0.85</td>\n",
              "      <td>10919.0</td>\n",
              "      <td>0.84</td>\n",
              "      <td>0.81</td>\n",
              "      <td>0.82</td>\n",
              "      <td>NaN</td>\n",
              "    </tr>\n",
              "  </tbody>\n",
              "</table>\n",
              "</div>"
            ],
            "text/plain": [
              "                                          0        1  precision  recall  \\\n",
              "name                          index                                       \n",
              "RandomForestClassifier: Train 0      9280.0   3369.0       0.86    0.73   \n",
              "                              1      1567.0  23906.0       0.88    0.94   \n",
              "RandomForestClassifier: Test  0      3829.0   1590.0       0.81    0.71   \n",
              "                              1       899.0  10020.0       0.86    0.92   \n",
              "\n",
              "                                     f1-score  accuracy  support  \\\n",
              "name                          index                                \n",
              "RandomForestClassifier: Train 0          0.79      0.87  12649.0   \n",
              "                              1          0.91      0.87  25473.0   \n",
              "RandomForestClassifier: Test  0          0.75      0.85   5419.0   \n",
              "                              1          0.89      0.85  10919.0   \n",
              "\n",
              "                                     precision_avg  recall_avg  f1-score_avg  \\\n",
              "name                          index                                            \n",
              "RandomForestClassifier: Train 0               0.87        0.84          0.85   \n",
              "                              1               0.87        0.84          0.85   \n",
              "RandomForestClassifier: Test  0               0.84        0.81          0.82   \n",
              "                              1               0.84        0.81          0.82   \n",
              "\n",
              "                                                                                  note  \n",
              "name                          index                                                     \n",
              "RandomForestClassifier: Train 0      n_estimators=200, criterion='entropy', max_dep...  \n",
              "                              1                                                    NaN  \n",
              "RandomForestClassifier: Test  0      n_estimators=200, criterion='entropy', max_dep...  \n",
              "                              1                                                    NaN  "
            ]
          },
          "metadata": {
            "tags": []
          }
        },
        {
          "output_type": "stream",
          "text": [
            "Shufersal_result_only_prices.csv\n"
          ],
          "name": "stdout"
        },
        {
          "output_type": "display_data",
          "data": {
            "text/html": [
              "<div>\n",
              "<style scoped>\n",
              "    .dataframe tbody tr th:only-of-type {\n",
              "        vertical-align: middle;\n",
              "    }\n",
              "\n",
              "    .dataframe tbody tr th {\n",
              "        vertical-align: top;\n",
              "    }\n",
              "\n",
              "    .dataframe thead th {\n",
              "        text-align: right;\n",
              "    }\n",
              "</style>\n",
              "<table border=\"1\" class=\"dataframe\">\n",
              "  <thead>\n",
              "    <tr style=\"text-align: right;\">\n",
              "      <th></th>\n",
              "      <th></th>\n",
              "      <th>0</th>\n",
              "      <th>1</th>\n",
              "      <th>precision</th>\n",
              "      <th>recall</th>\n",
              "      <th>f1-score</th>\n",
              "      <th>accuracy</th>\n",
              "      <th>support</th>\n",
              "      <th>precision_avg</th>\n",
              "      <th>recall_avg</th>\n",
              "      <th>f1-score_avg</th>\n",
              "      <th>note</th>\n",
              "    </tr>\n",
              "    <tr>\n",
              "      <th>name</th>\n",
              "      <th>index</th>\n",
              "      <th></th>\n",
              "      <th></th>\n",
              "      <th></th>\n",
              "      <th></th>\n",
              "      <th></th>\n",
              "      <th></th>\n",
              "      <th></th>\n",
              "      <th></th>\n",
              "      <th></th>\n",
              "      <th></th>\n",
              "      <th></th>\n",
              "    </tr>\n",
              "  </thead>\n",
              "  <tbody>\n",
              "    <tr>\n",
              "      <th rowspan=\"2\" valign=\"top\">RandomForestClassifier: Train</th>\n",
              "      <th>0</th>\n",
              "      <td>8819.0</td>\n",
              "      <td>3830.0</td>\n",
              "      <td>0.77</td>\n",
              "      <td>0.70</td>\n",
              "      <td>0.73</td>\n",
              "      <td>0.83</td>\n",
              "      <td>12649.0</td>\n",
              "      <td>0.81</td>\n",
              "      <td>0.80</td>\n",
              "      <td>0.8</td>\n",
              "      <td>n_estimators=200, criterion='entropy', max_dep...</td>\n",
              "    </tr>\n",
              "    <tr>\n",
              "      <th>1</th>\n",
              "      <td>2709.0</td>\n",
              "      <td>22764.0</td>\n",
              "      <td>0.86</td>\n",
              "      <td>0.89</td>\n",
              "      <td>0.87</td>\n",
              "      <td>0.83</td>\n",
              "      <td>25473.0</td>\n",
              "      <td>0.81</td>\n",
              "      <td>0.80</td>\n",
              "      <td>0.8</td>\n",
              "      <td>NaN</td>\n",
              "    </tr>\n",
              "    <tr>\n",
              "      <th rowspan=\"2\" valign=\"top\">RandomForestClassifier: Test</th>\n",
              "      <th>0</th>\n",
              "      <td>3786.0</td>\n",
              "      <td>1633.0</td>\n",
              "      <td>0.75</td>\n",
              "      <td>0.70</td>\n",
              "      <td>0.73</td>\n",
              "      <td>0.82</td>\n",
              "      <td>5419.0</td>\n",
              "      <td>0.80</td>\n",
              "      <td>0.79</td>\n",
              "      <td>0.8</td>\n",
              "      <td>n_estimators=200, criterion='entropy', max_dep...</td>\n",
              "    </tr>\n",
              "    <tr>\n",
              "      <th>1</th>\n",
              "      <td>1234.0</td>\n",
              "      <td>9685.0</td>\n",
              "      <td>0.86</td>\n",
              "      <td>0.89</td>\n",
              "      <td>0.87</td>\n",
              "      <td>0.82</td>\n",
              "      <td>10919.0</td>\n",
              "      <td>0.80</td>\n",
              "      <td>0.79</td>\n",
              "      <td>0.8</td>\n",
              "      <td>NaN</td>\n",
              "    </tr>\n",
              "  </tbody>\n",
              "</table>\n",
              "</div>"
            ],
            "text/plain": [
              "                                          0        1  precision  recall  \\\n",
              "name                          index                                       \n",
              "RandomForestClassifier: Train 0      8819.0   3830.0       0.77    0.70   \n",
              "                              1      2709.0  22764.0       0.86    0.89   \n",
              "RandomForestClassifier: Test  0      3786.0   1633.0       0.75    0.70   \n",
              "                              1      1234.0   9685.0       0.86    0.89   \n",
              "\n",
              "                                     f1-score  accuracy  support  \\\n",
              "name                          index                                \n",
              "RandomForestClassifier: Train 0          0.73      0.83  12649.0   \n",
              "                              1          0.87      0.83  25473.0   \n",
              "RandomForestClassifier: Test  0          0.73      0.82   5419.0   \n",
              "                              1          0.87      0.82  10919.0   \n",
              "\n",
              "                                     precision_avg  recall_avg  f1-score_avg  \\\n",
              "name                          index                                            \n",
              "RandomForestClassifier: Train 0               0.81        0.80           0.8   \n",
              "                              1               0.81        0.80           0.8   \n",
              "RandomForestClassifier: Test  0               0.80        0.79           0.8   \n",
              "                              1               0.80        0.79           0.8   \n",
              "\n",
              "                                                                                  note  \n",
              "name                          index                                                     \n",
              "RandomForestClassifier: Train 0      n_estimators=200, criterion='entropy', max_dep...  \n",
              "                              1                                                    NaN  \n",
              "RandomForestClassifier: Test  0      n_estimators=200, criterion='entropy', max_dep...  \n",
              "                              1                                                    NaN  "
            ]
          },
          "metadata": {
            "tags": []
          }
        },
        {
          "output_type": "stream",
          "text": [
            "Shufersal_result_no_diff.csv\n"
          ],
          "name": "stdout"
        },
        {
          "output_type": "display_data",
          "data": {
            "text/html": [
              "<div>\n",
              "<style scoped>\n",
              "    .dataframe tbody tr th:only-of-type {\n",
              "        vertical-align: middle;\n",
              "    }\n",
              "\n",
              "    .dataframe tbody tr th {\n",
              "        vertical-align: top;\n",
              "    }\n",
              "\n",
              "    .dataframe thead th {\n",
              "        text-align: right;\n",
              "    }\n",
              "</style>\n",
              "<table border=\"1\" class=\"dataframe\">\n",
              "  <thead>\n",
              "    <tr style=\"text-align: right;\">\n",
              "      <th></th>\n",
              "      <th></th>\n",
              "      <th>0</th>\n",
              "      <th>1</th>\n",
              "      <th>precision</th>\n",
              "      <th>recall</th>\n",
              "      <th>f1-score</th>\n",
              "      <th>accuracy</th>\n",
              "      <th>support</th>\n",
              "      <th>precision_avg</th>\n",
              "      <th>recall_avg</th>\n",
              "      <th>f1-score_avg</th>\n",
              "      <th>note</th>\n",
              "    </tr>\n",
              "    <tr>\n",
              "      <th>name</th>\n",
              "      <th>index</th>\n",
              "      <th></th>\n",
              "      <th></th>\n",
              "      <th></th>\n",
              "      <th></th>\n",
              "      <th></th>\n",
              "      <th></th>\n",
              "      <th></th>\n",
              "      <th></th>\n",
              "      <th></th>\n",
              "      <th></th>\n",
              "      <th></th>\n",
              "    </tr>\n",
              "  </thead>\n",
              "  <tbody>\n",
              "    <tr>\n",
              "      <th rowspan=\"2\" valign=\"top\">RandomForestClassifier: Train</th>\n",
              "      <th>0</th>\n",
              "      <td>9074.0</td>\n",
              "      <td>3575.0</td>\n",
              "      <td>0.87</td>\n",
              "      <td>0.72</td>\n",
              "      <td>0.79</td>\n",
              "      <td>0.87</td>\n",
              "      <td>12649.0</td>\n",
              "      <td>0.87</td>\n",
              "      <td>0.83</td>\n",
              "      <td>0.85</td>\n",
              "      <td>n_estimators=200, criterion='entropy', max_dep...</td>\n",
              "    </tr>\n",
              "    <tr>\n",
              "      <th>1</th>\n",
              "      <td>1353.0</td>\n",
              "      <td>24120.0</td>\n",
              "      <td>0.87</td>\n",
              "      <td>0.95</td>\n",
              "      <td>0.91</td>\n",
              "      <td>0.87</td>\n",
              "      <td>25473.0</td>\n",
              "      <td>0.87</td>\n",
              "      <td>0.83</td>\n",
              "      <td>0.85</td>\n",
              "      <td>NaN</td>\n",
              "    </tr>\n",
              "    <tr>\n",
              "      <th rowspan=\"2\" valign=\"top\">RandomForestClassifier: Test</th>\n",
              "      <th>0</th>\n",
              "      <td>3657.0</td>\n",
              "      <td>1762.0</td>\n",
              "      <td>0.83</td>\n",
              "      <td>0.67</td>\n",
              "      <td>0.74</td>\n",
              "      <td>0.85</td>\n",
              "      <td>5419.0</td>\n",
              "      <td>0.84</td>\n",
              "      <td>0.80</td>\n",
              "      <td>0.82</td>\n",
              "      <td>n_estimators=200, criterion='entropy', max_dep...</td>\n",
              "    </tr>\n",
              "    <tr>\n",
              "      <th>1</th>\n",
              "      <td>770.0</td>\n",
              "      <td>10149.0</td>\n",
              "      <td>0.85</td>\n",
              "      <td>0.93</td>\n",
              "      <td>0.89</td>\n",
              "      <td>0.85</td>\n",
              "      <td>10919.0</td>\n",
              "      <td>0.84</td>\n",
              "      <td>0.80</td>\n",
              "      <td>0.82</td>\n",
              "      <td>NaN</td>\n",
              "    </tr>\n",
              "  </tbody>\n",
              "</table>\n",
              "</div>"
            ],
            "text/plain": [
              "                                          0        1  precision  recall  \\\n",
              "name                          index                                       \n",
              "RandomForestClassifier: Train 0      9074.0   3575.0       0.87    0.72   \n",
              "                              1      1353.0  24120.0       0.87    0.95   \n",
              "RandomForestClassifier: Test  0      3657.0   1762.0       0.83    0.67   \n",
              "                              1       770.0  10149.0       0.85    0.93   \n",
              "\n",
              "                                     f1-score  accuracy  support  \\\n",
              "name                          index                                \n",
              "RandomForestClassifier: Train 0          0.79      0.87  12649.0   \n",
              "                              1          0.91      0.87  25473.0   \n",
              "RandomForestClassifier: Test  0          0.74      0.85   5419.0   \n",
              "                              1          0.89      0.85  10919.0   \n",
              "\n",
              "                                     precision_avg  recall_avg  f1-score_avg  \\\n",
              "name                          index                                            \n",
              "RandomForestClassifier: Train 0               0.87        0.83          0.85   \n",
              "                              1               0.87        0.83          0.85   \n",
              "RandomForestClassifier: Test  0               0.84        0.80          0.82   \n",
              "                              1               0.84        0.80          0.82   \n",
              "\n",
              "                                                                                  note  \n",
              "name                          index                                                     \n",
              "RandomForestClassifier: Train 0      n_estimators=200, criterion='entropy', max_dep...  \n",
              "                              1                                                    NaN  \n",
              "RandomForestClassifier: Test  0      n_estimators=200, criterion='entropy', max_dep...  \n",
              "                              1                                                    NaN  "
            ]
          },
          "metadata": {
            "tags": []
          }
        },
        {
          "output_type": "stream",
          "text": [
            "\n"
          ],
          "name": "stdout"
        }
      ]
    },
    {
      "cell_type": "markdown",
      "metadata": {
        "id": "gVL3LIG1kTjY"
      },
      "source": [
        "#Baseline Model"
      ]
    },
    {
      "cell_type": "code",
      "metadata": {
        "id": "j7plSJ5BkcGp"
      },
      "source": [
        "def returnPrec(model,products):\n",
        "            productCols=['ParentProductNumber','ParentProductNumberSubs']\n",
        "            val=model[(model[productCols[0]]==products[0]) & (model[productCols[1]]==products[1])]['avgApproval']\n",
        "            if val.empty ==False:\n",
        "                #display(val)\n",
        "                return val.iloc[0]\n",
        "            #print(val)\n",
        "            return -1"
      ],
      "execution_count": 34,
      "outputs": []
    },
    {
      "cell_type": "code",
      "metadata": {
        "id": "qIk9QpU0lJ0K"
      },
      "source": [
        "class BaselineModel:\n",
        "    def __init__(self, classes_):\n",
        "        self.classes_ = classes_\n",
        "    def fit(self,X_, y_):\n",
        "        #catalogCols=['ParentProductNumber','CompoundID','SubGroupCodeNew','GroupCode']\n",
        "        cols=['ParentProductNumber','ParentProductNumberSubs']\n",
        "        group=pd.concat([X_[cols],y_],axis=1).apply(lambda x:x.astype(np.int64))\\\n",
        "            .groupby(cols)\\\n",
        "            .agg({'CorrelateItemStatusCode':[('avgApproval','mean'),('countRows','count')]}).reset_index()\n",
        "        group.columns=group.columns.droplevel(0)\n",
        "        group.columns.values[0]=cols[0]\n",
        "        group.columns.values[1]=cols[1]\n",
        "        group=group[group['countRows']>=5]\n",
        "        #display(group.head())\n",
        "        #display(len(group))\n",
        "        self.model=group \n",
        "        return self\n",
        "    \n",
        "    def predict(self,X_): \n",
        "        #print(type(X_))\n",
        "        y_predPrec = X_.apply(lambda x: returnPrec( model=self.model,products=[x['ParentProductNumber'],\n",
        "                                                                                 x['ParentProductNumberSubs']]),axis=1)\n",
        "        #display(y_predPrec)\n",
        "        y_pred=np.where(y_predPrec>0.5,1,0)\n",
        "        return y_pred\n",
        "    def predict_proba(self,X_):\n",
        "        y_predPrec = X_.apply(lambda x: returnPrec(model=self.model, products=[x['ParentProductNumber'],\n",
        "                                                                                 x['ParentProductNumberSubs']]),axis=1)\n",
        "        return y_predPrec"
      ],
      "execution_count": 35,
      "outputs": []
    },
    {
      "cell_type": "code",
      "metadata": {
        "id": "gNyGxU3Mlkv0"
      },
      "source": [
        "BS = False\n",
        "if BS:\n",
        "  baseline=BaselineModel(df.CorrelateItemStatusCode.unique())\n",
        "  baseline.fit(X_train,y_train)\n",
        "  y_pred=baseline.predict(X_test)"
      ],
      "execution_count": 36,
      "outputs": []
    },
    {
      "cell_type": "markdown",
      "metadata": {
        "id": "7Cm7ERewmWDN"
      },
      "source": [
        "##Example baseline model"
      ]
    },
    {
      "cell_type": "code",
      "metadata": {
        "id": "LS3jnP5nmKDR",
        "colab": {
          "base_uri": "https://localhost:8080/"
        },
        "outputId": "8312b3ac-2937-48b7-9ea4-c5c04ab4ddd8"
      },
      "source": [
        "if BS:\n",
        "  prd, prdSubs==161631, 72909799\n",
        "  p(y_train[(X_train['ParentProductNumber']==prd) & (X_train['ParentProductNumberSubs']==prdSubs)].sum()\\\n",
        "  /len(y_train[(X_train['ParentProductNumber']==prd) & (X_train['ParentProductNumberSubs']==prdSubs)]))\n",
        "  p()\n",
        "  p(baseline.predict_proba(X_test[(X_test['ParentProductNumber']==prd) & (X_test['ParentProductNumberSubs']==prdSubs)]))  "
      ],
      "execution_count": 39,
      "outputs": [
        {
          "output_type": "execute_result",
          "data": {
            "text/plain": [
              "0.921875"
            ]
          },
          "metadata": {
            "tags": []
          },
          "execution_count": 39
        }
      ]
    },
    {
      "cell_type": "code",
      "metadata": {
        "id": "qh_lCTrmmopU",
        "colab": {
          "base_uri": "https://localhost:8080/"
        },
        "outputId": "051051cc-b16b-4b4b-e83c-cf532b37f024"
      },
      "source": [
        "if BS:\n",
        "  print(len(y_pred[y_pred==0]))\n",
        "  print(len(y_pred[y_pred==1]))\n",
        "  print(len(y_pred[y_pred==-1]))"
      ],
      "execution_count": 41,
      "outputs": [
        {
          "output_type": "stream",
          "text": [
            "4908\n",
            "11430\n",
            "0\n"
          ],
          "name": "stdout"
        }
      ]
    },
    {
      "cell_type": "code",
      "metadata": {
        "id": "8lfQ0GOFmxe6",
        "colab": {
          "base_uri": "https://localhost:8080/"
        },
        "outputId": "426f53e3-1ceb-4297-9172-493def2dffde"
      },
      "source": [
        "if BS:\n",
        "  print(classification_report(y_test,y_pred))"
      ],
      "execution_count": 42,
      "outputs": [
        {
          "output_type": "stream",
          "text": [
            "              precision    recall  f1-score   support\n",
            "\n",
            "           0       0.52      0.47      0.50      5419\n",
            "           1       0.75      0.79      0.77     10919\n",
            "\n",
            "    accuracy                           0.68     16338\n",
            "   macro avg       0.64      0.63      0.63     16338\n",
            "weighted avg       0.68      0.68      0.68     16338\n",
            "\n"
          ],
          "name": "stdout"
        }
      ]
    },
    {
      "cell_type": "code",
      "metadata": {
        "id": "cJzRcIGmm225",
        "colab": {
          "base_uri": "https://localhost:8080/",
          "height": 469
        },
        "outputId": "1ebce06e-f86b-4af7-b750-e1c7c3eb2c2c"
      },
      "source": [
        "if BS:\n",
        "  process_model(baseline,  X_train, y_train, X_test, y_test)"
      ],
      "execution_count": 43,
      "outputs": [
        {
          "output_type": "stream",
          "text": [
            "running:  BaselineModel (38122, 61)\n"
          ],
          "name": "stdout"
        },
        {
          "output_type": "execute_result",
          "data": {
            "text/html": [
              "<div>\n",
              "<style scoped>\n",
              "    .dataframe tbody tr th:only-of-type {\n",
              "        vertical-align: middle;\n",
              "    }\n",
              "\n",
              "    .dataframe tbody tr th {\n",
              "        vertical-align: top;\n",
              "    }\n",
              "\n",
              "    .dataframe thead th {\n",
              "        text-align: right;\n",
              "    }\n",
              "</style>\n",
              "<table border=\"1\" class=\"dataframe\">\n",
              "  <thead>\n",
              "    <tr style=\"text-align: right;\">\n",
              "      <th></th>\n",
              "      <th></th>\n",
              "      <th>0</th>\n",
              "      <th>1</th>\n",
              "      <th>precision</th>\n",
              "      <th>recall</th>\n",
              "      <th>f1-score</th>\n",
              "      <th>accuracy</th>\n",
              "      <th>support</th>\n",
              "      <th>precision_avg</th>\n",
              "      <th>recall_avg</th>\n",
              "      <th>f1-score_avg</th>\n",
              "      <th>note</th>\n",
              "    </tr>\n",
              "    <tr>\n",
              "      <th>name</th>\n",
              "      <th>index</th>\n",
              "      <th></th>\n",
              "      <th></th>\n",
              "      <th></th>\n",
              "      <th></th>\n",
              "      <th></th>\n",
              "      <th></th>\n",
              "      <th></th>\n",
              "      <th></th>\n",
              "      <th></th>\n",
              "      <th></th>\n",
              "      <th></th>\n",
              "    </tr>\n",
              "  </thead>\n",
              "  <tbody>\n",
              "    <tr>\n",
              "      <th rowspan=\"2\" valign=\"top\">CatBoostClassifier: Train</th>\n",
              "      <th>0</th>\n",
              "      <td>10777.0</td>\n",
              "      <td>1872.0</td>\n",
              "      <td>0.93</td>\n",
              "      <td>0.85</td>\n",
              "      <td>0.89</td>\n",
              "      <td>0.93</td>\n",
              "      <td>12649.0</td>\n",
              "      <td>0.93</td>\n",
              "      <td>0.91</td>\n",
              "      <td>0.92</td>\n",
              "      <td>iterations=None depth=None, random_state=73, l...</td>\n",
              "    </tr>\n",
              "    <tr>\n",
              "      <th>1</th>\n",
              "      <td>868.0</td>\n",
              "      <td>24605.0</td>\n",
              "      <td>0.93</td>\n",
              "      <td>0.97</td>\n",
              "      <td>0.95</td>\n",
              "      <td>0.93</td>\n",
              "      <td>25473.0</td>\n",
              "      <td>0.93</td>\n",
              "      <td>0.91</td>\n",
              "      <td>0.92</td>\n",
              "      <td></td>\n",
              "    </tr>\n",
              "    <tr>\n",
              "      <th rowspan=\"2\" valign=\"top\">CatBoostClassifier: Test</th>\n",
              "      <th>0</th>\n",
              "      <td>4177.0</td>\n",
              "      <td>1242.0</td>\n",
              "      <td>0.83</td>\n",
              "      <td>0.77</td>\n",
              "      <td>0.80</td>\n",
              "      <td>0.87</td>\n",
              "      <td>5419.0</td>\n",
              "      <td>0.86</td>\n",
              "      <td>0.85</td>\n",
              "      <td>0.85</td>\n",
              "      <td>iterations=None depth=None, random_state=73, l...</td>\n",
              "    </tr>\n",
              "    <tr>\n",
              "      <th>1</th>\n",
              "      <td>856.0</td>\n",
              "      <td>10063.0</td>\n",
              "      <td>0.89</td>\n",
              "      <td>0.92</td>\n",
              "      <td>0.91</td>\n",
              "      <td>0.87</td>\n",
              "      <td>10919.0</td>\n",
              "      <td>0.86</td>\n",
              "      <td>0.85</td>\n",
              "      <td>0.85</td>\n",
              "      <td></td>\n",
              "    </tr>\n",
              "    <tr>\n",
              "      <th rowspan=\"2\" valign=\"top\">LGBMClassifier: Train</th>\n",
              "      <th>0</th>\n",
              "      <td>9086.0</td>\n",
              "      <td>3563.0</td>\n",
              "      <td>0.83</td>\n",
              "      <td>0.72</td>\n",
              "      <td>0.77</td>\n",
              "      <td>0.86</td>\n",
              "      <td>12649.0</td>\n",
              "      <td>0.85</td>\n",
              "      <td>0.82</td>\n",
              "      <td>0.83</td>\n",
              "      <td>n_estimators=100 max_depth=None, random_state=...</td>\n",
              "    </tr>\n",
              "    <tr>\n",
              "      <th>1</th>\n",
              "      <td>1810.0</td>\n",
              "      <td>23663.0</td>\n",
              "      <td>0.87</td>\n",
              "      <td>0.93</td>\n",
              "      <td>0.90</td>\n",
              "      <td>0.86</td>\n",
              "      <td>25473.0</td>\n",
              "      <td>0.85</td>\n",
              "      <td>0.82</td>\n",
              "      <td>0.83</td>\n",
              "      <td></td>\n",
              "    </tr>\n",
              "    <tr>\n",
              "      <th rowspan=\"2\" valign=\"top\">LGBMClassifier: Test</th>\n",
              "      <th>0</th>\n",
              "      <td>3874.0</td>\n",
              "      <td>1545.0</td>\n",
              "      <td>0.82</td>\n",
              "      <td>0.71</td>\n",
              "      <td>0.76</td>\n",
              "      <td>0.85</td>\n",
              "      <td>5419.0</td>\n",
              "      <td>0.84</td>\n",
              "      <td>0.82</td>\n",
              "      <td>0.83</td>\n",
              "      <td>n_estimators=100 max_depth=None, random_state=...</td>\n",
              "    </tr>\n",
              "    <tr>\n",
              "      <th>1</th>\n",
              "      <td>867.0</td>\n",
              "      <td>10052.0</td>\n",
              "      <td>0.87</td>\n",
              "      <td>0.92</td>\n",
              "      <td>0.89</td>\n",
              "      <td>0.85</td>\n",
              "      <td>10919.0</td>\n",
              "      <td>0.84</td>\n",
              "      <td>0.82</td>\n",
              "      <td>0.83</td>\n",
              "      <td></td>\n",
              "    </tr>\n",
              "    <tr>\n",
              "      <th rowspan=\"2\" valign=\"top\">BaselineModel: Train</th>\n",
              "      <th>0</th>\n",
              "      <td>6733.0</td>\n",
              "      <td>5916.0</td>\n",
              "      <td>0.55</td>\n",
              "      <td>0.47</td>\n",
              "      <td>0.51</td>\n",
              "      <td>0.70</td>\n",
              "      <td>12649.0</td>\n",
              "      <td>0.65</td>\n",
              "      <td>0.64</td>\n",
              "      <td>0.65</td>\n",
              "      <td></td>\n",
              "    </tr>\n",
              "    <tr>\n",
              "      <th>1</th>\n",
              "      <td>20724.0</td>\n",
              "      <td>4749.0</td>\n",
              "      <td>0.75</td>\n",
              "      <td>0.81</td>\n",
              "      <td>0.78</td>\n",
              "      <td>0.70</td>\n",
              "      <td>25473.0</td>\n",
              "      <td>0.65</td>\n",
              "      <td>0.64</td>\n",
              "      <td>0.65</td>\n",
              "      <td></td>\n",
              "    </tr>\n",
              "    <tr>\n",
              "      <th rowspan=\"2\" valign=\"top\">BaselineModel: Test</th>\n",
              "      <th>0</th>\n",
              "      <td>2845.0</td>\n",
              "      <td>2574.0</td>\n",
              "      <td>0.52</td>\n",
              "      <td>0.47</td>\n",
              "      <td>0.50</td>\n",
              "      <td>0.68</td>\n",
              "      <td>5419.0</td>\n",
              "      <td>0.64</td>\n",
              "      <td>0.63</td>\n",
              "      <td>0.63</td>\n",
              "      <td></td>\n",
              "    </tr>\n",
              "    <tr>\n",
              "      <th>1</th>\n",
              "      <td>8585.0</td>\n",
              "      <td>2334.0</td>\n",
              "      <td>0.75</td>\n",
              "      <td>0.79</td>\n",
              "      <td>0.77</td>\n",
              "      <td>0.68</td>\n",
              "      <td>10919.0</td>\n",
              "      <td>0.64</td>\n",
              "      <td>0.63</td>\n",
              "      <td>0.63</td>\n",
              "      <td></td>\n",
              "    </tr>\n",
              "  </tbody>\n",
              "</table>\n",
              "</div>"
            ],
            "text/plain": [
              "                                       0        1  precision  recall  \\\n",
              "name                      index                                        \n",
              "CatBoostClassifier: Train 0      10777.0   1872.0       0.93    0.85   \n",
              "                          1        868.0  24605.0       0.93    0.97   \n",
              "CatBoostClassifier: Test  0       4177.0   1242.0       0.83    0.77   \n",
              "                          1        856.0  10063.0       0.89    0.92   \n",
              "LGBMClassifier: Train     0       9086.0   3563.0       0.83    0.72   \n",
              "                          1       1810.0  23663.0       0.87    0.93   \n",
              "LGBMClassifier: Test      0       3874.0   1545.0       0.82    0.71   \n",
              "                          1        867.0  10052.0       0.87    0.92   \n",
              "BaselineModel: Train      0       6733.0   5916.0       0.55    0.47   \n",
              "                          1      20724.0   4749.0       0.75    0.81   \n",
              "BaselineModel: Test       0       2845.0   2574.0       0.52    0.47   \n",
              "                          1       8585.0   2334.0       0.75    0.79   \n",
              "\n",
              "                                 f1-score  accuracy  support  precision_avg  \\\n",
              "name                      index                                               \n",
              "CatBoostClassifier: Train 0          0.89      0.93  12649.0           0.93   \n",
              "                          1          0.95      0.93  25473.0           0.93   \n",
              "CatBoostClassifier: Test  0          0.80      0.87   5419.0           0.86   \n",
              "                          1          0.91      0.87  10919.0           0.86   \n",
              "LGBMClassifier: Train     0          0.77      0.86  12649.0           0.85   \n",
              "                          1          0.90      0.86  25473.0           0.85   \n",
              "LGBMClassifier: Test      0          0.76      0.85   5419.0           0.84   \n",
              "                          1          0.89      0.85  10919.0           0.84   \n",
              "BaselineModel: Train      0          0.51      0.70  12649.0           0.65   \n",
              "                          1          0.78      0.70  25473.0           0.65   \n",
              "BaselineModel: Test       0          0.50      0.68   5419.0           0.64   \n",
              "                          1          0.77      0.68  10919.0           0.64   \n",
              "\n",
              "                                 recall_avg  f1-score_avg  \\\n",
              "name                      index                             \n",
              "CatBoostClassifier: Train 0            0.91          0.92   \n",
              "                          1            0.91          0.92   \n",
              "CatBoostClassifier: Test  0            0.85          0.85   \n",
              "                          1            0.85          0.85   \n",
              "LGBMClassifier: Train     0            0.82          0.83   \n",
              "                          1            0.82          0.83   \n",
              "LGBMClassifier: Test      0            0.82          0.83   \n",
              "                          1            0.82          0.83   \n",
              "BaselineModel: Train      0            0.64          0.65   \n",
              "                          1            0.64          0.65   \n",
              "BaselineModel: Test       0            0.63          0.63   \n",
              "                          1            0.63          0.63   \n",
              "\n",
              "                                                                              note  \n",
              "name                      index                                                     \n",
              "CatBoostClassifier: Train 0      iterations=None depth=None, random_state=73, l...  \n",
              "                          1                                                         \n",
              "CatBoostClassifier: Test  0      iterations=None depth=None, random_state=73, l...  \n",
              "                          1                                                         \n",
              "LGBMClassifier: Train     0      n_estimators=100 max_depth=None, random_state=...  \n",
              "                          1                                                         \n",
              "LGBMClassifier: Test      0      n_estimators=100 max_depth=None, random_state=...  \n",
              "                          1                                                         \n",
              "BaselineModel: Train      0                                                         \n",
              "                          1                                                         \n",
              "BaselineModel: Test       0                                                         \n",
              "                          1                                                         "
            ]
          },
          "metadata": {
            "tags": []
          },
          "execution_count": 43
        }
      ]
    },
    {
      "cell_type": "markdown",
      "metadata": {
        "id": "xhGCOYkP4GHu"
      },
      "source": [
        "# RECOMMENDATION LIST"
      ]
    },
    {
      "cell_type": "markdown",
      "metadata": {
        "id": "_zio4tqJ4Zmy"
      },
      "source": [
        "## Method 1 - Zvi"
      ]
    },
    {
      "cell_type": "code",
      "metadata": {
        "colab": {
          "base_uri": "https://localhost:8080/"
        },
        "id": "MATXmENwewA0",
        "outputId": "b67c5df9-faf8-40b8-f105-bbe4a7efee1b"
      },
      "source": [
        "model_RF = RandomForestClassifier(n_estimators=200, criterion='entropy', max_depth=None, min_samples_split=20, ccp_alpha=0.0003, random_state=73)\n",
        "model_RF.fit(X_train, y_train)"
      ],
      "execution_count": 44,
      "outputs": [
        {
          "output_type": "execute_result",
          "data": {
            "text/plain": [
              "RandomForestClassifier(bootstrap=True, ccp_alpha=0.0003, class_weight=None,\n",
              "                       criterion='entropy', max_depth=None, max_features='auto',\n",
              "                       max_leaf_nodes=None, max_samples=None,\n",
              "                       min_impurity_decrease=0.0, min_impurity_split=None,\n",
              "                       min_samples_leaf=1, min_samples_split=20,\n",
              "                       min_weight_fraction_leaf=0.0, n_estimators=200,\n",
              "                       n_jobs=None, oob_score=False, random_state=73, verbose=0,\n",
              "                       warm_start=False)"
            ]
          },
          "metadata": {
            "tags": []
          },
          "execution_count": 44
        }
      ]
    },
    {
      "cell_type": "code",
      "metadata": {
        "colab": {
          "base_uri": "https://localhost:8080/",
          "height": 204
        },
        "id": "2a5P5TKGfdxr",
        "outputId": "353ca877-bc56-43a0-fcf0-20c25a481799"
      },
      "source": [
        "result = pd.DataFrame(model_RF.predict_proba(X))\n",
        "\n",
        "result['Product'] = X.ParentProductNumber\n",
        "result['ProductSubs'] = X.ParentProductNumberSubs\n",
        "result['Selected'] = y\n",
        "result['Predicted'] = model_RF.predict(X)\n",
        "result['Correct'] = (result['Predicted'] == result['Selected'])\n",
        "result.head()"
      ],
      "execution_count": 45,
      "outputs": [
        {
          "output_type": "execute_result",
          "data": {
            "text/html": [
              "<div>\n",
              "<style scoped>\n",
              "    .dataframe tbody tr th:only-of-type {\n",
              "        vertical-align: middle;\n",
              "    }\n",
              "\n",
              "    .dataframe tbody tr th {\n",
              "        vertical-align: top;\n",
              "    }\n",
              "\n",
              "    .dataframe thead th {\n",
              "        text-align: right;\n",
              "    }\n",
              "</style>\n",
              "<table border=\"1\" class=\"dataframe\">\n",
              "  <thead>\n",
              "    <tr style=\"text-align: right;\">\n",
              "      <th></th>\n",
              "      <th>0</th>\n",
              "      <th>1</th>\n",
              "      <th>Product</th>\n",
              "      <th>ProductSubs</th>\n",
              "      <th>Selected</th>\n",
              "      <th>Predicted</th>\n",
              "      <th>Correct</th>\n",
              "    </tr>\n",
              "  </thead>\n",
              "  <tbody>\n",
              "    <tr>\n",
              "      <th>0</th>\n",
              "      <td>0.26</td>\n",
              "      <td>0.74</td>\n",
              "      <td>8000500249352</td>\n",
              "      <td>8000500217740</td>\n",
              "      <td>1</td>\n",
              "      <td>1</td>\n",
              "      <td>True</td>\n",
              "    </tr>\n",
              "    <tr>\n",
              "      <th>1</th>\n",
              "      <td>0.10</td>\n",
              "      <td>0.90</td>\n",
              "      <td>178134</td>\n",
              "      <td>7290100852576</td>\n",
              "      <td>1</td>\n",
              "      <td>1</td>\n",
              "      <td>True</td>\n",
              "    </tr>\n",
              "    <tr>\n",
              "      <th>2</th>\n",
              "      <td>0.63</td>\n",
              "      <td>0.37</td>\n",
              "      <td>7610400091060</td>\n",
              "      <td>8690766156404</td>\n",
              "      <td>0</td>\n",
              "      <td>0</td>\n",
              "      <td>True</td>\n",
              "    </tr>\n",
              "    <tr>\n",
              "      <th>3</th>\n",
              "      <td>0.04</td>\n",
              "      <td>0.96</td>\n",
              "      <td>7290112490124</td>\n",
              "      <td>7290107649605</td>\n",
              "      <td>1</td>\n",
              "      <td>1</td>\n",
              "      <td>True</td>\n",
              "    </tr>\n",
              "    <tr>\n",
              "      <th>4</th>\n",
              "      <td>0.14</td>\n",
              "      <td>0.86</td>\n",
              "      <td>7296073382416</td>\n",
              "      <td>7296073237631</td>\n",
              "      <td>1</td>\n",
              "      <td>1</td>\n",
              "      <td>True</td>\n",
              "    </tr>\n",
              "  </tbody>\n",
              "</table>\n",
              "</div>"
            ],
            "text/plain": [
              "      0     1        Product    ProductSubs  Selected  Predicted  Correct\n",
              "0  0.26  0.74  8000500249352  8000500217740         1          1     True\n",
              "1  0.10  0.90         178134  7290100852576         1          1     True\n",
              "2  0.63  0.37  7610400091060  8690766156404         0          0     True\n",
              "3  0.04  0.96  7290112490124  7290107649605         1          1     True\n",
              "4  0.14  0.86  7296073382416  7296073237631         1          1     True"
            ]
          },
          "metadata": {
            "tags": []
          },
          "execution_count": 45
        }
      ]
    },
    {
      "cell_type": "code",
      "metadata": {
        "id": "yieHVj_dtStW"
      },
      "source": [
        "result_stat = result.drop([0,1], axis=1).groupby(['Product', 'ProductSubs']).agg({'Correct': [('AvgCorrect','mean'),('CountCorrect','count')]})"
      ],
      "execution_count": 46,
      "outputs": []
    },
    {
      "cell_type": "code",
      "metadata": {
        "colab": {
          "base_uri": "https://localhost:8080/",
          "height": 266
        },
        "id": "C2lbduGYpFSy",
        "outputId": "fad1bb31-76b6-4b64-fc22-425ff565077e"
      },
      "source": [
        "result_stat.head()"
      ],
      "execution_count": 47,
      "outputs": [
        {
          "output_type": "execute_result",
          "data": {
            "text/html": [
              "<div>\n",
              "<style scoped>\n",
              "    .dataframe tbody tr th:only-of-type {\n",
              "        vertical-align: middle;\n",
              "    }\n",
              "\n",
              "    .dataframe tbody tr th {\n",
              "        vertical-align: top;\n",
              "    }\n",
              "\n",
              "    .dataframe thead tr th {\n",
              "        text-align: left;\n",
              "    }\n",
              "\n",
              "    .dataframe thead tr:last-of-type th {\n",
              "        text-align: right;\n",
              "    }\n",
              "</style>\n",
              "<table border=\"1\" class=\"dataframe\">\n",
              "  <thead>\n",
              "    <tr>\n",
              "      <th></th>\n",
              "      <th></th>\n",
              "      <th colspan=\"2\" halign=\"left\">Correct</th>\n",
              "    </tr>\n",
              "    <tr>\n",
              "      <th></th>\n",
              "      <th></th>\n",
              "      <th>AvgCorrect</th>\n",
              "      <th>CountCorrect</th>\n",
              "    </tr>\n",
              "    <tr>\n",
              "      <th>Product</th>\n",
              "      <th>ProductSubs</th>\n",
              "      <th></th>\n",
              "      <th></th>\n",
              "    </tr>\n",
              "  </thead>\n",
              "  <tbody>\n",
              "    <tr>\n",
              "      <th rowspan=\"5\" valign=\"top\">161631</th>\n",
              "      <th>161648</th>\n",
              "      <td>0.91</td>\n",
              "      <td>45</td>\n",
              "    </tr>\n",
              "    <tr>\n",
              "      <th>72909799</th>\n",
              "      <td>0.88</td>\n",
              "      <td>86</td>\n",
              "    </tr>\n",
              "    <tr>\n",
              "      <th>72917329</th>\n",
              "      <td>1.00</td>\n",
              "      <td>1</td>\n",
              "    </tr>\n",
              "    <tr>\n",
              "      <th>72917367</th>\n",
              "      <td>1.00</td>\n",
              "      <td>2</td>\n",
              "    </tr>\n",
              "    <tr>\n",
              "      <th>72917893</th>\n",
              "      <td>0.75</td>\n",
              "      <td>4</td>\n",
              "    </tr>\n",
              "  </tbody>\n",
              "</table>\n",
              "</div>"
            ],
            "text/plain": [
              "                       Correct             \n",
              "                    AvgCorrect CountCorrect\n",
              "Product ProductSubs                        \n",
              "161631  161648            0.91           45\n",
              "        72909799          0.88           86\n",
              "        72917329          1.00            1\n",
              "        72917367          1.00            2\n",
              "        72917893          0.75            4"
            ]
          },
          "metadata": {
            "tags": []
          },
          "execution_count": 47
        }
      ]
    },
    {
      "cell_type": "markdown",
      "metadata": {
        "id": "p6MdMX7b3PXa"
      },
      "source": [
        "### List of Product/subs with at least 3 entries in the dataset, and the avgCorrectness of our model compared to actual"
      ]
    },
    {
      "cell_type": "code",
      "metadata": {
        "colab": {
          "base_uri": "https://localhost:8080/",
          "height": 421
        },
        "id": "4cVMsSnR14DV",
        "outputId": "8a0e5444-4f4f-4ed8-c72f-3187282f730b"
      },
      "source": [
        "mask3 = (result_stat.iloc[:,1] >=3)\n",
        "df_res = result_stat[mask3]\n",
        "df_res.head(10)"
      ],
      "execution_count": 48,
      "outputs": [
        {
          "output_type": "execute_result",
          "data": {
            "text/html": [
              "<div>\n",
              "<style scoped>\n",
              "    .dataframe tbody tr th:only-of-type {\n",
              "        vertical-align: middle;\n",
              "    }\n",
              "\n",
              "    .dataframe tbody tr th {\n",
              "        vertical-align: top;\n",
              "    }\n",
              "\n",
              "    .dataframe thead tr th {\n",
              "        text-align: left;\n",
              "    }\n",
              "\n",
              "    .dataframe thead tr:last-of-type th {\n",
              "        text-align: right;\n",
              "    }\n",
              "</style>\n",
              "<table border=\"1\" class=\"dataframe\">\n",
              "  <thead>\n",
              "    <tr>\n",
              "      <th></th>\n",
              "      <th></th>\n",
              "      <th colspan=\"2\" halign=\"left\">Correct</th>\n",
              "    </tr>\n",
              "    <tr>\n",
              "      <th></th>\n",
              "      <th></th>\n",
              "      <th>AvgCorrect</th>\n",
              "      <th>CountCorrect</th>\n",
              "    </tr>\n",
              "    <tr>\n",
              "      <th>Product</th>\n",
              "      <th>ProductSubs</th>\n",
              "      <th></th>\n",
              "      <th></th>\n",
              "    </tr>\n",
              "  </thead>\n",
              "  <tbody>\n",
              "    <tr>\n",
              "      <th rowspan=\"5\" valign=\"top\">161631</th>\n",
              "      <th>161648</th>\n",
              "      <td>0.91</td>\n",
              "      <td>45</td>\n",
              "    </tr>\n",
              "    <tr>\n",
              "      <th>72909799</th>\n",
              "      <td>0.88</td>\n",
              "      <td>86</td>\n",
              "    </tr>\n",
              "    <tr>\n",
              "      <th>72917893</th>\n",
              "      <td>0.75</td>\n",
              "      <td>4</td>\n",
              "    </tr>\n",
              "    <tr>\n",
              "      <th>5000159407236</th>\n",
              "      <td>0.67</td>\n",
              "      <td>3</td>\n",
              "    </tr>\n",
              "    <tr>\n",
              "      <th>7290112497918</th>\n",
              "      <td>0.96</td>\n",
              "      <td>24</td>\n",
              "    </tr>\n",
              "    <tr>\n",
              "      <th rowspan=\"3\" valign=\"top\">161648</th>\n",
              "      <th>161631</th>\n",
              "      <td>0.99</td>\n",
              "      <td>71</td>\n",
              "    </tr>\n",
              "    <tr>\n",
              "      <th>72909799</th>\n",
              "      <td>0.94</td>\n",
              "      <td>68</td>\n",
              "    </tr>\n",
              "    <tr>\n",
              "      <th>7290112497918</th>\n",
              "      <td>0.94</td>\n",
              "      <td>31</td>\n",
              "    </tr>\n",
              "    <tr>\n",
              "      <th rowspan=\"2\" valign=\"top\">170053</th>\n",
              "      <th>170077</th>\n",
              "      <td>0.73</td>\n",
              "      <td>15</td>\n",
              "    </tr>\n",
              "    <tr>\n",
              "      <th>170275</th>\n",
              "      <td>0.92</td>\n",
              "      <td>50</td>\n",
              "    </tr>\n",
              "  </tbody>\n",
              "</table>\n",
              "</div>"
            ],
            "text/plain": [
              "                         Correct             \n",
              "                      AvgCorrect CountCorrect\n",
              "Product ProductSubs                          \n",
              "161631  161648              0.91           45\n",
              "        72909799            0.88           86\n",
              "        72917893            0.75            4\n",
              "        5000159407236       0.67            3\n",
              "        7290112497918       0.96           24\n",
              "161648  161631              0.99           71\n",
              "        72909799            0.94           68\n",
              "        7290112497918       0.94           31\n",
              "170053  170077              0.73           15\n",
              "        170275              0.92           50"
            ]
          },
          "metadata": {
            "tags": []
          },
          "execution_count": 48
        }
      ]
    },
    {
      "cell_type": "markdown",
      "metadata": {
        "id": "6Su_mOIqGH_4"
      },
      "source": [
        "### Lists of products and their subs, top 3 subs per product based on avgCorrect "
      ]
    },
    {
      "cell_type": "code",
      "metadata": {
        "id": "t4-sOiRoPHtB",
        "colab": {
          "base_uri": "https://localhost:8080/",
          "height": 266
        },
        "outputId": "51adba46-f411-4422-a913-32c5c7295a92"
      },
      "source": [
        "# the next groupby remove the columns from the df, so we trick it and add it to the index - groupby preserve the index\n",
        "df_recommend = df_res.set_index(('Correct','CountCorrect'), append=True)\n",
        "df_recommend.head()"
      ],
      "execution_count": 49,
      "outputs": [
        {
          "output_type": "execute_result",
          "data": {
            "text/html": [
              "<div>\n",
              "<style scoped>\n",
              "    .dataframe tbody tr th:only-of-type {\n",
              "        vertical-align: middle;\n",
              "    }\n",
              "\n",
              "    .dataframe tbody tr th {\n",
              "        vertical-align: top;\n",
              "    }\n",
              "\n",
              "    .dataframe thead tr th {\n",
              "        text-align: left;\n",
              "    }\n",
              "\n",
              "    .dataframe thead tr:last-of-type th {\n",
              "        text-align: right;\n",
              "    }\n",
              "</style>\n",
              "<table border=\"1\" class=\"dataframe\">\n",
              "  <thead>\n",
              "    <tr>\n",
              "      <th></th>\n",
              "      <th></th>\n",
              "      <th></th>\n",
              "      <th>Correct</th>\n",
              "    </tr>\n",
              "    <tr>\n",
              "      <th></th>\n",
              "      <th></th>\n",
              "      <th></th>\n",
              "      <th>AvgCorrect</th>\n",
              "    </tr>\n",
              "    <tr>\n",
              "      <th>Product</th>\n",
              "      <th>ProductSubs</th>\n",
              "      <th>(Correct, CountCorrect)</th>\n",
              "      <th></th>\n",
              "    </tr>\n",
              "  </thead>\n",
              "  <tbody>\n",
              "    <tr>\n",
              "      <th rowspan=\"5\" valign=\"top\">161631</th>\n",
              "      <th>161648</th>\n",
              "      <th>45</th>\n",
              "      <td>0.91</td>\n",
              "    </tr>\n",
              "    <tr>\n",
              "      <th>72909799</th>\n",
              "      <th>86</th>\n",
              "      <td>0.88</td>\n",
              "    </tr>\n",
              "    <tr>\n",
              "      <th>72917893</th>\n",
              "      <th>4</th>\n",
              "      <td>0.75</td>\n",
              "    </tr>\n",
              "    <tr>\n",
              "      <th>5000159407236</th>\n",
              "      <th>3</th>\n",
              "      <td>0.67</td>\n",
              "    </tr>\n",
              "    <tr>\n",
              "      <th>7290112497918</th>\n",
              "      <th>24</th>\n",
              "      <td>0.96</td>\n",
              "    </tr>\n",
              "  </tbody>\n",
              "</table>\n",
              "</div>"
            ],
            "text/plain": [
              "                                                 Correct\n",
              "                                              AvgCorrect\n",
              "Product ProductSubs   (Correct, CountCorrect)           \n",
              "161631  161648        45                            0.91\n",
              "        72909799      86                            0.88\n",
              "        72917893      4                             0.75\n",
              "        5000159407236 3                             0.67\n",
              "        7290112497918 24                            0.96"
            ]
          },
          "metadata": {
            "tags": []
          },
          "execution_count": 49
        }
      ]
    },
    {
      "cell_type": "code",
      "metadata": {
        "colab": {
          "base_uri": "https://localhost:8080/",
          "height": 266
        },
        "id": "IXwwfL8eKVk1",
        "outputId": "39cef64a-7a07-42f7-c9e8-3dc7cf2311b9"
      },
      "source": [
        "# now we can use groupby and nlargset to keep the 3 items with the highest AvgCorrect\n",
        "df_recommend = pd.DataFrame(df_recommend[('Correct','AvgCorrect')].groupby('Product', group_keys=False).nlargest(3))\n",
        "df_recommend.head()"
      ],
      "execution_count": 50,
      "outputs": [
        {
          "output_type": "execute_result",
          "data": {
            "text/html": [
              "<div>\n",
              "<style scoped>\n",
              "    .dataframe tbody tr th:only-of-type {\n",
              "        vertical-align: middle;\n",
              "    }\n",
              "\n",
              "    .dataframe tbody tr th {\n",
              "        vertical-align: top;\n",
              "    }\n",
              "\n",
              "    .dataframe thead tr th {\n",
              "        text-align: left;\n",
              "    }\n",
              "\n",
              "    .dataframe thead tr:last-of-type th {\n",
              "        text-align: right;\n",
              "    }\n",
              "</style>\n",
              "<table border=\"1\" class=\"dataframe\">\n",
              "  <thead>\n",
              "    <tr>\n",
              "      <th></th>\n",
              "      <th></th>\n",
              "      <th></th>\n",
              "      <th>Correct</th>\n",
              "    </tr>\n",
              "    <tr>\n",
              "      <th></th>\n",
              "      <th></th>\n",
              "      <th></th>\n",
              "      <th>AvgCorrect</th>\n",
              "    </tr>\n",
              "    <tr>\n",
              "      <th>Product</th>\n",
              "      <th>ProductSubs</th>\n",
              "      <th>(Correct, CountCorrect)</th>\n",
              "      <th></th>\n",
              "    </tr>\n",
              "  </thead>\n",
              "  <tbody>\n",
              "    <tr>\n",
              "      <th rowspan=\"3\" valign=\"top\">161631</th>\n",
              "      <th>7290112497918</th>\n",
              "      <th>24</th>\n",
              "      <td>0.96</td>\n",
              "    </tr>\n",
              "    <tr>\n",
              "      <th>161648</th>\n",
              "      <th>45</th>\n",
              "      <td>0.91</td>\n",
              "    </tr>\n",
              "    <tr>\n",
              "      <th>72909799</th>\n",
              "      <th>86</th>\n",
              "      <td>0.88</td>\n",
              "    </tr>\n",
              "    <tr>\n",
              "      <th rowspan=\"2\" valign=\"top\">161648</th>\n",
              "      <th>161631</th>\n",
              "      <th>71</th>\n",
              "      <td>0.99</td>\n",
              "    </tr>\n",
              "    <tr>\n",
              "      <th>72909799</th>\n",
              "      <th>68</th>\n",
              "      <td>0.94</td>\n",
              "    </tr>\n",
              "  </tbody>\n",
              "</table>\n",
              "</div>"
            ],
            "text/plain": [
              "                                                 Correct\n",
              "                                              AvgCorrect\n",
              "Product ProductSubs   (Correct, CountCorrect)           \n",
              "161631  7290112497918 24                            0.96\n",
              "        161648        45                            0.91\n",
              "        72909799      86                            0.88\n",
              "161648  161631        71                            0.99\n",
              "        72909799      68                            0.94"
            ]
          },
          "metadata": {
            "tags": []
          },
          "execution_count": 50
        }
      ]
    },
    {
      "cell_type": "code",
      "metadata": {
        "id": "9JOYFyU3EvsK",
        "colab": {
          "base_uri": "https://localhost:8080/",
          "height": 204
        },
        "outputId": "67548ff5-c640-4c84-e6f8-a49a71c16c53"
      },
      "source": [
        "df_recommend[(\"\", \"Rank\")] = df_recommend.groupby(['Product'])[[('Correct', 'AvgCorrect')]].rank(method=\"first\", ascending=False).astype('int')\n",
        "df_recommend.head(3)"
      ],
      "execution_count": 51,
      "outputs": [
        {
          "output_type": "execute_result",
          "data": {
            "text/html": [
              "<div>\n",
              "<style scoped>\n",
              "    .dataframe tbody tr th:only-of-type {\n",
              "        vertical-align: middle;\n",
              "    }\n",
              "\n",
              "    .dataframe tbody tr th {\n",
              "        vertical-align: top;\n",
              "    }\n",
              "\n",
              "    .dataframe thead tr th {\n",
              "        text-align: left;\n",
              "    }\n",
              "\n",
              "    .dataframe thead tr:last-of-type th {\n",
              "        text-align: right;\n",
              "    }\n",
              "</style>\n",
              "<table border=\"1\" class=\"dataframe\">\n",
              "  <thead>\n",
              "    <tr>\n",
              "      <th></th>\n",
              "      <th></th>\n",
              "      <th></th>\n",
              "      <th>Correct</th>\n",
              "      <th></th>\n",
              "    </tr>\n",
              "    <tr>\n",
              "      <th></th>\n",
              "      <th></th>\n",
              "      <th></th>\n",
              "      <th>AvgCorrect</th>\n",
              "      <th>Rank</th>\n",
              "    </tr>\n",
              "    <tr>\n",
              "      <th>Product</th>\n",
              "      <th>ProductSubs</th>\n",
              "      <th>(Correct, CountCorrect)</th>\n",
              "      <th></th>\n",
              "      <th></th>\n",
              "    </tr>\n",
              "  </thead>\n",
              "  <tbody>\n",
              "    <tr>\n",
              "      <th rowspan=\"3\" valign=\"top\">161631</th>\n",
              "      <th>7290112497918</th>\n",
              "      <th>24</th>\n",
              "      <td>0.96</td>\n",
              "      <td>1</td>\n",
              "    </tr>\n",
              "    <tr>\n",
              "      <th>161648</th>\n",
              "      <th>45</th>\n",
              "      <td>0.91</td>\n",
              "      <td>2</td>\n",
              "    </tr>\n",
              "    <tr>\n",
              "      <th>72909799</th>\n",
              "      <th>86</th>\n",
              "      <td>0.88</td>\n",
              "      <td>3</td>\n",
              "    </tr>\n",
              "  </tbody>\n",
              "</table>\n",
              "</div>"
            ],
            "text/plain": [
              "                                                 Correct     \n",
              "                                              AvgCorrect Rank\n",
              "Product ProductSubs   (Correct, CountCorrect)                \n",
              "161631  7290112497918 24                            0.96    1\n",
              "        161648        45                            0.91    2\n",
              "        72909799      86                            0.88    3"
            ]
          },
          "metadata": {
            "tags": []
          },
          "execution_count": 51
        }
      ]
    },
    {
      "cell_type": "code",
      "metadata": {
        "colab": {
          "base_uri": "https://localhost:8080/",
          "height": 266
        },
        "id": "ayfCD1flKlYR",
        "outputId": "dd9887d9-0d7c-4659-9325-9fff25b3bd6a"
      },
      "source": [
        "df_recommend.reset_index(inplace=True)\n",
        "df_recommend.set_index(['Product', 'ProductSubs'], inplace=True)\n",
        "df_recommend.head()"
      ],
      "execution_count": 52,
      "outputs": [
        {
          "output_type": "execute_result",
          "data": {
            "text/html": [
              "<div>\n",
              "<style scoped>\n",
              "    .dataframe tbody tr th:only-of-type {\n",
              "        vertical-align: middle;\n",
              "    }\n",
              "\n",
              "    .dataframe tbody tr th {\n",
              "        vertical-align: top;\n",
              "    }\n",
              "\n",
              "    .dataframe thead tr th {\n",
              "        text-align: left;\n",
              "    }\n",
              "\n",
              "    .dataframe thead tr:last-of-type th {\n",
              "        text-align: right;\n",
              "    }\n",
              "</style>\n",
              "<table border=\"1\" class=\"dataframe\">\n",
              "  <thead>\n",
              "    <tr>\n",
              "      <th></th>\n",
              "      <th></th>\n",
              "      <th colspan=\"2\" halign=\"left\">Correct</th>\n",
              "      <th></th>\n",
              "    </tr>\n",
              "    <tr>\n",
              "      <th></th>\n",
              "      <th></th>\n",
              "      <th>CountCorrect</th>\n",
              "      <th>AvgCorrect</th>\n",
              "      <th>Rank</th>\n",
              "    </tr>\n",
              "    <tr>\n",
              "      <th>Product</th>\n",
              "      <th>ProductSubs</th>\n",
              "      <th></th>\n",
              "      <th></th>\n",
              "      <th></th>\n",
              "    </tr>\n",
              "  </thead>\n",
              "  <tbody>\n",
              "    <tr>\n",
              "      <th rowspan=\"3\" valign=\"top\">161631</th>\n",
              "      <th>7290112497918</th>\n",
              "      <td>24</td>\n",
              "      <td>0.96</td>\n",
              "      <td>1</td>\n",
              "    </tr>\n",
              "    <tr>\n",
              "      <th>161648</th>\n",
              "      <td>45</td>\n",
              "      <td>0.91</td>\n",
              "      <td>2</td>\n",
              "    </tr>\n",
              "    <tr>\n",
              "      <th>72909799</th>\n",
              "      <td>86</td>\n",
              "      <td>0.88</td>\n",
              "      <td>3</td>\n",
              "    </tr>\n",
              "    <tr>\n",
              "      <th rowspan=\"2\" valign=\"top\">161648</th>\n",
              "      <th>161631</th>\n",
              "      <td>71</td>\n",
              "      <td>0.99</td>\n",
              "      <td>1</td>\n",
              "    </tr>\n",
              "    <tr>\n",
              "      <th>72909799</th>\n",
              "      <td>68</td>\n",
              "      <td>0.94</td>\n",
              "      <td>2</td>\n",
              "    </tr>\n",
              "  </tbody>\n",
              "</table>\n",
              "</div>"
            ],
            "text/plain": [
              "                           Correct                \n",
              "                      CountCorrect AvgCorrect Rank\n",
              "Product ProductSubs                               \n",
              "161631  7290112497918           24       0.96    1\n",
              "        161648                  45       0.91    2\n",
              "        72909799                86       0.88    3\n",
              "161648  161631                  71       0.99    1\n",
              "        72909799                68       0.94    2"
            ]
          },
          "metadata": {
            "tags": []
          },
          "execution_count": 52
        }
      ]
    },
    {
      "cell_type": "markdown",
      "metadata": {
        "id": "4uifnlOWISIy"
      },
      "source": [
        "## Method 2 - Itay"
      ]
    },
    {
      "cell_type": "markdown",
      "metadata": {
        "id": "WJh0HDQjJnxr"
      },
      "source": [
        "### Get Top Predict Substitute"
      ]
    },
    {
      "cell_type": "code",
      "metadata": {
        "id": "s0cccvLKIV_E"
      },
      "source": [
        "def getBestSubstitute(model, X, numOfSubs=2 ):\n",
        "        # get soft prediction\n",
        "        y_pred_soft=model.predict_proba(X)\n",
        "        df_proba=pd.concat([X.reset_index(drop=True),pd.DataFrame(y_pred_soft[:,1],columns=['prdictProba'])],axis=1)\n",
        "        # get mean and std for each  product and Subs\n",
        "        dfGroup=df_proba.groupby(['ParentProductNumber','ParentProductNumberSubs']).agg({'prdictProba':[('prdictProbaMean','mean'),\n",
        "                                                                                       ('prdictProbaStd',np.std),\n",
        "                                                                       ('countRows','count')]}).reset_index()\n",
        "        dfGroup.columns=dfGroup.columns.droplevel(0)\n",
        "        dfGroup.columns.values[0]='ParentProductNumber'\n",
        "        dfGroup.columns.values[1]='ParentProductNumberSubs'\n",
        "        dfGroup=dfGroup[dfGroup['countRows']>=3]\n",
        "        # get rank of mean and std\n",
        "        dfGroup['scoreMean']=dfGroup.groupby('ParentProductNumber')['prdictProbaMean'].apply(lambda x: (x-x.min())/(x.max()-x.min()))\n",
        "        dfGroup['scoreStd']=dfGroup.groupby('ParentProductNumber')['prdictProbaStd'].apply(lambda x: 1-((x-x.min())/(x.max()-x.min())))\n",
        "        dfGroup['scoreMeanAndStd']=(dfGroup['scoreMean']*0.8+dfGroup['scoreStd']*0.2).astype(np.float64)\n",
        "        dfGroup=dfGroup.round({'scoreMeanAndStd':4})\n",
        "        dfGroup['rankMeanAndStd']=dfGroup.groupby('ParentProductNumber')['scoreMeanAndStd'].rank(ascending=0,method='dense')\n",
        "        dfGroup['rankMeanAndStd']=np.where(dfGroup['rankMeanAndStd'].isnull(),1,dfGroup['rankMeanAndStd'])\n",
        "        dfGroup.sort_values(['ParentProductNumber','rankMeanAndStd'],inplace=True)\n",
        "        # filter best susbs by numofSubs\n",
        "        dfGroupFinal=dfGroup[(dfGroup['rankMeanAndStd']<=numOfSubs)]\n",
        "        return dfGroupFinal"
      ],
      "execution_count": 53,
      "outputs": []
    },
    {
      "cell_type": "code",
      "metadata": {
        "id": "5kDjkyPmIc7u",
        "colab": {
          "base_uri": "https://localhost:8080/",
          "height": 221
        },
        "outputId": "d4b39114-24e3-4ac0-972d-8fa657b17895"
      },
      "source": [
        "df_bestTwoSubs=getBestSubstitute(model_RF, X)\n",
        "p(df_bestTwoSubs.shape)\n",
        "df_bestTwoSubs.head()"
      ],
      "execution_count": 54,
      "outputs": [
        {
          "output_type": "stream",
          "text": [
            "(935, 9)\n"
          ],
          "name": "stdout"
        },
        {
          "output_type": "execute_result",
          "data": {
            "text/html": [
              "<div>\n",
              "<style scoped>\n",
              "    .dataframe tbody tr th:only-of-type {\n",
              "        vertical-align: middle;\n",
              "    }\n",
              "\n",
              "    .dataframe tbody tr th {\n",
              "        vertical-align: top;\n",
              "    }\n",
              "\n",
              "    .dataframe thead th {\n",
              "        text-align: right;\n",
              "    }\n",
              "</style>\n",
              "<table border=\"1\" class=\"dataframe\">\n",
              "  <thead>\n",
              "    <tr style=\"text-align: right;\">\n",
              "      <th></th>\n",
              "      <th>ParentProductNumber</th>\n",
              "      <th>ParentProductNumberSubs</th>\n",
              "      <th>prdictProbaMean</th>\n",
              "      <th>prdictProbaStd</th>\n",
              "      <th>countRows</th>\n",
              "      <th>scoreMean</th>\n",
              "      <th>scoreStd</th>\n",
              "      <th>scoreMeanAndStd</th>\n",
              "      <th>rankMeanAndStd</th>\n",
              "    </tr>\n",
              "  </thead>\n",
              "  <tbody>\n",
              "    <tr>\n",
              "      <th>0</th>\n",
              "      <td>161631</td>\n",
              "      <td>161648</td>\n",
              "      <td>0.89</td>\n",
              "      <td>0.12</td>\n",
              "      <td>45</td>\n",
              "      <td>1.00</td>\n",
              "      <td>0.96</td>\n",
              "      <td>0.99</td>\n",
              "      <td>1.0</td>\n",
              "    </tr>\n",
              "    <tr>\n",
              "      <th>12</th>\n",
              "      <td>161631</td>\n",
              "      <td>7290112497918</td>\n",
              "      <td>0.89</td>\n",
              "      <td>0.12</td>\n",
              "      <td>24</td>\n",
              "      <td>0.99</td>\n",
              "      <td>1.00</td>\n",
              "      <td>0.99</td>\n",
              "      <td>2.0</td>\n",
              "    </tr>\n",
              "    <tr>\n",
              "      <th>16</th>\n",
              "      <td>161648</td>\n",
              "      <td>72909799</td>\n",
              "      <td>0.91</td>\n",
              "      <td>0.11</td>\n",
              "      <td>68</td>\n",
              "      <td>1.00</td>\n",
              "      <td>1.00</td>\n",
              "      <td>1.00</td>\n",
              "      <td>1.0</td>\n",
              "    </tr>\n",
              "    <tr>\n",
              "      <th>14</th>\n",
              "      <td>161648</td>\n",
              "      <td>161631</td>\n",
              "      <td>0.89</td>\n",
              "      <td>0.14</td>\n",
              "      <td>71</td>\n",
              "      <td>0.53</td>\n",
              "      <td>0.00</td>\n",
              "      <td>0.43</td>\n",
              "      <td>2.0</td>\n",
              "    </tr>\n",
              "    <tr>\n",
              "      <th>35</th>\n",
              "      <td>170053</td>\n",
              "      <td>5197628</td>\n",
              "      <td>0.73</td>\n",
              "      <td>0.17</td>\n",
              "      <td>15</td>\n",
              "      <td>0.95</td>\n",
              "      <td>0.55</td>\n",
              "      <td>0.87</td>\n",
              "      <td>1.0</td>\n",
              "    </tr>\n",
              "  </tbody>\n",
              "</table>\n",
              "</div>"
            ],
            "text/plain": [
              "    ParentProductNumber  ParentProductNumberSubs  prdictProbaMean  \\\n",
              "0                161631                   161648             0.89   \n",
              "12               161631            7290112497918             0.89   \n",
              "16               161648                 72909799             0.91   \n",
              "14               161648                   161631             0.89   \n",
              "35               170053                  5197628             0.73   \n",
              "\n",
              "    prdictProbaStd  countRows  scoreMean  scoreStd  scoreMeanAndStd  \\\n",
              "0             0.12         45       1.00      0.96             0.99   \n",
              "12            0.12         24       0.99      1.00             0.99   \n",
              "16            0.11         68       1.00      1.00             1.00   \n",
              "14            0.14         71       0.53      0.00             0.43   \n",
              "35            0.17         15       0.95      0.55             0.87   \n",
              "\n",
              "    rankMeanAndStd  \n",
              "0              1.0  \n",
              "12             2.0  \n",
              "16             1.0  \n",
              "14             2.0  \n",
              "35             1.0  "
            ]
          },
          "metadata": {
            "tags": []
          },
          "execution_count": 54
        }
      ]
    },
    {
      "cell_type": "markdown",
      "metadata": {
        "id": "JUTklgLrJuAQ"
      },
      "source": [
        "### get Top Actual"
      ]
    },
    {
      "cell_type": "code",
      "metadata": {
        "id": "bLoPcWF0JM5f"
      },
      "source": [
        "def getTopActual(df,NTop=2):\n",
        "    df_groupActual=df.groupby(['ParentProductNumber','ParentProductNumberSubs']).agg({'CorrelateItemStatusCode':[('AvgApproval','mean'),\n",
        "                                                                                              ('StdApproval',np.std),\n",
        "                                                                                              ('cntRows','count')\n",
        "                                                                                             ]}).reset_index()\n",
        "    df_groupActual.columns=df_groupActual.columns.droplevel(0)\n",
        "    df_groupActual.columns.values[0]='ParentProductNumber'\n",
        "    df_groupActual.columns.values[1]='ParentProductNumberSubs'\n",
        "    df_groupActual=df_groupActual[df_groupActual['cntRows']>=3]\n",
        "    df_groupActual.sort_values(['ParentProductNumber','AvgApproval'],ascending=[True,False],inplace=True)\n",
        "    df_ActualTopN=df_groupActual.groupby('ParentProductNumber').head(NTop)\n",
        "    return df_ActualTopN"
      ],
      "execution_count": 55,
      "outputs": []
    },
    {
      "cell_type": "code",
      "metadata": {
        "id": "OxwNwi3gJSNP",
        "colab": {
          "base_uri": "https://localhost:8080/",
          "height": 314
        },
        "outputId": "99cff3f7-a752-4fbc-831c-3834e7af5c99"
      },
      "source": [
        "df_ActualTop3 = getTopActual(df,3)\n",
        "p(df_ActualTop3.shape)\n",
        "df_ActualTop3.head(8)"
      ],
      "execution_count": 56,
      "outputs": [
        {
          "output_type": "stream",
          "text": [
            "(1283, 5)\n"
          ],
          "name": "stdout"
        },
        {
          "output_type": "execute_result",
          "data": {
            "text/html": [
              "<div>\n",
              "<style scoped>\n",
              "    .dataframe tbody tr th:only-of-type {\n",
              "        vertical-align: middle;\n",
              "    }\n",
              "\n",
              "    .dataframe tbody tr th {\n",
              "        vertical-align: top;\n",
              "    }\n",
              "\n",
              "    .dataframe thead th {\n",
              "        text-align: right;\n",
              "    }\n",
              "</style>\n",
              "<table border=\"1\" class=\"dataframe\">\n",
              "  <thead>\n",
              "    <tr style=\"text-align: right;\">\n",
              "      <th></th>\n",
              "      <th>ParentProductNumber</th>\n",
              "      <th>ParentProductNumberSubs</th>\n",
              "      <th>AvgApproval</th>\n",
              "      <th>StdApproval</th>\n",
              "      <th>cntRows</th>\n",
              "    </tr>\n",
              "  </thead>\n",
              "  <tbody>\n",
              "    <tr>\n",
              "      <th>12</th>\n",
              "      <td>161631</td>\n",
              "      <td>7290112497918</td>\n",
              "      <td>0.92</td>\n",
              "      <td>0.28</td>\n",
              "      <td>24</td>\n",
              "    </tr>\n",
              "    <tr>\n",
              "      <th>0</th>\n",
              "      <td>161631</td>\n",
              "      <td>161648</td>\n",
              "      <td>0.91</td>\n",
              "      <td>0.29</td>\n",
              "      <td>45</td>\n",
              "    </tr>\n",
              "    <tr>\n",
              "      <th>1</th>\n",
              "      <td>161631</td>\n",
              "      <td>72909799</td>\n",
              "      <td>0.88</td>\n",
              "      <td>0.32</td>\n",
              "      <td>86</td>\n",
              "    </tr>\n",
              "    <tr>\n",
              "      <th>16</th>\n",
              "      <td>161648</td>\n",
              "      <td>72909799</td>\n",
              "      <td>0.94</td>\n",
              "      <td>0.24</td>\n",
              "      <td>68</td>\n",
              "    </tr>\n",
              "    <tr>\n",
              "      <th>30</th>\n",
              "      <td>161648</td>\n",
              "      <td>7290112497918</td>\n",
              "      <td>0.94</td>\n",
              "      <td>0.25</td>\n",
              "      <td>31</td>\n",
              "    </tr>\n",
              "    <tr>\n",
              "      <th>14</th>\n",
              "      <td>161648</td>\n",
              "      <td>161631</td>\n",
              "      <td>0.92</td>\n",
              "      <td>0.28</td>\n",
              "      <td>71</td>\n",
              "    </tr>\n",
              "    <tr>\n",
              "      <th>41</th>\n",
              "      <td>170053</td>\n",
              "      <td>7290104720536</td>\n",
              "      <td>0.91</td>\n",
              "      <td>0.30</td>\n",
              "      <td>11</td>\n",
              "    </tr>\n",
              "    <tr>\n",
              "      <th>35</th>\n",
              "      <td>170053</td>\n",
              "      <td>5197628</td>\n",
              "      <td>0.80</td>\n",
              "      <td>0.41</td>\n",
              "      <td>15</td>\n",
              "    </tr>\n",
              "  </tbody>\n",
              "</table>\n",
              "</div>"
            ],
            "text/plain": [
              "    ParentProductNumber  ParentProductNumberSubs  AvgApproval  StdApproval  \\\n",
              "12               161631            7290112497918         0.92         0.28   \n",
              "0                161631                   161648         0.91         0.29   \n",
              "1                161631                 72909799         0.88         0.32   \n",
              "16               161648                 72909799         0.94         0.24   \n",
              "30               161648            7290112497918         0.94         0.25   \n",
              "14               161648                   161631         0.92         0.28   \n",
              "41               170053            7290104720536         0.91         0.30   \n",
              "35               170053                  5197628         0.80         0.41   \n",
              "\n",
              "    cntRows  \n",
              "12       24  \n",
              "0        45  \n",
              "1        86  \n",
              "16       68  \n",
              "30       31  \n",
              "14       71  \n",
              "41       11  \n",
              "35       15  "
            ]
          },
          "metadata": {
            "tags": []
          },
          "execution_count": 56
        }
      ]
    },
    {
      "cell_type": "markdown",
      "metadata": {
        "id": "B_jrD4ieJz0_"
      },
      "source": [
        "### compare Top Predict In Top Actual"
      ]
    },
    {
      "cell_type": "code",
      "metadata": {
        "id": "zvzzDv8RJ4fs"
      },
      "source": [
        "def precKPredictInNActual(KToppredict=1, NTopActual=2):\n",
        "    df_ActualTop=getTopActual(df,NTopActual)\n",
        "    display(df_ActualTop.head(3))\n",
        "    df_RecTop=getBestSubstitute(clf_RF, X,KToppredict)\n",
        "    df_isInPred=df_ActualTop.merge(df_RecTop,on=['ParentProductNumber','ParentProductNumberSubs'],how='left')\\\n",
        "    .groupby('ParentProductNumber').agg({'prdictProbaMean':[('countSubs','count')],\n",
        "                                        'ParentProductNumberSubs':[('countRowsMainPrd','count')]}).reset_index()\n",
        "    df_isInPred.columns=df_isInPred.columns.droplevel(0)\n",
        "    df_isInPred.columns.values[0]='ParentProductNumber'\n",
        "    display(df_isInPred[df_isInPred['ParentProductNumber']==161631])\n",
        "    #df_isInPred.to_clipboard()  # not working in colab\n",
        "    print(len(df_isInPred[((df_isInPred['countSubs']<KToppredict) & (df_isInPred['countRowsMainPrd']>KToppredict))|\n",
        "          (df_isInPred['countSubs']==0)]))\n",
        "    print(len(df_isInPred[(df_isInPred['countSubs']>=KToppredict) |\n",
        "          ((df_isInPred['countRowsMainPrd']<=KToppredict) &(df_isInPred['countSubs']>0))]))\n",
        "    print(\"{:.0%}\".format(len(df_isInPred[(df_isInPred['countSubs']>=KToppredict) |\n",
        "          ((df_isInPred['countRowsMainPrd']<=KToppredict) &(df_isInPred['countSubs']>0))])/len(df_isInPred)))"
      ],
      "execution_count": 57,
      "outputs": []
    },
    {
      "cell_type": "code",
      "metadata": {
        "id": "E6HX0LpMJ-la",
        "colab": {
          "base_uri": "https://localhost:8080/",
          "height": 431
        },
        "outputId": "d381c545-61b4-4b56-d9a1-4d4debf32b72"
      },
      "source": [
        "precKPredictInNActual()"
      ],
      "execution_count": 58,
      "outputs": [
        {
          "output_type": "display_data",
          "data": {
            "text/html": [
              "<div>\n",
              "<style scoped>\n",
              "    .dataframe tbody tr th:only-of-type {\n",
              "        vertical-align: middle;\n",
              "    }\n",
              "\n",
              "    .dataframe tbody tr th {\n",
              "        vertical-align: top;\n",
              "    }\n",
              "\n",
              "    .dataframe thead th {\n",
              "        text-align: right;\n",
              "    }\n",
              "</style>\n",
              "<table border=\"1\" class=\"dataframe\">\n",
              "  <thead>\n",
              "    <tr style=\"text-align: right;\">\n",
              "      <th></th>\n",
              "      <th>ParentProductNumber</th>\n",
              "      <th>ParentProductNumberSubs</th>\n",
              "      <th>AvgApproval</th>\n",
              "      <th>StdApproval</th>\n",
              "      <th>cntRows</th>\n",
              "    </tr>\n",
              "  </thead>\n",
              "  <tbody>\n",
              "    <tr>\n",
              "      <th>12</th>\n",
              "      <td>161631</td>\n",
              "      <td>7290112497918</td>\n",
              "      <td>0.92</td>\n",
              "      <td>0.28</td>\n",
              "      <td>24</td>\n",
              "    </tr>\n",
              "    <tr>\n",
              "      <th>0</th>\n",
              "      <td>161631</td>\n",
              "      <td>161648</td>\n",
              "      <td>0.91</td>\n",
              "      <td>0.29</td>\n",
              "      <td>45</td>\n",
              "    </tr>\n",
              "    <tr>\n",
              "      <th>16</th>\n",
              "      <td>161648</td>\n",
              "      <td>72909799</td>\n",
              "      <td>0.94</td>\n",
              "      <td>0.24</td>\n",
              "      <td>68</td>\n",
              "    </tr>\n",
              "  </tbody>\n",
              "</table>\n",
              "</div>"
            ],
            "text/plain": [
              "    ParentProductNumber  ParentProductNumberSubs  AvgApproval  StdApproval  \\\n",
              "12               161631            7290112497918         0.92         0.28   \n",
              "0                161631                   161648         0.91         0.29   \n",
              "16               161648                 72909799         0.94         0.24   \n",
              "\n",
              "    cntRows  \n",
              "12       24  \n",
              "0        45  \n",
              "16       68  "
            ]
          },
          "metadata": {
            "tags": []
          }
        },
        {
          "output_type": "error",
          "ename": "NotFittedError",
          "evalue": "ignored",
          "traceback": [
            "\u001b[0;31m---------------------------------------------------------------------------\u001b[0m",
            "\u001b[0;31mNotFittedError\u001b[0m                            Traceback (most recent call last)",
            "\u001b[0;32m<ipython-input-58-d9e58a18e78a>\u001b[0m in \u001b[0;36m<module>\u001b[0;34m()\u001b[0m\n\u001b[0;32m----> 1\u001b[0;31m \u001b[0mprecKPredictInNActual\u001b[0m\u001b[0;34m(\u001b[0m\u001b[0;34m)\u001b[0m\u001b[0;34m\u001b[0m\u001b[0;34m\u001b[0m\u001b[0m\n\u001b[0m",
            "\u001b[0;32m<ipython-input-57-3724445d59c3>\u001b[0m in \u001b[0;36mprecKPredictInNActual\u001b[0;34m(KToppredict, NTopActual)\u001b[0m\n\u001b[1;32m      2\u001b[0m     \u001b[0mdf_ActualTop\u001b[0m\u001b[0;34m=\u001b[0m\u001b[0mgetTopActual\u001b[0m\u001b[0;34m(\u001b[0m\u001b[0mdf\u001b[0m\u001b[0;34m,\u001b[0m\u001b[0mNTopActual\u001b[0m\u001b[0;34m)\u001b[0m\u001b[0;34m\u001b[0m\u001b[0;34m\u001b[0m\u001b[0m\n\u001b[1;32m      3\u001b[0m     \u001b[0mdisplay\u001b[0m\u001b[0;34m(\u001b[0m\u001b[0mdf_ActualTop\u001b[0m\u001b[0;34m.\u001b[0m\u001b[0mhead\u001b[0m\u001b[0;34m(\u001b[0m\u001b[0;36m3\u001b[0m\u001b[0;34m)\u001b[0m\u001b[0;34m)\u001b[0m\u001b[0;34m\u001b[0m\u001b[0;34m\u001b[0m\u001b[0m\n\u001b[0;32m----> 4\u001b[0;31m     \u001b[0mdf_RecTop\u001b[0m\u001b[0;34m=\u001b[0m\u001b[0mgetBestSubstitute\u001b[0m\u001b[0;34m(\u001b[0m\u001b[0mclf_RF\u001b[0m\u001b[0;34m,\u001b[0m \u001b[0mX\u001b[0m\u001b[0;34m,\u001b[0m\u001b[0mKToppredict\u001b[0m\u001b[0;34m)\u001b[0m\u001b[0;34m\u001b[0m\u001b[0;34m\u001b[0m\u001b[0m\n\u001b[0m\u001b[1;32m      5\u001b[0m     df_isInPred=df_ActualTop.merge(df_RecTop,on=['ParentProductNumber','ParentProductNumberSubs'],how='left')    .groupby('ParentProductNumber').agg({'prdictProbaMean':[('countSubs','count')],\n\u001b[1;32m      6\u001b[0m                                         'ParentProductNumberSubs':[('countRowsMainPrd','count')]}).reset_index()\n",
            "\u001b[0;32m<ipython-input-53-46ecd7123680>\u001b[0m in \u001b[0;36mgetBestSubstitute\u001b[0;34m(model, X, numOfSubs)\u001b[0m\n\u001b[1;32m      1\u001b[0m \u001b[0;32mdef\u001b[0m \u001b[0mgetBestSubstitute\u001b[0m\u001b[0;34m(\u001b[0m\u001b[0mmodel\u001b[0m\u001b[0;34m,\u001b[0m \u001b[0mX\u001b[0m\u001b[0;34m,\u001b[0m \u001b[0mnumOfSubs\u001b[0m\u001b[0;34m=\u001b[0m\u001b[0;36m2\u001b[0m \u001b[0;34m)\u001b[0m\u001b[0;34m:\u001b[0m\u001b[0;34m\u001b[0m\u001b[0;34m\u001b[0m\u001b[0m\n\u001b[1;32m      2\u001b[0m         \u001b[0;31m# get soft prediction\u001b[0m\u001b[0;34m\u001b[0m\u001b[0;34m\u001b[0m\u001b[0;34m\u001b[0m\u001b[0m\n\u001b[0;32m----> 3\u001b[0;31m         \u001b[0my_pred_soft\u001b[0m\u001b[0;34m=\u001b[0m\u001b[0mmodel\u001b[0m\u001b[0;34m.\u001b[0m\u001b[0mpredict_proba\u001b[0m\u001b[0;34m(\u001b[0m\u001b[0mX\u001b[0m\u001b[0;34m)\u001b[0m\u001b[0;34m\u001b[0m\u001b[0;34m\u001b[0m\u001b[0m\n\u001b[0m\u001b[1;32m      4\u001b[0m         \u001b[0mdf_proba\u001b[0m\u001b[0;34m=\u001b[0m\u001b[0mpd\u001b[0m\u001b[0;34m.\u001b[0m\u001b[0mconcat\u001b[0m\u001b[0;34m(\u001b[0m\u001b[0;34m[\u001b[0m\u001b[0mX\u001b[0m\u001b[0;34m.\u001b[0m\u001b[0mreset_index\u001b[0m\u001b[0;34m(\u001b[0m\u001b[0mdrop\u001b[0m\u001b[0;34m=\u001b[0m\u001b[0;32mTrue\u001b[0m\u001b[0;34m)\u001b[0m\u001b[0;34m,\u001b[0m\u001b[0mpd\u001b[0m\u001b[0;34m.\u001b[0m\u001b[0mDataFrame\u001b[0m\u001b[0;34m(\u001b[0m\u001b[0my_pred_soft\u001b[0m\u001b[0;34m[\u001b[0m\u001b[0;34m:\u001b[0m\u001b[0;34m,\u001b[0m\u001b[0;36m1\u001b[0m\u001b[0;34m]\u001b[0m\u001b[0;34m,\u001b[0m\u001b[0mcolumns\u001b[0m\u001b[0;34m=\u001b[0m\u001b[0;34m[\u001b[0m\u001b[0;34m'prdictProba'\u001b[0m\u001b[0;34m]\u001b[0m\u001b[0;34m)\u001b[0m\u001b[0;34m]\u001b[0m\u001b[0;34m,\u001b[0m\u001b[0maxis\u001b[0m\u001b[0;34m=\u001b[0m\u001b[0;36m1\u001b[0m\u001b[0;34m)\u001b[0m\u001b[0;34m\u001b[0m\u001b[0;34m\u001b[0m\u001b[0m\n\u001b[1;32m      5\u001b[0m         \u001b[0;31m# get mean and std for each  product and Subs\u001b[0m\u001b[0;34m\u001b[0m\u001b[0;34m\u001b[0m\u001b[0;34m\u001b[0m\u001b[0m\n",
            "\u001b[0;32m/usr/local/lib/python3.7/dist-packages/sklearn/ensemble/_forest.py\u001b[0m in \u001b[0;36mpredict_proba\u001b[0;34m(self, X)\u001b[0m\n\u001b[1;32m    652\u001b[0m             \u001b[0mclasses\u001b[0m \u001b[0mcorresponds\u001b[0m \u001b[0mto\u001b[0m \u001b[0mthat\u001b[0m \u001b[0;32min\u001b[0m \u001b[0mthe\u001b[0m \u001b[0mattribute\u001b[0m \u001b[0;34m:\u001b[0m\u001b[0mterm\u001b[0m\u001b[0;34m:\u001b[0m\u001b[0;31m`\u001b[0m\u001b[0mclasses_\u001b[0m\u001b[0;31m`\u001b[0m\u001b[0;34m.\u001b[0m\u001b[0;34m\u001b[0m\u001b[0;34m\u001b[0m\u001b[0m\n\u001b[1;32m    653\u001b[0m         \"\"\"\n\u001b[0;32m--> 654\u001b[0;31m         \u001b[0mcheck_is_fitted\u001b[0m\u001b[0;34m(\u001b[0m\u001b[0mself\u001b[0m\u001b[0;34m)\u001b[0m\u001b[0;34m\u001b[0m\u001b[0;34m\u001b[0m\u001b[0m\n\u001b[0m\u001b[1;32m    655\u001b[0m         \u001b[0;31m# Check data\u001b[0m\u001b[0;34m\u001b[0m\u001b[0;34m\u001b[0m\u001b[0;34m\u001b[0m\u001b[0m\n\u001b[1;32m    656\u001b[0m         \u001b[0mX\u001b[0m \u001b[0;34m=\u001b[0m \u001b[0mself\u001b[0m\u001b[0;34m.\u001b[0m\u001b[0m_validate_X_predict\u001b[0m\u001b[0;34m(\u001b[0m\u001b[0mX\u001b[0m\u001b[0;34m)\u001b[0m\u001b[0;34m\u001b[0m\u001b[0;34m\u001b[0m\u001b[0m\n",
            "\u001b[0;32m/usr/local/lib/python3.7/dist-packages/sklearn/utils/validation.py\u001b[0m in \u001b[0;36mcheck_is_fitted\u001b[0;34m(estimator, attributes, msg, all_or_any)\u001b[0m\n\u001b[1;32m    965\u001b[0m \u001b[0;34m\u001b[0m\u001b[0m\n\u001b[1;32m    966\u001b[0m     \u001b[0;32mif\u001b[0m \u001b[0;32mnot\u001b[0m \u001b[0mattrs\u001b[0m\u001b[0;34m:\u001b[0m\u001b[0;34m\u001b[0m\u001b[0;34m\u001b[0m\u001b[0m\n\u001b[0;32m--> 967\u001b[0;31m         \u001b[0;32mraise\u001b[0m \u001b[0mNotFittedError\u001b[0m\u001b[0;34m(\u001b[0m\u001b[0mmsg\u001b[0m \u001b[0;34m%\u001b[0m \u001b[0;34m{\u001b[0m\u001b[0;34m'name'\u001b[0m\u001b[0;34m:\u001b[0m \u001b[0mtype\u001b[0m\u001b[0;34m(\u001b[0m\u001b[0mestimator\u001b[0m\u001b[0;34m)\u001b[0m\u001b[0;34m.\u001b[0m\u001b[0m__name__\u001b[0m\u001b[0;34m}\u001b[0m\u001b[0;34m)\u001b[0m\u001b[0;34m\u001b[0m\u001b[0;34m\u001b[0m\u001b[0m\n\u001b[0m\u001b[1;32m    968\u001b[0m \u001b[0;34m\u001b[0m\u001b[0m\n\u001b[1;32m    969\u001b[0m \u001b[0;34m\u001b[0m\u001b[0m\n",
            "\u001b[0;31mNotFittedError\u001b[0m: This RandomForestClassifier instance is not fitted yet. Call 'fit' with appropriate arguments before using this estimator."
          ]
        }
      ]
    },
    {
      "cell_type": "code",
      "metadata": {
        "id": "ZFe9mkQ-K0AN"
      },
      "source": [
        "precKPredictInNActual(2,3)"
      ],
      "execution_count": null,
      "outputs": []
    },
    {
      "cell_type": "markdown",
      "metadata": {
        "id": "JQFIcslXrgrA"
      },
      "source": [
        "## Compare to Itay's and Zvi's lists "
      ]
    },
    {
      "cell_type": "markdown",
      "metadata": {
        "id": "dRmGLgmVw1Qq"
      },
      "source": [
        "## If need to get the data from GitHub - instead of running the codes"
      ]
    },
    {
      "cell_type": "code",
      "metadata": {
        "id": "YZ5NFgxRdKPB"
      },
      "source": [
        "def get_data(fname, header=None):\n",
        "  data_url = 'https://raw.githubusercontent.com/DanielKorenDataScience/ClassificationProject/main/' + fname\n",
        "  if not header:\n",
        "    df = pd.read_csv(data_url, index_col=0)\n",
        "  else:\n",
        "    df = pd.read_csv(data_url, index_col=0, header=header)\n",
        "  return df"
      ],
      "execution_count": null,
      "outputs": []
    },
    {
      "cell_type": "code",
      "metadata": {
        "id": "P63DKY2SxD_g"
      },
      "source": [
        "REMOTE = True\n",
        "if REMOTE:\n",
        "  df_zvi = get_data('Results/zvi_recommendation_list.csv', header=[0,1])\n",
        "  cols = pd.MultiIndex.from_tuples([(\"\",\"Product\"), (\"\",\"ProductSubs\"), (\"Correct\",\"CountCorrect\"), (\"Correct\",\"AvgCorrect\"), (\"Correct\",\"Rank\")])\n",
        "  df_zvi.columns = cols\n",
        "  df_zvi.columns = df_zvi.columns.droplevel()\n",
        "  df_zvi.set_index(['Product', 'ProductSubs'], inplace=True)\n",
        "  cols = pd.MultiIndex.from_tuples([(\"Correct\",\"CountCorrect\"), (\"Correct\",\"AvgCorrect\"), (\"Correct\",\"Rank\")])\n",
        "  df_zvi.columns = cols\n",
        "\n",
        "  df_itay = get_data('Results/itay_recommendation_list.csv')\n",
        "else:\n",
        "  df_zvi = df_recommend\n",
        "  df_itay = df_ActualTop3.copy()\n",
        "\n",
        "df_itay.set_index(['ParentProductNumber', 'ParentProductNumberSubs'], inplace=True)\n",
        "p(\"Itay's list\")\n",
        "d(df_itay.head(6))\n",
        "p('\\n------------------------')\n",
        "p((\"Zvi's list\"))\n",
        "df_zvi.head(6)"
      ],
      "execution_count": null,
      "outputs": []
    },
    {
      "cell_type": "markdown",
      "metadata": {
        "id": "QQva_odaLhdL"
      },
      "source": [
        " The 2 lists have same product because the have same number of rows, and all items from itay's list are in zvi's list\n",
        "\n",
        " > **NOTE:** looking at the lists we see that the order within each product, of the subs, is not identical (for exampel look above for product 161648 - itay's 1st and 3rd are zvi's 3rd and 1st)"
      ]
    },
    {
      "cell_type": "code",
      "metadata": {
        "id": "yIZ0e5g_v84O"
      },
      "source": [
        "def check_exists(idx):\n",
        "  try:\n",
        "    df_recommend.loc[idx]\n",
        "    return True\n",
        "  except:\n",
        "    p(idx)\n",
        "    return False\n",
        "\n",
        "not_found =[]\n",
        "for idx in df_itay.index:\n",
        "  if not check_exists(idx):\n",
        "    not_found.append(idx)\n",
        "  break\n",
        "  \n",
        "not_found"
      ],
      "execution_count": null,
      "outputs": []
    },
    {
      "cell_type": "markdown",
      "metadata": {
        "id": "RBQIPpoUev6b"
      },
      "source": [
        "# Grid Search for hyperparameters - on best model RandonForest"
      ]
    },
    {
      "cell_type": "markdown",
      "metadata": {
        "id": "4om1mBJnz3FZ"
      },
      "source": [
        "It run for few hours and then colab disconnected - it was to preform 5880 checks. From the partial results (because Verbose=4) I saw that n_estimators=500, min_samples_split=6, criterion='entropy' gives better results so we implemented them and we can see that indeed precision was improved from 84% to 85% "
      ]
    },
    {
      "cell_type": "code",
      "metadata": {
        "id": "oXdxQNNqgeKT"
      },
      "source": [
        "GS = False\n",
        "if GS and False:\n",
        "  clf_RF = RandomForestClassifier(n_estimators=64)\n",
        "  clf_RF.fit(X_train, y_train)\n",
        "  p(clf_RF.score(X_train, y_train))\n",
        "  p(clf_RF.score(X_test, y_test))"
      ],
      "execution_count": 60,
      "outputs": []
    },
    {
      "cell_type": "code",
      "metadata": {
        "id": "f5tuV4p2YWiV"
      },
      "source": [
        "def run_GS(model, param_grid, n_jobs=-1, cv=5, verbose=4):\n",
        "  global clf_gs\n",
        "  if verbose > 3 and n_jobs == -1:\n",
        "    p('Warning: when n_jobs=-1 no partial results are displayed')\n",
        "    p('Change one of the parameters - Aborted')\n",
        "    return\n",
        "  clf_gs = GridSearchCV(model, param_grid, cv=cv, verbose=verbose, n_jobs=n_jobs)\n",
        "  clf_gs.fit(X_train, y_train)\n",
        "\n",
        "  p('Results')\n",
        "  clf_gs.estimator\n",
        "  p(clf_gs.best_params_)\n",
        "  p(clf_gs.best_estimator_)\n",
        "  p('After')\n",
        "  p(clf_gs.score(X_train, y_train))\n",
        "  p(clf_gs.score(X_test, y_test))"
      ],
      "execution_count": 64,
      "outputs": []
    },
    {
      "cell_type": "code",
      "metadata": {
        "id": "rbOSPmBErJRy"
      },
      "source": [
        "if GS or True:\n",
        "  param_grid = {'depth'         : [4,6,8,10],\n",
        "                 'learning_rate' : [0.01,0.03,0.04],\n",
        "                  'iterations'    : [10,30,60,100,200,500],\n",
        "                'l2_leaf_reg': [1,3,5],\n",
        "                  'random_state': [73]\n",
        "                }\n",
        "  model = model_CBC\n",
        "  run_GS(model, param_grid, n_jobs=-1, cv=5, verbose=3)"
      ],
      "execution_count": null,
      "outputs": []
    },
    {
      "cell_type": "code",
      "metadata": {
        "id": "Jd0URnLyuukQ"
      },
      "source": [
        "if GS or True:\n",
        "  param_grid = {'depth'         : [None, 10, 14, 20],\n",
        "                 'learning_rate' : [0.04, 0.1],\n",
        " #                 'iterations'    : [500, 700],\n",
        "                'l2_leaf_reg': [5, 10],\n",
        "                  'random_state': [73]\n",
        "                }\n",
        "  model = model_CBC\n",
        "  run_GS(model, param_grid, n_jobs=1, cv=2, verbose=3)"
      ],
      "execution_count": null,
      "outputs": []
    },
    {
      "cell_type": "code",
      "metadata": {
        "colab": {
          "base_uri": "https://localhost:8080/"
        },
        "id": "q5R_q7wgXxPy",
        "outputId": "8752e90d-6ce1-4c05-def7-273bcd429a53"
      },
      "source": [
        "if GS or True:\n",
        "  param_grid = {#'depth'         : [None],\n",
        "                 'learning_rate' : [0.1, 0.15, 0.2],\n",
        " #                 'iterations'    : [500, 700],\n",
        " #               'l2_leaf_reg': [5, 10],\n",
        "                  'random_state': [73]\n",
        "                }\n",
        "  model = model_CBC\n",
        "  run_GS(model, param_grid, n_jobs=1, cv=2, verbose=3)"
      ],
      "execution_count": 65,
      "outputs": [
        {
          "output_type": "stream",
          "text": [
            "Fitting 2 folds for each of 3 candidates, totalling 6 fits\n",
            "[CV] learning_rate=0.1, random_state=73 ..............................\n"
          ],
          "name": "stdout"
        },
        {
          "output_type": "stream",
          "text": [
            "[Parallel(n_jobs=1)]: Using backend SequentialBackend with 1 concurrent workers.\n"
          ],
          "name": "stderr"
        },
        {
          "output_type": "stream",
          "text": [
            "[CV] .. learning_rate=0.1, random_state=73, score=0.859, total=  16.6s\n",
            "[CV] learning_rate=0.1, random_state=73 ..............................\n"
          ],
          "name": "stdout"
        },
        {
          "output_type": "stream",
          "text": [
            "[Parallel(n_jobs=1)]: Done   1 out of   1 | elapsed:   16.6s remaining:    0.0s\n"
          ],
          "name": "stderr"
        },
        {
          "output_type": "stream",
          "text": [
            "[CV] .. learning_rate=0.1, random_state=73, score=0.852, total=  16.5s\n",
            "[CV] learning_rate=0.15, random_state=73 .............................\n"
          ],
          "name": "stdout"
        },
        {
          "output_type": "stream",
          "text": [
            "[Parallel(n_jobs=1)]: Done   2 out of   2 | elapsed:   33.1s remaining:    0.0s\n"
          ],
          "name": "stderr"
        },
        {
          "output_type": "stream",
          "text": [
            "[CV] . learning_rate=0.15, random_state=73, score=0.857, total=  16.5s\n",
            "[CV] learning_rate=0.15, random_state=73 .............................\n",
            "[CV] . learning_rate=0.15, random_state=73, score=0.850, total=  16.5s\n",
            "[CV] learning_rate=0.2, random_state=73 ..............................\n",
            "[CV] .. learning_rate=0.2, random_state=73, score=0.852, total=  16.5s\n",
            "[CV] learning_rate=0.2, random_state=73 ..............................\n",
            "[CV] .. learning_rate=0.2, random_state=73, score=0.851, total=  16.4s\n"
          ],
          "name": "stdout"
        },
        {
          "output_type": "stream",
          "text": [
            "[Parallel(n_jobs=1)]: Done   6 out of   6 | elapsed:  1.7min finished\n"
          ],
          "name": "stderr"
        },
        {
          "output_type": "stream",
          "text": [
            "Results\n",
            "{'learning_rate': 0.1, 'random_state': 73}\n",
            "<catboost.core.CatBoostClassifier object at 0x7f21db1b1510>\n",
            "After\n",
            "0.928125491841981\n",
            "0.8715877096339821\n"
          ],
          "name": "stdout"
        }
      ]
    },
    {
      "cell_type": "code",
      "metadata": {
        "id": "z3BuABtErX98"
      },
      "source": [
        "if GS and False:\n",
        "  param_grid = { \n",
        "      'max_depth' : [None, 8, 15],\n",
        "      'ccp_alpha': [0.0001, 0.0003, 0.0005],\n",
        "      'n_estimators': [100, 200],\n",
        "  #    'max_features': ['auto', 'sqrt', 'log2', 1.0, 0.75, 0.5, 0.25],\n",
        "      'max_leaf_nodes': [None, 20, 40],\n",
        "      'min_samples_split': [2, 10, 20],\n",
        "      'random_state': [73]\n",
        "  }\n",
        "  model = GradientBoostingClassifier()\n",
        "  run_GS(model, param_grid, n_jobs=-1, cv=2, verbose=3)"
      ],
      "execution_count": null,
      "outputs": []
    },
    {
      "cell_type": "code",
      "metadata": {
        "id": "yFvl1gEiOGxF"
      },
      "source": [
        "if GS:\n",
        "  param_grid = { \n",
        "#      'max_depth' : [None, 8, 15],\n",
        "      'ccp_alpha': [0.0008, 0.001, 0.002],\n",
        "      #'n_estimators': [100],\n",
        "  #    'max_features': ['auto', 'sqrt', 'log2', 1.0, 0.75, 0.5, 0.25],\n",
        "#      'max_leaf_nodes': [None, 20, 40],\n",
        "      'min_samples_split': [2],\n",
        "      'random_state': [73]\n",
        "  }\n",
        "  model = GradientBoostingClassifier()\n",
        "  run_GS(model, param_grid, n_jobs=-1, cv=2, verbose=3)"
      ],
      "execution_count": null,
      "outputs": []
    },
    {
      "cell_type": "markdown",
      "metadata": {
        "id": "2kcyWw2L5MjQ"
      },
      "source": [
        "Results\n",
        "{'ccp_alpha': 0.0005, 'max_depth': None, 'max_leaf_nodes': None, 'min_samples_split': 2, 'n_estimators': 100, 'random_state': 73}\n",
        "GradientBoostingClassifier(ccp_alpha=0.0005, criterion='friedman_mse',\n",
        "                           init=None, learning_rate=0.1, loss='deviance',\n",
        "                           max_depth=None, max_features=None,\n",
        "                           max_leaf_nodes=None, min_impurity_decrease=0.0,\n",
        "                           min_impurity_split=None, min_samples_leaf=1,\n",
        "                           min_samples_split=2, min_weight_fraction_leaf=0.0,\n",
        "                           n_estimators=100, n_iter_no_change=None,\n",
        "                           presort='deprecated', random_state=73, subsample=1.0,\n",
        "                           tol=0.0001, validation_fraction=0.1, verbose=0,\n",
        "                           warm_start=False)\n",
        "\n",
        "After\n",
        "\n",
        "0.8204559424860357\n",
        "\n",
        "0.764712785307751\n"
      ]
    },
    {
      "cell_type": "code",
      "metadata": {
        "id": "CvFQC7lq5HRl"
      },
      "source": [
        "if GS:\n",
        "  param_grid = { \n",
        "      'max_depth' : [None, 8, 15],\n",
        "      'ccp_alpha': [0.0001, 0.0003, 0.0005],\n",
        "      'n_estimators': [100, 200],\n",
        "  #    'max_features': ['auto', 'sqrt', 'log2', 1.0, 0.75, 0.5, 0.25],\n",
        "      'criterion' :['gini', 'entropy'], \n",
        "      'max_leaf_nodes': [None, 20, 40],\n",
        "      'min_samples_split': [2, 10, 20],\n",
        "      'random_state': [73]\n",
        "  }\n",
        "  model = RandomForestClassifier()\n",
        "  run_GS(model, param_grid, n_jobs=-1, cv=2, verbose=3)"
      ],
      "execution_count": null,
      "outputs": []
    },
    {
      "cell_type": "code",
      "metadata": {
        "id": "l0bYwKFvemoO"
      },
      "source": [
        "if GS:\n",
        "  param_grid = { \n",
        "      'max_depth' : [None, 4,5,6,7,8],\n",
        "      'ccp_alpha': [0.01, 0.02, 0.03, 0.1],\n",
        "  #    'n_estimators': [64, 200, 500],\n",
        "  #    'max_features': ['auto', 'sqrt', 'log2', 1.0, 0.75, 0.5, 0.25],\n",
        "      'criterion' :['gini', 'entropy'], \n",
        "  #   'max_leaf_nodes': [None, 4, 10, 20],\n",
        "      'min_samples_split': [20, 100, 500]#[2, 4, 6, 8, 10, 12, 14]\n",
        "  }\n",
        "  model = RandomForestClassifier()\n",
        "  run_GS(model, param_grid, n_jobs=-1, cv=2, verbose=3)"
      ],
      "execution_count": null,
      "outputs": []
    },
    {
      "cell_type": "code",
      "metadata": {
        "id": "mRABcmGFXxDt"
      },
      "source": [
        "if GS and False:\n",
        "  param_grid = { \n",
        "      'max_depth' : [None, 4,8,10],\n",
        "      'ccp_alpha': [0.005, 0.01, 0.015],\n",
        "  #    'n_estimators': [64, 200, 500],\n",
        "  #    'max_features': ['auto', 'sqrt', 'log2', 1.0, 0.75, 0.5, 0.25],\n",
        "      'criterion' :['entropy'], \n",
        "  #   'max_leaf_nodes': [None, 4, 10, 20],\n",
        "      'min_samples_split': [10, 20, 30]\n",
        "  }\n",
        "\n",
        "  model = RandomForestClassifier()\n",
        "  run_GS(model, param_grid, n_jobs=-1, cv=2, verbose=3)"
      ],
      "execution_count": null,
      "outputs": []
    },
    {
      "cell_type": "markdown",
      "metadata": {
        "id": "ER6xz_XnXOCd"
      },
      "source": [
        "> output:\n",
        "\n",
        "Fitting 5 folds for each of 144 candidates, totalling 720 fits\n",
        "\n",
        "{'ccp_alpha': 0.01, 'criterion': 'entropy', 'max_depth': 8, 'min_samples_split': 20}"
      ]
    },
    {
      "cell_type": "code",
      "metadata": {
        "id": "DtL2eW1WEAIQ"
      },
      "source": [
        "if GS and False:\n",
        "  param_grid = { \n",
        "      'max_depth' : [None, 4,8,10],\n",
        "      'ccp_alpha': [0.005, 0.01, 0.015],\n",
        "  #    'n_estimators': [64, 200, 500],\n",
        "  #    'max_features': ['auto', 'sqrt', 'log2', 1.0, 0.75, 0.5, 0.25],\n",
        "      'criterion' :['entropy'], \n",
        "  #   'max_leaf_nodes': [None, 4, 10, 20],\n",
        "      'min_samples_split': [10, 20, 30]\n",
        "  }\n",
        "\n",
        "  model = RandomForestClassifier()\n",
        "  run_GS(model, param_grid, n_jobs=-1, cv=2, verbose=3)"
      ],
      "execution_count": null,
      "outputs": []
    },
    {
      "cell_type": "markdown",
      "metadata": {
        "id": "qW1yQgqEYzM2"
      },
      "source": [
        "> Output\n",
        "\n",
        "Fitting 5 folds for each of 36 candidates, totalling 180 fits\n",
        "\n",
        "{'ccp_alpha': 0.005, 'criterion': 'entropy', 'max_depth': None, 'min_samples_split': 20}\n",
        "\n",
        "Train: 0.7725460364094224\n",
        "\n",
        "Test: 0.7751866813563472"
      ]
    },
    {
      "cell_type": "code",
      "metadata": {
        "id": "MbYj8XELIe_d"
      },
      "source": [
        "if GS and False:\n",
        "  param_grid = { \n",
        "      'max_depth' : [None],\n",
        "      'ccp_alpha': [0.001, 0.003, 0.005],\n",
        "      'criterion' :['entropy'], \n",
        "      'min_samples_split': [20],\n",
        "      'n_estimators': [64, 200, 500],\n",
        "  }\n",
        "  model = RandomForestClassifier()\n",
        "  run_GS(model, param_grid, n_jobs=-1, cv=2, verbose=3)"
      ],
      "execution_count": null,
      "outputs": []
    },
    {
      "cell_type": "markdown",
      "metadata": {
        "id": "BsdSvQroZNKO"
      },
      "source": [
        "> Output\n",
        "\n",
        "Fitting 5 folds for each of 9 candidates, totalling 45 fits\n",
        "\n",
        "{'ccp_alpha': 0.001, 'criterion': 'entropy', 'max_depth': None, 'min_samples_split': 20, 'n_estimators': 200}\n",
        "\n",
        "Train: 0.8159592885997586\n",
        "\n",
        "Test: 0.8142367486840495"
      ]
    },
    {
      "cell_type": "code",
      "metadata": {
        "id": "cMPONf6oPxbe"
      },
      "source": [
        "if GS and False:\n",
        "  param_grid = { \n",
        "      'max_depth' : [None],\n",
        "      'ccp_alpha': [0.0001, 0.0005, 0.0008, 0.001],\n",
        "      'criterion' :['entropy'], \n",
        "      'min_samples_split': [20],\n",
        "      'n_estimators': [200, 300],\n",
        "  }\n",
        "  model = RandomForestClassifier()\n",
        "  run_GS(model, param_grid, n_jobs=-1, cv=2, verbose=3)"
      ],
      "execution_count": null,
      "outputs": []
    },
    {
      "cell_type": "markdown",
      "metadata": {
        "id": "Hflh-hmOaM7U"
      },
      "source": [
        "> Output\n",
        "\n",
        "Fitting 5 folds for each of 8 candidates, totalling 40 fits (15 mins)\n",
        "\n",
        "{'ccp_alpha': 0.0001, 'criterion': 'entropy', 'max_depth': None, 'min_samples_split': 20, 'n_estimators': 200}\n",
        "\n",
        "Train: 0.921698756623472\n",
        "\n",
        "Test: 0.8595299302240176"
      ]
    },
    {
      "cell_type": "code",
      "metadata": {
        "id": "oLsWGIx3WrvG"
      },
      "source": [
        "if GS and False:\n",
        "  clf_RF = RandomForestClassifier(n_estimators=200, criterion='entropy', max_depth=None, min_samples_split=20, ccp_alpha=0.0005)\n",
        "  clf_RF.fit(X_train, y_train)\n",
        "  p(clf_RF.score(X_train, y_train))\n",
        "  p(clf_RF.score(X_test, y_test))"
      ],
      "execution_count": null,
      "outputs": []
    },
    {
      "cell_type": "code",
      "metadata": {
        "id": "zDC-IKvyZb4I"
      },
      "source": [
        "#{'ccp_alpha': 0.0005, 'criterion': 'gini', 'max_depth': None, 'max_leaf_nodes': None, 'min_samples_split': 2, 'n_estimators': 100, 'random_state': 73}\n",
        "\n",
        "if GS:\n",
        "  for i in range(5):\n",
        "    ccp_alpha = 0.0001 + i / 10000\n",
        "    clf_RF = RandomForestClassifier(n_estimators=100, criterion='gini', max_depth=None, min_samples_split=2, ccp_alpha=ccp_alpha, random_state=73)\n",
        "    p(ccp_alpha)\n",
        "    clf_RF.fit(X_train, y_train)\n",
        "    p(clf_RF.score(X_train, y_train))\n",
        "    p(clf_RF.score(X_test, y_test))"
      ],
      "execution_count": null,
      "outputs": []
    },
    {
      "cell_type": "markdown",
      "metadata": {
        "id": "W6tvvVZVRJz4"
      },
      "source": [
        "# Cross validation"
      ]
    },
    {
      "cell_type": "code",
      "metadata": {
        "id": "0Z2obmckEf3k"
      },
      "source": [
        "CV = False\n",
        "if CV:\n",
        "  k = 7\n",
        "  scores = cross_val_score(clf_RF, X_train, y_train, cv=k)\n",
        "  p(\"\\nscores : \" + (k * \"{:.3f}, \").format(*scores))\n",
        "  p(\"mean : {:.3f} std : {:.3f} \".format(scores.mean(), scores.std()))"
      ],
      "execution_count": null,
      "outputs": []
    },
    {
      "cell_type": "markdown",
      "metadata": {
        "id": "YhU6cUlYXZqy"
      },
      "source": [
        "scores : 0.838, 0.845, 0.843, 0.850, 0.837, 0.844, 0.843, \n",
        "\n",
        "mean : 0.843 std : 0.004 "
      ]
    }
  ]
}