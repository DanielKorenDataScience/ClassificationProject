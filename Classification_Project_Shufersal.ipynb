{
  "nbformat": 4,
  "nbformat_minor": 0,
  "metadata": {
    "colab": {
      "name": "Classification Project - Shufersal.ipynb",
      "provenance": [],
      "toc_visible": true,
      "include_colab_link": true
    },
    "kernelspec": {
      "name": "python3",
      "display_name": "Python 3"
    },
    "language_info": {
      "name": "python"
    }
  },
  "cells": [
    {
      "cell_type": "markdown",
      "metadata": {
        "id": "view-in-github",
        "colab_type": "text"
      },
      "source": [
        "<a href=\"https://colab.research.google.com/github/DanielKorenDataScience/ClassificationProject/blob/main/Classification_Project_Shufersal.ipynb\" target=\"_parent\"><img src=\"https://colab.research.google.com/assets/colab-badge.svg\" alt=\"Open In Colab\"/></a>"
      ]
    },
    {
      "cell_type": "markdown",
      "metadata": {
        "id": "AsgFwVtRbySD"
      },
      "source": [
        "Classification Project\n",
        "\n",
        "for Shufersal on-line orders, for replacing of missing products, will predict the replacement success!"
      ]
    },
    {
      "cell_type": "code",
      "metadata": {
        "id": "yGba9FH7bxTM"
      },
      "source": [
        "import requests\n",
        "import pandas as pd\n",
        "import matplotlib.pyplot as plt\n",
        "import numpy as np\n",
        "\n",
        "from IPython.display import display\n",
        "p = print\n",
        "d = display"
      ],
      "execution_count": 20,
      "outputs": []
    },
    {
      "cell_type": "markdown",
      "metadata": {
        "id": "K5fip8cGHkql"
      },
      "source": [
        "# Get Data"
      ]
    },
    {
      "cell_type": "markdown",
      "metadata": {
        "id": "KWnIiiXgmFyP"
      },
      "source": [
        "## Raw Data"
      ]
    },
    {
      "cell_type": "markdown",
      "metadata": {
        "id": "GZFzr7XVD0DP"
      },
      "source": [
        "To run the raw section, one must load Sweets_ver2.csv to local google drive and change the next line to True"
      ]
    },
    {
      "cell_type": "code",
      "metadata": {
        "id": "UvzC3e_IDvSd"
      },
      "source": [
        "RAW = False"
      ],
      "execution_count": 21,
      "outputs": []
    },
    {
      "cell_type": "code",
      "metadata": {
        "id": "Sp4iGxceSita"
      },
      "source": [
        "def get_raw(fname):\n",
        "  data_url = 'https://github.com/DanielKorenDataScience/ClassificationProject/blob/main/' + fname + '.csv?raw=true'\n",
        "  resp = requests.get(data_url)\n",
        "  text = resp.text\n",
        "  \n",
        "  with open(fname + '.csv', 'w') as fh:\n",
        "    fh.write(text)"
      ],
      "execution_count": 22,
      "outputs": []
    },
    {
      "cell_type": "code",
      "metadata": {
        "id": "a4g1hSQGEQcR"
      },
      "source": [
        "def diff_list(li1, li2):\n",
        "  return [i for i in li1 + li2 if i not in li1 or i not in li2]"
      ],
      "execution_count": 23,
      "outputs": []
    },
    {
      "cell_type": "code",
      "metadata": {
        "id": "VoP0C8qFhCkD"
      },
      "source": [
        "if RAW:    \n",
        "  df1 = pd.read_csv('/content/drive/MyDrive/Sweets_ver2.csv', encoding='ISO-8859-8', nrows=1)\n",
        "  df2 = pd.read_csv('/content/drive/MyDrive/Sweets_ver2.csv', encoding='ISO-8859-8', usecols=[i for i in range(82) if not i in[0,8,10,12,14,16,18,20,24,26,27,48,50,52,54,56,58,62,64,65]])"
      ],
      "execution_count": 24,
      "outputs": []
    },
    {
      "cell_type": "code",
      "metadata": {
        "colab": {
          "base_uri": "https://localhost:8080/"
        },
        "id": "OoLJ64bX96dr",
        "outputId": "892eba34-0625-40d1-bc4e-778f871416cb"
      },
      "source": [
        "from google.colab import drive\n",
        "drive.mount('/content/drive')"
      ],
      "execution_count": 25,
      "outputs": [
        {
          "output_type": "stream",
          "text": [
            "Drive already mounted at /content/drive; to attempt to forcibly remount, call drive.mount(\"/content/drive\", force_remount=True).\n"
          ],
          "name": "stdout"
        }
      ]
    },
    {
      "cell_type": "code",
      "metadata": {
        "id": "RH3d6JNO-dlJ"
      },
      "source": [
        "if RAW:\n",
        "  df1.info()"
      ],
      "execution_count": 26,
      "outputs": []
    },
    {
      "cell_type": "markdown",
      "metadata": {
        "id": "YnYOkLt5oySI"
      },
      "source": [
        "Eliminating unwanted columns - mostly descriptive columns"
      ]
    },
    {
      "cell_type": "code",
      "metadata": {
        "id": "zAv5e7lRBzpu"
      },
      "source": [
        "if RAW:\n",
        "  d(diff_list(list(df1.columns), list(df2.columns)))"
      ],
      "execution_count": 27,
      "outputs": []
    },
    {
      "cell_type": "code",
      "metadata": {
        "id": "DNsn5qrnsvYo"
      },
      "source": [
        "if RAW:\n",
        "  d(df2.info())"
      ],
      "execution_count": 28,
      "outputs": []
    },
    {
      "cell_type": "code",
      "metadata": {
        "id": "g8MX6rBCuirA"
      },
      "source": [
        "# Fix Typo mistake\n",
        "if RAW: \n",
        "  df2.rename(columns={'OrderNumbert': 'OrderNumber','BrandIndDescSuss': 'BrandIndDescSubs', 'ProductNumberSubs': 'ParentProductNumberSubs', \n",
        "                    'NetSaleNoVatPrdSubs': 'NetSaleNoVatPrdLast3MonthsSubs', 'CafiotSucarSusb': 'CafiotSucarSubs'}, inplace=True)"
      ],
      "execution_count": 29,
      "outputs": []
    },
    {
      "cell_type": "markdown",
      "metadata": {
        "id": "HmIVwYFDCAX8"
      },
      "source": [
        "Eliminating nulls"
      ]
    },
    {
      "cell_type": "code",
      "metadata": {
        "id": "UQCtiUn0u2i0"
      },
      "source": [
        "# Fill na\n",
        "if RAW:\n",
        "  df2.fillna({'QuantSale': 1, 'QuantSaleSubs': 1}, inplace=True)\n",
        "  df2.fillna(0, inplace=True)\n",
        "  d(df2.info())"
      ],
      "execution_count": 30,
      "outputs": []
    },
    {
      "cell_type": "code",
      "metadata": {
        "id": "HABZ4mSww0qk"
      },
      "source": [
        "if RAW:\n",
        "  df2.to_csv(\"Shufersal.csv\", index = False)\n",
        "  p(df2.shape)"
      ],
      "execution_count": 31,
      "outputs": []
    },
    {
      "cell_type": "code",
      "metadata": {
        "id": "lqhgbV2PGVDC"
      },
      "source": [
        "if RAW:\n",
        "  df = pd.read_csv('Shufersal.csv', index_col=False)\n",
        "  p(df.shape)"
      ],
      "execution_count": 32,
      "outputs": []
    },
    {
      "cell_type": "markdown",
      "metadata": {
        "id": "renJj2--1PoG"
      },
      "source": [
        "## Encoding categories"
      ]
    },
    {
      "cell_type": "code",
      "metadata": {
        "id": "Z0frP-SsM4Gq"
      },
      "source": [
        "from sklearn.preprocessing import LabelEncoder\n",
        "enc = LabelEncoder()\n",
        "\n",
        "if RAW:\n",
        "  enc.fit(['noPromo', 'PromoSusbSamePromo', 'PromoSusbDiffPromo'])\n",
        "  p(df.isPromo.value_counts())\n",
        "  p()\n",
        "  df.isPromo = enc.transform(df.isPromo)\n",
        "  p(df.isPromo.value_counts())"
      ],
      "execution_count": 33,
      "outputs": []
    },
    {
      "cell_type": "code",
      "metadata": {
        "id": "CXZ6Hs2L1ONt"
      },
      "source": [
        "if RAW:\n",
        "  for col in ['LocationCityName', 'PeriodHoliday', 'BrandIndDesc', 'BrandName', 'BrandIndDescSubs', 'BrandNameSubs']:\n",
        "    p(col)\n",
        "    p(pd.DataFrame(df[col].value_counts()).index)\n",
        "    df[col] = enc.fit_transform(df[col])\n",
        "    p(pd.DataFrame(df[col].value_counts()).index)"
      ],
      "execution_count": 34,
      "outputs": []
    },
    {
      "cell_type": "markdown",
      "metadata": {
        "id": "bNnieSsiHr4A"
      },
      "source": [
        "## Calc diff vector"
      ]
    },
    {
      "cell_type": "code",
      "metadata": {
        "id": "2h_nBoBY_5o5"
      },
      "source": [
        "if RAW:\n",
        "  df.columns"
      ],
      "execution_count": 35,
      "outputs": []
    },
    {
      "cell_type": "code",
      "metadata": {
        "id": "dVnvNLbJEFao"
      },
      "source": [
        "if RAW:\n",
        "  for col in ['DepartmentCode', 'CategoryCode', 'GroupCode', 'SubGroupCode',\n",
        "       'CompoundID', 'ParentProductNumber', 'BrandIndDesc',\n",
        "       'VendorNumber', 'UnitOfMeasure', 'Price', 'NetSaleNoVatPrdLast3Months', 'Energy', 'Pachmema',\n",
        "       'Natran', 'Helbon', 'Shuman', 'ShumanRavuy', 'ShumanTrans', 'Colastrol',\n",
        "       'SivimTzunatim', 'CafiotSucar', 'QuantSale', 'cntMonths', 'DiscountPerUnit']:\n",
        "    df[col + 'Diff'] = df[col] - df[col + 'Subs']"
      ],
      "execution_count": 36,
      "outputs": []
    },
    {
      "cell_type": "code",
      "metadata": {
        "id": "R1pvSAXODmsI"
      },
      "source": [
        "if RAW:\n",
        "  for col in ['DepartmentCode', 'CategoryCode', 'GroupCode', 'SubGroupCode',\n",
        "       'CompoundID', 'ParentProductNumber', 'VendorNumber', 'BrandIndDesc']:\n",
        "    df[col + 'Diff'] = (df[col + 'Diff'] != 0)\n",
        "    df[col + 'Diff'] = enc.fit_transform(df[col + 'Diff'])"
      ],
      "execution_count": 37,
      "outputs": []
    },
    {
      "cell_type": "markdown",
      "metadata": {
        "id": "pRT1z8asSKa0"
      },
      "source": [
        "## Use Dummies"
      ]
    },
    {
      "cell_type": "markdown",
      "metadata": {
        "id": "Q4sf5rfwdnqs"
      },
      "source": [
        "Minimal improvement - FalseNegative (0,0) improved from 1338 to 1328"
      ]
    },
    {
      "cell_type": "code",
      "metadata": {
        "id": "enpCWADOSFsg"
      },
      "source": [
        "## Converting the categories column (isPromo) to dummies column \n",
        "if RAW:\n",
        "  p(df.shape)\n",
        "  df = pd.get_dummies(df, columns=['isPromo', 'PeriodHoliday'])\n",
        "  p(df.shape)"
      ],
      "execution_count": 38,
      "outputs": []
    },
    {
      "cell_type": "code",
      "metadata": {
        "id": "y8AeEktZ8SJB"
      },
      "source": [
        "if RAW:\n",
        "  df.to_csv(\"Shufersal_with_diff.csv\", index = False)"
      ],
      "execution_count": 39,
      "outputs": []
    },
    {
      "cell_type": "code",
      "metadata": {
        "id": "lDvfuMAa8ze9"
      },
      "source": [
        "if RAW:\n",
        "  df = pd.read_csv('Shufersal_with_diff.csv', index_col=False)\n",
        "  p(df.shape)"
      ],
      "execution_count": 40,
      "outputs": []
    },
    {
      "cell_type": "code",
      "metadata": {
        "id": "BnIZZagWMJLi"
      },
      "source": [
        "if RAW:\n",
        "  d(df.head())"
      ],
      "execution_count": 41,
      "outputs": []
    },
    {
      "cell_type": "markdown",
      "metadata": {
        "id": "bWMLTqJmOsbW"
      },
      "source": [
        "# Get ready Data"
      ]
    },
    {
      "cell_type": "code",
      "metadata": {
        "id": "1OCp8pIhBFE_"
      },
      "source": [
        "if not RAW:\n",
        "  get_raw('Shufersal_with_diff')"
      ],
      "execution_count": 42,
      "outputs": []
    },
    {
      "cell_type": "code",
      "metadata": {
        "colab": {
          "base_uri": "https://localhost:8080/"
        },
        "id": "eRMl2lJ0BiXV",
        "outputId": "7cdbcf3c-b1b0-4722-abb9-fb7302442587"
      },
      "source": [
        "if not RAW:\n",
        "  df = pd.read_csv('Shufersal_with_diff.csv', encoding='ISO-8859-8')\n",
        "  p(df.shape)\n",
        "  df.head()"
      ],
      "execution_count": 43,
      "outputs": [
        {
          "output_type": "stream",
          "text": [
            "(54460, 89)\n"
          ],
          "name": "stdout"
        }
      ]
    },
    {
      "cell_type": "markdown",
      "metadata": {
        "id": "N27b5TlMH14F"
      },
      "source": [
        "# Models"
      ]
    },
    {
      "cell_type": "code",
      "metadata": {
        "id": "6rVRpGZCICWb"
      },
      "source": [
        "from sklearn.model_selection import train_test_split, GridSearchCV, cross_val_score\n",
        "\n",
        "X = df.drop('CorrelateItemStatusCode', axis=1)\n",
        "y = df.CorrelateItemStatusCode.astype(int)\n",
        "\n",
        "X_train, X_test, y_train, y_test = train_test_split(X, y, train_size=0.7, random_state=0)"
      ],
      "execution_count": 44,
      "outputs": []
    },
    {
      "cell_type": "code",
      "metadata": {
        "id": "pMu7UaSHZ2BX"
      },
      "source": [
        "from sklearn.metrics import confusion_matrix, classification_report, accuracy_score\n",
        "import math\n",
        "\n",
        "pd.set_option(\"precision\", 2)\n",
        "df_result = pd.DataFrame()"
      ],
      "execution_count": 45,
      "outputs": []
    },
    {
      "cell_type": "code",
      "metadata": {
        "id": "6dIvX5yRHzRu"
      },
      "source": [
        "def report_old(clf, X, y, data_type='Test'):\n",
        "  p()\n",
        "  p(type(clf).__name__ + ': ' + data_type)\n",
        "  p('_____________________________________________________')\n",
        "  acc = accuracy_score(y_true=y, y_pred=clf.predict(X))\n",
        "  cm = pd.DataFrame(confusion_matrix(y_true=y, y_pred=clf.predict(X)),\n",
        "                    index=clf.classes_,\n",
        "                    columns=clf.classes_)\n",
        "  d(cm)\n",
        "  rep = classification_report(y_true=y, y_pred=clf.predict(X), zero_division=1, output_dict=True)\n",
        "  rep =  pd.DataFrame(rep)\n",
        "  rep.drop(['accuracy', 'macro avg', 'weighted avg'], axis=1, inplace=True)\n",
        "  rep = rep.T\n",
        "  rep['accuracy'] = acc\n",
        "  rep.support = rep.support.astype(int)\n",
        "  cols = list(rep.columns[:3]) + ['accuracy', 'support']\n",
        "  rep = rep[cols]\n",
        "  d(rep)\n",
        "  return"
      ],
      "execution_count": 46,
      "outputs": []
    },
    {
      "cell_type": "code",
      "metadata": {
        "id": "SD0WOCyeZqSg"
      },
      "source": [
        "def report(clf, X, y, data_type='Test'):\n",
        "  global df_result\n",
        "  name = type(clf).__name__ + ': ' + data_type\n",
        "  acc = accuracy_score(y_true=y, y_pred=clf.predict(X))\n",
        "  index = [(name, clf.classes_[0]), (name, clf.classes_[1])]\n",
        "  cm = pd.DataFrame(confusion_matrix(y_true=y, y_pred=clf.predict(X)),\n",
        "                    index=clf.classes_,\n",
        "                    columns=clf.classes_)\n",
        "  cm.reset_index(drop=True, inplace=True)\n",
        "  rep = classification_report(y_true=y, y_pred=clf.predict(X), zero_division=1, output_dict=True)\n",
        "  rep =  pd.DataFrame(rep)\n",
        "  rep.drop(['accuracy', 'macro avg', 'weighted avg'], axis=1, inplace=True)\n",
        "  rep = rep.T\n",
        "  rep['accuracy'] = acc\n",
        "  rep.support = rep.support.astype(int)\n",
        "  cols = list(rep.columns[:3]) + ['accuracy', 'support']\n",
        "  rep = rep[cols]\n",
        "  rep['precision_avg'] = rep.precision.mean()\n",
        "  rep['recall_avg'] = rep.recall.mean()\n",
        "  rep['f1-score_avg'] = rep['f1-score'].mean()\n",
        "  rep.reset_index(drop=True, inplace=True)\n",
        "  df = cm.join(rep)\n",
        "  df['name'] = name\n",
        "  df.reset_index(inplace=True)\n",
        "  #df.set_index(['name', 'index'], inplace=True)\n",
        "  df_result.reset_index(inplace=True)\n",
        "  df_result = df_result.append(df, ignore_index=True)\n",
        "  df_result.set_index(['name', 'index'], inplace=True)\n",
        "  #d(df_result)\n",
        "  return"
      ],
      "execution_count": 47,
      "outputs": []
    },
    {
      "cell_type": "code",
      "metadata": {
        "id": "Ci9f_i4dMAXy"
      },
      "source": [
        "def showFeatureImportance(model, X_train=X_train, threshold=0):\n",
        "  if type(model).__name__ == 'LogisticRegression':  # no features importance data\n",
        "    w0 = model.intercept_[0]\n",
        "    w = model.coef_[0]\n",
        "    fx_imp = pd.Series(w, index=X_train.columns)\n",
        "  else:\n",
        "    fx_imp = pd.Series(model.feature_importances_, index=X_train.columns)\n",
        "  fx_imp /= fx_imp.sum()\n",
        "  fx_imp = fx_imp.sort_values()\n",
        "  fx_imp = fx_imp[fx_imp > threshold]\n",
        "  fig = plt.figure(figsize=(5,5))\n",
        "  plt.xlim(0, 1)\n",
        "  fx_imp.plot(kind='barh', title=type(model).__name__ )"
      ],
      "execution_count": 48,
      "outputs": []
    },
    {
      "cell_type": "code",
      "metadata": {
        "id": "mjA3XyhXOKcF"
      },
      "source": [
        "def process_model(model, X_train=X_train, y_train=y_train, X_test=X_test, y_test=y_test, plot=False, threshold=0):\n",
        "  p('running: ', type(model).__name__)\n",
        "  model.fit(X_train, y_train)\n",
        "  report(model, X_train, y_train, 'Train')\n",
        "  report(model, X_test, y_test)\n",
        "  if plot:\n",
        "    showFeatureImportance(model, X_train, threshold) "
      ],
      "execution_count": 49,
      "outputs": []
    },
    {
      "cell_type": "code",
      "metadata": {
        "id": "ijx9CUGjIGCo"
      },
      "source": [
        "from sklearn.linear_model import LogisticRegression, BayesianRidge, Lasso, Ridge\n",
        "from sklearn.ensemble import GradientBoostingClassifier, RandomForestClassifier, AdaBoostClassifier, GradientBoostingRegressor, BaggingClassifier\n",
        "from sklearn.tree import DecisionTreeClassifier\n",
        "from sklearn.neighbors import KNeighborsClassifier\n",
        "from sklearn.svm import LinearSVC"
      ],
      "execution_count": 50,
      "outputs": []
    },
    {
      "cell_type": "code",
      "metadata": {
        "id": "7n6vHsoaau-z",
        "colab": {
          "base_uri": "https://localhost:8080/",
          "height": 1000
        },
        "outputId": "72e96b5c-adec-405b-f1ff-dfc9579a1560"
      },
      "source": [
        "df_result = pd.DataFrame()\n",
        "\n",
        "process_model(LogisticRegression(max_iter=1000), threshold=0.0000005)  # did not fit, return accuracy=0, so we increased max_iter from default 100\n",
        "process_model(LogisticRegression(C=100, max_iter=1000, fit_intercept=False, warm_start=True), threshold=0.0000005, plot=True)\n",
        "process_model(GradientBoostingClassifier(n_estimators=100), plot=True, threshold=0.015)\n",
        "process_model(AdaBoostClassifier(n_estimators=100))  # base estimator is DecisionTreeClassifier initialized with max_depth=1\n",
        "process_model(AdaBoostClassifier(base_estimator=DecisionTreeClassifier(max_depth=5), n_estimators=100, learning_rate=0.01))\n",
        "process_model(RandomForestClassifier(n_estimators=64), plot=True, threshold=0.015)\n",
        "process_model(RandomForestClassifier(n_estimators=500, min_samples_split=6, criterion='entropy'), plot=True, threshold=0.015)\n",
        "process_model(KNeighborsClassifier(n_neighbors=39))\n",
        "\n",
        "if False: # ERROR: Classification metrics can't handle a mix of binary and continuous targets\n",
        "  process_model(GradientBoostingRegressor(n_estimators=100, max_depth=5))\n",
        "  process_model(BayesianRidge())\n",
        "  process_model(Lasso())\n",
        "  process_model(Ridge(alpha = 0.5))\n",
        "if False: ## too long > 4 minutes\n",
        "  process_model(LinearSVC(penalty='l2', loss='squared_hinge', dual=True, tol=0.0001, C=0.1, max_iter=20000)) # max_iter increaed from default 1000 to 3000, 6000, 20000 because did not coverged warning\n",
        "  from sklearn import svm\n",
        "  process_model(svm.SVC())\n",
        "  process_model(svm.SVR())\n",
        "\n",
        "d(df_result)"
      ],
      "execution_count": 51,
      "outputs": [
        {
          "output_type": "stream",
          "text": [
            "running:  LogisticRegression\n",
            "running:  LogisticRegression\n",
            "running:  GradientBoostingClassifier\n",
            "running:  AdaBoostClassifier\n",
            "running:  AdaBoostClassifier\n",
            "running:  RandomForestClassifier\n",
            "running:  RandomForestClassifier\n",
            "running:  KNeighborsClassifier\n"
          ],
          "name": "stdout"
        },
        {
          "output_type": "display_data",
          "data": {
            "text/html": [
              "<div>\n",
              "<style scoped>\n",
              "    .dataframe tbody tr th:only-of-type {\n",
              "        vertical-align: middle;\n",
              "    }\n",
              "\n",
              "    .dataframe tbody tr th {\n",
              "        vertical-align: top;\n",
              "    }\n",
              "\n",
              "    .dataframe thead th {\n",
              "        text-align: right;\n",
              "    }\n",
              "</style>\n",
              "<table border=\"1\" class=\"dataframe\">\n",
              "  <thead>\n",
              "    <tr style=\"text-align: right;\">\n",
              "      <th></th>\n",
              "      <th></th>\n",
              "      <th>0</th>\n",
              "      <th>1</th>\n",
              "      <th>precision</th>\n",
              "      <th>recall</th>\n",
              "      <th>f1-score</th>\n",
              "      <th>accuracy</th>\n",
              "      <th>support</th>\n",
              "      <th>precision_avg</th>\n",
              "      <th>recall_avg</th>\n",
              "      <th>f1-score_avg</th>\n",
              "    </tr>\n",
              "    <tr>\n",
              "      <th>name</th>\n",
              "      <th>index</th>\n",
              "      <th></th>\n",
              "      <th></th>\n",
              "      <th></th>\n",
              "      <th></th>\n",
              "      <th></th>\n",
              "      <th></th>\n",
              "      <th></th>\n",
              "      <th></th>\n",
              "      <th></th>\n",
              "      <th></th>\n",
              "    </tr>\n",
              "  </thead>\n",
              "  <tbody>\n",
              "    <tr>\n",
              "      <th rowspan=\"2\" valign=\"top\">LogisticRegression: Train</th>\n",
              "      <th>0</th>\n",
              "      <td>0.0</td>\n",
              "      <td>12649.0</td>\n",
              "      <td>1.00</td>\n",
              "      <td>0.00</td>\n",
              "      <td>0.00</td>\n",
              "      <td>0.67</td>\n",
              "      <td>12649.0</td>\n",
              "      <td>0.83</td>\n",
              "      <td>0.50</td>\n",
              "      <td>0.40</td>\n",
              "    </tr>\n",
              "    <tr>\n",
              "      <th>1</th>\n",
              "      <td>0.0</td>\n",
              "      <td>25473.0</td>\n",
              "      <td>0.67</td>\n",
              "      <td>1.00</td>\n",
              "      <td>0.80</td>\n",
              "      <td>0.67</td>\n",
              "      <td>25473.0</td>\n",
              "      <td>0.83</td>\n",
              "      <td>0.50</td>\n",
              "      <td>0.40</td>\n",
              "    </tr>\n",
              "    <tr>\n",
              "      <th rowspan=\"2\" valign=\"top\">LogisticRegression: Test</th>\n",
              "      <th>0</th>\n",
              "      <td>0.0</td>\n",
              "      <td>5419.0</td>\n",
              "      <td>1.00</td>\n",
              "      <td>0.00</td>\n",
              "      <td>0.00</td>\n",
              "      <td>0.67</td>\n",
              "      <td>5419.0</td>\n",
              "      <td>0.83</td>\n",
              "      <td>0.50</td>\n",
              "      <td>0.40</td>\n",
              "    </tr>\n",
              "    <tr>\n",
              "      <th>1</th>\n",
              "      <td>0.0</td>\n",
              "      <td>10919.0</td>\n",
              "      <td>0.67</td>\n",
              "      <td>1.00</td>\n",
              "      <td>0.80</td>\n",
              "      <td>0.67</td>\n",
              "      <td>10919.0</td>\n",
              "      <td>0.83</td>\n",
              "      <td>0.50</td>\n",
              "      <td>0.40</td>\n",
              "    </tr>\n",
              "    <tr>\n",
              "      <th rowspan=\"2\" valign=\"top\">LogisticRegression: Train</th>\n",
              "      <th>0</th>\n",
              "      <td>0.0</td>\n",
              "      <td>12649.0</td>\n",
              "      <td>1.00</td>\n",
              "      <td>0.00</td>\n",
              "      <td>0.00</td>\n",
              "      <td>0.67</td>\n",
              "      <td>12649.0</td>\n",
              "      <td>0.83</td>\n",
              "      <td>0.50</td>\n",
              "      <td>0.40</td>\n",
              "    </tr>\n",
              "    <tr>\n",
              "      <th>1</th>\n",
              "      <td>0.0</td>\n",
              "      <td>25473.0</td>\n",
              "      <td>0.67</td>\n",
              "      <td>1.00</td>\n",
              "      <td>0.80</td>\n",
              "      <td>0.67</td>\n",
              "      <td>25473.0</td>\n",
              "      <td>0.83</td>\n",
              "      <td>0.50</td>\n",
              "      <td>0.40</td>\n",
              "    </tr>\n",
              "    <tr>\n",
              "      <th rowspan=\"2\" valign=\"top\">LogisticRegression: Test</th>\n",
              "      <th>0</th>\n",
              "      <td>0.0</td>\n",
              "      <td>5419.0</td>\n",
              "      <td>1.00</td>\n",
              "      <td>0.00</td>\n",
              "      <td>0.00</td>\n",
              "      <td>0.67</td>\n",
              "      <td>5419.0</td>\n",
              "      <td>0.83</td>\n",
              "      <td>0.50</td>\n",
              "      <td>0.40</td>\n",
              "    </tr>\n",
              "    <tr>\n",
              "      <th>1</th>\n",
              "      <td>0.0</td>\n",
              "      <td>10919.0</td>\n",
              "      <td>0.67</td>\n",
              "      <td>1.00</td>\n",
              "      <td>0.80</td>\n",
              "      <td>0.67</td>\n",
              "      <td>10919.0</td>\n",
              "      <td>0.83</td>\n",
              "      <td>0.50</td>\n",
              "      <td>0.40</td>\n",
              "    </tr>\n",
              "    <tr>\n",
              "      <th rowspan=\"2\" valign=\"top\">GradientBoostingClassifier: Train</th>\n",
              "      <th>0</th>\n",
              "      <td>7929.0</td>\n",
              "      <td>4720.0</td>\n",
              "      <td>0.79</td>\n",
              "      <td>0.63</td>\n",
              "      <td>0.70</td>\n",
              "      <td>0.82</td>\n",
              "      <td>12649.0</td>\n",
              "      <td>0.81</td>\n",
              "      <td>0.77</td>\n",
              "      <td>0.79</td>\n",
              "    </tr>\n",
              "    <tr>\n",
              "      <th>1</th>\n",
              "      <td>2101.0</td>\n",
              "      <td>23372.0</td>\n",
              "      <td>0.83</td>\n",
              "      <td>0.92</td>\n",
              "      <td>0.87</td>\n",
              "      <td>0.82</td>\n",
              "      <td>25473.0</td>\n",
              "      <td>0.81</td>\n",
              "      <td>0.77</td>\n",
              "      <td>0.79</td>\n",
              "    </tr>\n",
              "    <tr>\n",
              "      <th rowspan=\"2\" valign=\"top\">GradientBoostingClassifier: Test</th>\n",
              "      <th>0</th>\n",
              "      <td>3409.0</td>\n",
              "      <td>2010.0</td>\n",
              "      <td>0.78</td>\n",
              "      <td>0.63</td>\n",
              "      <td>0.70</td>\n",
              "      <td>0.82</td>\n",
              "      <td>5419.0</td>\n",
              "      <td>0.81</td>\n",
              "      <td>0.77</td>\n",
              "      <td>0.78</td>\n",
              "    </tr>\n",
              "    <tr>\n",
              "      <th>1</th>\n",
              "      <td>957.0</td>\n",
              "      <td>9962.0</td>\n",
              "      <td>0.83</td>\n",
              "      <td>0.91</td>\n",
              "      <td>0.87</td>\n",
              "      <td>0.82</td>\n",
              "      <td>10919.0</td>\n",
              "      <td>0.81</td>\n",
              "      <td>0.77</td>\n",
              "      <td>0.78</td>\n",
              "    </tr>\n",
              "    <tr>\n",
              "      <th rowspan=\"2\" valign=\"top\">AdaBoostClassifier: Train</th>\n",
              "      <th>0</th>\n",
              "      <td>7794.0</td>\n",
              "      <td>4855.0</td>\n",
              "      <td>0.74</td>\n",
              "      <td>0.62</td>\n",
              "      <td>0.67</td>\n",
              "      <td>0.80</td>\n",
              "      <td>12649.0</td>\n",
              "      <td>0.78</td>\n",
              "      <td>0.75</td>\n",
              "      <td>0.76</td>\n",
              "    </tr>\n",
              "    <tr>\n",
              "      <th>1</th>\n",
              "      <td>2735.0</td>\n",
              "      <td>22738.0</td>\n",
              "      <td>0.82</td>\n",
              "      <td>0.89</td>\n",
              "      <td>0.86</td>\n",
              "      <td>0.80</td>\n",
              "      <td>25473.0</td>\n",
              "      <td>0.78</td>\n",
              "      <td>0.75</td>\n",
              "      <td>0.76</td>\n",
              "    </tr>\n",
              "    <tr>\n",
              "      <th rowspan=\"2\" valign=\"top\">AdaBoostClassifier: Test</th>\n",
              "      <th>0</th>\n",
              "      <td>3334.0</td>\n",
              "      <td>2085.0</td>\n",
              "      <td>0.73</td>\n",
              "      <td>0.62</td>\n",
              "      <td>0.67</td>\n",
              "      <td>0.80</td>\n",
              "      <td>5419.0</td>\n",
              "      <td>0.78</td>\n",
              "      <td>0.75</td>\n",
              "      <td>0.76</td>\n",
              "    </tr>\n",
              "    <tr>\n",
              "      <th>1</th>\n",
              "      <td>1212.0</td>\n",
              "      <td>9707.0</td>\n",
              "      <td>0.82</td>\n",
              "      <td>0.89</td>\n",
              "      <td>0.85</td>\n",
              "      <td>0.80</td>\n",
              "      <td>10919.0</td>\n",
              "      <td>0.78</td>\n",
              "      <td>0.75</td>\n",
              "      <td>0.76</td>\n",
              "    </tr>\n",
              "    <tr>\n",
              "      <th rowspan=\"2\" valign=\"top\">AdaBoostClassifier: Train</th>\n",
              "      <th>0</th>\n",
              "      <td>7278.0</td>\n",
              "      <td>5371.0</td>\n",
              "      <td>0.77</td>\n",
              "      <td>0.58</td>\n",
              "      <td>0.66</td>\n",
              "      <td>0.80</td>\n",
              "      <td>12649.0</td>\n",
              "      <td>0.79</td>\n",
              "      <td>0.75</td>\n",
              "      <td>0.76</td>\n",
              "    </tr>\n",
              "    <tr>\n",
              "      <th>1</th>\n",
              "      <td>2129.0</td>\n",
              "      <td>23344.0</td>\n",
              "      <td>0.81</td>\n",
              "      <td>0.92</td>\n",
              "      <td>0.86</td>\n",
              "      <td>0.80</td>\n",
              "      <td>25473.0</td>\n",
              "      <td>0.79</td>\n",
              "      <td>0.75</td>\n",
              "      <td>0.76</td>\n",
              "    </tr>\n",
              "    <tr>\n",
              "      <th rowspan=\"2\" valign=\"top\">AdaBoostClassifier: Test</th>\n",
              "      <th>0</th>\n",
              "      <td>3121.0</td>\n",
              "      <td>2298.0</td>\n",
              "      <td>0.77</td>\n",
              "      <td>0.58</td>\n",
              "      <td>0.66</td>\n",
              "      <td>0.80</td>\n",
              "      <td>5419.0</td>\n",
              "      <td>0.79</td>\n",
              "      <td>0.74</td>\n",
              "      <td>0.76</td>\n",
              "    </tr>\n",
              "    <tr>\n",
              "      <th>1</th>\n",
              "      <td>953.0</td>\n",
              "      <td>9966.0</td>\n",
              "      <td>0.81</td>\n",
              "      <td>0.91</td>\n",
              "      <td>0.86</td>\n",
              "      <td>0.80</td>\n",
              "      <td>10919.0</td>\n",
              "      <td>0.79</td>\n",
              "      <td>0.74</td>\n",
              "      <td>0.76</td>\n",
              "    </tr>\n",
              "    <tr>\n",
              "      <th rowspan=\"2\" valign=\"top\">RandomForestClassifier: Train</th>\n",
              "      <th>0</th>\n",
              "      <td>12648.0</td>\n",
              "      <td>1.0</td>\n",
              "      <td>1.00</td>\n",
              "      <td>1.00</td>\n",
              "      <td>1.00</td>\n",
              "      <td>1.00</td>\n",
              "      <td>12649.0</td>\n",
              "      <td>1.00</td>\n",
              "      <td>1.00</td>\n",
              "      <td>1.00</td>\n",
              "    </tr>\n",
              "    <tr>\n",
              "      <th>1</th>\n",
              "      <td>0.0</td>\n",
              "      <td>25473.0</td>\n",
              "      <td>1.00</td>\n",
              "      <td>1.00</td>\n",
              "      <td>1.00</td>\n",
              "      <td>1.00</td>\n",
              "      <td>25473.0</td>\n",
              "      <td>1.00</td>\n",
              "      <td>1.00</td>\n",
              "      <td>1.00</td>\n",
              "    </tr>\n",
              "    <tr>\n",
              "      <th rowspan=\"2\" valign=\"top\">RandomForestClassifier: Test</th>\n",
              "      <th>0</th>\n",
              "      <td>4059.0</td>\n",
              "      <td>1360.0</td>\n",
              "      <td>0.80</td>\n",
              "      <td>0.75</td>\n",
              "      <td>0.77</td>\n",
              "      <td>0.85</td>\n",
              "      <td>5419.0</td>\n",
              "      <td>0.84</td>\n",
              "      <td>0.83</td>\n",
              "      <td>0.83</td>\n",
              "    </tr>\n",
              "    <tr>\n",
              "      <th>1</th>\n",
              "      <td>1010.0</td>\n",
              "      <td>9909.0</td>\n",
              "      <td>0.88</td>\n",
              "      <td>0.91</td>\n",
              "      <td>0.89</td>\n",
              "      <td>0.85</td>\n",
              "      <td>10919.0</td>\n",
              "      <td>0.84</td>\n",
              "      <td>0.83</td>\n",
              "      <td>0.83</td>\n",
              "    </tr>\n",
              "    <tr>\n",
              "      <th rowspan=\"2\" valign=\"top\">RandomForestClassifier: Train</th>\n",
              "      <th>0</th>\n",
              "      <td>11811.0</td>\n",
              "      <td>838.0</td>\n",
              "      <td>0.99</td>\n",
              "      <td>0.93</td>\n",
              "      <td>0.96</td>\n",
              "      <td>0.97</td>\n",
              "      <td>12649.0</td>\n",
              "      <td>0.98</td>\n",
              "      <td>0.96</td>\n",
              "      <td>0.97</td>\n",
              "    </tr>\n",
              "    <tr>\n",
              "      <th>1</th>\n",
              "      <td>166.0</td>\n",
              "      <td>25307.0</td>\n",
              "      <td>0.97</td>\n",
              "      <td>0.99</td>\n",
              "      <td>0.98</td>\n",
              "      <td>0.97</td>\n",
              "      <td>25473.0</td>\n",
              "      <td>0.98</td>\n",
              "      <td>0.96</td>\n",
              "      <td>0.97</td>\n",
              "    </tr>\n",
              "    <tr>\n",
              "      <th rowspan=\"2\" valign=\"top\">RandomForestClassifier: Test</th>\n",
              "      <th>0</th>\n",
              "      <td>4051.0</td>\n",
              "      <td>1368.0</td>\n",
              "      <td>0.82</td>\n",
              "      <td>0.75</td>\n",
              "      <td>0.78</td>\n",
              "      <td>0.86</td>\n",
              "      <td>5419.0</td>\n",
              "      <td>0.85</td>\n",
              "      <td>0.83</td>\n",
              "      <td>0.84</td>\n",
              "    </tr>\n",
              "    <tr>\n",
              "      <th>1</th>\n",
              "      <td>913.0</td>\n",
              "      <td>10006.0</td>\n",
              "      <td>0.88</td>\n",
              "      <td>0.92</td>\n",
              "      <td>0.90</td>\n",
              "      <td>0.86</td>\n",
              "      <td>10919.0</td>\n",
              "      <td>0.85</td>\n",
              "      <td>0.83</td>\n",
              "      <td>0.84</td>\n",
              "    </tr>\n",
              "    <tr>\n",
              "      <th rowspan=\"2\" valign=\"top\">KNeighborsClassifier: Train</th>\n",
              "      <th>0</th>\n",
              "      <td>3754.0</td>\n",
              "      <td>8895.0</td>\n",
              "      <td>0.60</td>\n",
              "      <td>0.30</td>\n",
              "      <td>0.40</td>\n",
              "      <td>0.70</td>\n",
              "      <td>12649.0</td>\n",
              "      <td>0.66</td>\n",
              "      <td>0.60</td>\n",
              "      <td>0.60</td>\n",
              "    </tr>\n",
              "    <tr>\n",
              "      <th>1</th>\n",
              "      <td>2490.0</td>\n",
              "      <td>22983.0</td>\n",
              "      <td>0.72</td>\n",
              "      <td>0.90</td>\n",
              "      <td>0.80</td>\n",
              "      <td>0.70</td>\n",
              "      <td>25473.0</td>\n",
              "      <td>0.66</td>\n",
              "      <td>0.60</td>\n",
              "      <td>0.60</td>\n",
              "    </tr>\n",
              "    <tr>\n",
              "      <th rowspan=\"2\" valign=\"top\">KNeighborsClassifier: Test</th>\n",
              "      <th>0</th>\n",
              "      <td>1519.0</td>\n",
              "      <td>3900.0</td>\n",
              "      <td>0.56</td>\n",
              "      <td>0.28</td>\n",
              "      <td>0.37</td>\n",
              "      <td>0.69</td>\n",
              "      <td>5419.0</td>\n",
              "      <td>0.64</td>\n",
              "      <td>0.59</td>\n",
              "      <td>0.58</td>\n",
              "    </tr>\n",
              "    <tr>\n",
              "      <th>1</th>\n",
              "      <td>1197.0</td>\n",
              "      <td>9722.0</td>\n",
              "      <td>0.71</td>\n",
              "      <td>0.89</td>\n",
              "      <td>0.79</td>\n",
              "      <td>0.69</td>\n",
              "      <td>10919.0</td>\n",
              "      <td>0.64</td>\n",
              "      <td>0.59</td>\n",
              "      <td>0.58</td>\n",
              "    </tr>\n",
              "  </tbody>\n",
              "</table>\n",
              "</div>"
            ],
            "text/plain": [
              "                                               0  ...  f1-score_avg\n",
              "name                              index           ...              \n",
              "LogisticRegression: Train         0          0.0  ...          0.40\n",
              "                                  1          0.0  ...          0.40\n",
              "LogisticRegression: Test          0          0.0  ...          0.40\n",
              "                                  1          0.0  ...          0.40\n",
              "LogisticRegression: Train         0          0.0  ...          0.40\n",
              "                                  1          0.0  ...          0.40\n",
              "LogisticRegression: Test          0          0.0  ...          0.40\n",
              "                                  1          0.0  ...          0.40\n",
              "GradientBoostingClassifier: Train 0       7929.0  ...          0.79\n",
              "                                  1       2101.0  ...          0.79\n",
              "GradientBoostingClassifier: Test  0       3409.0  ...          0.78\n",
              "                                  1        957.0  ...          0.78\n",
              "AdaBoostClassifier: Train         0       7794.0  ...          0.76\n",
              "                                  1       2735.0  ...          0.76\n",
              "AdaBoostClassifier: Test          0       3334.0  ...          0.76\n",
              "                                  1       1212.0  ...          0.76\n",
              "AdaBoostClassifier: Train         0       7278.0  ...          0.76\n",
              "                                  1       2129.0  ...          0.76\n",
              "AdaBoostClassifier: Test          0       3121.0  ...          0.76\n",
              "                                  1        953.0  ...          0.76\n",
              "RandomForestClassifier: Train     0      12648.0  ...          1.00\n",
              "                                  1          0.0  ...          1.00\n",
              "RandomForestClassifier: Test      0       4059.0  ...          0.83\n",
              "                                  1       1010.0  ...          0.83\n",
              "RandomForestClassifier: Train     0      11811.0  ...          0.97\n",
              "                                  1        166.0  ...          0.97\n",
              "RandomForestClassifier: Test      0       4051.0  ...          0.84\n",
              "                                  1        913.0  ...          0.84\n",
              "KNeighborsClassifier: Train       0       3754.0  ...          0.60\n",
              "                                  1       2490.0  ...          0.60\n",
              "KNeighborsClassifier: Test        0       1519.0  ...          0.58\n",
              "                                  1       1197.0  ...          0.58\n",
              "\n",
              "[32 rows x 10 columns]"
            ]
          },
          "metadata": {
            "tags": []
          }
        },
        {
          "output_type": "display_data",
          "data": {
            "image/png": "[encoded data removed]",
            "text/plain": [
              "<Figure size 360x360 with 1 Axes>"
            ]
          },
          "metadata": {
            "tags": [],
            "needs_background": "light"
          }
        },
        {
          "output_type": "display_data",
          "data": {
            "image/png": "[encoded data removed]",
            "text/plain": [
              "<Figure size 360x360 with 1 Axes>"
            ]
          },
          "metadata": {
            "tags": [],
            "needs_background": "light"
          }
        },
        {
          "output_type": "display_data",
          "data": {
            "image/png": "[encoded data removed]",
            "text/plain": [
              "<Figure size 360x360 with 1 Axes>"
            ]
          },
          "metadata": {
            "tags": [],
            "needs_background": "light"
          }
        },
        {
          "output_type": "display_data",
          "data": {
            "image/png": "[encoded data removed]",
            "text/plain": [
              "<Figure size 360x360 with 1 Axes>"
            ]
          },
          "metadata": {
            "tags": [],
            "needs_background": "light"
          }
        }
      ]
    },
    {
      "cell_type": "markdown",
      "metadata": {
        "id": "RBQIPpoUev6b"
      },
      "source": [
        "## Grid Search for hyperparameters - on best model RandonForest"
      ]
    },
    {
      "cell_type": "code",
      "metadata": {
        "id": "oXdxQNNqgeKT"
      },
      "source": [
        "GS = False\n",
        "if GS:\n",
        "  clf_RF = RandomForestClassifier(n_estimators=64)\n",
        "  clf_RF.fit(X_train, y_train)\n",
        "  p(clf_RF.score(X_train, y_train))\n",
        "  p(clf_RF.score(X_test, y_test))"
      ],
      "execution_count": 52,
      "outputs": []
    },
    {
      "cell_type": "code",
      "metadata": {
        "id": "l0bYwKFvemoO"
      },
      "source": [
        "if GS:\n",
        "  param_grid = { \n",
        "  #    'max_depth' : [None, 4,5,6,7,8],\n",
        "      'n_estimators': [64, 200, 500],\n",
        "      'max_features': ['auto', 'sqrt', 'log2', 1.0, 0.75, 0.5, 0.25],\n",
        "      'criterion' :['gini', 'entropy'], \n",
        "      'max_leaf_nodes': [None, 4, 10, 20],\n",
        "      'min_samples_split': [2, 4, 6, 8, 10, 12, 14]\n",
        "  }\n",
        "  param_grid0 = { \n",
        "    'max_depth' : [None, 4,5,6,7,8],   # done seperately - result is None\n",
        "  }\n",
        "\n",
        "  clf_RF = RandomForestClassifier()\n",
        "  clf_gs = GridSearchCV(clf_RF, param_grid, cv=5, verbose=4)\n",
        "  clf_gs.fit(X_train, y_train)\n",
        "\n",
        "  p('Results')\n",
        "  clf_gs.estimator\n",
        "  p(clf_gs.best_params_)\n",
        "  p(clf_gs.best_estimator_)"
      ],
      "execution_count": 53,
      "outputs": []
    },
    {
      "cell_type": "code",
      "metadata": {
        "id": "r3sRrt4ohGgK"
      },
      "source": [
        "if GS:\n",
        "  p(clf_gs.score(X_train, y_train))\n",
        "  p(clf_gs.score(X_test, y_test))"
      ],
      "execution_count": 54,
      "outputs": []
    },
    {
      "cell_type": "markdown",
      "metadata": {
        "id": "Y6u7kMudO1IA"
      },
      "source": [
        "# TODO:"
      ]
    },
    {
      "cell_type": "markdown",
      "metadata": {
        "id": "W6tvvVZVRJz4"
      },
      "source": [
        "## cross validation"
      ]
    },
    {
      "cell_type": "code",
      "metadata": {
        "id": "KVpG8EqBEc4y"
      },
      "source": [
        "if False:\n",
        "  \n",
        "  from sklearn.ensemble import VotingClassifier\n",
        "\n",
        "  process_model(VotingClassifier(estimators=[('GBR', model1), ('BR', model2), ('KNN', model3)], voting='soft'))"
      ],
      "execution_count": 55,
      "outputs": []
    },
    {
      "cell_type": "markdown",
      "metadata": {
        "id": "aAGxvaPEO3jo"
      },
      "source": [
        "## run a model with the important feature alone to show is it a must or just necessary (if the drop in precision is large it is not a must)?"
      ]
    },
    {
      "cell_type": "markdown",
      "metadata": {
        "id": "Uos9bzosB7dU"
      },
      "source": [
        "## Bagging (Bootstrap Aggregation)\n",
        "\n",
        "> One classifier (\"base model\") and try to fit many different subsamples of the data\n",
        "\n",
        "> The hyper-parameters \"max_samples\" and \"max_features\" control the size of the subsets\n",
        "\n",
        "> The hyper-parameters \"bootstrap\" and \"bootstrap_features\" control wether the samples and the features are drawn with (or without) replacement"
      ]
    },
    {
      "cell_type": "code",
      "metadata": {
        "id": "w2w3COM6AL52"
      },
      "source": [
        "clf_base = DecisionTreeClassifier(max_depth=5)"
      ],
      "execution_count": 56,
      "outputs": []
    },
    {
      "cell_type": "code",
      "metadata": {
        "id": "nSPZOa5kCW62",
        "colab": {
          "base_uri": "https://localhost:8080/"
        },
        "outputId": "15dd2b96-9d1c-4f5f-d9ce-f70212c04284"
      },
      "source": [
        "clf_bagging = BaggingClassifier(base_estimator=clf_base, n_estimators=50)\n",
        "clf_bagging.fit(X_train, y_train)\n",
        "\n",
        "clf_bagging.score(X_train, y_train)\n",
        "clf_bagging.score(X_test, y_test)"
      ],
      "execution_count": 57,
      "outputs": [
        {
          "output_type": "execute_result",
          "data": {
            "text/plain": [
              "0.7863875627371771"
            ]
          },
          "metadata": {
            "tags": []
          },
          "execution_count": 57
        }
      ]
    },
    {
      "cell_type": "markdown",
      "metadata": {
        "id": "_e8SpyWLhzKl"
      },
      "source": [
        "## Correlation"
      ]
    }
  ]
}