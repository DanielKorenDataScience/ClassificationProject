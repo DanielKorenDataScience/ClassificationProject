{
  "nbformat": 4,
  "nbformat_minor": 0,
  "metadata": {
    "colab": {
      "name": "Classification Project - Shufersal.ipynb",
      "provenance": [],
      "toc_visible": true,
      "include_colab_link": true
    },
    "kernelspec": {
      "name": "python3",
      "display_name": "Python 3"
    },
    "language_info": {
      "name": "python"
    }
  },
  "cells": [
    {
      "cell_type": "markdown",
      "metadata": {
        "id": "view-in-github",
        "colab_type": "text"
      },
      "source": [
        "<a href=\"https://colab.research.google.com/github/DanielKorenDataScience/ClassificationProject/blob/main/Classification_Project_Shufersal.ipynb\" target=\"_parent\"><img src=\"https://colab.research.google.com/assets/colab-badge.svg\" alt=\"Open In Colab\"/></a>"
      ]
    },
    {
      "cell_type": "markdown",
      "metadata": {
        "id": "AsgFwVtRbySD"
      },
      "source": [
        "Classification Project\n",
        "\n",
        "for Shufersal on-line orders, for replacing of missing products, will predict the replacement success!"
      ]
    },
    {
      "cell_type": "code",
      "metadata": {
        "id": "yGba9FH7bxTM"
      },
      "source": [
        "import requests\n",
        "import pandas as pd\n",
        "import matplotlib.pyplot as plt\n",
        "import numpy as np\n",
        "\n",
        "from IPython.display import display\n",
        "p = print\n",
        "d = display"
      ],
      "execution_count": 1,
      "outputs": []
    },
    {
      "cell_type": "markdown",
      "metadata": {
        "id": "K5fip8cGHkql"
      },
      "source": [
        "# Get Data"
      ]
    },
    {
      "cell_type": "markdown",
      "metadata": {
        "id": "KWnIiiXgmFyP"
      },
      "source": [
        "## Raw Data"
      ]
    },
    {
      "cell_type": "markdown",
      "metadata": {
        "id": "GZFzr7XVD0DP"
      },
      "source": [
        "To run the raw section, one must load Sweets_ver2.csv to local google drive and change the next line to True"
      ]
    },
    {
      "cell_type": "code",
      "metadata": {
        "id": "UvzC3e_IDvSd"
      },
      "source": [
        "RAW = False"
      ],
      "execution_count": 57,
      "outputs": []
    },
    {
      "cell_type": "code",
      "metadata": {
        "id": "Sp4iGxceSita"
      },
      "source": [
        "def get_raw(fname):\n",
        "  data_url = 'https://github.com/DanielKorenDataScience/ClassificationProject/blob/main/' + fname + '.csv?raw=true'\n",
        "  resp = requests.get(data_url)\n",
        "  text = resp.text\n",
        "  \n",
        "  with open(fname + '.csv', 'w') as fh:\n",
        "    fh.write(text)"
      ],
      "execution_count": 4,
      "outputs": []
    },
    {
      "cell_type": "code",
      "metadata": {
        "id": "a4g1hSQGEQcR"
      },
      "source": [
        "def diff_list(li1, li2):\n",
        "  return [i for i in li1 + li2 if i not in li1 or i not in li2]"
      ],
      "execution_count": 5,
      "outputs": []
    },
    {
      "cell_type": "code",
      "metadata": {
        "id": "VoP0C8qFhCkD"
      },
      "source": [
        "if RAW:    \n",
        "  df1 = pd.read_csv('/content/drive/MyDrive/Sweets_ver2.csv', encoding='ISO-8859-8', nrows=1)\n",
        "  df2 = pd.read_csv('/content/drive/MyDrive/Sweets_ver2.csv', encoding='ISO-8859-8', usecols=[i for i in range(82) if not i in[0,8,10,12,14,16,18,20,24,26,27,48,50,52,54,56,58,62,64,65]])"
      ],
      "execution_count": 6,
      "outputs": []
    },
    {
      "cell_type": "code",
      "metadata": {
        "colab": {
          "base_uri": "https://localhost:8080/"
        },
        "id": "OoLJ64bX96dr",
        "outputId": "36d3abac-06af-470e-f91b-81e4f4cd442b"
      },
      "source": [
        "from google.colab import drive\n",
        "drive.mount('/content/drive')"
      ],
      "execution_count": 7,
      "outputs": [
        {
          "output_type": "stream",
          "text": [
            "Drive already mounted at /content/drive; to attempt to forcibly remount, call drive.mount(\"/content/drive\", force_remount=True).\n"
          ],
          "name": "stdout"
        }
      ]
    },
    {
      "cell_type": "code",
      "metadata": {
        "colab": {
          "base_uri": "https://localhost:8080/"
        },
        "id": "RH3d6JNO-dlJ",
        "outputId": "83b02dcc-b529-4dcd-e50a-accb2121eea9"
      },
      "source": [
        "df1.info()"
      ],
      "execution_count": 8,
      "outputs": [
        {
          "output_type": "stream",
          "text": [
            "<class 'pandas.core.frame.DataFrame'>\n",
            "RangeIndex: 1 entries, 0 to 0\n",
            "Data columns (total 82 columns):\n",
            " #   Column                      Non-Null Count  Dtype  \n",
            "---  ------                      --------------  -----  \n",
            " 0   OrderNumbert                1 non-null      int64  \n",
            " 1   HouseHoldID                 1 non-null      int64  \n",
            " 2   LocationCityName            1 non-null      object \n",
            " 3   QuarterNumber               1 non-null      int64  \n",
            " 4   MonthNumber                 1 non-null      int64  \n",
            " 5   WeekNumber                  1 non-null      int64  \n",
            " 6   DayNumberInWeek             1 non-null      int64  \n",
            " 7   PeriodHoliday               1 non-null      object \n",
            " 8   TransactionDate             1 non-null      object \n",
            " 9   DepartmentCode              1 non-null      int64  \n",
            " 10  DepartmentName              1 non-null      object \n",
            " 11  CategoryCode                1 non-null      int64  \n",
            " 12  CategoryName                1 non-null      object \n",
            " 13  GroupCode                   1 non-null      int64  \n",
            " 14  GroupName                   1 non-null      object \n",
            " 15  SubGroupCode                1 non-null      int64  \n",
            " 16  SubGroupName                1 non-null      object \n",
            " 17  CompoundID                  1 non-null      int64  \n",
            " 18  CompoundIDDesc              1 non-null      object \n",
            " 19  ParentProductNumber         1 non-null      int64  \n",
            " 20  ProductDescription          1 non-null      object \n",
            " 21  BrandIndDesc                1 non-null      object \n",
            " 22  BrandName                   1 non-null      object \n",
            " 23  VendorNumber                1 non-null      int64  \n",
            " 24  VendorName                  1 non-null      object \n",
            " 25  UnitOfMeasure               1 non-null      float64\n",
            " 26  ItemsPerPackageWH           1 non-null      int64  \n",
            " 27  DescriptionTavit            1 non-null      object \n",
            " 28  Price                       1 non-null      float64\n",
            " 29  Quantity                    1 non-null      int64  \n",
            " 30  cntPrdAll                   1 non-null      int64  \n",
            " 31  NetSaleAmountAll            1 non-null      float64\n",
            " 32  NetSaleNoVatPrdLast3Months  1 non-null      float64\n",
            " 33  QuantSale                   1 non-null      float64\n",
            " 34  cntMonths                   1 non-null      int64  \n",
            " 35  DiscountPerUnit             0 non-null      float64\n",
            " 36  isPromo                     1 non-null      object \n",
            " 37  Energy                      1 non-null      int64  \n",
            " 38  Pachmema                    1 non-null      float64\n",
            " 39  Natran                      1 non-null      int64  \n",
            " 40  Helbon                      1 non-null      float64\n",
            " 41  Shuman                      1 non-null      float64\n",
            " 42  ShumanRavuy                 1 non-null      float64\n",
            " 43  ShumanTrans                 1 non-null      float64\n",
            " 44  Colastrol                   1 non-null      int64  \n",
            " 45  SivimTzunatim               0 non-null      float64\n",
            " 46  CafiotSucar                 0 non-null      float64\n",
            " 47  DepartmentCodeSubs          1 non-null      int64  \n",
            " 48  DepartmentNameSusb          1 non-null      object \n",
            " 49  CategoryCodeSubs            1 non-null      int64  \n",
            " 50  CategoryNameSubs            1 non-null      object \n",
            " 51  GroupCodeSubs               1 non-null      int64  \n",
            " 52  GroupNameSubs               1 non-null      object \n",
            " 53  SubGroupCodeSubs            1 non-null      int64  \n",
            " 54  SubGroupNameSubs            1 non-null      object \n",
            " 55  CompoundIDSubs              1 non-null      int64  \n",
            " 56  CompoundIDDescSubs          1 non-null      object \n",
            " 57  ProductNumberSubs           1 non-null      int64  \n",
            " 58  ProductDescriptionSubs      1 non-null      object \n",
            " 59  BrandIndDescSuss            1 non-null      object \n",
            " 60  BrandNameSubs               1 non-null      object \n",
            " 61  VendorNumberSubs            1 non-null      int64  \n",
            " 62  VendorNameSubs              1 non-null      object \n",
            " 63  UnitOfMeasureSubs           1 non-null      float64\n",
            " 64  ItemsPerPackageWHSubs       1 non-null      int64  \n",
            " 65  DescriptionTavitSubs        1 non-null      object \n",
            " 66  PriceSubs                   1 non-null      float64\n",
            " 67  NetSaleNoVatPrdSubs         1 non-null      float64\n",
            " 68  QuantSaleSubs               1 non-null      float64\n",
            " 69  cntMonthsSubs               1 non-null      int64  \n",
            " 70  DiscountPerUnitSubs         0 non-null      float64\n",
            " 71  EnergySubs                  0 non-null      float64\n",
            " 72  PachmemaSubs                0 non-null      float64\n",
            " 73  NatranSubs                  0 non-null      float64\n",
            " 74  HelbonSubs                  0 non-null      float64\n",
            " 75  ShumanSubs                  0 non-null      float64\n",
            " 76  ShumanRavuySubs             0 non-null      float64\n",
            " 77  ShumanTransSubs             0 non-null      float64\n",
            " 78  ColastrolSubs               0 non-null      float64\n",
            " 79  SivimTzunatimSubs           0 non-null      float64\n",
            " 80  CafiotSucarSusb             0 non-null      float64\n",
            " 81  CorrelateItemStatusCode     1 non-null      int64  \n",
            "dtypes: float64(28), int64(30), object(24)\n",
            "memory usage: 784.0+ bytes\n"
          ],
          "name": "stdout"
        }
      ]
    },
    {
      "cell_type": "markdown",
      "metadata": {
        "id": "YnYOkLt5oySI"
      },
      "source": [
        "Eliminating unwanted columns - mostly descriptive columns"
      ]
    },
    {
      "cell_type": "code",
      "metadata": {
        "id": "zAv5e7lRBzpu",
        "colab": {
          "base_uri": "https://localhost:8080/",
          "height": 372
        },
        "outputId": "294bfc77-933c-4222-b0df-57a9d26f769b"
      },
      "source": [
        "if RAW:\n",
        "  d(diff_list(list(df1.columns), list(df2.columns)))"
      ],
      "execution_count": 9,
      "outputs": [
        {
          "output_type": "display_data",
          "data": {
            "text/plain": [
              "['OrderNumbert',\n",
              " 'TransactionDate',\n",
              " 'DepartmentName',\n",
              " 'CategoryName',\n",
              " 'GroupName',\n",
              " 'SubGroupName',\n",
              " 'CompoundIDDesc',\n",
              " 'ProductDescription',\n",
              " 'VendorName',\n",
              " 'ItemsPerPackageWH',\n",
              " 'DescriptionTavit',\n",
              " 'DepartmentNameSusb',\n",
              " 'CategoryNameSubs',\n",
              " 'GroupNameSubs',\n",
              " 'SubGroupNameSubs',\n",
              " 'CompoundIDDescSubs',\n",
              " 'ProductDescriptionSubs',\n",
              " 'VendorNameSubs',\n",
              " 'ItemsPerPackageWHSubs',\n",
              " 'DescriptionTavitSubs']"
            ]
          },
          "metadata": {
            "tags": []
          }
        }
      ]
    },
    {
      "cell_type": "code",
      "metadata": {
        "id": "DNsn5qrnsvYo",
        "colab": {
          "base_uri": "https://localhost:8080/",
          "height": 1000
        },
        "outputId": "7183fd00-5fe9-4ca9-8d96-47dc19900e61"
      },
      "source": [
        "if RAW:\n",
        "  d(df2.info())"
      ],
      "execution_count": 10,
      "outputs": [
        {
          "output_type": "stream",
          "text": [
            "<class 'pandas.core.frame.DataFrame'>\n",
            "RangeIndex: 54460 entries, 0 to 54459\n",
            "Data columns (total 62 columns):\n",
            " #   Column                      Non-Null Count  Dtype  \n",
            "---  ------                      --------------  -----  \n",
            " 0   HouseHoldID                 54460 non-null  int64  \n",
            " 1   LocationCityName            54460 non-null  object \n",
            " 2   QuarterNumber               54460 non-null  int64  \n",
            " 3   MonthNumber                 54460 non-null  int64  \n",
            " 4   WeekNumber                  54460 non-null  int64  \n",
            " 5   DayNumberInWeek             54460 non-null  int64  \n",
            " 6   PeriodHoliday               54460 non-null  object \n",
            " 7   DepartmentCode              54460 non-null  int64  \n",
            " 8   CategoryCode                54460 non-null  int64  \n",
            " 9   GroupCode                   54460 non-null  int64  \n",
            " 10  SubGroupCode                54460 non-null  int64  \n",
            " 11  CompoundID                  54460 non-null  int64  \n",
            " 12  ParentProductNumber         54460 non-null  int64  \n",
            " 13  BrandIndDesc                54460 non-null  object \n",
            " 14  BrandName                   54460 non-null  object \n",
            " 15  VendorNumber                54460 non-null  int64  \n",
            " 16  UnitOfMeasure               54460 non-null  float64\n",
            " 17  Price                       54460 non-null  float64\n",
            " 18  Quantity                    54460 non-null  int64  \n",
            " 19  cntPrdAll                   54460 non-null  int64  \n",
            " 20  NetSaleAmountAll            54460 non-null  float64\n",
            " 21  NetSaleNoVatPrdLast3Months  54200 non-null  float64\n",
            " 22  QuantSale                   52050 non-null  float64\n",
            " 23  cntMonths                   54460 non-null  int64  \n",
            " 24  DiscountPerUnit             32398 non-null  float64\n",
            " 25  isPromo                     54460 non-null  object \n",
            " 26  Energy                      50118 non-null  float64\n",
            " 27  Pachmema                    49682 non-null  float64\n",
            " 28  Natran                      44899 non-null  float64\n",
            " 29  Helbon                      43120 non-null  float64\n",
            " 30  Shuman                      43054 non-null  float64\n",
            " 31  ShumanRavuy                 42542 non-null  float64\n",
            " 32  ShumanTrans                 42294 non-null  float64\n",
            " 33  Colastrol                   35200 non-null  float64\n",
            " 34  SivimTzunatim               10731 non-null  float64\n",
            " 35  CafiotSucar                 31399 non-null  float64\n",
            " 36  DepartmentCodeSubs          54460 non-null  int64  \n",
            " 37  CategoryCodeSubs            54460 non-null  int64  \n",
            " 38  GroupCodeSubs               54460 non-null  int64  \n",
            " 39  SubGroupCodeSubs            54460 non-null  int64  \n",
            " 40  CompoundIDSubs              54460 non-null  int64  \n",
            " 41  ProductNumberSubs           54460 non-null  int64  \n",
            " 42  BrandIndDescSuss            54456 non-null  object \n",
            " 43  BrandNameSubs               54460 non-null  object \n",
            " 44  VendorNumberSubs            54460 non-null  int64  \n",
            " 45  UnitOfMeasureSubs           54460 non-null  float64\n",
            " 46  PriceSubs                   54460 non-null  float64\n",
            " 47  NetSaleNoVatPrdSubs         54235 non-null  float64\n",
            " 48  QuantSaleSubs               52885 non-null  float64\n",
            " 49  cntMonthsSubs               54460 non-null  int64  \n",
            " 50  DiscountPerUnitSubs         2370 non-null   float64\n",
            " 51  EnergySubs                  49638 non-null  float64\n",
            " 52  PachmemaSubs                49328 non-null  float64\n",
            " 53  NatranSubs                  44680 non-null  float64\n",
            " 54  HelbonSubs                  42730 non-null  float64\n",
            " 55  ShumanSubs                  43250 non-null  float64\n",
            " 56  ShumanRavuySubs             42118 non-null  float64\n",
            " 57  ShumanTransSubs             41819 non-null  float64\n",
            " 58  ColastrolSubs               34865 non-null  float64\n",
            " 59  SivimTzunatimSubs           11973 non-null  float64\n",
            " 60  CafiotSucarSusb             30626 non-null  float64\n",
            " 61  CorrelateItemStatusCode     54460 non-null  int64  \n",
            "dtypes: float64(31), int64(24), object(7)\n",
            "memory usage: 25.8+ MB\n"
          ],
          "name": "stdout"
        },
        {
          "output_type": "display_data",
          "data": {
            "text/plain": [
              "None"
            ]
          },
          "metadata": {
            "tags": []
          }
        }
      ]
    },
    {
      "cell_type": "code",
      "metadata": {
        "id": "g8MX6rBCuirA"
      },
      "source": [
        "# Fix Typo mistake\n",
        "if RAW: \n",
        "  df2.rename(columns={'OrderNumbert': 'OrderNumber','BrandIndDescSuss': 'BrandIndDescSubs', 'ProductNumberSubs': 'ParentProductNumberSubs', \n",
        "                    'NetSaleNoVatPrdSubs': 'NetSaleNoVatPrdLast3MonthsSubs', 'CafiotSucarSusb': 'CafiotSucarSubs'}, inplace=True)"
      ],
      "execution_count": 11,
      "outputs": []
    },
    {
      "cell_type": "markdown",
      "metadata": {
        "id": "HmIVwYFDCAX8"
      },
      "source": [
        "Eliminating nulls"
      ]
    },
    {
      "cell_type": "code",
      "metadata": {
        "id": "UQCtiUn0u2i0",
        "colab": {
          "base_uri": "https://localhost:8080/",
          "height": 1000
        },
        "outputId": "35e15836-87d1-4928-d81d-fbba46aacfb7"
      },
      "source": [
        "# Fill na\n",
        "if RAW:\n",
        "  df2.fillna({'QuantSale': 1, 'QuantSaleSubs': 1}, inplace=True)\n",
        "  df2.fillna(0, inplace=True)\n",
        "  d(df2.info())"
      ],
      "execution_count": 12,
      "outputs": [
        {
          "output_type": "stream",
          "text": [
            "<class 'pandas.core.frame.DataFrame'>\n",
            "RangeIndex: 54460 entries, 0 to 54459\n",
            "Data columns (total 62 columns):\n",
            " #   Column                          Non-Null Count  Dtype  \n",
            "---  ------                          --------------  -----  \n",
            " 0   HouseHoldID                     54460 non-null  int64  \n",
            " 1   LocationCityName                54460 non-null  object \n",
            " 2   QuarterNumber                   54460 non-null  int64  \n",
            " 3   MonthNumber                     54460 non-null  int64  \n",
            " 4   WeekNumber                      54460 non-null  int64  \n",
            " 5   DayNumberInWeek                 54460 non-null  int64  \n",
            " 6   PeriodHoliday                   54460 non-null  object \n",
            " 7   DepartmentCode                  54460 non-null  int64  \n",
            " 8   CategoryCode                    54460 non-null  int64  \n",
            " 9   GroupCode                       54460 non-null  int64  \n",
            " 10  SubGroupCode                    54460 non-null  int64  \n",
            " 11  CompoundID                      54460 non-null  int64  \n",
            " 12  ParentProductNumber             54460 non-null  int64  \n",
            " 13  BrandIndDesc                    54460 non-null  object \n",
            " 14  BrandName                       54460 non-null  object \n",
            " 15  VendorNumber                    54460 non-null  int64  \n",
            " 16  UnitOfMeasure                   54460 non-null  float64\n",
            " 17  Price                           54460 non-null  float64\n",
            " 18  Quantity                        54460 non-null  int64  \n",
            " 19  cntPrdAll                       54460 non-null  int64  \n",
            " 20  NetSaleAmountAll                54460 non-null  float64\n",
            " 21  NetSaleNoVatPrdLast3Months      54460 non-null  float64\n",
            " 22  QuantSale                       54460 non-null  float64\n",
            " 23  cntMonths                       54460 non-null  int64  \n",
            " 24  DiscountPerUnit                 54460 non-null  float64\n",
            " 25  isPromo                         54460 non-null  object \n",
            " 26  Energy                          54460 non-null  float64\n",
            " 27  Pachmema                        54460 non-null  float64\n",
            " 28  Natran                          54460 non-null  float64\n",
            " 29  Helbon                          54460 non-null  float64\n",
            " 30  Shuman                          54460 non-null  float64\n",
            " 31  ShumanRavuy                     54460 non-null  float64\n",
            " 32  ShumanTrans                     54460 non-null  float64\n",
            " 33  Colastrol                       54460 non-null  float64\n",
            " 34  SivimTzunatim                   54460 non-null  float64\n",
            " 35  CafiotSucar                     54460 non-null  float64\n",
            " 36  DepartmentCodeSubs              54460 non-null  int64  \n",
            " 37  CategoryCodeSubs                54460 non-null  int64  \n",
            " 38  GroupCodeSubs                   54460 non-null  int64  \n",
            " 39  SubGroupCodeSubs                54460 non-null  int64  \n",
            " 40  CompoundIDSubs                  54460 non-null  int64  \n",
            " 41  ParentProductNumberSubs         54460 non-null  int64  \n",
            " 42  BrandIndDescSubs                54460 non-null  object \n",
            " 43  BrandNameSubs                   54460 non-null  object \n",
            " 44  VendorNumberSubs                54460 non-null  int64  \n",
            " 45  UnitOfMeasureSubs               54460 non-null  float64\n",
            " 46  PriceSubs                       54460 non-null  float64\n",
            " 47  NetSaleNoVatPrdLast3MonthsSubs  54460 non-null  float64\n",
            " 48  QuantSaleSubs                   54460 non-null  float64\n",
            " 49  cntMonthsSubs                   54460 non-null  int64  \n",
            " 50  DiscountPerUnitSubs             54460 non-null  float64\n",
            " 51  EnergySubs                      54460 non-null  float64\n",
            " 52  PachmemaSubs                    54460 non-null  float64\n",
            " 53  NatranSubs                      54460 non-null  float64\n",
            " 54  HelbonSubs                      54460 non-null  float64\n",
            " 55  ShumanSubs                      54460 non-null  float64\n",
            " 56  ShumanRavuySubs                 54460 non-null  float64\n",
            " 57  ShumanTransSubs                 54460 non-null  float64\n",
            " 58  ColastrolSubs                   54460 non-null  float64\n",
            " 59  SivimTzunatimSubs               54460 non-null  float64\n",
            " 60  CafiotSucarSubs                 54460 non-null  float64\n",
            " 61  CorrelateItemStatusCode         54460 non-null  int64  \n",
            "dtypes: float64(31), int64(24), object(7)\n",
            "memory usage: 25.8+ MB\n"
          ],
          "name": "stdout"
        },
        {
          "output_type": "display_data",
          "data": {
            "text/plain": [
              "None"
            ]
          },
          "metadata": {
            "tags": []
          }
        }
      ]
    },
    {
      "cell_type": "code",
      "metadata": {
        "id": "HABZ4mSww0qk",
        "colab": {
          "base_uri": "https://localhost:8080/"
        },
        "outputId": "80b7dd4a-b89a-4b22-d656-17fa8230af8c"
      },
      "source": [
        "if RAW:\n",
        "  df2.to_csv(\"Shufersal.csv\", index = False)\n",
        "  p(df2.shape)"
      ],
      "execution_count": 13,
      "outputs": [
        {
          "output_type": "stream",
          "text": [
            "(54460, 62)\n"
          ],
          "name": "stdout"
        }
      ]
    },
    {
      "cell_type": "code",
      "metadata": {
        "id": "lqhgbV2PGVDC",
        "colab": {
          "base_uri": "https://localhost:8080/"
        },
        "outputId": "f623e38e-029f-4e68-ecb7-b6f6522cab7e"
      },
      "source": [
        "if RAW:\n",
        "  df = pd.read_csv('Shufersal.csv', index_col=False)\n",
        "  p(df.shape)"
      ],
      "execution_count": 43,
      "outputs": [
        {
          "output_type": "stream",
          "text": [
            "(54460, 62)\n"
          ],
          "name": "stdout"
        }
      ]
    },
    {
      "cell_type": "markdown",
      "metadata": {
        "id": "renJj2--1PoG"
      },
      "source": [
        "## Encoding categories"
      ]
    },
    {
      "cell_type": "code",
      "metadata": {
        "colab": {
          "base_uri": "https://localhost:8080/"
        },
        "id": "Z0frP-SsM4Gq",
        "outputId": "9f780220-5a8a-4187-b6fb-c1ccb1b9d835"
      },
      "source": [
        "from sklearn.preprocessing import LabelEncoder\n",
        "enc = LabelEncoder()\n",
        "\n",
        "if RAW:\n",
        "  enc.fit(['noPromo', 'PromoSusbSamePromo', 'PromoSusbDiffPromo'])\n",
        "  p(df.isPromo.value_counts())\n",
        "  p()\n",
        "  df.isPromo = enc.transform(df.isPromo)\n",
        "  p(df.isPromo.value_counts())"
      ],
      "execution_count": 44,
      "outputs": [
        {
          "output_type": "stream",
          "text": [
            "PromoSusbDiffPromo    30490\n",
            "noPromo               22062\n",
            "PromoSusbSamePromo     1908\n",
            "Name: isPromo, dtype: int64\n",
            "\n",
            "0    30490\n",
            "2    22062\n",
            "1     1908\n",
            "Name: isPromo, dtype: int64\n"
          ],
          "name": "stdout"
        }
      ]
    },
    {
      "cell_type": "code",
      "metadata": {
        "id": "CXZ6Hs2L1ONt",
        "colab": {
          "base_uri": "https://localhost:8080/"
        },
        "outputId": "0b9ab061-c2fa-41ad-eb92-ea9099e2c78d"
      },
      "source": [
        "if RAW:\n",
        "  for col in ['LocationCityName', 'PeriodHoliday', 'BrandIndDesc', 'BrandName', 'BrandIndDescSubs', 'BrandNameSubs']:\n",
        "    p(col)\n",
        "    p(pd.DataFrame(df[col].value_counts()).index)\n",
        "    df[col] = enc.fit_transform(df[col])\n",
        "    p(pd.DataFrame(df[col].value_counts()).index)"
      ],
      "execution_count": 45,
      "outputs": [
        {
          "output_type": "stream",
          "text": [
            "LocationCityName\n",
            "Index(['ראשון לציון', 'תל אביב', 'חיפה', 'רחובות', 'ירושלים', 'כפר סבא',\n",
            "       'פתח תקוה', 'ראש העין', 'רמת גן', 'רעננה', 'רמת השרון', 'נס ציונה',\n",
            "       'מודיעין', 'חולון', 'גבעתיים', 'נתניה', 'הוד השרון', 'אילת', 'יהוד',\n",
            "       'אשקלון', 'קרית מוצקין', 'חריש', 'כרמיאל', 'הרצליה', 'רמת אביב א',\n",
            "       'שוהם', 'עפולה', 'באר יעקב', 'צור-יגאל', 'ערד', 'מזכרת בתיה', 'בני ברק',\n",
            "       'חדרה', 'טירת הכרמל', 'מעלה אדומים', 'ירוחם', 'זכרון יעקב', 'רמלה',\n",
            "       'בנימינה', 'קרית שמונה', 'מגדל העמק', 'יבנה', 'אור עקיבא', 'קרית אתא',\n",
            "       'קרית ביאליק', 'עמק חפר', 'קרית עקרון', 'תל מונד', 'בת ים', 'קצרין',\n",
            "       'בית שאן', 'פרדס חנה', 'מבשרת ציון', 'בית-שמש', 'כפר תבור',\n",
            "       'משמר השרון', 'פרדסיה', 'שדרות', 'קרית גת', 'נהריה', 'אריאל', 'טבריה',\n",
            "       'צור משה', 'כרכור', 'אשדוד', 'קרית חיים', 'מפרץ חיפה', 'גבעת אולגה',\n",
            "       'מעלות', 'נשר', 'באר טוביה', 'צפת', 'כפר ורדים', 'חצור-הגלילית',\n",
            "       'אופקים', 'בית חשמונאי', 'גבעת עדה', 'בת חפר', 'גבעת שמואל', 'שילת',\n",
            "       'באר שבע', 'גדרה', 'קרית אונו', 'כפר נטר', 'צור הדסה', 'אזור',\n",
            "       'צומת כרכור', 'טבעון', 'נוף הגליל', 'עכו', 'ראש פינה', 'יקנעם',\n",
            "       'דימונה', 'מיתר', 'בני דרור', 'סביון', 'צורן קדימה', 'קריית שמונה',\n",
            "       'נשר חיפה'],\n",
            "      dtype='object')\n",
            "Int64Index([87, 97, 29, 88, 39, 42, 68, 85, 91, 93, 92, 57, 48, 28, 21, 60, 24,\n",
            "             3, 36,  6, 82, 31, 45, 25, 90, 95, 64,  8, 72, 65, 49, 13, 27, 34,\n",
            "            51, 38, 26, 89, 15, 84, 47, 35,  1, 78, 79, 63, 98, 83, 17, 75, 11,\n",
            "            66, 46, 12, 43, 54, 67, 94, 80, 55,  4, 71, 33, 44,  5, 81, 53, 52,\n",
            "            18, 58, 74,  7, 30, 40,  0, 10, 19, 16, 20, 96,  9, 22, 77, 41,  2,\n",
            "            70, 32, 62, 86, 56, 69, 37, 50, 23, 61, 14, 73, 76, 59],\n",
            "           dtype='int64')\n",
            "PeriodHoliday\n",
            "Index(['NotHoliday', 'HolidayPeriod'], dtype='object')\n",
            "Int64Index([1, 0], dtype='int64')\n",
            "BrandIndDesc\n",
            "Index(['פרה', 'קינדר', 'עלית', 'קליק', 'שופרסל', 'M&M', 'מאסט', 'מילקה',\n",
            "       'לינדט', 'אורביט', 'יוגטה', 'מנטוס', 'פסק זמן', 'שטראוס', 'ספלנדיד',\n",
            "       'טוויקס', 'נסטלה', 'גודייבה', 'ריטר ספורט', 'פריי', 'סקיטלס', 'פשקס',\n",
            "       'צ'וקטה', 'ורד הגליל', 'כרמית', 'פררו', 'סניקרס', 'הרשי', 'מליטיזרס',\n",
            "       'טיק טק', 'FIVE', 'ורטר', 'מוצרט', 'אתי', 'שטורק', 'איירוויבז', 'לואקר',\n",
            "       'הריבו', 'לריטייר', 'מרס', 'מנבו', 'טופיפי', 'DISNEY', 'פיקניק',\n",
            "       'מייק&אייק', 'באונטי', 'בי קיינד', 'נוטלה', 'קדבורי', 'פרניגוטי',\n",
            "       'טובלרון', 'ORIGINAL', 'הובה בובה', 'קוטדור', 'באצ'י', 'פז', 'המלט',\n",
            "       'שוקול'ס', 'הולי קקאו'],\n",
            "      dtype='object')\n",
            "Int64Index([44, 52, 40, 53, 55,  2, 27, 30, 25,  4, 22, 33, 43, 58, 38, 19, 36,\n",
            "            10, 54, 45, 39, 48, 49, 16, 23, 47, 37, 15, 31, 21,  1, 17, 28,  6,\n",
            "            57,  5, 24, 14, 26, 34, 32, 20,  0, 42, 29,  7,  9, 35, 50, 46, 11,\n",
            "             3, 18, 51,  8, 41, 13, 12, 56],\n",
            "           dtype='int64')\n",
            "BrandName\n",
            "Index(['לא מותג פרטי', 'מותג פרטי'], dtype='object')\n",
            "Int64Index([0, 1], dtype='int64')\n",
            "BrandIndDescSubs\n",
            "Index(['פרה', 'קינדר', 'עלית', 'שופרסל', 'קליק', 'M&M', 'מילקה', 'מאסט',\n",
            "       'לינדט', 'אורביט', 'יוגטה', 'מנטוס', 'פסק זמן', 'ספלנדיד', 'נסטלה',\n",
            "       'ריטר ספורט', 'פריי', 'מנבו', 'פשקס', 'סניקרס', 'גודייבה', 'צ'וקטה',\n",
            "       'שטראוס', 'סקיטלס', 'טוויקס', 'כרמית', 'פררו', 'ורטר', 'טיק טק', 'FIVE',\n",
            "       'מוצרט', 'אתי', 'הרשי', 'איירוויבז', 'DISNEY', 'שטורק', 'מרס', 'לואקר',\n",
            "       'באונטי', 'ורד הגליל', 'הריבו', 'טופיפי', 'מייק&אייק', 'בי קיינד',\n",
            "       'מליטיזרס', 'נוטלה', 'לריטייר', 'פיקניק', 'קדבורי', 'פרניגוטי',\n",
            "       'שקדיה סלקט', 'הובה בובה', 'אסם', 'אוראו', 'מנעמים', '0', 'פז',\n",
            "       'ג'לונים', 'מקוויטיס', 'קוטדור', 'טובלרון', 'שופרסל גרין', 'במבה',\n",
            "       'האחים', 'קטיף', 'דר ברונר', 'מרבה', 'וגה', 'תנובה', 'מן', 'ORIGINAL',\n",
            "       'שקד תבור', 'שוק קולינרי', 'השף הלבן', 'פפושדו', 'FREE', 'באלזן',\n",
            "       'פינוקים', 'שוקול'ס', 'קליית גת'],\n",
            "      dtype='object')\n",
            "Int64Index([58, 67, 52, 71, 69,  4, 38, 35, 33,  7, 30, 42, 56, 50, 48, 70, 59,\n",
            "            41, 62, 49, 16, 63, 76, 51, 27, 31, 61, 25, 29,  2, 36, 10, 21,  8,\n",
            "            75,  1, 46, 32, 11, 24, 20, 28, 37, 13, 39, 47, 34, 55, 64, 60, 78,\n",
            "            19,  9, 43,  6,  0, 15, 53, 72, 65, 26, 44, 54, 66, 57,  3, 23, 12,\n",
            "            22, 68,  5, 17, 79, 40, 14, 73, 77, 45, 74, 18],\n",
            "           dtype='int64')\n",
            "BrandNameSubs\n",
            "Index(['לא מותג פרטי', 'מותג פרטי'], dtype='object')\n",
            "Int64Index([0, 1], dtype='int64')\n"
          ],
          "name": "stdout"
        }
      ]
    },
    {
      "cell_type": "markdown",
      "metadata": {
        "id": "bNnieSsiHr4A"
      },
      "source": [
        "## Calc diff vector"
      ]
    },
    {
      "cell_type": "code",
      "metadata": {
        "id": "2h_nBoBY_5o5"
      },
      "source": [
        "if RAW:\n",
        "  df.columns"
      ],
      "execution_count": 46,
      "outputs": []
    },
    {
      "cell_type": "code",
      "metadata": {
        "id": "dVnvNLbJEFao"
      },
      "source": [
        "if RAW:\n",
        "  for col in ['DepartmentCode', 'CategoryCode', 'GroupCode', 'SubGroupCode',\n",
        "       'CompoundID', 'ParentProductNumber', 'BrandIndDesc',\n",
        "       'VendorNumber', 'UnitOfMeasure', 'Price', 'NetSaleNoVatPrdLast3Months', 'Energy', 'Pachmema',\n",
        "       'Natran', 'Helbon', 'Shuman', 'ShumanRavuy', 'ShumanTrans', 'Colastrol',\n",
        "       'SivimTzunatim', 'CafiotSucar', 'QuantSale', 'cntMonths', 'DiscountPerUnit']:\n",
        "    df[col + 'Diff'] = df[col] - df[col + 'Subs']"
      ],
      "execution_count": 47,
      "outputs": []
    },
    {
      "cell_type": "code",
      "metadata": {
        "id": "R1pvSAXODmsI"
      },
      "source": [
        "if RAW:\n",
        "  for col in ['DepartmentCode', 'CategoryCode', 'GroupCode', 'SubGroupCode',\n",
        "       'CompoundID', 'ParentProductNumber', 'VendorNumber', 'BrandIndDesc']:\n",
        "    df[col + 'Diff'] = (df[col + 'Diff'] != 0)\n",
        "    df[col + 'Diff'] = enc.fit_transform(df[col + 'Diff'])"
      ],
      "execution_count": 48,
      "outputs": []
    },
    {
      "cell_type": "markdown",
      "metadata": {
        "id": "pRT1z8asSKa0"
      },
      "source": [
        "## Use Dummies"
      ]
    },
    {
      "cell_type": "markdown",
      "metadata": {
        "id": "Q4sf5rfwdnqs"
      },
      "source": [
        "Minimal improvement - FalseNegative (0,0) improved from 1338 to 1328"
      ]
    },
    {
      "cell_type": "code",
      "metadata": {
        "id": "enpCWADOSFsg",
        "outputId": "5494ebeb-dd13-4223-cb69-f7d740c7c858",
        "colab": {
          "base_uri": "https://localhost:8080/"
        }
      },
      "source": [
        "## Converting the categories column (isPromo) to dummies column \n",
        "if RAW:\n",
        "  p(df.shape)\n",
        "  df = pd.get_dummies(df, columns=['isPromo', 'PeriodHoliday'])\n",
        "  p(df.shape)"
      ],
      "execution_count": 49,
      "outputs": [
        {
          "output_type": "stream",
          "text": [
            "(54460, 86)\n",
            "(54460, 89)\n"
          ],
          "name": "stdout"
        }
      ]
    },
    {
      "cell_type": "code",
      "metadata": {
        "id": "y8AeEktZ8SJB"
      },
      "source": [
        "if RAW:\n",
        "  df.to_csv(\"Shufersal_with_diff.csv\", index = False)"
      ],
      "execution_count": 50,
      "outputs": []
    },
    {
      "cell_type": "code",
      "metadata": {
        "id": "lDvfuMAa8ze9",
        "colab": {
          "base_uri": "https://localhost:8080/"
        },
        "outputId": "90caf384-8c45-4260-b1e9-96785c6405ed"
      },
      "source": [
        "if RAW:\n",
        "  df = pd.read_csv('Shufersal_with_diff.csv', index_col=False)\n",
        "  p(df.shape)"
      ],
      "execution_count": 51,
      "outputs": [
        {
          "output_type": "stream",
          "text": [
            "(54460, 89)\n"
          ],
          "name": "stdout"
        }
      ]
    },
    {
      "cell_type": "code",
      "metadata": {
        "id": "BnIZZagWMJLi",
        "colab": {
          "base_uri": "https://localhost:8080/",
          "height": 246
        },
        "outputId": "6f09ae31-0e4d-499a-bc19-17021685bf0f"
      },
      "source": [
        "if RAW:\n",
        "  d(df.head())"
      ],
      "execution_count": 52,
      "outputs": [
        {
          "output_type": "display_data",
          "data": {
            "text/html": [
              "<div>\n",
              "<style scoped>\n",
              "    .dataframe tbody tr th:only-of-type {\n",
              "        vertical-align: middle;\n",
              "    }\n",
              "\n",
              "    .dataframe tbody tr th {\n",
              "        vertical-align: top;\n",
              "    }\n",
              "\n",
              "    .dataframe thead th {\n",
              "        text-align: right;\n",
              "    }\n",
              "</style>\n",
              "<table border=\"1\" class=\"dataframe\">\n",
              "  <thead>\n",
              "    <tr style=\"text-align: right;\">\n",
              "      <th></th>\n",
              "      <th>HouseHoldID</th>\n",
              "      <th>LocationCityName</th>\n",
              "      <th>QuarterNumber</th>\n",
              "      <th>MonthNumber</th>\n",
              "      <th>WeekNumber</th>\n",
              "      <th>DayNumberInWeek</th>\n",
              "      <th>DepartmentCode</th>\n",
              "      <th>CategoryCode</th>\n",
              "      <th>GroupCode</th>\n",
              "      <th>SubGroupCode</th>\n",
              "      <th>CompoundID</th>\n",
              "      <th>ParentProductNumber</th>\n",
              "      <th>BrandIndDesc</th>\n",
              "      <th>BrandName</th>\n",
              "      <th>VendorNumber</th>\n",
              "      <th>UnitOfMeasure</th>\n",
              "      <th>Price</th>\n",
              "      <th>Quantity</th>\n",
              "      <th>cntPrdAll</th>\n",
              "      <th>NetSaleAmountAll</th>\n",
              "      <th>NetSaleNoVatPrdLast3Months</th>\n",
              "      <th>QuantSale</th>\n",
              "      <th>cntMonths</th>\n",
              "      <th>DiscountPerUnit</th>\n",
              "      <th>Energy</th>\n",
              "      <th>Pachmema</th>\n",
              "      <th>Natran</th>\n",
              "      <th>Helbon</th>\n",
              "      <th>Shuman</th>\n",
              "      <th>ShumanRavuy</th>\n",
              "      <th>ShumanTrans</th>\n",
              "      <th>Colastrol</th>\n",
              "      <th>SivimTzunatim</th>\n",
              "      <th>CafiotSucar</th>\n",
              "      <th>DepartmentCodeSubs</th>\n",
              "      <th>CategoryCodeSubs</th>\n",
              "      <th>GroupCodeSubs</th>\n",
              "      <th>SubGroupCodeSubs</th>\n",
              "      <th>CompoundIDSubs</th>\n",
              "      <th>ParentProductNumberSubs</th>\n",
              "      <th>...</th>\n",
              "      <th>EnergySubs</th>\n",
              "      <th>PachmemaSubs</th>\n",
              "      <th>NatranSubs</th>\n",
              "      <th>HelbonSubs</th>\n",
              "      <th>ShumanSubs</th>\n",
              "      <th>ShumanRavuySubs</th>\n",
              "      <th>ShumanTransSubs</th>\n",
              "      <th>ColastrolSubs</th>\n",
              "      <th>SivimTzunatimSubs</th>\n",
              "      <th>CafiotSucarSubs</th>\n",
              "      <th>CorrelateItemStatusCode</th>\n",
              "      <th>DepartmentCodeDiff</th>\n",
              "      <th>CategoryCodeDiff</th>\n",
              "      <th>GroupCodeDiff</th>\n",
              "      <th>SubGroupCodeDiff</th>\n",
              "      <th>CompoundIDDiff</th>\n",
              "      <th>ParentProductNumberDiff</th>\n",
              "      <th>BrandIndDescDiff</th>\n",
              "      <th>VendorNumberDiff</th>\n",
              "      <th>UnitOfMeasureDiff</th>\n",
              "      <th>PriceDiff</th>\n",
              "      <th>NetSaleNoVatPrdLast3MonthsDiff</th>\n",
              "      <th>EnergyDiff</th>\n",
              "      <th>PachmemaDiff</th>\n",
              "      <th>NatranDiff</th>\n",
              "      <th>HelbonDiff</th>\n",
              "      <th>ShumanDiff</th>\n",
              "      <th>ShumanRavuyDiff</th>\n",
              "      <th>ShumanTransDiff</th>\n",
              "      <th>ColastrolDiff</th>\n",
              "      <th>SivimTzunatimDiff</th>\n",
              "      <th>CafiotSucarDiff</th>\n",
              "      <th>QuantSaleDiff</th>\n",
              "      <th>cntMonthsDiff</th>\n",
              "      <th>DiscountPerUnitDiff</th>\n",
              "      <th>isPromo_0</th>\n",
              "      <th>isPromo_1</th>\n",
              "      <th>isPromo_2</th>\n",
              "      <th>PeriodHoliday_0</th>\n",
              "      <th>PeriodHoliday_1</th>\n",
              "    </tr>\n",
              "  </thead>\n",
              "  <tbody>\n",
              "    <tr>\n",
              "      <th>0</th>\n",
              "      <td>1</td>\n",
              "      <td>87</td>\n",
              "      <td>202101</td>\n",
              "      <td>202102</td>\n",
              "      <td>202108</td>\n",
              "      <td>1</td>\n",
              "      <td>10</td>\n",
              "      <td>6</td>\n",
              "      <td>700</td>\n",
              "      <td>3</td>\n",
              "      <td>-8000500249352</td>\n",
              "      <td>8000500249352</td>\n",
              "      <td>52</td>\n",
              "      <td>0</td>\n",
              "      <td>914547</td>\n",
              "      <td>0.20</td>\n",
              "      <td>18.90</td>\n",
              "      <td>4</td>\n",
              "      <td>22</td>\n",
              "      <td>800.63</td>\n",
              "      <td>57747.16</td>\n",
              "      <td>0.8</td>\n",
              "      <td>16</td>\n",
              "      <td>0.00</td>\n",
              "      <td>568.0</td>\n",
              "      <td>49.5</td>\n",
              "      <td>107.0</td>\n",
              "      <td>8.6</td>\n",
              "      <td>37.8</td>\n",
              "      <td>17.3</td>\n",
              "      <td>0.5</td>\n",
              "      <td>15.0</td>\n",
              "      <td>0.0</td>\n",
              "      <td>0.00</td>\n",
              "      <td>10</td>\n",
              "      <td>6</td>\n",
              "      <td>700</td>\n",
              "      <td>6</td>\n",
              "      <td>-8000500217740</td>\n",
              "      <td>8000500217740</td>\n",
              "      <td>...</td>\n",
              "      <td>0.0</td>\n",
              "      <td>0.0</td>\n",
              "      <td>0.0</td>\n",
              "      <td>0.0</td>\n",
              "      <td>0.0</td>\n",
              "      <td>0.0</td>\n",
              "      <td>0.0</td>\n",
              "      <td>0.0</td>\n",
              "      <td>0.0</td>\n",
              "      <td>0.00</td>\n",
              "      <td>1</td>\n",
              "      <td>0</td>\n",
              "      <td>0</td>\n",
              "      <td>0</td>\n",
              "      <td>1</td>\n",
              "      <td>1</td>\n",
              "      <td>0</td>\n",
              "      <td>1</td>\n",
              "      <td>0</td>\n",
              "      <td>0.12</td>\n",
              "      <td>9.0</td>\n",
              "      <td>11618.91</td>\n",
              "      <td>568.0</td>\n",
              "      <td>49.5</td>\n",
              "      <td>107.0</td>\n",
              "      <td>8.6</td>\n",
              "      <td>37.8</td>\n",
              "      <td>17.3</td>\n",
              "      <td>0.5</td>\n",
              "      <td>15.0</td>\n",
              "      <td>0.0</td>\n",
              "      <td>0.00</td>\n",
              "      <td>0.0</td>\n",
              "      <td>3</td>\n",
              "      <td>0.00</td>\n",
              "      <td>0</td>\n",
              "      <td>0</td>\n",
              "      <td>1</td>\n",
              "      <td>0</td>\n",
              "      <td>1</td>\n",
              "    </tr>\n",
              "    <tr>\n",
              "      <th>1</th>\n",
              "      <td>2</td>\n",
              "      <td>87</td>\n",
              "      <td>202101</td>\n",
              "      <td>202103</td>\n",
              "      <td>202112</td>\n",
              "      <td>1</td>\n",
              "      <td>10</td>\n",
              "      <td>6</td>\n",
              "      <td>699</td>\n",
              "      <td>4</td>\n",
              "      <td>2900</td>\n",
              "      <td>178134</td>\n",
              "      <td>44</td>\n",
              "      <td>0</td>\n",
              "      <td>912069</td>\n",
              "      <td>0.40</td>\n",
              "      <td>19.60</td>\n",
              "      <td>1</td>\n",
              "      <td>12</td>\n",
              "      <td>207.30</td>\n",
              "      <td>141798.59</td>\n",
              "      <td>0.6</td>\n",
              "      <td>16</td>\n",
              "      <td>0.00</td>\n",
              "      <td>514.0</td>\n",
              "      <td>51.0</td>\n",
              "      <td>0.0</td>\n",
              "      <td>5.3</td>\n",
              "      <td>31.0</td>\n",
              "      <td>19.2</td>\n",
              "      <td>0.5</td>\n",
              "      <td>0.0</td>\n",
              "      <td>0.0</td>\n",
              "      <td>12.25</td>\n",
              "      <td>10</td>\n",
              "      <td>6</td>\n",
              "      <td>699</td>\n",
              "      <td>4</td>\n",
              "      <td>23107</td>\n",
              "      <td>7290100852576</td>\n",
              "      <td>...</td>\n",
              "      <td>514.0</td>\n",
              "      <td>51.0</td>\n",
              "      <td>0.0</td>\n",
              "      <td>5.3</td>\n",
              "      <td>31.0</td>\n",
              "      <td>19.2</td>\n",
              "      <td>0.5</td>\n",
              "      <td>0.0</td>\n",
              "      <td>0.0</td>\n",
              "      <td>12.25</td>\n",
              "      <td>1</td>\n",
              "      <td>0</td>\n",
              "      <td>0</td>\n",
              "      <td>0</td>\n",
              "      <td>0</td>\n",
              "      <td>1</td>\n",
              "      <td>0</td>\n",
              "      <td>1</td>\n",
              "      <td>0</td>\n",
              "      <td>0.10</td>\n",
              "      <td>9.6</td>\n",
              "      <td>73850.66</td>\n",
              "      <td>0.0</td>\n",
              "      <td>0.0</td>\n",
              "      <td>0.0</td>\n",
              "      <td>0.0</td>\n",
              "      <td>0.0</td>\n",
              "      <td>0.0</td>\n",
              "      <td>0.0</td>\n",
              "      <td>0.0</td>\n",
              "      <td>0.0</td>\n",
              "      <td>0.00</td>\n",
              "      <td>-0.2</td>\n",
              "      <td>1</td>\n",
              "      <td>0.00</td>\n",
              "      <td>0</td>\n",
              "      <td>0</td>\n",
              "      <td>1</td>\n",
              "      <td>1</td>\n",
              "      <td>0</td>\n",
              "    </tr>\n",
              "    <tr>\n",
              "      <th>2</th>\n",
              "      <td>3</td>\n",
              "      <td>87</td>\n",
              "      <td>202101</td>\n",
              "      <td>202101</td>\n",
              "      <td>202101</td>\n",
              "      <td>5</td>\n",
              "      <td>10</td>\n",
              "      <td>6</td>\n",
              "      <td>699</td>\n",
              "      <td>3</td>\n",
              "      <td>12043</td>\n",
              "      <td>7610400091060</td>\n",
              "      <td>25</td>\n",
              "      <td>0</td>\n",
              "      <td>912317</td>\n",
              "      <td>0.10</td>\n",
              "      <td>14.90</td>\n",
              "      <td>1</td>\n",
              "      <td>69</td>\n",
              "      <td>1813.38</td>\n",
              "      <td>80904.21</td>\n",
              "      <td>0.7</td>\n",
              "      <td>11</td>\n",
              "      <td>2.82</td>\n",
              "      <td>534.0</td>\n",
              "      <td>51.0</td>\n",
              "      <td>34.0</td>\n",
              "      <td>6.9</td>\n",
              "      <td>32.0</td>\n",
              "      <td>17.0</td>\n",
              "      <td>0.5</td>\n",
              "      <td>10.0</td>\n",
              "      <td>0.0</td>\n",
              "      <td>11.50</td>\n",
              "      <td>10</td>\n",
              "      <td>6</td>\n",
              "      <td>699</td>\n",
              "      <td>3</td>\n",
              "      <td>36777</td>\n",
              "      <td>8690766156404</td>\n",
              "      <td>...</td>\n",
              "      <td>532.0</td>\n",
              "      <td>51.0</td>\n",
              "      <td>21.0</td>\n",
              "      <td>6.5</td>\n",
              "      <td>30.0</td>\n",
              "      <td>18.0</td>\n",
              "      <td>0.5</td>\n",
              "      <td>7.5</td>\n",
              "      <td>7.8</td>\n",
              "      <td>12.00</td>\n",
              "      <td>0</td>\n",
              "      <td>0</td>\n",
              "      <td>0</td>\n",
              "      <td>0</td>\n",
              "      <td>0</td>\n",
              "      <td>1</td>\n",
              "      <td>0</td>\n",
              "      <td>1</td>\n",
              "      <td>1</td>\n",
              "      <td>0.01</td>\n",
              "      <td>5.0</td>\n",
              "      <td>60185.72</td>\n",
              "      <td>2.0</td>\n",
              "      <td>0.0</td>\n",
              "      <td>13.0</td>\n",
              "      <td>0.4</td>\n",
              "      <td>2.0</td>\n",
              "      <td>-1.0</td>\n",
              "      <td>0.0</td>\n",
              "      <td>2.5</td>\n",
              "      <td>-7.8</td>\n",
              "      <td>-0.50</td>\n",
              "      <td>-0.3</td>\n",
              "      <td>-2</td>\n",
              "      <td>2.82</td>\n",
              "      <td>1</td>\n",
              "      <td>0</td>\n",
              "      <td>0</td>\n",
              "      <td>0</td>\n",
              "      <td>1</td>\n",
              "    </tr>\n",
              "    <tr>\n",
              "      <th>3</th>\n",
              "      <td>4</td>\n",
              "      <td>87</td>\n",
              "      <td>202101</td>\n",
              "      <td>202101</td>\n",
              "      <td>202104</td>\n",
              "      <td>5</td>\n",
              "      <td>10</td>\n",
              "      <td>6</td>\n",
              "      <td>699</td>\n",
              "      <td>2</td>\n",
              "      <td>8579</td>\n",
              "      <td>7290112490124</td>\n",
              "      <td>53</td>\n",
              "      <td>0</td>\n",
              "      <td>912268</td>\n",
              "      <td>0.09</td>\n",
              "      <td>2.95</td>\n",
              "      <td>1</td>\n",
              "      <td>54</td>\n",
              "      <td>924.45</td>\n",
              "      <td>18277.75</td>\n",
              "      <td>1.0</td>\n",
              "      <td>14</td>\n",
              "      <td>0.90</td>\n",
              "      <td>527.0</td>\n",
              "      <td>67.4</td>\n",
              "      <td>117.0</td>\n",
              "      <td>7.4</td>\n",
              "      <td>25.3</td>\n",
              "      <td>16.3</td>\n",
              "      <td>0.5</td>\n",
              "      <td>11.0</td>\n",
              "      <td>0.0</td>\n",
              "      <td>12.75</td>\n",
              "      <td>10</td>\n",
              "      <td>6</td>\n",
              "      <td>699</td>\n",
              "      <td>2</td>\n",
              "      <td>8579</td>\n",
              "      <td>7290107649605</td>\n",
              "      <td>...</td>\n",
              "      <td>506.0</td>\n",
              "      <td>64.2</td>\n",
              "      <td>132.0</td>\n",
              "      <td>8.1</td>\n",
              "      <td>24.1</td>\n",
              "      <td>14.9</td>\n",
              "      <td>0.5</td>\n",
              "      <td>8.0</td>\n",
              "      <td>0.0</td>\n",
              "      <td>12.50</td>\n",
              "      <td>1</td>\n",
              "      <td>0</td>\n",
              "      <td>0</td>\n",
              "      <td>0</td>\n",
              "      <td>0</td>\n",
              "      <td>0</td>\n",
              "      <td>0</td>\n",
              "      <td>1</td>\n",
              "      <td>0</td>\n",
              "      <td>0.00</td>\n",
              "      <td>0.0</td>\n",
              "      <td>-14013.27</td>\n",
              "      <td>21.0</td>\n",
              "      <td>3.2</td>\n",
              "      <td>-15.0</td>\n",
              "      <td>-0.7</td>\n",
              "      <td>1.2</td>\n",
              "      <td>1.4</td>\n",
              "      <td>0.0</td>\n",
              "      <td>3.0</td>\n",
              "      <td>0.0</td>\n",
              "      <td>0.25</td>\n",
              "      <td>0.1</td>\n",
              "      <td>-2</td>\n",
              "      <td>0.90</td>\n",
              "      <td>1</td>\n",
              "      <td>0</td>\n",
              "      <td>0</td>\n",
              "      <td>1</td>\n",
              "      <td>0</td>\n",
              "    </tr>\n",
              "    <tr>\n",
              "      <th>4</th>\n",
              "      <td>5</td>\n",
              "      <td>87</td>\n",
              "      <td>202101</td>\n",
              "      <td>202102</td>\n",
              "      <td>202105</td>\n",
              "      <td>5</td>\n",
              "      <td>10</td>\n",
              "      <td>6</td>\n",
              "      <td>699</td>\n",
              "      <td>3</td>\n",
              "      <td>30727</td>\n",
              "      <td>7296073382416</td>\n",
              "      <td>55</td>\n",
              "      <td>1</td>\n",
              "      <td>913725</td>\n",
              "      <td>0.10</td>\n",
              "      <td>8.00</td>\n",
              "      <td>4</td>\n",
              "      <td>69</td>\n",
              "      <td>1468.61</td>\n",
              "      <td>45785.99</td>\n",
              "      <td>0.8</td>\n",
              "      <td>16</td>\n",
              "      <td>1.86</td>\n",
              "      <td>607.0</td>\n",
              "      <td>13.0</td>\n",
              "      <td>10.0</td>\n",
              "      <td>11.0</td>\n",
              "      <td>53.0</td>\n",
              "      <td>32.0</td>\n",
              "      <td>0.5</td>\n",
              "      <td>0.0</td>\n",
              "      <td>17.0</td>\n",
              "      <td>2.00</td>\n",
              "      <td>10</td>\n",
              "      <td>6</td>\n",
              "      <td>699</td>\n",
              "      <td>3</td>\n",
              "      <td>30727</td>\n",
              "      <td>7296073237631</td>\n",
              "      <td>...</td>\n",
              "      <td>603.0</td>\n",
              "      <td>23.0</td>\n",
              "      <td>10.0</td>\n",
              "      <td>8.7</td>\n",
              "      <td>50.0</td>\n",
              "      <td>30.0</td>\n",
              "      <td>0.5</td>\n",
              "      <td>0.0</td>\n",
              "      <td>13.0</td>\n",
              "      <td>4.50</td>\n",
              "      <td>1</td>\n",
              "      <td>0</td>\n",
              "      <td>0</td>\n",
              "      <td>0</td>\n",
              "      <td>0</td>\n",
              "      <td>0</td>\n",
              "      <td>0</td>\n",
              "      <td>1</td>\n",
              "      <td>0</td>\n",
              "      <td>0.00</td>\n",
              "      <td>0.0</td>\n",
              "      <td>4438.43</td>\n",
              "      <td>4.0</td>\n",
              "      <td>-10.0</td>\n",
              "      <td>0.0</td>\n",
              "      <td>2.3</td>\n",
              "      <td>3.0</td>\n",
              "      <td>2.0</td>\n",
              "      <td>0.0</td>\n",
              "      <td>0.0</td>\n",
              "      <td>4.0</td>\n",
              "      <td>-2.50</td>\n",
              "      <td>-0.1</td>\n",
              "      <td>0</td>\n",
              "      <td>1.86</td>\n",
              "      <td>1</td>\n",
              "      <td>0</td>\n",
              "      <td>0</td>\n",
              "      <td>0</td>\n",
              "      <td>1</td>\n",
              "    </tr>\n",
              "  </tbody>\n",
              "</table>\n",
              "<p>5 rows × 89 columns</p>\n",
              "</div>"
            ],
            "text/plain": [
              "   HouseHoldID  LocationCityName  ...  PeriodHoliday_0  PeriodHoliday_1\n",
              "0            1                87  ...                0                1\n",
              "1            2                87  ...                1                0\n",
              "2            3                87  ...                0                1\n",
              "3            4                87  ...                1                0\n",
              "4            5                87  ...                0                1\n",
              "\n",
              "[5 rows x 89 columns]"
            ]
          },
          "metadata": {
            "tags": []
          }
        }
      ]
    },
    {
      "cell_type": "markdown",
      "metadata": {
        "id": "bWMLTqJmOsbW"
      },
      "source": [
        "# Get ready Data"
      ]
    },
    {
      "cell_type": "code",
      "metadata": {
        "id": "1OCp8pIhBFE_"
      },
      "source": [
        "if not RAW:\n",
        "  get_raw('Shufersal_with_diff')"
      ],
      "execution_count": 58,
      "outputs": []
    },
    {
      "cell_type": "code",
      "metadata": {
        "colab": {
          "base_uri": "https://localhost:8080/"
        },
        "id": "eRMl2lJ0BiXV",
        "outputId": "46a77679-22e4-4617-c3f1-5f572a8d7da3"
      },
      "source": [
        "if not RAW:\n",
        "  df = pd.read_csv('Shufersal_with_diff.csv', encoding='ISO-8859-8')\n",
        "  p(df.shape)\n",
        "  df.head()"
      ],
      "execution_count": 60,
      "outputs": [
        {
          "output_type": "stream",
          "text": [
            "(54460, 89)\n"
          ],
          "name": "stdout"
        }
      ]
    },
    {
      "cell_type": "markdown",
      "metadata": {
        "id": "N27b5TlMH14F"
      },
      "source": [
        "# Models"
      ]
    },
    {
      "cell_type": "code",
      "metadata": {
        "id": "6rVRpGZCICWb"
      },
      "source": [
        "from sklearn.model_selection import train_test_split, GridSearchCV, cross_val_score\n",
        "\n",
        "X = df.drop('CorrelateItemStatusCode', axis=1)\n",
        "y = df.CorrelateItemStatusCode.astype(int)\n",
        "\n",
        "X_train, X_test, y_train, y_test = train_test_split(X, y, train_size=0.7, random_state=0)"
      ],
      "execution_count": 61,
      "outputs": []
    },
    {
      "cell_type": "code",
      "metadata": {
        "id": "pMu7UaSHZ2BX"
      },
      "source": [
        "from sklearn.metrics import confusion_matrix, classification_report, accuracy_score\n",
        "import math\n",
        "\n",
        "pd.set_option(\"precision\", 2)\n",
        "df_result = pd.DataFrame()"
      ],
      "execution_count": 62,
      "outputs": []
    },
    {
      "cell_type": "code",
      "metadata": {
        "id": "6dIvX5yRHzRu"
      },
      "source": [
        "def report_old(clf, X, y, data_type='Test'):\n",
        "  p()\n",
        "  p(type(clf).__name__ + ': ' + data_type)\n",
        "  p('_____________________________________________________')\n",
        "  acc = accuracy_score(y_true=y, y_pred=clf.predict(X))\n",
        "  cm = pd.DataFrame(confusion_matrix(y_true=y, y_pred=clf.predict(X)),\n",
        "                    index=clf.classes_,\n",
        "                    columns=clf.classes_)\n",
        "  d(cm)\n",
        "  rep = classification_report(y_true=y, y_pred=clf.predict(X), zero_division=1, output_dict=True)\n",
        "  rep =  pd.DataFrame(rep)\n",
        "  rep.drop(['accuracy', 'macro avg', 'weighted avg'], axis=1, inplace=True)\n",
        "  rep = rep.T\n",
        "  rep['accuracy'] = acc\n",
        "  rep.support = rep.support.astype(int)\n",
        "  cols = list(rep.columns[:3]) + ['accuracy', 'support']\n",
        "  rep = rep[cols]\n",
        "  d(rep)\n",
        "  return"
      ],
      "execution_count": 63,
      "outputs": []
    },
    {
      "cell_type": "code",
      "metadata": {
        "id": "SD0WOCyeZqSg"
      },
      "source": [
        "def report(clf, X, y, data_type='Test'):\n",
        "  global df_result\n",
        "  name = type(clf).__name__ + ': ' + data_type\n",
        "  acc = accuracy_score(y_true=y, y_pred=clf.predict(X))\n",
        "  index = [(name, clf.classes_[0]), (name, clf.classes_[1])]\n",
        "  cm = pd.DataFrame(confusion_matrix(y_true=y, y_pred=clf.predict(X)),\n",
        "                    index=clf.classes_,\n",
        "                    columns=clf.classes_)\n",
        "  cm.reset_index(drop=True, inplace=True)\n",
        "  rep = classification_report(y_true=y, y_pred=clf.predict(X), zero_division=1, output_dict=True)\n",
        "  rep =  pd.DataFrame(rep)\n",
        "  rep.drop(['accuracy', 'macro avg', 'weighted avg'], axis=1, inplace=True)\n",
        "  rep = rep.T\n",
        "  rep['accuracy'] = acc\n",
        "  rep.support = rep.support.astype(int)\n",
        "  cols = list(rep.columns[:3]) + ['accuracy', 'support']\n",
        "  rep = rep[cols]\n",
        "  rep['precision_avg'] = rep.precision.mean()\n",
        "  rep['recall_avg'] = rep.recall.mean()\n",
        "  rep['f1-score_avg'] = rep['f1-score'].mean()\n",
        "  rep.reset_index(drop=True, inplace=True)\n",
        "  df = cm.join(rep)\n",
        "  df['name'] = name\n",
        "  df.reset_index(inplace=True)\n",
        "  #df.set_index(['name', 'index'], inplace=True)\n",
        "  df_result.reset_index(inplace=True)\n",
        "  df_result = df_result.append(df, ignore_index=True)\n",
        "  df_result.set_index(['name', 'index'], inplace=True)\n",
        "  #d(df_result)\n",
        "  return"
      ],
      "execution_count": 64,
      "outputs": []
    },
    {
      "cell_type": "code",
      "metadata": {
        "id": "Ci9f_i4dMAXy"
      },
      "source": [
        "def showFeatureImportance(model, X_train=X_train, threshold=0):\n",
        "  if type(model).__name__ == 'LogisticRegression':  # no features importance data\n",
        "    w0 = model.intercept_[0]\n",
        "    w = model.coef_[0]\n",
        "    fx_imp = pd.Series(w, index=X_train.columns)\n",
        "  else:\n",
        "    fx_imp = pd.Series(model.feature_importances_, index=X_train.columns)\n",
        "  fx_imp /= fx_imp.sum()\n",
        "  fx_imp = fx_imp.sort_values()\n",
        "  fx_imp = fx_imp[fx_imp > threshold]\n",
        "  fig = plt.figure(figsize=(5,5))\n",
        "  plt.xlim(0, 1)\n",
        "  fx_imp.plot(kind='barh', title=type(model).__name__ )"
      ],
      "execution_count": 65,
      "outputs": []
    },
    {
      "cell_type": "code",
      "metadata": {
        "id": "mjA3XyhXOKcF"
      },
      "source": [
        "def process_model(model, X_train=X_train, y_train=y_train, X_test=X_test, y_test=y_test, plot=False, threshold=0):\n",
        "  p('running: ', type(model).__name__)\n",
        "  model.fit(X_train, y_train)\n",
        "  report(model, X_train, y_train, 'Train')\n",
        "  report(model, X_test, y_test)\n",
        "  if plot:\n",
        "    showFeatureImportance(model, X_train, threshold) "
      ],
      "execution_count": 66,
      "outputs": []
    },
    {
      "cell_type": "code",
      "metadata": {
        "id": "ijx9CUGjIGCo"
      },
      "source": [
        "from sklearn.linear_model import LogisticRegression, BayesianRidge, Lasso, Ridge\n",
        "from sklearn.ensemble import GradientBoostingClassifier, RandomForestClassifier, AdaBoostClassifier, GradientBoostingRegressor, BaggingClassifier\n",
        "from sklearn.tree import DecisionTreeClassifier\n",
        "from sklearn.neighbors import KNeighborsClassifier\n",
        "from sklearn.svm import LinearSVC"
      ],
      "execution_count": 67,
      "outputs": []
    },
    {
      "cell_type": "code",
      "metadata": {
        "id": "7n6vHsoaau-z",
        "colab": {
          "base_uri": "https://localhost:8080/",
          "height": 1000
        },
        "outputId": "fb2d9f90-b794-4a32-e2bc-9f6553e67107"
      },
      "source": [
        "df_result = pd.DataFrame()\n",
        "\n",
        "process_model(LogisticRegression(max_iter=1000), threshold=0.0000005)  # did not fit, return accuracy=0, so we increased max_iter from default 100\n",
        "process_model(LogisticRegression(C=100, max_iter=1000, fit_intercept=False, warm_start=True), threshold=0.0000005, plot=True)\n",
        "process_model(GradientBoostingClassifier(n_estimators=100), plot=True, threshold=0.015)\n",
        "process_model(AdaBoostClassifier(n_estimators=100))  # base estimator is DecisionTreeClassifier initialized with max_depth=1\n",
        "process_model(AdaBoostClassifier(base_estimator=DecisionTreeClassifier(max_depth=5), n_estimators=100, learning_rate=0.01))\n",
        "process_model(RandomForestClassifier(n_estimators=64), plot=True, threshold=0.015)\n",
        "process_model(KNeighborsClassifier(n_neighbors=39))\n",
        "\n",
        "if False: # ERROR: Classification metrics can't handle a mix of binary and continuous targets\n",
        "  process_model(GradientBoostingRegressor(n_estimators=100, max_depth=5))\n",
        "  process_model(BayesianRidge())\n",
        "  process_model(Lasso())\n",
        "  process_model(Ridge(alpha = 0.5))\n",
        "if False: ## too long > 4 minutes\n",
        "  process_model(LinearSVC(penalty='l2', loss='squared_hinge', dual=True, tol=0.0001, C=0.1, max_iter=20000)) # max_iter increaed from default 1000 to 3000, 6000, 20000 because did not coverged warning\n",
        "  from sklearn import svm\n",
        "  process_model(svm.SVC())\n",
        "  process_model(svm.SVR())\n",
        "\n",
        "d(df_result)"
      ],
      "execution_count": 68,
      "outputs": [
        {
          "output_type": "stream",
          "text": [
            "running:  LogisticRegression\n",
            "running:  LogisticRegression\n",
            "running:  GradientBoostingClassifier\n",
            "running:  AdaBoostClassifier\n",
            "running:  AdaBoostClassifier\n",
            "running:  RandomForestClassifier\n",
            "running:  KNeighborsClassifier\n"
          ],
          "name": "stdout"
        },
        {
          "output_type": "display_data",
          "data": {
            "text/html": [
              "<div>\n",
              "<style scoped>\n",
              "    .dataframe tbody tr th:only-of-type {\n",
              "        vertical-align: middle;\n",
              "    }\n",
              "\n",
              "    .dataframe tbody tr th {\n",
              "        vertical-align: top;\n",
              "    }\n",
              "\n",
              "    .dataframe thead th {\n",
              "        text-align: right;\n",
              "    }\n",
              "</style>\n",
              "<table border=\"1\" class=\"dataframe\">\n",
              "  <thead>\n",
              "    <tr style=\"text-align: right;\">\n",
              "      <th></th>\n",
              "      <th></th>\n",
              "      <th>0</th>\n",
              "      <th>1</th>\n",
              "      <th>precision</th>\n",
              "      <th>recall</th>\n",
              "      <th>f1-score</th>\n",
              "      <th>accuracy</th>\n",
              "      <th>support</th>\n",
              "      <th>precision_avg</th>\n",
              "      <th>recall_avg</th>\n",
              "      <th>f1-score_avg</th>\n",
              "    </tr>\n",
              "    <tr>\n",
              "      <th>name</th>\n",
              "      <th>index</th>\n",
              "      <th></th>\n",
              "      <th></th>\n",
              "      <th></th>\n",
              "      <th></th>\n",
              "      <th></th>\n",
              "      <th></th>\n",
              "      <th></th>\n",
              "      <th></th>\n",
              "      <th></th>\n",
              "      <th></th>\n",
              "    </tr>\n",
              "  </thead>\n",
              "  <tbody>\n",
              "    <tr>\n",
              "      <th rowspan=\"2\" valign=\"top\">LogisticRegression: Train</th>\n",
              "      <th>0</th>\n",
              "      <td>0.0</td>\n",
              "      <td>12649.0</td>\n",
              "      <td>1.00</td>\n",
              "      <td>0.00</td>\n",
              "      <td>0.00</td>\n",
              "      <td>0.67</td>\n",
              "      <td>12649.0</td>\n",
              "      <td>0.83</td>\n",
              "      <td>0.50</td>\n",
              "      <td>0.40</td>\n",
              "    </tr>\n",
              "    <tr>\n",
              "      <th>1</th>\n",
              "      <td>0.0</td>\n",
              "      <td>25473.0</td>\n",
              "      <td>0.67</td>\n",
              "      <td>1.00</td>\n",
              "      <td>0.80</td>\n",
              "      <td>0.67</td>\n",
              "      <td>25473.0</td>\n",
              "      <td>0.83</td>\n",
              "      <td>0.50</td>\n",
              "      <td>0.40</td>\n",
              "    </tr>\n",
              "    <tr>\n",
              "      <th rowspan=\"2\" valign=\"top\">LogisticRegression: Test</th>\n",
              "      <th>0</th>\n",
              "      <td>0.0</td>\n",
              "      <td>5419.0</td>\n",
              "      <td>1.00</td>\n",
              "      <td>0.00</td>\n",
              "      <td>0.00</td>\n",
              "      <td>0.67</td>\n",
              "      <td>5419.0</td>\n",
              "      <td>0.83</td>\n",
              "      <td>0.50</td>\n",
              "      <td>0.40</td>\n",
              "    </tr>\n",
              "    <tr>\n",
              "      <th>1</th>\n",
              "      <td>0.0</td>\n",
              "      <td>10919.0</td>\n",
              "      <td>0.67</td>\n",
              "      <td>1.00</td>\n",
              "      <td>0.80</td>\n",
              "      <td>0.67</td>\n",
              "      <td>10919.0</td>\n",
              "      <td>0.83</td>\n",
              "      <td>0.50</td>\n",
              "      <td>0.40</td>\n",
              "    </tr>\n",
              "    <tr>\n",
              "      <th rowspan=\"2\" valign=\"top\">LogisticRegression: Train</th>\n",
              "      <th>0</th>\n",
              "      <td>0.0</td>\n",
              "      <td>12649.0</td>\n",
              "      <td>1.00</td>\n",
              "      <td>0.00</td>\n",
              "      <td>0.00</td>\n",
              "      <td>0.67</td>\n",
              "      <td>12649.0</td>\n",
              "      <td>0.83</td>\n",
              "      <td>0.50</td>\n",
              "      <td>0.40</td>\n",
              "    </tr>\n",
              "    <tr>\n",
              "      <th>1</th>\n",
              "      <td>0.0</td>\n",
              "      <td>25473.0</td>\n",
              "      <td>0.67</td>\n",
              "      <td>1.00</td>\n",
              "      <td>0.80</td>\n",
              "      <td>0.67</td>\n",
              "      <td>25473.0</td>\n",
              "      <td>0.83</td>\n",
              "      <td>0.50</td>\n",
              "      <td>0.40</td>\n",
              "    </tr>\n",
              "    <tr>\n",
              "      <th rowspan=\"2\" valign=\"top\">LogisticRegression: Test</th>\n",
              "      <th>0</th>\n",
              "      <td>0.0</td>\n",
              "      <td>5419.0</td>\n",
              "      <td>1.00</td>\n",
              "      <td>0.00</td>\n",
              "      <td>0.00</td>\n",
              "      <td>0.67</td>\n",
              "      <td>5419.0</td>\n",
              "      <td>0.83</td>\n",
              "      <td>0.50</td>\n",
              "      <td>0.40</td>\n",
              "    </tr>\n",
              "    <tr>\n",
              "      <th>1</th>\n",
              "      <td>0.0</td>\n",
              "      <td>10919.0</td>\n",
              "      <td>0.67</td>\n",
              "      <td>1.00</td>\n",
              "      <td>0.80</td>\n",
              "      <td>0.67</td>\n",
              "      <td>10919.0</td>\n",
              "      <td>0.83</td>\n",
              "      <td>0.50</td>\n",
              "      <td>0.40</td>\n",
              "    </tr>\n",
              "    <tr>\n",
              "      <th rowspan=\"2\" valign=\"top\">GradientBoostingClassifier: Train</th>\n",
              "      <th>0</th>\n",
              "      <td>7929.0</td>\n",
              "      <td>4720.0</td>\n",
              "      <td>0.79</td>\n",
              "      <td>0.63</td>\n",
              "      <td>0.70</td>\n",
              "      <td>0.82</td>\n",
              "      <td>12649.0</td>\n",
              "      <td>0.81</td>\n",
              "      <td>0.77</td>\n",
              "      <td>0.79</td>\n",
              "    </tr>\n",
              "    <tr>\n",
              "      <th>1</th>\n",
              "      <td>2101.0</td>\n",
              "      <td>23372.0</td>\n",
              "      <td>0.83</td>\n",
              "      <td>0.92</td>\n",
              "      <td>0.87</td>\n",
              "      <td>0.82</td>\n",
              "      <td>25473.0</td>\n",
              "      <td>0.81</td>\n",
              "      <td>0.77</td>\n",
              "      <td>0.79</td>\n",
              "    </tr>\n",
              "    <tr>\n",
              "      <th rowspan=\"2\" valign=\"top\">GradientBoostingClassifier: Test</th>\n",
              "      <th>0</th>\n",
              "      <td>3410.0</td>\n",
              "      <td>2009.0</td>\n",
              "      <td>0.78</td>\n",
              "      <td>0.63</td>\n",
              "      <td>0.70</td>\n",
              "      <td>0.82</td>\n",
              "      <td>5419.0</td>\n",
              "      <td>0.81</td>\n",
              "      <td>0.77</td>\n",
              "      <td>0.78</td>\n",
              "    </tr>\n",
              "    <tr>\n",
              "      <th>1</th>\n",
              "      <td>957.0</td>\n",
              "      <td>9962.0</td>\n",
              "      <td>0.83</td>\n",
              "      <td>0.91</td>\n",
              "      <td>0.87</td>\n",
              "      <td>0.82</td>\n",
              "      <td>10919.0</td>\n",
              "      <td>0.81</td>\n",
              "      <td>0.77</td>\n",
              "      <td>0.78</td>\n",
              "    </tr>\n",
              "    <tr>\n",
              "      <th rowspan=\"2\" valign=\"top\">AdaBoostClassifier: Train</th>\n",
              "      <th>0</th>\n",
              "      <td>7794.0</td>\n",
              "      <td>4855.0</td>\n",
              "      <td>0.74</td>\n",
              "      <td>0.62</td>\n",
              "      <td>0.67</td>\n",
              "      <td>0.80</td>\n",
              "      <td>12649.0</td>\n",
              "      <td>0.78</td>\n",
              "      <td>0.75</td>\n",
              "      <td>0.76</td>\n",
              "    </tr>\n",
              "    <tr>\n",
              "      <th>1</th>\n",
              "      <td>2735.0</td>\n",
              "      <td>22738.0</td>\n",
              "      <td>0.82</td>\n",
              "      <td>0.89</td>\n",
              "      <td>0.86</td>\n",
              "      <td>0.80</td>\n",
              "      <td>25473.0</td>\n",
              "      <td>0.78</td>\n",
              "      <td>0.75</td>\n",
              "      <td>0.76</td>\n",
              "    </tr>\n",
              "    <tr>\n",
              "      <th rowspan=\"2\" valign=\"top\">AdaBoostClassifier: Test</th>\n",
              "      <th>0</th>\n",
              "      <td>3334.0</td>\n",
              "      <td>2085.0</td>\n",
              "      <td>0.73</td>\n",
              "      <td>0.62</td>\n",
              "      <td>0.67</td>\n",
              "      <td>0.80</td>\n",
              "      <td>5419.0</td>\n",
              "      <td>0.78</td>\n",
              "      <td>0.75</td>\n",
              "      <td>0.76</td>\n",
              "    </tr>\n",
              "    <tr>\n",
              "      <th>1</th>\n",
              "      <td>1212.0</td>\n",
              "      <td>9707.0</td>\n",
              "      <td>0.82</td>\n",
              "      <td>0.89</td>\n",
              "      <td>0.85</td>\n",
              "      <td>0.80</td>\n",
              "      <td>10919.0</td>\n",
              "      <td>0.78</td>\n",
              "      <td>0.75</td>\n",
              "      <td>0.76</td>\n",
              "    </tr>\n",
              "    <tr>\n",
              "      <th rowspan=\"2\" valign=\"top\">AdaBoostClassifier: Train</th>\n",
              "      <th>0</th>\n",
              "      <td>7278.0</td>\n",
              "      <td>5371.0</td>\n",
              "      <td>0.77</td>\n",
              "      <td>0.58</td>\n",
              "      <td>0.66</td>\n",
              "      <td>0.80</td>\n",
              "      <td>12649.0</td>\n",
              "      <td>0.79</td>\n",
              "      <td>0.75</td>\n",
              "      <td>0.76</td>\n",
              "    </tr>\n",
              "    <tr>\n",
              "      <th>1</th>\n",
              "      <td>2129.0</td>\n",
              "      <td>23344.0</td>\n",
              "      <td>0.81</td>\n",
              "      <td>0.92</td>\n",
              "      <td>0.86</td>\n",
              "      <td>0.80</td>\n",
              "      <td>25473.0</td>\n",
              "      <td>0.79</td>\n",
              "      <td>0.75</td>\n",
              "      <td>0.76</td>\n",
              "    </tr>\n",
              "    <tr>\n",
              "      <th rowspan=\"2\" valign=\"top\">AdaBoostClassifier: Test</th>\n",
              "      <th>0</th>\n",
              "      <td>3121.0</td>\n",
              "      <td>2298.0</td>\n",
              "      <td>0.77</td>\n",
              "      <td>0.58</td>\n",
              "      <td>0.66</td>\n",
              "      <td>0.80</td>\n",
              "      <td>5419.0</td>\n",
              "      <td>0.79</td>\n",
              "      <td>0.74</td>\n",
              "      <td>0.76</td>\n",
              "    </tr>\n",
              "    <tr>\n",
              "      <th>1</th>\n",
              "      <td>953.0</td>\n",
              "      <td>9966.0</td>\n",
              "      <td>0.81</td>\n",
              "      <td>0.91</td>\n",
              "      <td>0.86</td>\n",
              "      <td>0.80</td>\n",
              "      <td>10919.0</td>\n",
              "      <td>0.79</td>\n",
              "      <td>0.74</td>\n",
              "      <td>0.76</td>\n",
              "    </tr>\n",
              "    <tr>\n",
              "      <th rowspan=\"2\" valign=\"top\">RandomForestClassifier: Train</th>\n",
              "      <th>0</th>\n",
              "      <td>12643.0</td>\n",
              "      <td>6.0</td>\n",
              "      <td>1.00</td>\n",
              "      <td>1.00</td>\n",
              "      <td>1.00</td>\n",
              "      <td>1.00</td>\n",
              "      <td>12649.0</td>\n",
              "      <td>1.00</td>\n",
              "      <td>1.00</td>\n",
              "      <td>1.00</td>\n",
              "    </tr>\n",
              "    <tr>\n",
              "      <th>1</th>\n",
              "      <td>1.0</td>\n",
              "      <td>25472.0</td>\n",
              "      <td>1.00</td>\n",
              "      <td>1.00</td>\n",
              "      <td>1.00</td>\n",
              "      <td>1.00</td>\n",
              "      <td>25473.0</td>\n",
              "      <td>1.00</td>\n",
              "      <td>1.00</td>\n",
              "      <td>1.00</td>\n",
              "    </tr>\n",
              "    <tr>\n",
              "      <th rowspan=\"2\" valign=\"top\">RandomForestClassifier: Test</th>\n",
              "      <th>0</th>\n",
              "      <td>4045.0</td>\n",
              "      <td>1374.0</td>\n",
              "      <td>0.80</td>\n",
              "      <td>0.75</td>\n",
              "      <td>0.77</td>\n",
              "      <td>0.86</td>\n",
              "      <td>5419.0</td>\n",
              "      <td>0.84</td>\n",
              "      <td>0.83</td>\n",
              "      <td>0.83</td>\n",
              "    </tr>\n",
              "    <tr>\n",
              "      <th>1</th>\n",
              "      <td>994.0</td>\n",
              "      <td>9925.0</td>\n",
              "      <td>0.88</td>\n",
              "      <td>0.91</td>\n",
              "      <td>0.89</td>\n",
              "      <td>0.86</td>\n",
              "      <td>10919.0</td>\n",
              "      <td>0.84</td>\n",
              "      <td>0.83</td>\n",
              "      <td>0.83</td>\n",
              "    </tr>\n",
              "    <tr>\n",
              "      <th rowspan=\"2\" valign=\"top\">KNeighborsClassifier: Train</th>\n",
              "      <th>0</th>\n",
              "      <td>3754.0</td>\n",
              "      <td>8895.0</td>\n",
              "      <td>0.60</td>\n",
              "      <td>0.30</td>\n",
              "      <td>0.40</td>\n",
              "      <td>0.70</td>\n",
              "      <td>12649.0</td>\n",
              "      <td>0.66</td>\n",
              "      <td>0.60</td>\n",
              "      <td>0.60</td>\n",
              "    </tr>\n",
              "    <tr>\n",
              "      <th>1</th>\n",
              "      <td>2490.0</td>\n",
              "      <td>22983.0</td>\n",
              "      <td>0.72</td>\n",
              "      <td>0.90</td>\n",
              "      <td>0.80</td>\n",
              "      <td>0.70</td>\n",
              "      <td>25473.0</td>\n",
              "      <td>0.66</td>\n",
              "      <td>0.60</td>\n",
              "      <td>0.60</td>\n",
              "    </tr>\n",
              "    <tr>\n",
              "      <th rowspan=\"2\" valign=\"top\">KNeighborsClassifier: Test</th>\n",
              "      <th>0</th>\n",
              "      <td>1519.0</td>\n",
              "      <td>3900.0</td>\n",
              "      <td>0.56</td>\n",
              "      <td>0.28</td>\n",
              "      <td>0.37</td>\n",
              "      <td>0.69</td>\n",
              "      <td>5419.0</td>\n",
              "      <td>0.64</td>\n",
              "      <td>0.59</td>\n",
              "      <td>0.58</td>\n",
              "    </tr>\n",
              "    <tr>\n",
              "      <th>1</th>\n",
              "      <td>1197.0</td>\n",
              "      <td>9722.0</td>\n",
              "      <td>0.71</td>\n",
              "      <td>0.89</td>\n",
              "      <td>0.79</td>\n",
              "      <td>0.69</td>\n",
              "      <td>10919.0</td>\n",
              "      <td>0.64</td>\n",
              "      <td>0.59</td>\n",
              "      <td>0.58</td>\n",
              "    </tr>\n",
              "  </tbody>\n",
              "</table>\n",
              "</div>"
            ],
            "text/plain": [
              "                                               0  ...  f1-score_avg\n",
              "name                              index           ...              \n",
              "LogisticRegression: Train         0          0.0  ...          0.40\n",
              "                                  1          0.0  ...          0.40\n",
              "LogisticRegression: Test          0          0.0  ...          0.40\n",
              "                                  1          0.0  ...          0.40\n",
              "LogisticRegression: Train         0          0.0  ...          0.40\n",
              "                                  1          0.0  ...          0.40\n",
              "LogisticRegression: Test          0          0.0  ...          0.40\n",
              "                                  1          0.0  ...          0.40\n",
              "GradientBoostingClassifier: Train 0       7929.0  ...          0.79\n",
              "                                  1       2101.0  ...          0.79\n",
              "GradientBoostingClassifier: Test  0       3410.0  ...          0.78\n",
              "                                  1        957.0  ...          0.78\n",
              "AdaBoostClassifier: Train         0       7794.0  ...          0.76\n",
              "                                  1       2735.0  ...          0.76\n",
              "AdaBoostClassifier: Test          0       3334.0  ...          0.76\n",
              "                                  1       1212.0  ...          0.76\n",
              "AdaBoostClassifier: Train         0       7278.0  ...          0.76\n",
              "                                  1       2129.0  ...          0.76\n",
              "AdaBoostClassifier: Test          0       3121.0  ...          0.76\n",
              "                                  1        953.0  ...          0.76\n",
              "RandomForestClassifier: Train     0      12643.0  ...          1.00\n",
              "                                  1          1.0  ...          1.00\n",
              "RandomForestClassifier: Test      0       4045.0  ...          0.83\n",
              "                                  1        994.0  ...          0.83\n",
              "KNeighborsClassifier: Train       0       3754.0  ...          0.60\n",
              "                                  1       2490.0  ...          0.60\n",
              "KNeighborsClassifier: Test        0       1519.0  ...          0.58\n",
              "                                  1       1197.0  ...          0.58\n",
              "\n",
              "[28 rows x 10 columns]"
            ]
          },
          "metadata": {
            "tags": []
          }
        },
        {
          "output_type": "display_data",
          "data": {
            "image/png": "[encoded data removed]",
            "text/plain": [
              "<Figure size 360x360 with 1 Axes>"
            ]
          },
          "metadata": {
            "tags": [],
            "needs_background": "light"
          }
        },
        {
          "output_type": "display_data",
          "data": {
            "image/png": "[encoded data removed]",
            "text/plain": [
              "<Figure size 360x360 with 1 Axes>"
            ]
          },
          "metadata": {
            "tags": [],
            "needs_background": "light"
          }
        },
        {
          "output_type": "display_data",
          "data": {
            "image/png": "[encoded data removed]",
            "text/plain": [
              "<Figure size 360x360 with 1 Axes>"
            ]
          },
          "metadata": {
            "tags": [],
            "needs_background": "light"
          }
        }
      ]
    },
    {
      "cell_type": "markdown",
      "metadata": {
        "id": "RBQIPpoUev6b"
      },
      "source": [
        "## Grid Search for hyperparameters - on best model RandonForest"
      ]
    },
    {
      "cell_type": "code",
      "metadata": {
        "id": "oXdxQNNqgeKT",
        "outputId": "80d33110-4fea-4866-e4c8-55af94bfc648",
        "colab": {
          "base_uri": "https://localhost:8080/"
        }
      },
      "source": [
        "clf_RF = RandomForestClassifier(n_estimators=64)\n",
        "clf_RF.fit(X_train, y_train)\n",
        "p(clf_RF.score(X_train, y_train))\n",
        "p(clf_RF.score(X_test, y_test))"
      ],
      "execution_count": 69,
      "outputs": [
        {
          "output_type": "stream",
          "text": [
            "0.9999475368553591\n",
            "0.856898029134533\n"
          ],
          "name": "stdout"
        }
      ]
    },
    {
      "cell_type": "code",
      "metadata": {
        "id": "l0bYwKFvemoO",
        "outputId": "cb30a442-25a0-4f9b-fc19-d6f388b4986d",
        "colab": {
          "base_uri": "https://localhost:8080/"
        }
      },
      "source": [
        "param_grid = { \n",
        "#    'max_depth' : [None, 4,5,6,7,8],\n",
        "    'n_estimators': [64, 200, 500],\n",
        "    'max_features': ['auto', 'sqrt', 'log2', 1.0, 0.75, 0.5, 0.25],\n",
        "    'criterion' :['gini', 'entropy'], \n",
        "    'max_leaf_nodes': [None, 4, 10, 20],\n",
        "    'min_samples_split': [1, 2, 4, 6, 8, 10, 12, 14]\n",
        "}\n",
        "param_grid0 = { \n",
        "  'max_depth' : [None, 4,5,6,7,8],\n",
        "}\n",
        "\n",
        "clf_RF = RandomForestClassifier()\n",
        "clf_gs = GridSearchCV(clf_RF, param_grid, cv=5, verbose=4)\n",
        "clf_gs.fit(X_train, y_train)\n",
        "\n",
        "p('Results')\n",
        "clf_gs.estimator\n",
        "p(clf_gs.best_params_)\n",
        "p(clf_gs.best_estimator_)"
      ],
      "execution_count": 89,
      "outputs": [
        {
          "output_type": "stream",
          "text": [
            "Fitting 5 folds for each of 6 candidates, totalling 30 fits\n",
            "[CV] max_depth=None ..................................................\n"
          ],
          "name": "stdout"
        },
        {
          "output_type": "stream",
          "text": [
            "[Parallel(n_jobs=1)]: Using backend SequentialBackend with 1 concurrent workers.\n"
          ],
          "name": "stderr"
        },
        {
          "output_type": "stream",
          "text": [
            "[CV] ...................... max_depth=None, score=0.846, total=  10.0s\n",
            "[CV] max_depth=None ..................................................\n"
          ],
          "name": "stdout"
        },
        {
          "output_type": "stream",
          "text": [
            "[Parallel(n_jobs=1)]: Done   1 out of   1 | elapsed:   10.0s remaining:    0.0s\n"
          ],
          "name": "stderr"
        },
        {
          "output_type": "stream",
          "text": [
            "[CV] ...................... max_depth=None, score=0.850, total=  10.1s\n",
            "[CV] max_depth=None ..................................................\n"
          ],
          "name": "stdout"
        },
        {
          "output_type": "stream",
          "text": [
            "[Parallel(n_jobs=1)]: Done   2 out of   2 | elapsed:   20.2s remaining:    0.0s\n"
          ],
          "name": "stderr"
        },
        {
          "output_type": "stream",
          "text": [
            "[CV] ...................... max_depth=None, score=0.850, total=  10.0s\n",
            "[CV] max_depth=None ..................................................\n"
          ],
          "name": "stdout"
        },
        {
          "output_type": "stream",
          "text": [
            "[Parallel(n_jobs=1)]: Done   3 out of   3 | elapsed:   30.2s remaining:    0.0s\n"
          ],
          "name": "stderr"
        },
        {
          "output_type": "stream",
          "text": [
            "[CV] ...................... max_depth=None, score=0.841, total=   9.9s\n",
            "[CV] max_depth=None ..................................................\n",
            "[CV] ...................... max_depth=None, score=0.845, total=  10.2s\n",
            "[CV] max_depth=4 .....................................................\n",
            "[CV] ......................... max_depth=4, score=0.692, total=   2.7s\n",
            "[CV] max_depth=4 .....................................................\n",
            "[CV] ......................... max_depth=4, score=0.718, total=   2.8s\n",
            "[CV] max_depth=4 .....................................................\n",
            "[CV] ......................... max_depth=4, score=0.723, total=   2.7s\n",
            "[CV] max_depth=4 .....................................................\n",
            "[CV] ......................... max_depth=4, score=0.697, total=   2.7s\n",
            "[CV] max_depth=4 .....................................................\n",
            "[CV] ......................... max_depth=4, score=0.696, total=   2.7s\n",
            "[CV] max_depth=5 .....................................................\n",
            "[CV] ......................... max_depth=5, score=0.753, total=   3.2s\n",
            "[CV] max_depth=5 .....................................................\n",
            "[CV] ......................... max_depth=5, score=0.757, total=   3.2s\n",
            "[CV] max_depth=5 .....................................................\n",
            "[CV] ......................... max_depth=5, score=0.753, total=   3.2s\n",
            "[CV] max_depth=5 .....................................................\n",
            "[CV] ......................... max_depth=5, score=0.746, total=   3.2s\n",
            "[CV] max_depth=5 .....................................................\n",
            "[CV] ......................... max_depth=5, score=0.762, total=   3.2s\n",
            "[CV] max_depth=6 .....................................................\n",
            "[CV] ......................... max_depth=6, score=0.776, total=   3.8s\n",
            "[CV] max_depth=6 .....................................................\n",
            "[CV] ......................... max_depth=6, score=0.778, total=   3.8s\n",
            "[CV] max_depth=6 .....................................................\n",
            "[CV] ......................... max_depth=6, score=0.786, total=   3.7s\n",
            "[CV] max_depth=6 .....................................................\n",
            "[CV] ......................... max_depth=6, score=0.773, total=   3.7s\n",
            "[CV] max_depth=6 .....................................................\n",
            "[CV] ......................... max_depth=6, score=0.776, total=   3.7s\n",
            "[CV] max_depth=7 .....................................................\n",
            "[CV] ......................... max_depth=7, score=0.785, total=   4.3s\n",
            "[CV] max_depth=7 .....................................................\n",
            "[CV] ......................... max_depth=7, score=0.791, total=   4.3s\n",
            "[CV] max_depth=7 .....................................................\n",
            "[CV] ......................... max_depth=7, score=0.788, total=   4.3s\n",
            "[CV] max_depth=7 .....................................................\n",
            "[CV] ......................... max_depth=7, score=0.786, total=   4.2s\n",
            "[CV] max_depth=7 .....................................................\n",
            "[CV] ......................... max_depth=7, score=0.789, total=   4.2s\n",
            "[CV] max_depth=8 .....................................................\n",
            "[CV] ......................... max_depth=8, score=0.795, total=   4.8s\n",
            "[CV] max_depth=8 .....................................................\n",
            "[CV] ......................... max_depth=8, score=0.801, total=   4.9s\n",
            "[CV] max_depth=8 .....................................................\n",
            "[CV] ......................... max_depth=8, score=0.806, total=   4.8s\n",
            "[CV] max_depth=8 .....................................................\n",
            "[CV] ......................... max_depth=8, score=0.794, total=   4.8s\n",
            "[CV] max_depth=8 .....................................................\n",
            "[CV] ......................... max_depth=8, score=0.800, total=   4.8s\n"
          ],
          "name": "stdout"
        },
        {
          "output_type": "stream",
          "text": [
            "[Parallel(n_jobs=1)]: Done  30 out of  30 | elapsed:  2.4min finished\n"
          ],
          "name": "stderr"
        },
        {
          "output_type": "stream",
          "text": [
            "{'max_depth': None}\n",
            "RandomForestClassifier(bootstrap=True, ccp_alpha=0.0, class_weight=None,\n",
            "                       criterion='gini', max_depth=None, max_features='auto',\n",
            "                       max_leaf_nodes=None, max_samples=None,\n",
            "                       min_impurity_decrease=0.0, min_impurity_split=None,\n",
            "                       min_samples_leaf=1, min_samples_split=2,\n",
            "                       min_weight_fraction_leaf=0.0, n_estimators=100,\n",
            "                       n_jobs=None, oob_score=False, random_state=None,\n",
            "                       verbose=0, warm_start=False)\n"
          ],
          "name": "stdout"
        }
      ]
    },
    {
      "cell_type": "code",
      "metadata": {
        "id": "r3sRrt4ohGgK"
      },
      "source": [
        "p(clf_gs.score(X_train, y_train))\n",
        "p(clf_gs.score(X_test, y_test))"
      ],
      "execution_count": null,
      "outputs": []
    },
    {
      "cell_type": "markdown",
      "metadata": {
        "id": "Y6u7kMudO1IA"
      },
      "source": [
        "# TODO:"
      ]
    },
    {
      "cell_type": "markdown",
      "metadata": {
        "id": "W6tvvVZVRJz4"
      },
      "source": [
        "## cross validation"
      ]
    },
    {
      "cell_type": "code",
      "metadata": {
        "id": "KVpG8EqBEc4y"
      },
      "source": [
        "if False:\n",
        "  \n",
        "  from sklearn.ensemble import VotingClassifier\n",
        "\n",
        "  process_model(VotingClassifier(estimators=[('GBR', model1), ('BR', model2), ('KNN', model3)], voting='soft'))"
      ],
      "execution_count": null,
      "outputs": []
    },
    {
      "cell_type": "markdown",
      "metadata": {
        "id": "aAGxvaPEO3jo"
      },
      "source": [
        "## run a model with the important feature alone to show is it a must or just necessary (if the drop in precision is large it is not a must)?"
      ]
    },
    {
      "cell_type": "markdown",
      "metadata": {
        "id": "Uos9bzosB7dU"
      },
      "source": [
        "## Bagging (Bootstrap Aggregation)\n",
        "\n",
        "> One classifier (\"base model\") and try to fit many different subsamples of the data\n",
        "\n",
        "> The hyper-parameters \"max_samples\" and \"max_features\" control the size of the subsets\n",
        "\n",
        "> The hyper-parameters \"bootstrap\" and \"bootstrap_features\" control wether the samples and the features are drawn with (or without) replacement"
      ]
    },
    {
      "cell_type": "code",
      "metadata": {
        "id": "w2w3COM6AL52"
      },
      "source": [
        "clf_base = DecisionTreeClassifier(max_depth=5)"
      ],
      "execution_count": null,
      "outputs": []
    },
    {
      "cell_type": "code",
      "metadata": {
        "id": "nSPZOa5kCW62"
      },
      "source": [
        "clf_bagging = BaggingClassifier(base_estimator=clf_base, n_estimators=50)\n",
        "clf_bagging.fit(X_train, y_train)\n",
        "\n",
        "clf_bagging.score(X_train, y_train)\n",
        "clf_bagging.score(X_test, y_test)"
      ],
      "execution_count": null,
      "outputs": []
    },
    {
      "cell_type": "markdown",
      "metadata": {
        "id": "_e8SpyWLhzKl"
      },
      "source": [
        "## Correlation"
      ]
    }
  ]
}