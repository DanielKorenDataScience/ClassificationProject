{
  "nbformat": 4,
  "nbformat_minor": 0,
  "metadata": {
    "colab": {
      "name": "Classification Project - Shufersal.ipynb",
      "provenance": [],
      "include_colab_link": true
    },
    "kernelspec": {
      "name": "python3",
      "display_name": "Python 3"
    },
    "language_info": {
      "name": "python"
    }
  },
  "cells": [
    {
      "cell_type": "markdown",
      "metadata": {
        "id": "view-in-github",
        "colab_type": "text"
      },
      "source": [
        "<a href=\"https://colab.research.google.com/github/DanielKorenDataScience/ClassificationProject/blob/main/Classification_Project_Shufersal.ipynb\" target=\"_parent\"><img src=\"https://colab.research.google.com/assets/colab-badge.svg\" alt=\"Open In Colab\"/></a>"
      ]
    },
    {
      "cell_type": "markdown",
      "metadata": {
        "id": "AsgFwVtRbySD"
      },
      "source": [
        "Classification Project\n",
        "\n",
        "for Shufersal on-line orders, for replacing of missing products, will predict the replacement success!"
      ]
    },
    {
      "cell_type": "code",
      "metadata": {
        "id": "yGba9FH7bxTM"
      },
      "source": [
        "import requests\n",
        "import pandas as pd\n",
        "\n",
        "from IPython.display import display\n",
        "p = print\n",
        "d = display"
      ],
      "execution_count": 68,
      "outputs": []
    },
    {
      "cell_type": "code",
      "metadata": {
        "id": "Sp4iGxceSita",
        "outputId": "d8476fdd-76b8-4aca-ecd0-bcb22611a019",
        "colab": {
          "base_uri": "https://localhost:8080/",
          "height": 120
        }
      },
      "source": [
        "data_url = 'https://github.com/DanielKorenDataScience/ClassificationProject/blob/main/shufersal_mod.csv?raw=true'\n",
        "resp = requests.get(data_url)\n",
        "text = resp.text\n",
        "text[:1000]\n",
        "\n",
        "with open('Shufersal.csv', 'w') as fh:\n",
        "    fh.write(text)"
      ],
      "execution_count": 47,
      "outputs": [
        {
          "output_type": "execute_result",
          "data": {
            "application/vnd.google.colaboratory.intrinsic+json": {
              "type": "string"
            },
            "text/plain": [
              "',OrderNumbert,HouseHoldID,TransactionDate,DepartmentCode,CategoryCode,GroupCode,SubGroupCode,CompoundID,ParentProductNumber,BrandIndDesc,UnitOfMeasure,ItemsPerPackageWH,DescriptionTavit,Price,Energy,Pachmema,Natran,Helbon,Shuman,ShumanRavuy,ShumanTrans,Colastrol,SivimTzunatim,CafiotSucar,DepartmentCodeSubs,CategoryCodeSubs,GroupCodeSubs,SubGroupCodeSubs,CompoundIDSubs,ProductNumberSubs,BrandIndDesc.1,UnitOfMeasureSubs,ItemsPerPackageWHSubs,DescriptionTavit.1,PriceSubs,EnergySubs,PachmemaSubs,NatranSubs,HelbonSubs,ShumanSubs,ShumanRavuySubs,ShumanTransSubs,ColastrolSubs,SivimTzunatimSubs,CafiotSucarSusb\\r\\n0,40063,1,2021-02-21,10,6,700,3,-8000500249352,8000500249352,קינדר,0.205,15,205 גרם,18.9,568.0,49.5,107.0,8.6,37.8,17.3,0.5,15.0,,,10,6,700,6,-8000500217740,8000500217740,קינדר,0.086,12,86 גרם,9.9,,,,,,,,,,\\r\\n1,15636,2,2021-03-21,10,6,699,4,2900,178134,פרה,0.4,6,4 * 100 גרם,19.6,514.0,51.0,,5.3,31.0,19.2,0.5,,,12.25,10,6,699,4,23107,7290100852576,פרה,0.3,8,3 * 100 גרם,10.0,514.0,51.0,,5.'"
            ]
          },
          "metadata": {
            "tags": []
          },
          "execution_count": 47
        }
      ]
    },
    {
      "cell_type": "code",
      "metadata": {
        "id": "VoP0C8qFhCkD",
        "outputId": "4063bb6e-a1de-4c4a-8f88-256c333558af",
        "colab": {
          "base_uri": "https://localhost:8080/"
        }
      },
      "source": [
        "df = pd.read_csv('Shufersal.csv', index_col=False, usecols=range(1,46))  # skip the 0 index col\n",
        "df.shape"
      ],
      "execution_count": 57,
      "outputs": [
        {
          "output_type": "execute_result",
          "data": {
            "text/plain": [
              "(54484, 45)"
            ]
          },
          "metadata": {
            "tags": []
          },
          "execution_count": 57
        }
      ]
    },
    {
      "cell_type": "code",
      "metadata": {
        "id": "dxJBk_iMUi4M",
        "colab": {
          "base_uri": "https://localhost:8080/",
          "height": 224
        },
        "outputId": "52ffd3ba-2cc1-453d-a1c3-b069c3758fc3"
      },
      "source": [
        "df.head()"
      ],
      "execution_count": 58,
      "outputs": [
        {
          "output_type": "execute_result",
          "data": {
            "text/html": [
              "<div>\n",
              "<style scoped>\n",
              "    .dataframe tbody tr th:only-of-type {\n",
              "        vertical-align: middle;\n",
              "    }\n",
              "\n",
              "    .dataframe tbody tr th {\n",
              "        vertical-align: top;\n",
              "    }\n",
              "\n",
              "    .dataframe thead th {\n",
              "        text-align: right;\n",
              "    }\n",
              "</style>\n",
              "<table border=\"1\" class=\"dataframe\">\n",
              "  <thead>\n",
              "    <tr style=\"text-align: right;\">\n",
              "      <th></th>\n",
              "      <th>OrderNumbert</th>\n",
              "      <th>HouseHoldID</th>\n",
              "      <th>TransactionDate</th>\n",
              "      <th>DepartmentCode</th>\n",
              "      <th>CategoryCode</th>\n",
              "      <th>GroupCode</th>\n",
              "      <th>SubGroupCode</th>\n",
              "      <th>CompoundID</th>\n",
              "      <th>ParentProductNumber</th>\n",
              "      <th>BrandIndDesc</th>\n",
              "      <th>UnitOfMeasure</th>\n",
              "      <th>ItemsPerPackageWH</th>\n",
              "      <th>DescriptionTavit</th>\n",
              "      <th>Price</th>\n",
              "      <th>Energy</th>\n",
              "      <th>Pachmema</th>\n",
              "      <th>Natran</th>\n",
              "      <th>Helbon</th>\n",
              "      <th>Shuman</th>\n",
              "      <th>ShumanRavuy</th>\n",
              "      <th>ShumanTrans</th>\n",
              "      <th>Colastrol</th>\n",
              "      <th>SivimTzunatim</th>\n",
              "      <th>CafiotSucar</th>\n",
              "      <th>DepartmentCodeSubs</th>\n",
              "      <th>CategoryCodeSubs</th>\n",
              "      <th>GroupCodeSubs</th>\n",
              "      <th>SubGroupCodeSubs</th>\n",
              "      <th>CompoundIDSubs</th>\n",
              "      <th>ProductNumberSubs</th>\n",
              "      <th>BrandIndDesc.1</th>\n",
              "      <th>UnitOfMeasureSubs</th>\n",
              "      <th>ItemsPerPackageWHSubs</th>\n",
              "      <th>DescriptionTavit.1</th>\n",
              "      <th>PriceSubs</th>\n",
              "      <th>EnergySubs</th>\n",
              "      <th>PachmemaSubs</th>\n",
              "      <th>NatranSubs</th>\n",
              "      <th>HelbonSubs</th>\n",
              "      <th>ShumanSubs</th>\n",
              "      <th>ShumanRavuySubs</th>\n",
              "      <th>ShumanTransSubs</th>\n",
              "      <th>ColastrolSubs</th>\n",
              "      <th>SivimTzunatimSubs</th>\n",
              "      <th>CafiotSucarSusb</th>\n",
              "    </tr>\n",
              "  </thead>\n",
              "  <tbody>\n",
              "    <tr>\n",
              "      <th>0</th>\n",
              "      <td>40063</td>\n",
              "      <td>1</td>\n",
              "      <td>2021-02-21</td>\n",
              "      <td>10</td>\n",
              "      <td>6</td>\n",
              "      <td>700</td>\n",
              "      <td>3</td>\n",
              "      <td>-8000500249352</td>\n",
              "      <td>8000500249352</td>\n",
              "      <td>קינדר</td>\n",
              "      <td>0.205</td>\n",
              "      <td>15</td>\n",
              "      <td>205 גרם</td>\n",
              "      <td>18.90</td>\n",
              "      <td>568.0</td>\n",
              "      <td>49.5</td>\n",
              "      <td>107.0</td>\n",
              "      <td>8.6</td>\n",
              "      <td>37.8</td>\n",
              "      <td>17.3</td>\n",
              "      <td>0.5</td>\n",
              "      <td>15.0</td>\n",
              "      <td>NaN</td>\n",
              "      <td>NaN</td>\n",
              "      <td>10</td>\n",
              "      <td>6</td>\n",
              "      <td>700</td>\n",
              "      <td>6</td>\n",
              "      <td>-8000500217740</td>\n",
              "      <td>8000500217740</td>\n",
              "      <td>קינדר</td>\n",
              "      <td>0.086</td>\n",
              "      <td>12</td>\n",
              "      <td>86 גרם</td>\n",
              "      <td>9.90</td>\n",
              "      <td>NaN</td>\n",
              "      <td>NaN</td>\n",
              "      <td>NaN</td>\n",
              "      <td>NaN</td>\n",
              "      <td>NaN</td>\n",
              "      <td>NaN</td>\n",
              "      <td>NaN</td>\n",
              "      <td>NaN</td>\n",
              "      <td>NaN</td>\n",
              "      <td>NaN</td>\n",
              "    </tr>\n",
              "    <tr>\n",
              "      <th>1</th>\n",
              "      <td>15636</td>\n",
              "      <td>2</td>\n",
              "      <td>2021-03-21</td>\n",
              "      <td>10</td>\n",
              "      <td>6</td>\n",
              "      <td>699</td>\n",
              "      <td>4</td>\n",
              "      <td>2900</td>\n",
              "      <td>178134</td>\n",
              "      <td>פרה</td>\n",
              "      <td>0.400</td>\n",
              "      <td>6</td>\n",
              "      <td>4 * 100 גרם</td>\n",
              "      <td>19.60</td>\n",
              "      <td>514.0</td>\n",
              "      <td>51.0</td>\n",
              "      <td>NaN</td>\n",
              "      <td>5.3</td>\n",
              "      <td>31.0</td>\n",
              "      <td>19.2</td>\n",
              "      <td>0.5</td>\n",
              "      <td>NaN</td>\n",
              "      <td>NaN</td>\n",
              "      <td>12.25</td>\n",
              "      <td>10</td>\n",
              "      <td>6</td>\n",
              "      <td>699</td>\n",
              "      <td>4</td>\n",
              "      <td>23107</td>\n",
              "      <td>7290100852576</td>\n",
              "      <td>פרה</td>\n",
              "      <td>0.300</td>\n",
              "      <td>8</td>\n",
              "      <td>3 * 100 גרם</td>\n",
              "      <td>10.00</td>\n",
              "      <td>514.0</td>\n",
              "      <td>51.0</td>\n",
              "      <td>NaN</td>\n",
              "      <td>5.3</td>\n",
              "      <td>31.0</td>\n",
              "      <td>19.2</td>\n",
              "      <td>0.5</td>\n",
              "      <td>NaN</td>\n",
              "      <td>NaN</td>\n",
              "      <td>12.25</td>\n",
              "    </tr>\n",
              "    <tr>\n",
              "      <th>2</th>\n",
              "      <td>40686</td>\n",
              "      <td>3</td>\n",
              "      <td>2021-01-07</td>\n",
              "      <td>10</td>\n",
              "      <td>6</td>\n",
              "      <td>699</td>\n",
              "      <td>3</td>\n",
              "      <td>12043</td>\n",
              "      <td>7610400091060</td>\n",
              "      <td>לינדט</td>\n",
              "      <td>0.100</td>\n",
              "      <td>20</td>\n",
              "      <td>100 גרם</td>\n",
              "      <td>14.90</td>\n",
              "      <td>534.0</td>\n",
              "      <td>51.0</td>\n",
              "      <td>34.0</td>\n",
              "      <td>6.9</td>\n",
              "      <td>32.0</td>\n",
              "      <td>17.0</td>\n",
              "      <td>0.5</td>\n",
              "      <td>10.0</td>\n",
              "      <td>NaN</td>\n",
              "      <td>11.50</td>\n",
              "      <td>10</td>\n",
              "      <td>6</td>\n",
              "      <td>699</td>\n",
              "      <td>3</td>\n",
              "      <td>36777</td>\n",
              "      <td>8690766156404</td>\n",
              "      <td>גודייבה</td>\n",
              "      <td>0.090</td>\n",
              "      <td>10</td>\n",
              "      <td>90 גרם</td>\n",
              "      <td>9.90</td>\n",
              "      <td>532.0</td>\n",
              "      <td>51.0</td>\n",
              "      <td>21.0</td>\n",
              "      <td>6.5</td>\n",
              "      <td>30.0</td>\n",
              "      <td>18.0</td>\n",
              "      <td>0.5</td>\n",
              "      <td>7.5</td>\n",
              "      <td>7.8</td>\n",
              "      <td>12.00</td>\n",
              "    </tr>\n",
              "    <tr>\n",
              "      <th>3</th>\n",
              "      <td>29327</td>\n",
              "      <td>4</td>\n",
              "      <td>2021-01-28</td>\n",
              "      <td>10</td>\n",
              "      <td>6</td>\n",
              "      <td>699</td>\n",
              "      <td>2</td>\n",
              "      <td>8579</td>\n",
              "      <td>7290112490124</td>\n",
              "      <td>קליק</td>\n",
              "      <td>0.085</td>\n",
              "      <td>12</td>\n",
              "      <td>85 גרם</td>\n",
              "      <td>2.95</td>\n",
              "      <td>527.0</td>\n",
              "      <td>67.4</td>\n",
              "      <td>117.0</td>\n",
              "      <td>7.4</td>\n",
              "      <td>25.3</td>\n",
              "      <td>16.3</td>\n",
              "      <td>0.5</td>\n",
              "      <td>11.0</td>\n",
              "      <td>NaN</td>\n",
              "      <td>12.75</td>\n",
              "      <td>10</td>\n",
              "      <td>6</td>\n",
              "      <td>699</td>\n",
              "      <td>2</td>\n",
              "      <td>8579</td>\n",
              "      <td>7290107649605</td>\n",
              "      <td>קליק</td>\n",
              "      <td>0.085</td>\n",
              "      <td>12</td>\n",
              "      <td>85 גרם</td>\n",
              "      <td>2.95</td>\n",
              "      <td>506.0</td>\n",
              "      <td>64.2</td>\n",
              "      <td>132.0</td>\n",
              "      <td>8.1</td>\n",
              "      <td>24.1</td>\n",
              "      <td>14.9</td>\n",
              "      <td>0.5</td>\n",
              "      <td>8.0</td>\n",
              "      <td>NaN</td>\n",
              "      <td>12.50</td>\n",
              "    </tr>\n",
              "    <tr>\n",
              "      <th>4</th>\n",
              "      <td>32055</td>\n",
              "      <td>5</td>\n",
              "      <td>2021-02-04</td>\n",
              "      <td>10</td>\n",
              "      <td>6</td>\n",
              "      <td>699</td>\n",
              "      <td>3</td>\n",
              "      <td>30727</td>\n",
              "      <td>7296073382416</td>\n",
              "      <td>שופרסל</td>\n",
              "      <td>0.100</td>\n",
              "      <td>20</td>\n",
              "      <td>100 גרם</td>\n",
              "      <td>8.00</td>\n",
              "      <td>607.0</td>\n",
              "      <td>13.0</td>\n",
              "      <td>10.0</td>\n",
              "      <td>11.0</td>\n",
              "      <td>53.0</td>\n",
              "      <td>32.0</td>\n",
              "      <td>0.5</td>\n",
              "      <td>NaN</td>\n",
              "      <td>17.0</td>\n",
              "      <td>2.00</td>\n",
              "      <td>10</td>\n",
              "      <td>6</td>\n",
              "      <td>699</td>\n",
              "      <td>3</td>\n",
              "      <td>30727</td>\n",
              "      <td>7296073237631</td>\n",
              "      <td>שופרסל</td>\n",
              "      <td>0.100</td>\n",
              "      <td>20</td>\n",
              "      <td>100 גרם</td>\n",
              "      <td>8.00</td>\n",
              "      <td>603.0</td>\n",
              "      <td>23.0</td>\n",
              "      <td>10.0</td>\n",
              "      <td>8.7</td>\n",
              "      <td>50.0</td>\n",
              "      <td>30.0</td>\n",
              "      <td>0.5</td>\n",
              "      <td>NaN</td>\n",
              "      <td>13.0</td>\n",
              "      <td>4.50</td>\n",
              "    </tr>\n",
              "  </tbody>\n",
              "</table>\n",
              "</div>"
            ],
            "text/plain": [
              "   OrderNumbert  HouseHoldID  ... SivimTzunatimSubs  CafiotSucarSusb\n",
              "0         40063            1  ...               NaN              NaN\n",
              "1         15636            2  ...               NaN            12.25\n",
              "2         40686            3  ...               7.8            12.00\n",
              "3         29327            4  ...               NaN            12.50\n",
              "4         32055            5  ...              13.0             4.50\n",
              "\n",
              "[5 rows x 45 columns]"
            ]
          },
          "metadata": {
            "tags": []
          },
          "execution_count": 58
        }
      ]
    },
    {
      "cell_type": "code",
      "metadata": {
        "id": "SPwfc2TAggww",
        "outputId": "493f0784-5b39-4ee7-b4ce-81b9abcd373f",
        "colab": {
          "base_uri": "https://localhost:8080/"
        }
      },
      "source": [
        "df.columns"
      ],
      "execution_count": 59,
      "outputs": [
        {
          "output_type": "execute_result",
          "data": {
            "text/plain": [
              "Index(['OrderNumbert', 'HouseHoldID', 'TransactionDate', 'DepartmentCode',\n",
              "       'CategoryCode', 'GroupCode', 'SubGroupCode', 'CompoundID',\n",
              "       'ParentProductNumber', 'BrandIndDesc', 'UnitOfMeasure',\n",
              "       'ItemsPerPackageWH', 'DescriptionTavit', 'Price', 'Energy', 'Pachmema',\n",
              "       'Natran', 'Helbon', 'Shuman', 'ShumanRavuy', 'ShumanTrans', 'Colastrol',\n",
              "       'SivimTzunatim', 'CafiotSucar', 'DepartmentCodeSubs',\n",
              "       'CategoryCodeSubs', 'GroupCodeSubs', 'SubGroupCodeSubs',\n",
              "       'CompoundIDSubs', 'ProductNumberSubs', 'BrandIndDesc.1',\n",
              "       'UnitOfMeasureSubs', 'ItemsPerPackageWHSubs', 'DescriptionTavit.1',\n",
              "       'PriceSubs', 'EnergySubs', 'PachmemaSubs', 'NatranSubs', 'HelbonSubs',\n",
              "       'ShumanSubs', 'ShumanRavuySubs', 'ShumanTransSubs', 'ColastrolSubs',\n",
              "       'SivimTzunatimSubs', 'CafiotSucarSusb'],\n",
              "      dtype='object')"
            ]
          },
          "metadata": {
            "tags": []
          },
          "execution_count": 59
        }
      ]
    },
    {
      "cell_type": "code",
      "metadata": {
        "id": "k4zkW0UF2eAx",
        "outputId": "6a592492-f3bb-496b-8b9d-5c44cae63881",
        "colab": {
          "base_uri": "https://localhost:8080/"
        }
      },
      "source": [
        "# fix Type mistake\n",
        "df.rename(columns={'OrderNumbert': 'OrderNumber', 'CafiotSucarSusb': 'CafiotSucarSubs', 'ProductNumberSubs': 'ParentProductNumberSubs',\n",
        "                   'BrandIndDesc.1': 'BrandIndDescSubs', 'DescriptionTavit.1': 'DescriptionTavitSubs'}, inplace=True)\n",
        "df.columns"
      ],
      "execution_count": 64,
      "outputs": [
        {
          "output_type": "execute_result",
          "data": {
            "text/plain": [
              "Index(['OrderNumber', 'HouseHoldID', 'TransactionDate', 'DepartmentCode',\n",
              "       'CategoryCode', 'GroupCode', 'SubGroupCode', 'CompoundID',\n",
              "       'ParentProductNumber', 'BrandIndDesc', 'UnitOfMeasure',\n",
              "       'ItemsPerPackageWH', 'DescriptionTavit', 'Price', 'Energy', 'Pachmema',\n",
              "       'Natran', 'Helbon', 'Shuman', 'ShumanRavuy', 'ShumanTrans', 'Colastrol',\n",
              "       'SivimTzunatim', 'CafiotSucar', 'DepartmentCodeSubs',\n",
              "       'CategoryCodeSubs', 'GroupCodeSubs', 'SubGroupCodeSubs',\n",
              "       'CompoundIDSubs', 'ParentProductNumberSubs', 'BrandIndDescSubs',\n",
              "       'UnitOfMeasureSubs', 'ItemsPerPackageWHSubs', 'DescriptionTavitSubs',\n",
              "       'PriceSubs', 'EnergySubs', 'PachmemaSubs', 'NatranSubs', 'HelbonSubs',\n",
              "       'ShumanSubs', 'ShumanRavuySubs', 'ShumanTransSubs', 'ColastrolSubs',\n",
              "       'SivimTzunatimSubs', 'CafiotSucarSubs', 'DepartmentCodeDiff',\n",
              "       'CategoryCodeDiff', 'GroupCodeDiff', 'SubGroupCodeDiff',\n",
              "       'CompoundIDDiff'],\n",
              "      dtype='object')"
            ]
          },
          "metadata": {
            "tags": []
          },
          "execution_count": 64
        }
      ]
    },
    {
      "cell_type": "code",
      "metadata": {
        "id": "xYbmbWfe7mEJ"
      },
      "source": [
        "df.fillna(0, inplace=True)"
      ],
      "execution_count": 72,
      "outputs": []
    },
    {
      "cell_type": "code",
      "metadata": {
        "id": "SPviIp5C11J7",
        "outputId": "e6478ea1-de86-45f1-de25-74b191dd67f1",
        "colab": {
          "base_uri": "https://localhost:8080/",
          "height": 419
        }
      },
      "source": [
        "for col in ['DepartmentCode', 'CategoryCode', 'GroupCode', 'SubGroupCode',\n",
        "       'CompoundID', 'ParentProductNumber', 'UnitOfMeasure',\n",
        "       'ItemsPerPackageWH', 'Price', 'Energy', 'Pachmema',\n",
        "       'Natran', 'Helbon', 'Shuman', 'ShumanRavuy', 'ShumanTrans', 'Colastrol',\n",
        "       'SivimTzunatim', 'CafiotSucar']:\n",
        "  df[col + 'Diff'] = df[col] - df[col + 'Subs']\n",
        "\n",
        "df.head().T"
      ],
      "execution_count": 74,
      "outputs": [
        {
          "output_type": "execute_result",
          "data": {
            "text/html": [
              "<div>\n",
              "<style scoped>\n",
              "    .dataframe tbody tr th:only-of-type {\n",
              "        vertical-align: middle;\n",
              "    }\n",
              "\n",
              "    .dataframe tbody tr th {\n",
              "        vertical-align: top;\n",
              "    }\n",
              "\n",
              "    .dataframe thead th {\n",
              "        text-align: right;\n",
              "    }\n",
              "</style>\n",
              "<table border=\"1\" class=\"dataframe\">\n",
              "  <thead>\n",
              "    <tr style=\"text-align: right;\">\n",
              "      <th></th>\n",
              "      <th>0</th>\n",
              "      <th>1</th>\n",
              "      <th>2</th>\n",
              "      <th>3</th>\n",
              "      <th>4</th>\n",
              "    </tr>\n",
              "  </thead>\n",
              "  <tbody>\n",
              "    <tr>\n",
              "      <th>OrderNumber</th>\n",
              "      <td>40063</td>\n",
              "      <td>15636</td>\n",
              "      <td>40686</td>\n",
              "      <td>29327</td>\n",
              "      <td>32055</td>\n",
              "    </tr>\n",
              "    <tr>\n",
              "      <th>HouseHoldID</th>\n",
              "      <td>1</td>\n",
              "      <td>2</td>\n",
              "      <td>3</td>\n",
              "      <td>4</td>\n",
              "      <td>5</td>\n",
              "    </tr>\n",
              "    <tr>\n",
              "      <th>TransactionDate</th>\n",
              "      <td>2021-02-21</td>\n",
              "      <td>2021-03-21</td>\n",
              "      <td>2021-01-07</td>\n",
              "      <td>2021-01-28</td>\n",
              "      <td>2021-02-04</td>\n",
              "    </tr>\n",
              "    <tr>\n",
              "      <th>DepartmentCode</th>\n",
              "      <td>10</td>\n",
              "      <td>10</td>\n",
              "      <td>10</td>\n",
              "      <td>10</td>\n",
              "      <td>10</td>\n",
              "    </tr>\n",
              "    <tr>\n",
              "      <th>CategoryCode</th>\n",
              "      <td>6</td>\n",
              "      <td>6</td>\n",
              "      <td>6</td>\n",
              "      <td>6</td>\n",
              "      <td>6</td>\n",
              "    </tr>\n",
              "    <tr>\n",
              "      <th>...</th>\n",
              "      <td>...</td>\n",
              "      <td>...</td>\n",
              "      <td>...</td>\n",
              "      <td>...</td>\n",
              "      <td>...</td>\n",
              "    </tr>\n",
              "    <tr>\n",
              "      <th>ShumanRavuyDiff</th>\n",
              "      <td>17.3</td>\n",
              "      <td>0</td>\n",
              "      <td>-1</td>\n",
              "      <td>1.4</td>\n",
              "      <td>2</td>\n",
              "    </tr>\n",
              "    <tr>\n",
              "      <th>ShumanTransDiff</th>\n",
              "      <td>0.5</td>\n",
              "      <td>0</td>\n",
              "      <td>0</td>\n",
              "      <td>0</td>\n",
              "      <td>0</td>\n",
              "    </tr>\n",
              "    <tr>\n",
              "      <th>ColastrolDiff</th>\n",
              "      <td>15</td>\n",
              "      <td>0</td>\n",
              "      <td>2.5</td>\n",
              "      <td>3</td>\n",
              "      <td>0</td>\n",
              "    </tr>\n",
              "    <tr>\n",
              "      <th>SivimTzunatimDiff</th>\n",
              "      <td>0</td>\n",
              "      <td>0</td>\n",
              "      <td>-7.8</td>\n",
              "      <td>0</td>\n",
              "      <td>4</td>\n",
              "    </tr>\n",
              "    <tr>\n",
              "      <th>CafiotSucarDiff</th>\n",
              "      <td>0</td>\n",
              "      <td>0</td>\n",
              "      <td>-0.5</td>\n",
              "      <td>0.25</td>\n",
              "      <td>-2.5</td>\n",
              "    </tr>\n",
              "  </tbody>\n",
              "</table>\n",
              "<p>64 rows × 5 columns</p>\n",
              "</div>"
            ],
            "text/plain": [
              "                            0           1           2           3           4\n",
              "OrderNumber             40063       15636       40686       29327       32055\n",
              "HouseHoldID                 1           2           3           4           5\n",
              "TransactionDate    2021-02-21  2021-03-21  2021-01-07  2021-01-28  2021-02-04\n",
              "DepartmentCode             10          10          10          10          10\n",
              "CategoryCode                6           6           6           6           6\n",
              "...                       ...         ...         ...         ...         ...\n",
              "ShumanRavuyDiff          17.3           0          -1         1.4           2\n",
              "ShumanTransDiff           0.5           0           0           0           0\n",
              "ColastrolDiff              15           0         2.5           3           0\n",
              "SivimTzunatimDiff           0           0        -7.8           0           4\n",
              "CafiotSucarDiff             0           0        -0.5        0.25        -2.5\n",
              "\n",
              "[64 rows x 5 columns]"
            ]
          },
          "metadata": {
            "tags": []
          },
          "execution_count": 74
        }
      ]
    },
    {
      "cell_type": "code",
      "metadata": {
        "id": "y8AeEktZ8SJB"
      },
      "source": [
        "df.to_csv(\"Shufersal_with_diff.csv\", index = False)"
      ],
      "execution_count": 75,
      "outputs": []
    },
    {
      "cell_type": "code",
      "metadata": {
        "id": "XgBEiR4A8ui4",
        "outputId": "ec0dafc6-7c70-4e0e-e5f3-c8e907c3d813",
        "colab": {
          "base_uri": "https://localhost:8080/"
        }
      },
      "source": [
        "df.shape"
      ],
      "execution_count": 76,
      "outputs": [
        {
          "output_type": "execute_result",
          "data": {
            "text/plain": [
              "(54484, 64)"
            ]
          },
          "metadata": {
            "tags": []
          },
          "execution_count": 76
        }
      ]
    },
    {
      "cell_type": "code",
      "metadata": {
        "id": "lDvfuMAa8ze9",
        "outputId": "bae13aa7-82a4-4796-c156-ef20a9542818",
        "colab": {
          "base_uri": "https://localhost:8080/"
        }
      },
      "source": [
        "df = pd.read_csv('Shufersal_with_diff.csv', index_col=False)\n",
        "df.shape"
      ],
      "execution_count": 77,
      "outputs": [
        {
          "output_type": "execute_result",
          "data": {
            "text/plain": [
              "(54484, 64)"
            ]
          },
          "metadata": {
            "tags": []
          },
          "execution_count": 77
        }
      ]
    }
  ]
}