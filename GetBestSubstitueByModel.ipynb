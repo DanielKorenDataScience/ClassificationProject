{
 "cells": [
  {
   "cell_type": "markdown",
   "metadata": {
    "toc": true
   },
   "source": [
    "<h1>Table of Contents<span class=\"tocSkip\"></span></h1>\n",
    "<div class=\"toc\"><ul class=\"toc-item\"><li><span><a href=\"#Get-Best-Substitue\" data-toc-modified-id=\"Get-Best-Substitue-1\"><span class=\"toc-item-num\">1&nbsp;&nbsp;</span>Get Best Substitue</a></span></li></ul></div>"
   ]
  },
  {
   "cell_type": "markdown",
   "metadata": {},
   "source": [
    "# Get Best Substitue"
   ]
  },
  {
   "cell_type": "code",
   "execution_count": 118,
   "metadata": {},
   "outputs": [],
   "source": [
    "clf_RF = RandomForestClassifier(n_estimators=200, criterion='entropy', max_depth=None, min_samples_split=20, ccp_alpha=0.0003, random_state=1234)"
   ]
  },
  {
   "cell_type": "code",
   "execution_count": 121,
   "metadata": {},
   "outputs": [
    {
     "data": {
      "text/plain": [
       "RandomForestClassifier(ccp_alpha=0.0003, criterion='entropy',\n",
       "                       min_samples_split=20, n_estimators=200,\n",
       "                       random_state=1234)"
      ]
     },
     "execution_count": 121,
     "metadata": {},
     "output_type": "execute_result"
    }
   ],
   "source": [
    "clf_RF.fit(X_train, y_train)"
   ]
  },
  {
   "cell_type": "code",
   "execution_count": 299,
   "metadata": {},
   "outputs": [],
   "source": [
    "def getBestSubstitute(model, X, numOfSubs=2 ):\n",
    "        # get soft prediction\n",
    "        y_pred_soft=model.predict_proba(X)\n",
    "        df_proba=pd.concat([X.reset_index(drop=True),pd.DataFrame(y_pred_soft[:,1],columns=['prdictProba'])],axis=1)\n",
    "        # get mean and std for each  product and Subs\n",
    "        dfGroup=df_proba.groupby(['ParentProductNumber','ParentProductNumberSubs']).agg({'prdictProba':[('prdictProbaMean','mean'),\n",
    "                                                                                       ('prdictProbaStd',np.std),\n",
    "                                                                       ('countRows','count')]}).reset_index()\n",
    "        dfGroup.columns=dfGroup.columns.droplevel(0)\n",
    "        dfGroup.columns.values[0]='ParentProductNumber'\n",
    "        dfGroup.columns.values[1]='ParentProductNumberSubs'\n",
    "        dfGroup=dfGroup[dfGroup['countRows']>=3]\n",
    "        # get rank of mean and std\n",
    "        dfGroup['scoreMean']=dfGroup.groupby('ParentProductNumber')['prdictProbaMean'].apply(lambda x: (x-x.min())/(x.max()-x.min()))\n",
    "        dfGroup['scoreStd']=dfGroup.groupby('ParentProductNumber')['prdictProbaStd'].apply(lambda x: 1-((x-x.min())/(x.max()-x.min())))\n",
    "        dfGroup['scoreMeanAndStd']=(dfGroup['scoreMean']*0.8+dfGroup['scoreStd']*0.2).astype(np.float64)\n",
    "        dfGroup=dfGroup.round({'scoreMeanAndStd':4})\n",
    "        dfGroup['rankMeanAndStd']=dfGroup.groupby('ParentProductNumber')['scoreMeanAndStd'].rank(ascending=0,method='dense')\n",
    "        dfGroup['rankMeanAndStd']=np.where(dfGroup['rankMeanAndStd'].isnull(),1,dfGroup['rankMeanAndStd'])\n",
    "        dfGroup.sort_values(['ParentProductNumber','rankMeanAndStd'],inplace=True)\n",
    "        # filter best susbs by numofSubs\n",
    "        dfGroupFinal=dfGroup[(dfGroup['rankMeanAndStd']<=numOfSubs)]\n",
    "        return dfGroupFinal"
   ]
  },
  {
   "cell_type": "code",
   "execution_count": 300,
   "metadata": {},
   "outputs": [],
   "source": [
    "df_bestTwoSubs=getBestSubstitute(clf_RF, X)"
   ]
  },
  {
   "cell_type": "code",
   "execution_count": 301,
   "metadata": {},
   "outputs": [
    {
     "data": {
      "text/html": [
       "<div>\n",
       "<style scoped>\n",
       "    .dataframe tbody tr th:only-of-type {\n",
       "        vertical-align: middle;\n",
       "    }\n",
       "\n",
       "    .dataframe tbody tr th {\n",
       "        vertical-align: top;\n",
       "    }\n",
       "\n",
       "    .dataframe thead th {\n",
       "        text-align: right;\n",
       "    }\n",
       "</style>\n",
       "<table border=\"1\" class=\"dataframe\">\n",
       "  <thead>\n",
       "    <tr style=\"text-align: right;\">\n",
       "      <th></th>\n",
       "      <th>ParentProductNumber</th>\n",
       "      <th>ParentProductNumberSubs</th>\n",
       "      <th>prdictProbaMean</th>\n",
       "      <th>prdictProbaStd</th>\n",
       "      <th>countRows</th>\n",
       "      <th>scoreMean</th>\n",
       "      <th>scoreStd</th>\n",
       "      <th>scoreMeanAndStd</th>\n",
       "      <th>rankMeanAndStd</th>\n",
       "    </tr>\n",
       "  </thead>\n",
       "  <tbody>\n",
       "    <tr>\n",
       "      <th>12</th>\n",
       "      <td>161631</td>\n",
       "      <td>7290112497918</td>\n",
       "      <td>0.91</td>\n",
       "      <td>0.12</td>\n",
       "      <td>24</td>\n",
       "      <td>1.00</td>\n",
       "      <td>1.00</td>\n",
       "      <td>1.00</td>\n",
       "      <td>1.0</td>\n",
       "    </tr>\n",
       "    <tr>\n",
       "      <th>0</th>\n",
       "      <td>161631</td>\n",
       "      <td>161648</td>\n",
       "      <td>0.89</td>\n",
       "      <td>0.17</td>\n",
       "      <td>45</td>\n",
       "      <td>0.94</td>\n",
       "      <td>0.82</td>\n",
       "      <td>0.92</td>\n",
       "      <td>2.0</td>\n",
       "    </tr>\n",
       "    <tr>\n",
       "      <th>30</th>\n",
       "      <td>161648</td>\n",
       "      <td>7290112497918</td>\n",
       "      <td>0.91</td>\n",
       "      <td>0.12</td>\n",
       "      <td>31</td>\n",
       "      <td>1.00</td>\n",
       "      <td>1.00</td>\n",
       "      <td>1.00</td>\n",
       "      <td>1.0</td>\n",
       "    </tr>\n",
       "    <tr>\n",
       "      <th>16</th>\n",
       "      <td>161648</td>\n",
       "      <td>72909799</td>\n",
       "      <td>0.90</td>\n",
       "      <td>0.15</td>\n",
       "      <td>68</td>\n",
       "      <td>0.60</td>\n",
       "      <td>0.39</td>\n",
       "      <td>0.55</td>\n",
       "      <td>2.0</td>\n",
       "    </tr>\n",
       "    <tr>\n",
       "      <th>41</th>\n",
       "      <td>170053</td>\n",
       "      <td>7290104720536</td>\n",
       "      <td>0.78</td>\n",
       "      <td>0.08</td>\n",
       "      <td>11</td>\n",
       "      <td>1.00</td>\n",
       "      <td>0.86</td>\n",
       "      <td>0.97</td>\n",
       "      <td>1.0</td>\n",
       "    </tr>\n",
       "  </tbody>\n",
       "</table>\n",
       "</div>"
      ],
      "text/plain": [
       "    ParentProductNumber  ParentProductNumberSubs  prdictProbaMean  \\\n",
       "12               161631            7290112497918             0.91   \n",
       "0                161631                   161648             0.89   \n",
       "30               161648            7290112497918             0.91   \n",
       "16               161648                 72909799             0.90   \n",
       "41               170053            7290104720536             0.78   \n",
       "\n",
       "    prdictProbaStd  countRows  scoreMean  scoreStd  scoreMeanAndStd  \\\n",
       "12            0.12         24       1.00      1.00             1.00   \n",
       "0             0.17         45       0.94      0.82             0.92   \n",
       "30            0.12         31       1.00      1.00             1.00   \n",
       "16            0.15         68       0.60      0.39             0.55   \n",
       "41            0.08         11       1.00      0.86             0.97   \n",
       "\n",
       "    rankMeanAndStd  \n",
       "12             1.0  \n",
       "0              2.0  \n",
       "30             1.0  \n",
       "16             2.0  \n",
       "41             1.0  "
      ]
     },
     "execution_count": 301,
     "metadata": {},
     "output_type": "execute_result"
    }
   ],
   "source": [
    "df_bestTwoSubs.head()"
   ]
  },
  {
   "cell_type": "code",
   "execution_count": 302,
   "metadata": {
    "scrolled": true
   },
   "outputs": [
    {
     "data": {
      "text/plain": [
       "(935, 9)"
      ]
     },
     "execution_count": 302,
     "metadata": {},
     "output_type": "execute_result"
    }
   ],
   "source": [
    "df_bestTwoSubs.shape"
   ]
  },
  {
   "cell_type": "code",
   "execution_count": null,
   "metadata": {},
   "outputs": [],
   "source": []
  }
 ],
 "metadata": {
  "kernelspec": {
   "display_name": "Python 3",
   "language": "python",
   "name": "python3"
  },
  "language_info": {
   "codemirror_mode": {
    "name": "ipython",
    "version": 3
   },
   "file_extension": ".py",
   "mimetype": "text/x-python",
   "name": "python",
   "nbconvert_exporter": "python",
   "pygments_lexer": "ipython3",
   "version": "3.6.4"
  },
  "toc": {
   "base_numbering": 1,
   "nav_menu": {},
   "number_sections": true,
   "sideBar": true,
   "skip_h1_title": false,
   "title_cell": "Table of Contents",
   "title_sidebar": "Contents",
   "toc_cell": true,
   "toc_position": {},
   "toc_section_display": true,
   "toc_window_display": true
  },
  "varInspector": {
   "cols": {
    "lenName": 16,
    "lenType": 16,
    "lenVar": 40
   },
   "kernels_config": {
    "python": {
     "delete_cmd_postfix": "",
     "delete_cmd_prefix": "del ",
     "library": "var_list.py",
     "varRefreshCmd": "print(var_dic_list())"
    },
    "r": {
     "delete_cmd_postfix": ") ",
     "delete_cmd_prefix": "rm(",
     "library": "var_list.r",
     "varRefreshCmd": "cat(var_dic_list()) "
    }
   },
   "types_to_exclude": [
    "module",
    "function",
    "builtin_function_or_method",
    "instance",
    "_Feature"
   ],
   "window_display": false
  }
 },
 "nbformat": 4,
 "nbformat_minor": 2
}
